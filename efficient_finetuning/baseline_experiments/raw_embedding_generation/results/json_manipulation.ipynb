{
 "cells": [
  {
   "cell_type": "code",
   "execution_count": 16,
   "source": [
    "import json\n",
    "\n",
    "dataset = \"oxfordpets\"\n",
    "f = open(f\"/nethome/bdevnani3/vis_lang/efficient_finetuning/raw_embedding_generation/results/{dataset}/all.json\")\n",
    "all_res = json.load(f)\n",
    "f = open(f\"/nethome/bdevnani3/vis_lang/efficient_finetuning/raw_embedding_generation/results/{dataset}/all_minus_1.json\")\n",
    "all_1 = json.load(f)"
   ],
   "outputs": [],
   "metadata": {}
  },
  {
   "cell_type": "code",
   "execution_count": 17,
   "source": [
    "for k in all_res:\n",
    "    if k in all_1:\n",
    "        print(k)\n",
    "        all_res[k][\"-1\"] = all_1[k][\"-1\"]"
   ],
   "outputs": [
    {
     "output_type": "stream",
     "name": "stdout",
     "text": [
      "nearest_image_embedding\n",
      "average_image_embedding\n",
      "weighted_image_and_text_embedding\n",
      "weighted_image_and_text_embedding_0_5\n",
      "clip_linear_probe\n"
     ]
    }
   ],
   "metadata": {}
  },
  {
   "cell_type": "code",
   "execution_count": 18,
   "source": [
    "import json\n",
    "with open(f'/nethome/bdevnani3/vis_lang/efficient_finetuning/raw_embedding_generation/results/{dataset}/plots.json', 'w') as f:\n",
    "    json.dump(all_res, f)"
   ],
   "outputs": [],
   "metadata": {}
  },
  {
   "cell_type": "code",
   "execution_count": null,
   "source": [],
   "outputs": [],
   "metadata": {}
  }
 ],
 "metadata": {
  "orig_nbformat": 4,
  "language_info": {
   "name": "python",
   "version": "3.8.5",
   "mimetype": "text/x-python",
   "codemirror_mode": {
    "name": "ipython",
    "version": 3
   },
   "pygments_lexer": "ipython3",
   "nbconvert_exporter": "python",
   "file_extension": ".py"
  },
  "kernelspec": {
   "name": "python3",
   "display_name": "Python 3.8.5 64-bit ('p3': conda)"
  },
  "interpreter": {
   "hash": "6250aeecf667241d2415373c88b70d4f824c8a2781323a01ee2a69a098796f4a"
  }
 },
 "nbformat": 4,
 "nbformat_minor": 2
}