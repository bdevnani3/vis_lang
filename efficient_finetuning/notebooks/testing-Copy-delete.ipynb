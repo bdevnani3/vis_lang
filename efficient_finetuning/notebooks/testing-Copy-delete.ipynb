{
 "cells": [
  {
   "cell_type": "code",
   "execution_count": 1,
   "metadata": {},
   "outputs": [
    {
     "name": "stdout",
     "output_type": "stream",
     "text": [
      "cuda\n"
     ]
    }
   ],
   "source": [
    "from tqdm.notebook import tqdm\n",
    "import clip\n",
    "import torch\n",
    "device = \"cuda\" if torch.cuda.is_available() else \"cpu\"\n",
    "print(device)\n",
    "\n",
    "clip_model, clip_preprocess = clip.load(\"ViT-B/32\", device)"
   ]
  },
  {
   "cell_type": "code",
   "execution_count": 2,
   "metadata": {},
   "outputs": [],
   "source": [
    "from datasets import *\n",
    "dataset_obj = Flowers102(0, 50)\n",
    "train_loader, valid_loader = dataset_obj.get_train_loaders(transform_fn=clip_preprocess, shuffle=False)\n",
    "test_loader = dataset_obj.get_test_loader(transform_fn=clip_preprocess)\n",
    "classes = dataset_obj.classes"
   ]
  },
  {
   "cell_type": "code",
   "execution_count": 3,
   "metadata": {},
   "outputs": [],
   "source": [
    "import copy"
   ]
  },
  {
   "cell_type": "code",
   "execution_count": 4,
   "metadata": {},
   "outputs": [
    {
     "data": {
      "application/vnd.jupyter.widget-view+json": {
       "model_id": "c40901694c2947588b3b2ad9f2973ff7",
       "version_major": 2,
       "version_minor": 0
      },
      "text/plain": [
       "  0%|          | 0/132 [00:00<?, ?it/s]"
      ]
     },
     "metadata": {},
     "output_type": "display_data"
    },
    {
     "data": {
      "application/vnd.jupyter.widget-view+json": {
       "model_id": "16bf743f9a2f49278b92e26c27c42e0b",
       "version_major": 2,
       "version_minor": 0
      },
      "text/plain": [
       "  0%|          | 0/17 [00:00<?, ?it/s]"
      ]
     },
     "metadata": {},
     "output_type": "display_data"
    },
    {
     "data": {
      "application/vnd.jupyter.widget-view+json": {
       "model_id": "f3acea4281fe4aa187acd12b50e3abbd",
       "version_major": 2,
       "version_minor": 0
      },
      "text/plain": [
       "  0%|          | 0/17 [00:00<?, ?it/s]"
      ]
     },
     "metadata": {},
     "output_type": "display_data"
    }
   ],
   "source": [
    "def get_clip_features(dataset):\n",
    "    all_features = []\n",
    "    all_labels = []\n",
    "\n",
    "    global clip_model\n",
    "\n",
    "    with torch.no_grad():\n",
    "        for images, labels in tqdm(dataset):\n",
    "            features = clip_model.encode_image(images.to(device))\n",
    "            all_features.append(features)\n",
    "            all_labels.append(labels)\n",
    "\n",
    "    return torch.cat(all_features), torch.cat(all_labels)\n",
    "\n",
    "train_features, train_labels = get_clip_features(train_loader)\n",
    "valid_features, valid_labels = get_clip_features(valid_loader)\n",
    "test_features, test_labels = get_clip_features(test_loader)"
   ]
  },
  {
   "cell_type": "code",
   "execution_count": 5,
   "metadata": {},
   "outputs": [],
   "source": [
    "def batch(iterable1,iterable2, n=1):\n",
    "    l = len(iterable1)\n",
    "    for ndx in range(0, l, n):\n",
    "        yield (iterable1[ndx:min(ndx + n, l)], iterable2[ndx:min(ndx + n, l)])\n",
    "\n",
    "out_train = batch(train_features,train_labels, 50)\n",
    "out_test = batch(test_features,test_labels, 50)"
   ]
  },
  {
   "cell_type": "code",
   "execution_count": 19,
   "metadata": {},
   "outputs": [],
   "source": [
    "import torch.nn as nn\n",
    "import torch.optim as optim\n",
    "\n",
    "class LogisticRegression(nn.Module):\n",
    "    def __init__(self, input_dim, output_dim):\n",
    "        super(LogisticRegression, self).__init__()\n",
    "        self.linear = torch.nn.Linear(input_dim, output_dim)\n",
    "        \n",
    "    def forward(self, x):\n",
    "        outputs = self.linear(x)\n",
    "        return outputs\n",
    "    \n",
    "model = LogisticRegression(512,len(classes))\n",
    "model.logit_scale = nn.Parameter(torch.ones([], device=device))\n",
    "criterion = nn.CrossEntropyLoss()\n",
    "learning_rate = 0.01\n",
    "optimizer = torch.optim.SGD(model.parameters(), lr=learning_rate, weight_decay=1e-5)\n",
    "num_epochs = 500"
   ]
  },
  {
   "cell_type": "code",
   "execution_count": 20,
   "metadata": {},
   "outputs": [],
   "source": [
    "def num_correct_preds(outputs, labels):\n",
    "    _, predicted = outputs.max(1)\n",
    "    return predicted.eq(labels).sum().item()"
   ]
  },
  {
   "cell_type": "code",
   "execution_count": 21,
   "metadata": {},
   "outputs": [],
   "source": [
    "def cosine_loss(output, target):\n",
    "    loss = 1 - torch.cosine_similarity(output, target)\n",
    "    return loss\n",
    "\n",
    "def calc_loss(outputs, labels, loss_name=\"ce\"):\n",
    "    \n",
    "    loss_labels = labels\n",
    "    \n",
    "    criterion = nn.CrossEntropyLoss()\n",
    "\n",
    "    if loss_name == \"ce\":\n",
    "        return criterion(outputs, loss_labels) \n",
    "\n",
    "    elif loss_name == \"dot\":\n",
    "        outputs = outputs / outputs.norm(dim=-1, keepdim=True)\n",
    "        return -(outputs * loss_labels).sum(-1).mean()\n",
    "\n",
    "    elif loss_name == \"cosine\":\n",
    "        print(outputs.shape, loss_labels.shape)\n",
    "        loss = torch.mean(cosine_loss(outputs, loss_labels))\n",
    "        return loss\n",
    "\n",
    "    elif loss_name == \"temperature_ce\":\n",
    "        image_features = outputs\n",
    "\n",
    "        # normalized features\n",
    "        image_features = image_features / image_features.norm(dim=-1, keepdim=True)\n",
    "\n",
    "        # cosine similarity as logits\n",
    "        logit_scale = model.logit_scale.exp()\n",
    "        logits_per_image = logit_scale * image_features @ text_features.t()\n",
    "        return criterion(logits_per_image, labels)"
   ]
  },
  {
   "cell_type": "code",
   "execution_count": 22,
   "metadata": {},
   "outputs": [],
   "source": [
    "import torch\n",
    "from torch.utils.tensorboard import SummaryWriter\n",
    "writer = SummaryWriter()"
   ]
  },
  {
   "cell_type": "code",
   "execution_count": 23,
   "metadata": {
    "scrolled": true
   },
   "outputs": [
    {
     "data": {
      "application/vnd.jupyter.widget-view+json": {
       "model_id": "1d4cbc8ef8c349b08173f15a9fb8d7ee",
       "version_major": 2,
       "version_minor": 0
      },
      "text/plain": [
       "  0%|          | 0/501 [00:00<?, ?it/s]"
      ]
     },
     "metadata": {},
     "output_type": "display_data"
    },
    {
     "name": "stdout",
     "output_type": "stream",
     "text": [
      "Shuffling\n"
     ]
    },
    {
     "data": {
      "application/vnd.jupyter.widget-view+json": {
       "model_id": "3a418ae88b4c46fca0844cf2ffae7867",
       "version_major": 2,
       "version_minor": 0
      },
      "text/plain": [
       "0it [00:00, ?it/s]"
      ]
     },
     "metadata": {},
     "output_type": "display_data"
    },
    {
     "name": "stdout",
     "output_type": "stream",
     "text": [
      "Found best model\n",
      "Training: Epoch 0 || Loss:   4.121 || Accuracy:  29.13%\n",
      "Training: Epoch 1 || Loss:   3.553 || Accuracy:  54.87%\n",
      "Training: Epoch 2 || Loss:   2.674 || Accuracy:  61.26%\n",
      "Training: Epoch 3 || Loss:   2.260 || Accuracy:  64.45%\n",
      "Training: Epoch 4 || Loss:   2.068 || Accuracy:  66.63%\n",
      "Training: Epoch 5 || Loss:   1.970 || Accuracy:  68.02%\n",
      "Training: Epoch 6 || Loss:   1.827 || Accuracy:  69.07%\n",
      "Training: Epoch 7 || Loss:   1.659 || Accuracy:  69.90%\n",
      "Training: Epoch 8 || Loss:   1.527 || Accuracy:  70.62%\n",
      "Training: Epoch 9 || Loss:   1.424 || Accuracy:  71.15%\n"
     ]
    },
    {
     "data": {
      "application/vnd.jupyter.widget-view+json": {
       "model_id": "cdad609f7f6940ea8f5cd0f8b5d6eda2",
       "version_major": 2,
       "version_minor": 0
      },
      "text/plain": [
       "0it [00:00, ?it/s]"
      ]
     },
     "metadata": {},
     "output_type": "display_data"
    },
    {
     "name": "stdout",
     "output_type": "stream",
     "text": [
      "Found best model\n",
      "Training: Epoch 10 || Loss:   1.356 || Accuracy:  71.63%\n",
      "Training: Epoch 11 || Loss:   1.294 || Accuracy:  72.00%\n",
      "Training: Epoch 12 || Loss:   1.249 || Accuracy:  72.35%\n",
      "Training: Epoch 13 || Loss:   1.213 || Accuracy:  72.67%\n",
      "Training: Epoch 14 || Loss:   1.184 || Accuracy:  72.89%\n",
      "Training: Epoch 15 || Loss:   1.154 || Accuracy:  73.18%\n",
      "Training: Epoch 16 || Loss:   1.133 || Accuracy:  73.41%\n",
      "Training: Epoch 17 || Loss:   1.111 || Accuracy:  73.66%\n",
      "Training: Epoch 18 || Loss:   1.094 || Accuracy:  73.88%\n",
      "Training: Epoch 19 || Loss:   1.078 || Accuracy:  74.09%\n"
     ]
    },
    {
     "data": {
      "application/vnd.jupyter.widget-view+json": {
       "model_id": "302080f125f048f485e6eb99bd9e25f1",
       "version_major": 2,
       "version_minor": 0
      },
      "text/plain": [
       "0it [00:00, ?it/s]"
      ]
     },
     "metadata": {},
     "output_type": "display_data"
    },
    {
     "name": "stdout",
     "output_type": "stream",
     "text": [
      "Found best model\n",
      "Training: Epoch 20 || Loss:   1.063 || Accuracy:  74.28%\n",
      "Training: Epoch 21 || Loss:   1.047 || Accuracy:  74.46%\n",
      "Training: Epoch 22 || Loss:   1.036 || Accuracy:  74.64%\n",
      "Training: Epoch 23 || Loss:   1.027 || Accuracy:  74.75%\n",
      "Training: Epoch 24 || Loss:   1.019 || Accuracy:  74.88%\n",
      "Training: Epoch 25 || Loss:   1.010 || Accuracy:  74.99%\n",
      "Training: Epoch 26 || Loss:   1.001 || Accuracy:  75.12%\n",
      "Training: Epoch 27 || Loss:   0.991 || Accuracy:  75.23%\n",
      "Training: Epoch 28 || Loss:   0.982 || Accuracy:  75.36%\n",
      "Training: Epoch 29 || Loss:   0.973 || Accuracy:  75.44%\n"
     ]
    },
    {
     "data": {
      "application/vnd.jupyter.widget-view+json": {
       "model_id": "2e455b254d7640f59d4f2df2e7a02430",
       "version_major": 2,
       "version_minor": 0
      },
      "text/plain": [
       "0it [00:00, ?it/s]"
      ]
     },
     "metadata": {},
     "output_type": "display_data"
    },
    {
     "name": "stdout",
     "output_type": "stream",
     "text": [
      "Found best model\n",
      "Training: Epoch 30 || Loss:   0.965 || Accuracy:  75.56%\n",
      "Training: Epoch 31 || Loss:   0.958 || Accuracy:  75.70%\n",
      "Training: Epoch 32 || Loss:   0.952 || Accuracy:  75.79%\n",
      "Training: Epoch 33 || Loss:   0.944 || Accuracy:  75.91%\n",
      "Training: Epoch 34 || Loss:   0.935 || Accuracy:  76.03%\n",
      "Training: Epoch 35 || Loss:   0.932 || Accuracy:  76.10%\n",
      "Training: Epoch 36 || Loss:   0.925 || Accuracy:  76.15%\n",
      "Training: Epoch 37 || Loss:   0.920 || Accuracy:  76.22%\n",
      "Training: Epoch 38 || Loss:   0.917 || Accuracy:  76.29%\n",
      "Training: Epoch 39 || Loss:   0.914 || Accuracy:  76.37%\n"
     ]
    },
    {
     "data": {
      "application/vnd.jupyter.widget-view+json": {
       "model_id": "d6d06d5945374f01bd260e87b2a54e53",
       "version_major": 2,
       "version_minor": 0
      },
      "text/plain": [
       "0it [00:00, ?it/s]"
      ]
     },
     "metadata": {},
     "output_type": "display_data"
    },
    {
     "name": "stdout",
     "output_type": "stream",
     "text": [
      "Found best model\n",
      "Training: Epoch 40 || Loss:   0.909 || Accuracy:  76.42%\n",
      "Training: Epoch 41 || Loss:   0.903 || Accuracy:  76.45%\n",
      "Training: Epoch 42 || Loss:   0.901 || Accuracy:  76.49%\n",
      "Training: Epoch 43 || Loss:   0.896 || Accuracy:  76.55%\n",
      "Training: Epoch 44 || Loss:   0.892 || Accuracy:  76.59%\n",
      "Training: Epoch 45 || Loss:   0.890 || Accuracy:  76.65%\n",
      "Training: Epoch 46 || Loss:   0.886 || Accuracy:  76.73%\n",
      "Training: Epoch 47 || Loss:   0.882 || Accuracy:  76.79%\n",
      "Training: Epoch 48 || Loss:   0.880 || Accuracy:  76.84%\n",
      "Training: Epoch 49 || Loss:   0.875 || Accuracy:  76.89%\n",
      "Shuffling\n"
     ]
    },
    {
     "data": {
      "application/vnd.jupyter.widget-view+json": {
       "model_id": "39e972ce66cf463aada2379f2d61a8ee",
       "version_major": 2,
       "version_minor": 0
      },
      "text/plain": [
       "0it [00:00, ?it/s]"
      ]
     },
     "metadata": {},
     "output_type": "display_data"
    },
    {
     "name": "stdout",
     "output_type": "stream",
     "text": [
      "Found best model\n",
      "Training: Epoch 50 || Loss:   0.866 || Accuracy:  76.94%\n",
      "Training: Epoch 51 || Loss:   0.862 || Accuracy:  77.03%\n",
      "Training: Epoch 52 || Loss:   0.860 || Accuracy:  77.08%\n",
      "Training: Epoch 53 || Loss:   0.857 || Accuracy:  77.09%\n",
      "Training: Epoch 54 || Loss:   0.854 || Accuracy:  77.12%\n",
      "Training: Epoch 55 || Loss:   0.851 || Accuracy:  77.16%\n",
      "Training: Epoch 56 || Loss:   0.849 || Accuracy:  77.19%\n",
      "Training: Epoch 57 || Loss:   0.847 || Accuracy:  77.23%\n",
      "Training: Epoch 58 || Loss:   0.844 || Accuracy:  77.27%\n",
      "Training: Epoch 59 || Loss:   0.840 || Accuracy:  77.31%\n"
     ]
    },
    {
     "data": {
      "application/vnd.jupyter.widget-view+json": {
       "model_id": "e4f4589e2f9d4d3faa186a533293b05a",
       "version_major": 2,
       "version_minor": 0
      },
      "text/plain": [
       "0it [00:00, ?it/s]"
      ]
     },
     "metadata": {},
     "output_type": "display_data"
    },
    {
     "name": "stdout",
     "output_type": "stream",
     "text": [
      "Found best model\n",
      "Training: Epoch 60 || Loss:   0.839 || Accuracy:  77.37%\n",
      "Training: Epoch 61 || Loss:   0.836 || Accuracy:  77.39%\n",
      "Training: Epoch 62 || Loss:   0.834 || Accuracy:  77.42%\n",
      "Training: Epoch 63 || Loss:   0.832 || Accuracy:  77.45%\n",
      "Training: Epoch 64 || Loss:   0.831 || Accuracy:  77.47%\n",
      "Training: Epoch 65 || Loss:   0.828 || Accuracy:  77.52%\n",
      "Training: Epoch 66 || Loss:   0.825 || Accuracy:  77.54%\n",
      "Training: Epoch 67 || Loss:   0.824 || Accuracy:  77.57%\n",
      "Training: Epoch 68 || Loss:   0.821 || Accuracy:  77.58%\n",
      "Training: Epoch 69 || Loss:   0.819 || Accuracy:  77.60%\n"
     ]
    },
    {
     "data": {
      "application/vnd.jupyter.widget-view+json": {
       "model_id": "56eed485963b460a8703d9f3a322a5ba",
       "version_major": 2,
       "version_minor": 0
      },
      "text/plain": [
       "0it [00:00, ?it/s]"
      ]
     },
     "metadata": {},
     "output_type": "display_data"
    },
    {
     "name": "stdout",
     "output_type": "stream",
     "text": [
      "Found best model\n",
      "Training: Epoch 70 || Loss:   0.817 || Accuracy:  77.60%\n",
      "Training: Epoch 71 || Loss:   0.816 || Accuracy:  77.62%\n",
      "Training: Epoch 72 || Loss:   0.813 || Accuracy:  77.65%\n",
      "Training: Epoch 73 || Loss:   0.810 || Accuracy:  77.68%\n",
      "Training: Epoch 74 || Loss:   0.810 || Accuracy:  77.71%\n",
      "Training: Epoch 75 || Loss:   0.808 || Accuracy:  77.70%\n",
      "Training: Epoch 76 || Loss:   0.806 || Accuracy:  77.73%\n",
      "Training: Epoch 77 || Loss:   0.804 || Accuracy:  77.74%\n",
      "Training: Epoch 78 || Loss:   0.804 || Accuracy:  77.76%\n",
      "Training: Epoch 79 || Loss:   0.801 || Accuracy:  77.80%\n"
     ]
    },
    {
     "data": {
      "application/vnd.jupyter.widget-view+json": {
       "model_id": "fce66d3899414feab1a0380a2176c98e",
       "version_major": 2,
       "version_minor": 0
      },
      "text/plain": [
       "0it [00:00, ?it/s]"
      ]
     },
     "metadata": {},
     "output_type": "display_data"
    },
    {
     "name": "stdout",
     "output_type": "stream",
     "text": [
      "Found best model\n",
      "Training: Epoch 80 || Loss:   0.797 || Accuracy:  77.85%\n",
      "Training: Epoch 81 || Loss:   0.796 || Accuracy:  77.89%\n",
      "Training: Epoch 82 || Loss:   0.794 || Accuracy:  77.92%\n",
      "Training: Epoch 83 || Loss:   0.793 || Accuracy:  77.94%\n",
      "Training: Epoch 84 || Loss:   0.791 || Accuracy:  77.96%\n",
      "Training: Epoch 85 || Loss:   0.790 || Accuracy:  78.00%\n",
      "Training: Epoch 86 || Loss:   0.789 || Accuracy:  78.04%\n",
      "Training: Epoch 87 || Loss:   0.788 || Accuracy:  78.05%\n",
      "Training: Epoch 88 || Loss:   0.787 || Accuracy:  78.12%\n",
      "Training: Epoch 89 || Loss:   0.786 || Accuracy:  78.13%\n"
     ]
    },
    {
     "data": {
      "application/vnd.jupyter.widget-view+json": {
       "model_id": "e35594e4149242aea28a9ec9c30ddd14",
       "version_major": 2,
       "version_minor": 0
      },
      "text/plain": [
       "0it [00:00, ?it/s]"
      ]
     },
     "metadata": {},
     "output_type": "display_data"
    },
    {
     "name": "stdout",
     "output_type": "stream",
     "text": [
      "Found best model\n",
      "Training: Epoch 90 || Loss:   0.785 || Accuracy:  78.16%\n",
      "Training: Epoch 91 || Loss:   0.783 || Accuracy:  78.20%\n",
      "Training: Epoch 92 || Loss:   0.783 || Accuracy:  78.19%\n",
      "Training: Epoch 93 || Loss:   0.782 || Accuracy:  78.19%\n",
      "Training: Epoch 94 || Loss:   0.781 || Accuracy:  78.22%\n",
      "Training: Epoch 95 || Loss:   0.780 || Accuracy:  78.23%\n",
      "Training: Epoch 96 || Loss:   0.777 || Accuracy:  78.26%\n",
      "Training: Epoch 97 || Loss:   0.777 || Accuracy:  78.27%\n",
      "Training: Epoch 98 || Loss:   0.776 || Accuracy:  78.28%\n",
      "Training: Epoch 99 || Loss:   0.775 || Accuracy:  78.31%\n",
      "Shuffling\n"
     ]
    },
    {
     "data": {
      "application/vnd.jupyter.widget-view+json": {
       "model_id": "f625dafc61504faaa2a23305ea8a63c7",
       "version_major": 2,
       "version_minor": 0
      },
      "text/plain": [
       "0it [00:00, ?it/s]"
      ]
     },
     "metadata": {},
     "output_type": "display_data"
    },
    {
     "name": "stdout",
     "output_type": "stream",
     "text": [
      "Found best model\n",
      "Training: Epoch 100 || Loss:   0.774 || Accuracy:  78.28%\n",
      "Training: Epoch 101 || Loss:   0.774 || Accuracy:  78.33%\n",
      "Training: Epoch 102 || Loss:   0.773 || Accuracy:  78.37%\n",
      "Training: Epoch 103 || Loss:   0.773 || Accuracy:  78.40%\n",
      "Training: Epoch 104 || Loss:   0.772 || Accuracy:  78.40%\n",
      "Training: Epoch 105 || Loss:   0.771 || Accuracy:  78.43%\n",
      "Training: Epoch 106 || Loss:   0.770 || Accuracy:  78.43%\n",
      "Training: Epoch 107 || Loss:   0.770 || Accuracy:  78.45%\n",
      "Training: Epoch 108 || Loss:   0.769 || Accuracy:  78.47%\n",
      "Training: Epoch 109 || Loss:   0.768 || Accuracy:  78.48%\n"
     ]
    },
    {
     "data": {
      "application/vnd.jupyter.widget-view+json": {
       "model_id": "b9daf9c8e1a34f79891f80dcf5a610a1",
       "version_major": 2,
       "version_minor": 0
      },
      "text/plain": [
       "0it [00:00, ?it/s]"
      ]
     },
     "metadata": {},
     "output_type": "display_data"
    },
    {
     "name": "stdout",
     "output_type": "stream",
     "text": [
      "Found best model\n",
      "Training: Epoch 110 || Loss:   0.767 || Accuracy:  78.49%\n",
      "Training: Epoch 111 || Loss:   0.766 || Accuracy:  78.54%\n",
      "Training: Epoch 112 || Loss:   0.765 || Accuracy:  78.55%\n",
      "Training: Epoch 113 || Loss:   0.765 || Accuracy:  78.56%\n",
      "Training: Epoch 114 || Loss:   0.764 || Accuracy:  78.57%\n",
      "Training: Epoch 115 || Loss:   0.763 || Accuracy:  78.60%\n",
      "Training: Epoch 116 || Loss:   0.762 || Accuracy:  78.63%\n",
      "Training: Epoch 117 || Loss:   0.761 || Accuracy:  78.66%\n",
      "Training: Epoch 118 || Loss:   0.761 || Accuracy:  78.67%\n",
      "Training: Epoch 119 || Loss:   0.760 || Accuracy:  78.66%\n"
     ]
    },
    {
     "data": {
      "application/vnd.jupyter.widget-view+json": {
       "model_id": "1cdf3424320c48e690df58b9f2ca981c",
       "version_major": 2,
       "version_minor": 0
      },
      "text/plain": [
       "0it [00:00, ?it/s]"
      ]
     },
     "metadata": {},
     "output_type": "display_data"
    },
    {
     "name": "stdout",
     "output_type": "stream",
     "text": [
      "Training: Epoch 120 || Loss:   0.759 || Accuracy:  78.66%\n",
      "Training: Epoch 121 || Loss:   0.758 || Accuracy:  78.69%\n",
      "Training: Epoch 122 || Loss:   0.757 || Accuracy:  78.70%\n",
      "Training: Epoch 123 || Loss:   0.756 || Accuracy:  78.73%\n",
      "Training: Epoch 124 || Loss:   0.755 || Accuracy:  78.73%\n",
      "Training: Epoch 125 || Loss:   0.755 || Accuracy:  78.73%\n",
      "Training: Epoch 126 || Loss:   0.754 || Accuracy:  78.73%\n",
      "Training: Epoch 127 || Loss:   0.754 || Accuracy:  78.73%\n",
      "Training: Epoch 128 || Loss:   0.754 || Accuracy:  78.75%\n",
      "Training: Epoch 129 || Loss:   0.754 || Accuracy:  78.76%\n"
     ]
    },
    {
     "data": {
      "application/vnd.jupyter.widget-view+json": {
       "model_id": "557bed5b8c934faca8228c2d558c99fa",
       "version_major": 2,
       "version_minor": 0
      },
      "text/plain": [
       "0it [00:00, ?it/s]"
      ]
     },
     "metadata": {},
     "output_type": "display_data"
    },
    {
     "name": "stdout",
     "output_type": "stream",
     "text": [
      "Found best model\n",
      "Training: Epoch 130 || Loss:   0.754 || Accuracy:  78.78%\n",
      "Training: Epoch 131 || Loss:   0.753 || Accuracy:  78.78%\n",
      "Training: Epoch 132 || Loss:   0.753 || Accuracy:  78.80%\n",
      "Training: Epoch 133 || Loss:   0.752 || Accuracy:  78.82%\n",
      "Training: Epoch 134 || Loss:   0.752 || Accuracy:  78.83%\n",
      "Training: Epoch 135 || Loss:   0.751 || Accuracy:  78.86%\n",
      "Training: Epoch 136 || Loss:   0.750 || Accuracy:  78.89%\n",
      "Training: Epoch 137 || Loss:   0.750 || Accuracy:  78.90%\n",
      "Training: Epoch 138 || Loss:   0.750 || Accuracy:  78.92%\n",
      "Training: Epoch 139 || Loss:   0.750 || Accuracy:  78.91%\n"
     ]
    },
    {
     "data": {
      "application/vnd.jupyter.widget-view+json": {
       "model_id": "9f193f582fd447cb969e79ebe2c0afa3",
       "version_major": 2,
       "version_minor": 0
      },
      "text/plain": [
       "0it [00:00, ?it/s]"
      ]
     },
     "metadata": {},
     "output_type": "display_data"
    },
    {
     "name": "stdout",
     "output_type": "stream",
     "text": [
      "Training: Epoch 140 || Loss:   0.749 || Accuracy:  78.93%\n",
      "Training: Epoch 141 || Loss:   0.748 || Accuracy:  78.96%\n",
      "Training: Epoch 142 || Loss:   0.747 || Accuracy:  78.97%\n",
      "Training: Epoch 143 || Loss:   0.747 || Accuracy:  78.98%\n",
      "Training: Epoch 144 || Loss:   0.748 || Accuracy:  78.99%\n",
      "Training: Epoch 145 || Loss:   0.746 || Accuracy:  79.00%\n",
      "Training: Epoch 146 || Loss:   0.747 || Accuracy:  78.99%\n",
      "Training: Epoch 147 || Loss:   0.746 || Accuracy:  79.00%\n",
      "Training: Epoch 148 || Loss:   0.746 || Accuracy:  78.98%\n",
      "Training: Epoch 149 || Loss:   0.746 || Accuracy:  79.03%\n",
      "Shuffling\n"
     ]
    },
    {
     "data": {
      "application/vnd.jupyter.widget-view+json": {
       "model_id": "e9d1f952af6a4e609f70508b2f938794",
       "version_major": 2,
       "version_minor": 0
      },
      "text/plain": [
       "0it [00:00, ?it/s]"
      ]
     },
     "metadata": {},
     "output_type": "display_data"
    },
    {
     "name": "stdout",
     "output_type": "stream",
     "text": [
      "Found best model\n",
      "Training: Epoch 150 || Loss:   0.746 || Accuracy:  79.08%\n",
      "Training: Epoch 151 || Loss:   0.745 || Accuracy:  79.11%\n",
      "Training: Epoch 152 || Loss:   0.743 || Accuracy:  79.08%\n",
      "Training: Epoch 153 || Loss:   0.743 || Accuracy:  79.08%\n",
      "Training: Epoch 154 || Loss:   0.742 || Accuracy:  79.11%\n",
      "Training: Epoch 155 || Loss:   0.742 || Accuracy:  79.15%\n",
      "Training: Epoch 156 || Loss:   0.741 || Accuracy:  79.16%\n",
      "Training: Epoch 157 || Loss:   0.740 || Accuracy:  79.17%\n",
      "Training: Epoch 158 || Loss:   0.739 || Accuracy:  79.19%\n",
      "Training: Epoch 159 || Loss:   0.740 || Accuracy:  79.22%\n"
     ]
    },
    {
     "data": {
      "application/vnd.jupyter.widget-view+json": {
       "model_id": "59f26b6b95e7419385dd27e7d397b44b",
       "version_major": 2,
       "version_minor": 0
      },
      "text/plain": [
       "0it [00:00, ?it/s]"
      ]
     },
     "metadata": {},
     "output_type": "display_data"
    },
    {
     "name": "stdout",
     "output_type": "stream",
     "text": [
      "Found best model\n",
      "Training: Epoch 160 || Loss:   0.740 || Accuracy:  79.23%\n",
      "Training: Epoch 161 || Loss:   0.739 || Accuracy:  79.21%\n",
      "Training: Epoch 162 || Loss:   0.739 || Accuracy:  79.24%\n",
      "Training: Epoch 163 || Loss:   0.739 || Accuracy:  79.22%\n",
      "Training: Epoch 164 || Loss:   0.738 || Accuracy:  79.24%\n",
      "Training: Epoch 165 || Loss:   0.736 || Accuracy:  79.25%\n",
      "Training: Epoch 166 || Loss:   0.736 || Accuracy:  79.27%\n",
      "Training: Epoch 167 || Loss:   0.737 || Accuracy:  79.30%\n",
      "Training: Epoch 168 || Loss:   0.736 || Accuracy:  79.34%\n",
      "Training: Epoch 169 || Loss:   0.735 || Accuracy:  79.34%\n"
     ]
    },
    {
     "data": {
      "application/vnd.jupyter.widget-view+json": {
       "model_id": "6aa86dddafd64f97bbae2ca37d9390c3",
       "version_major": 2,
       "version_minor": 0
      },
      "text/plain": [
       "0it [00:00, ?it/s]"
      ]
     },
     "metadata": {},
     "output_type": "display_data"
    },
    {
     "name": "stdout",
     "output_type": "stream",
     "text": [
      "Training: Epoch 170 || Loss:   0.735 || Accuracy:  79.34%\n",
      "Training: Epoch 171 || Loss:   0.734 || Accuracy:  79.37%\n",
      "Training: Epoch 172 || Loss:   0.734 || Accuracy:  79.36%\n",
      "Training: Epoch 173 || Loss:   0.733 || Accuracy:  79.40%\n",
      "Training: Epoch 174 || Loss:   0.731 || Accuracy:  79.37%\n",
      "Training: Epoch 175 || Loss:   0.731 || Accuracy:  79.39%\n",
      "Training: Epoch 176 || Loss:   0.731 || Accuracy:  79.38%\n",
      "Training: Epoch 177 || Loss:   0.730 || Accuracy:  79.41%\n",
      "Training: Epoch 178 || Loss:   0.729 || Accuracy:  79.43%\n",
      "Training: Epoch 179 || Loss:   0.729 || Accuracy:  79.44%\n"
     ]
    },
    {
     "data": {
      "application/vnd.jupyter.widget-view+json": {
       "model_id": "50290bc9158c4ff8bf7bc65dae7491ee",
       "version_major": 2,
       "version_minor": 0
      },
      "text/plain": [
       "0it [00:00, ?it/s]"
      ]
     },
     "metadata": {},
     "output_type": "display_data"
    },
    {
     "name": "stdout",
     "output_type": "stream",
     "text": [
      "Found best model\n",
      "Training: Epoch 180 || Loss:   0.729 || Accuracy:  79.46%\n",
      "Training: Epoch 181 || Loss:   0.729 || Accuracy:  79.49%\n",
      "Training: Epoch 182 || Loss:   0.729 || Accuracy:  79.51%\n",
      "Training: Epoch 183 || Loss:   0.728 || Accuracy:  79.49%\n",
      "Training: Epoch 184 || Loss:   0.728 || Accuracy:  79.52%\n",
      "Training: Epoch 185 || Loss:   0.728 || Accuracy:  79.51%\n",
      "Training: Epoch 186 || Loss:   0.728 || Accuracy:  79.47%\n",
      "Training: Epoch 187 || Loss:   0.729 || Accuracy:  79.47%\n",
      "Training: Epoch 188 || Loss:   0.730 || Accuracy:  79.44%\n",
      "Training: Epoch 189 || Loss:   0.729 || Accuracy:  79.41%\n"
     ]
    },
    {
     "data": {
      "application/vnd.jupyter.widget-view+json": {
       "model_id": "7445bbf08c8a4c22acb5068b798d00d8",
       "version_major": 2,
       "version_minor": 0
      },
      "text/plain": [
       "0it [00:00, ?it/s]"
      ]
     },
     "metadata": {},
     "output_type": "display_data"
    },
    {
     "name": "stdout",
     "output_type": "stream",
     "text": [
      "Found best model\n",
      "Training: Epoch 190 || Loss:   0.731 || Accuracy:  79.42%\n",
      "Training: Epoch 191 || Loss:   0.734 || Accuracy:  79.31%\n",
      "Training: Epoch 192 || Loss:   0.736 || Accuracy:  79.21%\n",
      "Training: Epoch 193 || Loss:   0.737 || Accuracy:  79.19%\n",
      "Training: Epoch 194 || Loss:   0.741 || Accuracy:  79.14%\n",
      "Training: Epoch 195 || Loss:   0.741 || Accuracy:  79.12%\n",
      "Training: Epoch 196 || Loss:   0.745 || Accuracy:  79.08%\n",
      "Training: Epoch 197 || Loss:   0.748 || Accuracy:  78.97%\n",
      "Training: Epoch 198 || Loss:   0.752 || Accuracy:  78.82%\n",
      "Training: Epoch 199 || Loss:   0.757 || Accuracy:  78.68%\n",
      "Shuffling\n"
     ]
    },
    {
     "data": {
      "application/vnd.jupyter.widget-view+json": {
       "model_id": "58f26a7934ea4589a7054d08a3850c2f",
       "version_major": 2,
       "version_minor": 0
      },
      "text/plain": [
       "0it [00:00, ?it/s]"
      ]
     },
     "metadata": {},
     "output_type": "display_data"
    },
    {
     "name": "stdout",
     "output_type": "stream",
     "text": [
      "Training: Epoch 200 || Loss:   0.757 || Accuracy:  78.64%\n",
      "Training: Epoch 201 || Loss:   0.765 || Accuracy:  78.55%\n",
      "Training: Epoch 202 || Loss:   0.769 || Accuracy:  78.45%\n",
      "Training: Epoch 203 || Loss:   0.770 || Accuracy:  78.42%\n",
      "Training: Epoch 204 || Loss:   0.773 || Accuracy:  78.38%\n",
      "Training: Epoch 205 || Loss:   0.773 || Accuracy:  78.37%\n",
      "Training: Epoch 206 || Loss:   0.773 || Accuracy:  78.33%\n",
      "Training: Epoch 207 || Loss:   0.773 || Accuracy:  78.37%\n",
      "Training: Epoch 208 || Loss:   0.772 || Accuracy:  78.40%\n",
      "Training: Epoch 209 || Loss:   0.772 || Accuracy:  78.44%\n"
     ]
    },
    {
     "data": {
      "application/vnd.jupyter.widget-view+json": {
       "model_id": "cf9f07a74f9e458b99342f391869c052",
       "version_major": 2,
       "version_minor": 0
      },
      "text/plain": [
       "0it [00:00, ?it/s]"
      ]
     },
     "metadata": {},
     "output_type": "display_data"
    },
    {
     "name": "stdout",
     "output_type": "stream",
     "text": [
      "Training: Epoch 210 || Loss:   0.771 || Accuracy:  78.44%\n",
      "Training: Epoch 211 || Loss:   0.771 || Accuracy:  78.54%\n",
      "Training: Epoch 212 || Loss:   0.770 || Accuracy:  78.56%\n",
      "Training: Epoch 213 || Loss:   0.770 || Accuracy:  78.52%\n",
      "Training: Epoch 214 || Loss:   0.768 || Accuracy:  78.60%\n",
      "Training: Epoch 215 || Loss:   0.768 || Accuracy:  78.57%\n",
      "Training: Epoch 216 || Loss:   0.769 || Accuracy:  78.56%\n",
      "Training: Epoch 217 || Loss:   0.770 || Accuracy:  78.51%\n",
      "Training: Epoch 218 || Loss:   0.770 || Accuracy:  78.52%\n",
      "Training: Epoch 219 || Loss:   0.772 || Accuracy:  78.44%\n"
     ]
    },
    {
     "data": {
      "application/vnd.jupyter.widget-view+json": {
       "model_id": "99fcde85637d4e45b5b525b2ce5c3961",
       "version_major": 2,
       "version_minor": 0
      },
      "text/plain": [
       "0it [00:00, ?it/s]"
      ]
     },
     "metadata": {},
     "output_type": "display_data"
    },
    {
     "name": "stdout",
     "output_type": "stream",
     "text": [
      "Training: Epoch 220 || Loss:   0.773 || Accuracy:  78.46%\n",
      "Training: Epoch 221 || Loss:   0.774 || Accuracy:  78.43%\n",
      "Training: Epoch 222 || Loss:   0.776 || Accuracy:  78.39%\n",
      "Training: Epoch 223 || Loss:   0.776 || Accuracy:  78.38%\n",
      "Training: Epoch 224 || Loss:   0.777 || Accuracy:  78.40%\n",
      "Training: Epoch 225 || Loss:   0.777 || Accuracy:  78.38%\n",
      "Training: Epoch 226 || Loss:   0.779 || Accuracy:  78.34%\n",
      "Training: Epoch 227 || Loss:   0.779 || Accuracy:  78.32%\n",
      "Training: Epoch 228 || Loss:   0.779 || Accuracy:  78.30%\n",
      "Training: Epoch 229 || Loss:   0.780 || Accuracy:  78.32%\n"
     ]
    },
    {
     "data": {
      "application/vnd.jupyter.widget-view+json": {
       "model_id": "9e19ad0ffa454d028611bd1442af55f5",
       "version_major": 2,
       "version_minor": 0
      },
      "text/plain": [
       "0it [00:00, ?it/s]"
      ]
     },
     "metadata": {},
     "output_type": "display_data"
    },
    {
     "name": "stdout",
     "output_type": "stream",
     "text": [
      "Training: Epoch 230 || Loss:   0.784 || Accuracy:  78.29%\n",
      "Training: Epoch 231 || Loss:   0.786 || Accuracy:  78.25%\n",
      "Training: Epoch 232 || Loss:   0.786 || Accuracy:  78.21%\n",
      "Training: Epoch 233 || Loss:   0.788 || Accuracy:  78.20%\n",
      "Training: Epoch 234 || Loss:   0.788 || Accuracy:  78.19%\n",
      "Training: Epoch 235 || Loss:   0.789 || Accuracy:  78.17%\n",
      "Training: Epoch 236 || Loss:   0.790 || Accuracy:  78.15%\n",
      "Training: Epoch 237 || Loss:   0.790 || Accuracy:  78.15%\n",
      "Training: Epoch 238 || Loss:   0.791 || Accuracy:  78.12%\n",
      "Training: Epoch 239 || Loss:   0.791 || Accuracy:  78.12%\n"
     ]
    },
    {
     "data": {
      "application/vnd.jupyter.widget-view+json": {
       "model_id": "f2764dd95bbe404aaa3f446d1004f09b",
       "version_major": 2,
       "version_minor": 0
      },
      "text/plain": [
       "0it [00:00, ?it/s]"
      ]
     },
     "metadata": {},
     "output_type": "display_data"
    },
    {
     "name": "stdout",
     "output_type": "stream",
     "text": [
      "Training: Epoch 240 || Loss:   0.792 || Accuracy:  78.10%\n",
      "Training: Epoch 241 || Loss:   0.792 || Accuracy:  78.11%\n",
      "Training: Epoch 242 || Loss:   0.792 || Accuracy:  78.11%\n",
      "Training: Epoch 243 || Loss:   0.793 || Accuracy:  78.07%\n",
      "Training: Epoch 244 || Loss:   0.793 || Accuracy:  78.04%\n",
      "Training: Epoch 245 || Loss:   0.793 || Accuracy:  78.00%\n",
      "Training: Epoch 246 || Loss:   0.793 || Accuracy:  78.03%\n",
      "Training: Epoch 247 || Loss:   0.797 || Accuracy:  77.99%\n",
      "Training: Epoch 248 || Loss:   0.797 || Accuracy:  77.99%\n",
      "Training: Epoch 249 || Loss:   0.796 || Accuracy:  77.98%\n",
      "Shuffling\n"
     ]
    },
    {
     "data": {
      "application/vnd.jupyter.widget-view+json": {
       "model_id": "50e231e5a0e040fbbfabf93b8ec4ba36",
       "version_major": 2,
       "version_minor": 0
      },
      "text/plain": [
       "0it [00:00, ?it/s]"
      ]
     },
     "metadata": {},
     "output_type": "display_data"
    },
    {
     "name": "stdout",
     "output_type": "stream",
     "text": [
      "Training: Epoch 250 || Loss:   0.797 || Accuracy:  78.05%\n",
      "Training: Epoch 251 || Loss:   0.797 || Accuracy:  78.13%\n",
      "Training: Epoch 252 || Loss:   0.799 || Accuracy:  78.09%\n",
      "Training: Epoch 253 || Loss:   0.801 || Accuracy:  78.05%\n",
      "Training: Epoch 254 || Loss:   0.804 || Accuracy:  78.04%\n",
      "Training: Epoch 255 || Loss:   0.805 || Accuracy:  78.02%\n",
      "Training: Epoch 256 || Loss:   0.806 || Accuracy:  77.97%\n",
      "Training: Epoch 257 || Loss:   0.806 || Accuracy:  77.99%\n",
      "Training: Epoch 258 || Loss:   0.806 || Accuracy:  78.01%\n",
      "Training: Epoch 259 || Loss:   0.806 || Accuracy:  77.96%\n"
     ]
    },
    {
     "data": {
      "application/vnd.jupyter.widget-view+json": {
       "model_id": "b91147f9d207466e98fa19cc29d28572",
       "version_major": 2,
       "version_minor": 0
      },
      "text/plain": [
       "0it [00:00, ?it/s]"
      ]
     },
     "metadata": {},
     "output_type": "display_data"
    },
    {
     "name": "stdout",
     "output_type": "stream",
     "text": [
      "Training: Epoch 260 || Loss:   0.807 || Accuracy:  77.92%\n",
      "Training: Epoch 261 || Loss:   0.807 || Accuracy:  77.97%\n",
      "Training: Epoch 262 || Loss:   0.808 || Accuracy:  77.89%\n",
      "Training: Epoch 263 || Loss:   0.809 || Accuracy:  77.89%\n",
      "Training: Epoch 264 || Loss:   0.809 || Accuracy:  77.86%\n",
      "Training: Epoch 265 || Loss:   0.809 || Accuracy:  77.92%\n",
      "Training: Epoch 266 || Loss:   0.810 || Accuracy:  77.82%\n",
      "Training: Epoch 267 || Loss:   0.810 || Accuracy:  77.85%\n",
      "Training: Epoch 268 || Loss:   0.811 || Accuracy:  77.85%\n",
      "Training: Epoch 269 || Loss:   0.811 || Accuracy:  77.84%\n"
     ]
    },
    {
     "data": {
      "application/vnd.jupyter.widget-view+json": {
       "model_id": "44a8111238b540d5b97689fca249b491",
       "version_major": 2,
       "version_minor": 0
      },
      "text/plain": [
       "0it [00:00, ?it/s]"
      ]
     },
     "metadata": {},
     "output_type": "display_data"
    },
    {
     "name": "stdout",
     "output_type": "stream",
     "text": [
      "Training: Epoch 270 || Loss:   0.812 || Accuracy:  77.81%\n",
      "Training: Epoch 271 || Loss:   0.812 || Accuracy:  77.83%\n",
      "Training: Epoch 272 || Loss:   0.812 || Accuracy:  77.84%\n",
      "Training: Epoch 273 || Loss:   0.811 || Accuracy:  77.82%\n",
      "Training: Epoch 274 || Loss:   0.812 || Accuracy:  77.84%\n",
      "Training: Epoch 275 || Loss:   0.812 || Accuracy:  77.80%\n",
      "Training: Epoch 276 || Loss:   0.813 || Accuracy:  77.78%\n",
      "Training: Epoch 277 || Loss:   0.813 || Accuracy:  77.79%\n",
      "Training: Epoch 278 || Loss:   0.814 || Accuracy:  77.82%\n",
      "Training: Epoch 279 || Loss:   0.812 || Accuracy:  77.82%\n"
     ]
    },
    {
     "data": {
      "application/vnd.jupyter.widget-view+json": {
       "model_id": "a7dfb695587b43f0afe559b71607e220",
       "version_major": 2,
       "version_minor": 0
      },
      "text/plain": [
       "0it [00:00, ?it/s]"
      ]
     },
     "metadata": {},
     "output_type": "display_data"
    },
    {
     "name": "stdout",
     "output_type": "stream",
     "text": [
      "Training: Epoch 280 || Loss:   0.809 || Accuracy:  77.86%\n",
      "Training: Epoch 281 || Loss:   0.808 || Accuracy:  77.90%\n",
      "Training: Epoch 282 || Loss:   0.807 || Accuracy:  77.89%\n",
      "Training: Epoch 283 || Loss:   0.804 || Accuracy:  77.90%\n",
      "Training: Epoch 284 || Loss:   0.800 || Accuracy:  77.93%\n",
      "Training: Epoch 285 || Loss:   0.798 || Accuracy:  77.96%\n",
      "Training: Epoch 286 || Loss:   0.795 || Accuracy:  77.99%\n",
      "Training: Epoch 287 || Loss:   0.791 || Accuracy:  78.04%\n",
      "Training: Epoch 288 || Loss:   0.789 || Accuracy:  78.06%\n",
      "Training: Epoch 289 || Loss:   0.785 || Accuracy:  78.11%\n"
     ]
    },
    {
     "data": {
      "application/vnd.jupyter.widget-view+json": {
       "model_id": "6018d66436994f908677628ed72a24e7",
       "version_major": 2,
       "version_minor": 0
      },
      "text/plain": [
       "0it [00:00, ?it/s]"
      ]
     },
     "metadata": {},
     "output_type": "display_data"
    },
    {
     "name": "stdout",
     "output_type": "stream",
     "text": [
      "Training: Epoch 290 || Loss:   0.784 || Accuracy:  78.16%\n",
      "Training: Epoch 291 || Loss:   0.780 || Accuracy:  78.22%\n",
      "Training: Epoch 292 || Loss:   0.776 || Accuracy:  78.22%\n",
      "Training: Epoch 293 || Loss:   0.774 || Accuracy:  78.26%\n",
      "Training: Epoch 294 || Loss:   0.771 || Accuracy:  78.35%\n",
      "Training: Epoch 295 || Loss:   0.770 || Accuracy:  78.34%\n",
      "Training: Epoch 296 || Loss:   0.766 || Accuracy:  78.42%\n",
      "Training: Epoch 297 || Loss:   0.764 || Accuracy:  78.44%\n",
      "Training: Epoch 298 || Loss:   0.763 || Accuracy:  78.45%\n",
      "Training: Epoch 299 || Loss:   0.762 || Accuracy:  78.45%\n",
      "Shuffling\n"
     ]
    },
    {
     "data": {
      "application/vnd.jupyter.widget-view+json": {
       "model_id": "3140d5fb88c54ce8a1f714a15db51aa6",
       "version_major": 2,
       "version_minor": 0
      },
      "text/plain": [
       "0it [00:00, ?it/s]"
      ]
     },
     "metadata": {},
     "output_type": "display_data"
    },
    {
     "name": "stdout",
     "output_type": "stream",
     "text": [
      "Training: Epoch 300 || Loss:   0.758 || Accuracy:  78.59%\n",
      "Training: Epoch 301 || Loss:   0.757 || Accuracy:  78.62%\n",
      "Training: Epoch 302 || Loss:   0.758 || Accuracy:  78.68%\n",
      "Training: Epoch 303 || Loss:   0.758 || Accuracy:  78.64%\n",
      "Training: Epoch 304 || Loss:   0.759 || Accuracy:  78.68%\n",
      "Training: Epoch 305 || Loss:   0.759 || Accuracy:  78.64%\n",
      "Training: Epoch 306 || Loss:   0.760 || Accuracy:  78.62%\n",
      "Training: Epoch 307 || Loss:   0.760 || Accuracy:  78.61%\n",
      "Training: Epoch 308 || Loss:   0.759 || Accuracy:  78.60%\n",
      "Training: Epoch 309 || Loss:   0.758 || Accuracy:  78.64%\n"
     ]
    },
    {
     "data": {
      "application/vnd.jupyter.widget-view+json": {
       "model_id": "27de3da2038a4c3dbe2a9d697047c658",
       "version_major": 2,
       "version_minor": 0
      },
      "text/plain": [
       "0it [00:00, ?it/s]"
      ]
     },
     "metadata": {},
     "output_type": "display_data"
    },
    {
     "name": "stdout",
     "output_type": "stream",
     "text": [
      "Training: Epoch 310 || Loss:   0.758 || Accuracy:  78.66%\n",
      "Training: Epoch 311 || Loss:   0.758 || Accuracy:  78.61%\n",
      "Training: Epoch 312 || Loss:   0.758 || Accuracy:  78.71%\n",
      "Training: Epoch 313 || Loss:   0.757 || Accuracy:  78.69%\n",
      "Training: Epoch 314 || Loss:   0.757 || Accuracy:  78.71%\n",
      "Training: Epoch 315 || Loss:   0.758 || Accuracy:  78.73%\n",
      "Training: Epoch 316 || Loss:   0.757 || Accuracy:  78.68%\n",
      "Training: Epoch 317 || Loss:   0.758 || Accuracy:  78.68%\n",
      "Training: Epoch 318 || Loss:   0.758 || Accuracy:  78.72%\n",
      "Training: Epoch 319 || Loss:   0.758 || Accuracy:  78.68%\n"
     ]
    },
    {
     "data": {
      "application/vnd.jupyter.widget-view+json": {
       "model_id": "cd9ba08316584598b8e517721bd7111c",
       "version_major": 2,
       "version_minor": 0
      },
      "text/plain": [
       "0it [00:00, ?it/s]"
      ]
     },
     "metadata": {},
     "output_type": "display_data"
    },
    {
     "name": "stdout",
     "output_type": "stream",
     "text": [
      "Training: Epoch 320 || Loss:   0.758 || Accuracy:  78.70%\n",
      "Training: Epoch 321 || Loss:   0.757 || Accuracy:  78.74%\n",
      "Training: Epoch 322 || Loss:   0.756 || Accuracy:  78.72%\n",
      "Training: Epoch 323 || Loss:   0.757 || Accuracy:  78.79%\n",
      "Training: Epoch 324 || Loss:   0.757 || Accuracy:  78.79%\n",
      "Training: Epoch 325 || Loss:   0.757 || Accuracy:  78.78%\n",
      "Training: Epoch 326 || Loss:   0.757 || Accuracy:  78.81%\n",
      "Training: Epoch 327 || Loss:   0.757 || Accuracy:  78.81%\n",
      "Training: Epoch 328 || Loss:   0.758 || Accuracy:  78.78%\n",
      "Training: Epoch 329 || Loss:   0.758 || Accuracy:  78.76%\n"
     ]
    },
    {
     "data": {
      "application/vnd.jupyter.widget-view+json": {
       "model_id": "627dace7ecc14286a468932faf27af0d",
       "version_major": 2,
       "version_minor": 0
      },
      "text/plain": [
       "0it [00:00, ?it/s]"
      ]
     },
     "metadata": {},
     "output_type": "display_data"
    },
    {
     "name": "stdout",
     "output_type": "stream",
     "text": [
      "Training: Epoch 330 || Loss:   0.758 || Accuracy:  78.75%\n",
      "Training: Epoch 331 || Loss:   0.759 || Accuracy:  78.76%\n",
      "Training: Epoch 332 || Loss:   0.758 || Accuracy:  78.74%\n",
      "Training: Epoch 333 || Loss:   0.757 || Accuracy:  78.75%\n",
      "Training: Epoch 334 || Loss:   0.758 || Accuracy:  78.74%\n",
      "Training: Epoch 335 || Loss:   0.759 || Accuracy:  78.75%\n",
      "Training: Epoch 336 || Loss:   0.757 || Accuracy:  78.73%\n",
      "Training: Epoch 337 || Loss:   0.759 || Accuracy:  78.71%\n",
      "Training: Epoch 338 || Loss:   0.760 || Accuracy:  78.71%\n",
      "Training: Epoch 339 || Loss:   0.761 || Accuracy:  78.67%\n"
     ]
    },
    {
     "data": {
      "application/vnd.jupyter.widget-view+json": {
       "model_id": "905127b93c8e44548fdc4757d7a9a408",
       "version_major": 2,
       "version_minor": 0
      },
      "text/plain": [
       "0it [00:00, ?it/s]"
      ]
     },
     "metadata": {},
     "output_type": "display_data"
    },
    {
     "name": "stdout",
     "output_type": "stream",
     "text": [
      "Training: Epoch 340 || Loss:   0.761 || Accuracy:  78.63%\n",
      "Training: Epoch 341 || Loss:   0.762 || Accuracy:  78.65%\n",
      "Training: Epoch 342 || Loss:   0.765 || Accuracy:  78.62%\n",
      "Training: Epoch 343 || Loss:   0.763 || Accuracy:  78.59%\n",
      "Training: Epoch 344 || Loss:   0.766 || Accuracy:  78.61%\n",
      "Training: Epoch 345 || Loss:   0.767 || Accuracy:  78.59%\n",
      "Training: Epoch 346 || Loss:   0.767 || Accuracy:  78.58%\n",
      "Training: Epoch 347 || Loss:   0.766 || Accuracy:  78.56%\n",
      "Training: Epoch 348 || Loss:   0.769 || Accuracy:  78.54%\n",
      "Training: Epoch 349 || Loss:   0.769 || Accuracy:  78.52%\n",
      "Shuffling\n"
     ]
    },
    {
     "data": {
      "application/vnd.jupyter.widget-view+json": {
       "model_id": "9e88b3ae87cf464a894f2c9a74727498",
       "version_major": 2,
       "version_minor": 0
      },
      "text/plain": [
       "0it [00:00, ?it/s]"
      ]
     },
     "metadata": {},
     "output_type": "display_data"
    },
    {
     "name": "stdout",
     "output_type": "stream",
     "text": [
      "Training: Epoch 350 || Loss:   0.764 || Accuracy:  78.50%\n",
      "Training: Epoch 351 || Loss:   0.765 || Accuracy:  78.59%\n",
      "Training: Epoch 352 || Loss:   0.765 || Accuracy:  78.60%\n",
      "Training: Epoch 353 || Loss:   0.767 || Accuracy:  78.63%\n",
      "Training: Epoch 354 || Loss:   0.768 || Accuracy:  78.62%\n",
      "Training: Epoch 355 || Loss:   0.769 || Accuracy:  78.58%\n",
      "Training: Epoch 356 || Loss:   0.770 || Accuracy:  78.57%\n",
      "Training: Epoch 357 || Loss:   0.771 || Accuracy:  78.52%\n",
      "Training: Epoch 358 || Loss:   0.773 || Accuracy:  78.50%\n",
      "Training: Epoch 359 || Loss:   0.775 || Accuracy:  78.49%\n"
     ]
    },
    {
     "data": {
      "application/vnd.jupyter.widget-view+json": {
       "model_id": "2da1c58328ff474e8bcac80a84061825",
       "version_major": 2,
       "version_minor": 0
      },
      "text/plain": [
       "0it [00:00, ?it/s]"
      ]
     },
     "metadata": {},
     "output_type": "display_data"
    },
    {
     "name": "stdout",
     "output_type": "stream",
     "text": [
      "Training: Epoch 360 || Loss:   0.777 || Accuracy:  78.48%\n",
      "Training: Epoch 361 || Loss:   0.778 || Accuracy:  78.46%\n",
      "Training: Epoch 362 || Loss:   0.779 || Accuracy:  78.44%\n",
      "Training: Epoch 363 || Loss:   0.781 || Accuracy:  78.41%\n",
      "Training: Epoch 364 || Loss:   0.782 || Accuracy:  78.35%\n",
      "Training: Epoch 365 || Loss:   0.783 || Accuracy:  78.36%\n",
      "Training: Epoch 366 || Loss:   0.784 || Accuracy:  78.35%\n",
      "Training: Epoch 367 || Loss:   0.784 || Accuracy:  78.33%\n",
      "Training: Epoch 368 || Loss:   0.784 || Accuracy:  78.24%\n",
      "Training: Epoch 369 || Loss:   0.787 || Accuracy:  78.24%\n"
     ]
    },
    {
     "data": {
      "application/vnd.jupyter.widget-view+json": {
       "model_id": "85eb9212747a43f2830c807951f32378",
       "version_major": 2,
       "version_minor": 0
      },
      "text/plain": [
       "0it [00:00, ?it/s]"
      ]
     },
     "metadata": {},
     "output_type": "display_data"
    },
    {
     "name": "stdout",
     "output_type": "stream",
     "text": [
      "Training: Epoch 370 || Loss:   0.788 || Accuracy:  78.22%\n",
      "Training: Epoch 371 || Loss:   0.790 || Accuracy:  78.21%\n",
      "Training: Epoch 372 || Loss:   0.791 || Accuracy:  78.17%\n",
      "Training: Epoch 373 || Loss:   0.791 || Accuracy:  78.17%\n",
      "Training: Epoch 374 || Loss:   0.792 || Accuracy:  78.08%\n",
      "Training: Epoch 375 || Loss:   0.794 || Accuracy:  78.09%\n",
      "Training: Epoch 376 || Loss:   0.795 || Accuracy:  78.03%\n",
      "Training: Epoch 377 || Loss:   0.795 || Accuracy:  77.97%\n",
      "Training: Epoch 378 || Loss:   0.798 || Accuracy:  77.97%\n",
      "Training: Epoch 379 || Loss:   0.798 || Accuracy:  77.93%\n"
     ]
    },
    {
     "data": {
      "application/vnd.jupyter.widget-view+json": {
       "model_id": "6e486878aa904afcb45290a5802c95ac",
       "version_major": 2,
       "version_minor": 0
      },
      "text/plain": [
       "0it [00:00, ?it/s]"
      ]
     },
     "metadata": {},
     "output_type": "display_data"
    },
    {
     "name": "stdout",
     "output_type": "stream",
     "text": [
      "Training: Epoch 380 || Loss:   0.798 || Accuracy:  77.87%\n",
      "Training: Epoch 381 || Loss:   0.801 || Accuracy:  77.83%\n",
      "Training: Epoch 382 || Loss:   0.804 || Accuracy:  77.79%\n",
      "Training: Epoch 383 || Loss:   0.806 || Accuracy:  77.73%\n",
      "Training: Epoch 384 || Loss:   0.808 || Accuracy:  77.73%\n",
      "Training: Epoch 385 || Loss:   0.810 || Accuracy:  77.69%\n",
      "Training: Epoch 386 || Loss:   0.812 || Accuracy:  77.62%\n",
      "Training: Epoch 387 || Loss:   0.813 || Accuracy:  77.60%\n",
      "Training: Epoch 388 || Loss:   0.815 || Accuracy:  77.54%\n",
      "Training: Epoch 389 || Loss:   0.816 || Accuracy:  77.51%\n"
     ]
    },
    {
     "data": {
      "application/vnd.jupyter.widget-view+json": {
       "model_id": "abf6cb53fa934c98a569690164d04c0f",
       "version_major": 2,
       "version_minor": 0
      },
      "text/plain": [
       "0it [00:00, ?it/s]"
      ]
     },
     "metadata": {},
     "output_type": "display_data"
    },
    {
     "name": "stdout",
     "output_type": "stream",
     "text": [
      "Training: Epoch 390 || Loss:   0.819 || Accuracy:  77.48%\n",
      "Training: Epoch 391 || Loss:   0.821 || Accuracy:  77.46%\n",
      "Training: Epoch 392 || Loss:   0.824 || Accuracy:  77.43%\n",
      "Training: Epoch 393 || Loss:   0.825 || Accuracy:  77.38%\n",
      "Training: Epoch 394 || Loss:   0.826 || Accuracy:  77.34%\n",
      "Training: Epoch 395 || Loss:   0.827 || Accuracy:  77.30%\n",
      "Training: Epoch 396 || Loss:   0.829 || Accuracy:  77.27%\n",
      "Training: Epoch 397 || Loss:   0.830 || Accuracy:  77.25%\n",
      "Training: Epoch 398 || Loss:   0.832 || Accuracy:  77.19%\n",
      "Training: Epoch 399 || Loss:   0.833 || Accuracy:  77.15%\n",
      "Shuffling\n"
     ]
    },
    {
     "data": {
      "application/vnd.jupyter.widget-view+json": {
       "model_id": "60b76fa2e5f043e397e318443f6630e5",
       "version_major": 2,
       "version_minor": 0
      },
      "text/plain": [
       "0it [00:00, ?it/s]"
      ]
     },
     "metadata": {},
     "output_type": "display_data"
    },
    {
     "name": "stdout",
     "output_type": "stream",
     "text": [
      "Training: Epoch 400 || Loss:   0.837 || Accuracy:  77.17%\n",
      "Training: Epoch 401 || Loss:   0.835 || Accuracy:  77.26%\n",
      "Training: Epoch 402 || Loss:   0.832 || Accuracy:  77.33%\n",
      "Training: Epoch 403 || Loss:   0.832 || Accuracy:  77.36%\n",
      "Training: Epoch 404 || Loss:   0.832 || Accuracy:  77.40%\n",
      "Training: Epoch 405 || Loss:   0.831 || Accuracy:  77.39%\n",
      "Training: Epoch 406 || Loss:   0.832 || Accuracy:  77.44%\n",
      "Training: Epoch 407 || Loss:   0.831 || Accuracy:  77.41%\n",
      "Training: Epoch 408 || Loss:   0.831 || Accuracy:  77.38%\n",
      "Training: Epoch 409 || Loss:   0.832 || Accuracy:  77.36%\n"
     ]
    },
    {
     "data": {
      "application/vnd.jupyter.widget-view+json": {
       "model_id": "93cdd27d024f4f3a980d4780c2ac83e6",
       "version_major": 2,
       "version_minor": 0
      },
      "text/plain": [
       "0it [00:00, ?it/s]"
      ]
     },
     "metadata": {},
     "output_type": "display_data"
    },
    {
     "name": "stdout",
     "output_type": "stream",
     "text": [
      "Training: Epoch 410 || Loss:   0.833 || Accuracy:  77.36%\n",
      "Training: Epoch 411 || Loss:   0.832 || Accuracy:  77.32%\n",
      "Training: Epoch 412 || Loss:   0.832 || Accuracy:  77.33%\n",
      "Training: Epoch 413 || Loss:   0.833 || Accuracy:  77.35%\n",
      "Training: Epoch 414 || Loss:   0.833 || Accuracy:  77.32%\n",
      "Training: Epoch 415 || Loss:   0.833 || Accuracy:  77.30%\n",
      "Training: Epoch 416 || Loss:   0.833 || Accuracy:  77.29%\n",
      "Training: Epoch 417 || Loss:   0.833 || Accuracy:  77.27%\n",
      "Training: Epoch 418 || Loss:   0.833 || Accuracy:  77.24%\n",
      "Training: Epoch 419 || Loss:   0.833 || Accuracy:  77.24%\n"
     ]
    },
    {
     "data": {
      "application/vnd.jupyter.widget-view+json": {
       "model_id": "ad127e1d2ac04f7999b2cf0a4df74a30",
       "version_major": 2,
       "version_minor": 0
      },
      "text/plain": [
       "0it [00:00, ?it/s]"
      ]
     },
     "metadata": {},
     "output_type": "display_data"
    },
    {
     "name": "stdout",
     "output_type": "stream",
     "text": [
      "Training: Epoch 420 || Loss:   0.833 || Accuracy:  77.22%\n",
      "Training: Epoch 421 || Loss:   0.833 || Accuracy:  77.17%\n",
      "Training: Epoch 422 || Loss:   0.837 || Accuracy:  77.16%\n",
      "Training: Epoch 423 || Loss:   0.837 || Accuracy:  77.17%\n",
      "Training: Epoch 424 || Loss:   0.838 || Accuracy:  77.11%\n",
      "Training: Epoch 425 || Loss:   0.839 || Accuracy:  77.14%\n",
      "Training: Epoch 426 || Loss:   0.840 || Accuracy:  77.09%\n",
      "Training: Epoch 427 || Loss:   0.840 || Accuracy:  77.09%\n",
      "Training: Epoch 428 || Loss:   0.841 || Accuracy:  77.07%\n",
      "Training: Epoch 429 || Loss:   0.841 || Accuracy:  77.03%\n"
     ]
    },
    {
     "data": {
      "application/vnd.jupyter.widget-view+json": {
       "model_id": "4267921b7ef049bcacfb60d2a683b3e3",
       "version_major": 2,
       "version_minor": 0
      },
      "text/plain": [
       "0it [00:00, ?it/s]"
      ]
     },
     "metadata": {},
     "output_type": "display_data"
    },
    {
     "name": "stdout",
     "output_type": "stream",
     "text": [
      "Training: Epoch 430 || Loss:   0.842 || Accuracy:  77.03%\n",
      "Training: Epoch 431 || Loss:   0.844 || Accuracy:  76.94%\n",
      "Training: Epoch 432 || Loss:   0.843 || Accuracy:  76.97%\n",
      "Training: Epoch 433 || Loss:   0.843 || Accuracy:  76.97%\n",
      "Training: Epoch 434 || Loss:   0.843 || Accuracy:  76.96%\n",
      "Training: Epoch 435 || Loss:   0.846 || Accuracy:  76.86%\n",
      "Training: Epoch 436 || Loss:   0.846 || Accuracy:  76.88%\n",
      "Training: Epoch 437 || Loss:   0.847 || Accuracy:  76.90%\n",
      "Training: Epoch 438 || Loss:   0.847 || Accuracy:  76.83%\n",
      "Training: Epoch 439 || Loss:   0.848 || Accuracy:  76.83%\n"
     ]
    },
    {
     "data": {
      "application/vnd.jupyter.widget-view+json": {
       "model_id": "1f82c486a9524642ad1d0f860bf04023",
       "version_major": 2,
       "version_minor": 0
      },
      "text/plain": [
       "0it [00:00, ?it/s]"
      ]
     },
     "metadata": {},
     "output_type": "display_data"
    },
    {
     "name": "stdout",
     "output_type": "stream",
     "text": [
      "Training: Epoch 440 || Loss:   0.848 || Accuracy:  76.79%\n",
      "Training: Epoch 441 || Loss:   0.849 || Accuracy:  76.76%\n",
      "Training: Epoch 442 || Loss:   0.850 || Accuracy:  76.77%\n",
      "Training: Epoch 443 || Loss:   0.850 || Accuracy:  76.78%\n",
      "Training: Epoch 444 || Loss:   0.850 || Accuracy:  76.74%\n",
      "Training: Epoch 445 || Loss:   0.852 || Accuracy:  76.76%\n",
      "Training: Epoch 446 || Loss:   0.852 || Accuracy:  76.73%\n",
      "Training: Epoch 447 || Loss:   0.853 || Accuracy:  76.74%\n",
      "Training: Epoch 448 || Loss:   0.853 || Accuracy:  76.72%\n",
      "Training: Epoch 449 || Loss:   0.854 || Accuracy:  76.69%\n",
      "Shuffling\n"
     ]
    },
    {
     "data": {
      "application/vnd.jupyter.widget-view+json": {
       "model_id": "1ca67e9bf576446fb9709528e44e0279",
       "version_major": 2,
       "version_minor": 0
      },
      "text/plain": [
       "0it [00:00, ?it/s]"
      ]
     },
     "metadata": {},
     "output_type": "display_data"
    },
    {
     "name": "stdout",
     "output_type": "stream",
     "text": [
      "Training: Epoch 450 || Loss:   0.855 || Accuracy:  76.75%\n",
      "Training: Epoch 451 || Loss:   0.854 || Accuracy:  76.76%\n",
      "Training: Epoch 452 || Loss:   0.853 || Accuracy:  76.85%\n",
      "Training: Epoch 453 || Loss:   0.853 || Accuracy:  76.86%\n",
      "Training: Epoch 454 || Loss:   0.853 || Accuracy:  76.85%\n",
      "Training: Epoch 455 || Loss:   0.854 || Accuracy:  76.88%\n",
      "Training: Epoch 456 || Loss:   0.853 || Accuracy:  76.88%\n",
      "Training: Epoch 457 || Loss:   0.854 || Accuracy:  76.86%\n",
      "Training: Epoch 458 || Loss:   0.853 || Accuracy:  76.88%\n",
      "Training: Epoch 459 || Loss:   0.854 || Accuracy:  76.81%\n"
     ]
    },
    {
     "data": {
      "application/vnd.jupyter.widget-view+json": {
       "model_id": "a28a1c5967ef45c29d561afc6c93df26",
       "version_major": 2,
       "version_minor": 0
      },
      "text/plain": [
       "0it [00:00, ?it/s]"
      ]
     },
     "metadata": {},
     "output_type": "display_data"
    },
    {
     "name": "stdout",
     "output_type": "stream",
     "text": [
      "Training: Epoch 460 || Loss:   0.854 || Accuracy:  76.81%\n",
      "Training: Epoch 461 || Loss:   0.858 || Accuracy:  76.76%\n",
      "Training: Epoch 462 || Loss:   0.858 || Accuracy:  76.76%\n",
      "Training: Epoch 463 || Loss:   0.860 || Accuracy:  76.75%\n",
      "Training: Epoch 464 || Loss:   0.860 || Accuracy:  76.71%\n",
      "Training: Epoch 465 || Loss:   0.862 || Accuracy:  76.65%\n",
      "Training: Epoch 466 || Loss:   0.863 || Accuracy:  76.64%\n",
      "Training: Epoch 467 || Loss:   0.866 || Accuracy:  76.64%\n",
      "Training: Epoch 468 || Loss:   0.867 || Accuracy:  76.63%\n",
      "Training: Epoch 469 || Loss:   0.868 || Accuracy:  76.58%\n"
     ]
    },
    {
     "data": {
      "application/vnd.jupyter.widget-view+json": {
       "model_id": "0023c3b1862449a2bf4d463fc261952a",
       "version_major": 2,
       "version_minor": 0
      },
      "text/plain": [
       "0it [00:00, ?it/s]"
      ]
     },
     "metadata": {},
     "output_type": "display_data"
    },
    {
     "name": "stdout",
     "output_type": "stream",
     "text": [
      "Training: Epoch 470 || Loss:   0.868 || Accuracy:  76.55%\n",
      "Training: Epoch 471 || Loss:   0.870 || Accuracy:  76.55%\n",
      "Training: Epoch 472 || Loss:   0.869 || Accuracy:  76.52%\n",
      "Training: Epoch 473 || Loss:   0.871 || Accuracy:  76.51%\n",
      "Training: Epoch 474 || Loss:   0.871 || Accuracy:  76.44%\n",
      "Training: Epoch 475 || Loss:   0.873 || Accuracy:  76.43%\n",
      "Training: Epoch 476 || Loss:   0.875 || Accuracy:  76.43%\n",
      "Training: Epoch 477 || Loss:   0.876 || Accuracy:  76.37%\n",
      "Training: Epoch 478 || Loss:   0.877 || Accuracy:  76.39%\n",
      "Training: Epoch 479 || Loss:   0.879 || Accuracy:  76.33%\n"
     ]
    },
    {
     "data": {
      "application/vnd.jupyter.widget-view+json": {
       "model_id": "54fa9b3d7bc8467c8b28ca71c289e4d4",
       "version_major": 2,
       "version_minor": 0
      },
      "text/plain": [
       "0it [00:00, ?it/s]"
      ]
     },
     "metadata": {},
     "output_type": "display_data"
    },
    {
     "name": "stdout",
     "output_type": "stream",
     "text": [
      "Training: Epoch 480 || Loss:   0.878 || Accuracy:  76.32%\n",
      "Training: Epoch 481 || Loss:   0.880 || Accuracy:  76.28%\n",
      "Training: Epoch 482 || Loss:   0.881 || Accuracy:  76.28%\n",
      "Training: Epoch 483 || Loss:   0.882 || Accuracy:  76.26%\n",
      "Training: Epoch 484 || Loss:   0.882 || Accuracy:  76.24%\n",
      "Training: Epoch 485 || Loss:   0.882 || Accuracy:  76.19%\n",
      "Training: Epoch 486 || Loss:   0.884 || Accuracy:  76.21%\n",
      "Training: Epoch 487 || Loss:   0.884 || Accuracy:  76.16%\n",
      "Training: Epoch 488 || Loss:   0.883 || Accuracy:  76.16%\n",
      "Training: Epoch 489 || Loss:   0.884 || Accuracy:  76.17%\n"
     ]
    },
    {
     "data": {
      "application/vnd.jupyter.widget-view+json": {
       "model_id": "1c0341f95e3949bfaf3c9af4862e09e7",
       "version_major": 2,
       "version_minor": 0
      },
      "text/plain": [
       "0it [00:00, ?it/s]"
      ]
     },
     "metadata": {},
     "output_type": "display_data"
    },
    {
     "name": "stdout",
     "output_type": "stream",
     "text": [
      "Training: Epoch 490 || Loss:   0.886 || Accuracy:  76.15%\n",
      "Training: Epoch 491 || Loss:   0.887 || Accuracy:  76.09%\n",
      "Training: Epoch 492 || Loss:   0.887 || Accuracy:  76.11%\n",
      "Training: Epoch 493 || Loss:   0.888 || Accuracy:  76.13%\n",
      "Training: Epoch 494 || Loss:   0.888 || Accuracy:  76.06%\n",
      "Training: Epoch 495 || Loss:   0.888 || Accuracy:  76.10%\n",
      "Training: Epoch 496 || Loss:   0.888 || Accuracy:  76.05%\n",
      "Training: Epoch 497 || Loss:   0.890 || Accuracy:  76.04%\n",
      "Training: Epoch 498 || Loss:   0.891 || Accuracy:  76.02%\n",
      "Training: Epoch 499 || Loss:   0.891 || Accuracy:  76.01%\n",
      "Shuffling\n"
     ]
    },
    {
     "data": {
      "application/vnd.jupyter.widget-view+json": {
       "model_id": "1f3093a0ba6341fba8da38eeab889d6c",
       "version_major": 2,
       "version_minor": 0
      },
      "text/plain": [
       "0it [00:00, ?it/s]"
      ]
     },
     "metadata": {},
     "output_type": "display_data"
    },
    {
     "name": "stdout",
     "output_type": "stream",
     "text": [
      "Training: Epoch 500 || Loss:   0.883 || Accuracy:  76.02%\n"
     ]
    }
   ],
   "source": [
    "import random\n",
    "\n",
    "model.to(device)\n",
    "model = model.to(torch.float16)\n",
    "\n",
    "best_model = None\n",
    "best_acc = -1\n",
    "\n",
    "for epoch in tqdm(range(num_epochs+1)):\n",
    "    \n",
    "    model.train()\n",
    "    running_loss = 0.0\n",
    "    correct = 0.0\n",
    "    total = 0\n",
    "\n",
    "    if epoch%50 == 0:\n",
    "        print(\"Shuffling\")\n",
    "        c = list(zip(train_features, train_labels))\n",
    "        random.shuffle(c)\n",
    "        train_features, train_labels = zip(*c)\n",
    "        train_features = torch.stack(list(train_features))\n",
    "        train_labels = torch.stack(list(train_labels))\n",
    "        \n",
    "    out_train = batch(train_features,train_labels, 50)\n",
    "    for inputs, labels in out_train:\n",
    "        \n",
    "        inputs, labels = inputs.to(device), labels.to(device)\n",
    "        \n",
    "        optimizer.zero_grad()\n",
    "\n",
    "        outputs = model(inputs)\n",
    "        loss = calc_loss(outputs, labels)\n",
    "\n",
    "        loss.backward()\n",
    "\n",
    "        optimizer.step()\n",
    "        running_loss+=loss\n",
    "        total += len(labels)\n",
    "        correct += num_correct_preds(outputs, labels)\n",
    "        \n",
    "    if epoch%10 == 0:\n",
    "        model.eval()\n",
    "        out_test = batch(valid_features,valid_labels, 50)\n",
    "        \n",
    "        test_running_loss = 0.0\n",
    "        test_correct = 0.0\n",
    "        test_total = 0\n",
    "        with torch.no_grad():\n",
    "            for inputs, labels in tqdm(out_test):\n",
    "        #         inputs = inputs / inputs.norm(dim=-1, keepdim=True)\n",
    "                inputs, labels = inputs.to(device), labels.to(device)\n",
    "                outputs = model(inputs)\n",
    "                loss = criterion(outputs, labels)\n",
    "                test_running_loss += loss.item()\n",
    "                test_total += labels.size(0)\n",
    "                test_correct += num_correct_preds(outputs, labels)\n",
    "\n",
    "        epoch_loss = test_running_loss / len(test_loader)\n",
    "        writer.add_scalar(\"Loss/val\", epoch_loss, epoch)\n",
    "        epoch_accuracy = test_correct * 100 / test_total\n",
    "        writer.add_scalar(\"Accuracy/val\", epoch_loss, epoch)\n",
    "        if epoch_accuracy > best_acc:\n",
    "            best_model= copy.deepcopy(model)\n",
    "            best_acc = epoch_accuracy\n",
    "            print(\"Found best model\")\n",
    "#         print(\n",
    "#             f\"Testing: Epoch {epoch} || Loss: {epoch_loss:7.3f} || Accuracy: {epoch_accuracy:6.2f}%\"\n",
    "#         )\n",
    "\n",
    "        \n",
    "    epoch_loss = running_loss/len(train_loader)\n",
    "    writer.add_scalar(\"Loss/train\", epoch_loss, epoch)\n",
    "    epoch_accuracy = correct*100/total\n",
    "    writer.add_scalar(\"Accuracy/train\", epoch_loss, epoch)\n",
    "    print(\n",
    "        f\"Training: Epoch {epoch} || Loss: {epoch_loss:7.3f} || Accuracy: {epoch_accuracy:6.2f}%\"\n",
    "    )\n",
    "\n",
    "    writer.flush()\n",
    "writer.close()\n"
   ]
  },
  {
   "cell_type": "code",
   "execution_count": 24,
   "metadata": {},
   "outputs": [],
   "source": [
    "embeddings = torch.from_numpy(best_model.linear.weight.detach().cpu().numpy()).to(torch.float16)"
   ]
  },
  {
   "cell_type": "code",
   "execution_count": 25,
   "metadata": {},
   "outputs": [
    {
     "data": {
      "application/vnd.jupyter.widget-view+json": {
       "model_id": "dc335c76185543ee8333b8db9194a956",
       "version_major": 2,
       "version_minor": 0
      },
      "text/plain": [
       "  0%|          | 0/200 [00:00<?, ?it/s]"
      ]
     },
     "metadata": {},
     "output_type": "display_data"
    },
    {
     "name": "stdout",
     "output_type": "stream",
     "text": [
      "acc: 75.76\n"
     ]
    }
   ],
   "source": [
    "zeroshot_weights = torch.from_numpy(np.array(embeddings).T).to(torch.float16)\n",
    "\n",
    "def accuracy(output, target, topk=(1,)):\n",
    "    pred = output.topk(max(topk), 1, True, True)[1].t()\n",
    "    correct = pred.eq(target.view(1, -1).expand_as(pred))\n",
    "    return [\n",
    "        float(correct[:k].reshape(-1).float().sum(0, keepdim=True).cpu().numpy())\n",
    "        for k in topk\n",
    "    ]\n",
    "\n",
    "# lazy load\n",
    "if clip_model == None:\n",
    "    clip_model, clip_preprocess = clip.load(clip_model_name, device)\n",
    "\n",
    "with torch.no_grad():\n",
    "    top1, top5, n = 0.0, 0.0, 0.0\n",
    "    for i, (images, target) in enumerate(tqdm(test_loader)):\n",
    "        images = images.cuda()\n",
    "        target = target.cuda()\n",
    "\n",
    "        # predict\n",
    "\n",
    "        image_features = clip_model.encode_image(images)\n",
    "        image_features /= image_features.norm(dim=-1, keepdim=True)\n",
    "        logits = 100.0 * image_features.to(device) @ zeroshot_weights.to(device)\n",
    "\n",
    "        # measure accuracy\n",
    "        acc1, _ = accuracy(logits, target, topk=(1, 5))\n",
    "        top1 += acc1\n",
    "        n += images.size(0)\n",
    "\n",
    "top1 = (top1 / n) * 100\n",
    "\n",
    "print(\"acc:\", top1)"
   ]
  },
  {
   "cell_type": "markdown",
   "metadata": {},
   "source": [
    "## Deterministic - (using sci-kit)"
   ]
  },
  {
   "cell_type": "code",
   "execution_count": 26,
   "metadata": {},
   "outputs": [
    {
     "data": {
      "application/vnd.jupyter.widget-view+json": {
       "model_id": "0971f3a34a9a4444aeb753d6a79cfcb6",
       "version_major": 2,
       "version_minor": 0
      },
      "text/plain": [
       "  0%|          | 0/132 [00:00<?, ?it/s]"
      ]
     },
     "metadata": {},
     "output_type": "display_data"
    },
    {
     "data": {
      "application/vnd.jupyter.widget-view+json": {
       "model_id": "420af3f1bbed4f42b1a017a877d3f1c3",
       "version_major": 2,
       "version_minor": 0
      },
      "text/plain": [
       "  0%|          | 0/17 [00:00<?, ?it/s]"
      ]
     },
     "metadata": {},
     "output_type": "display_data"
    },
    {
     "name": "stderr",
     "output_type": "stream",
     "text": [
      "[Parallel(n_jobs=4)]: Using backend LokyBackend with 4 concurrent workers.\n"
     ]
    },
    {
     "name": "stdout",
     "output_type": "stream",
     "text": [
      "85.95848595848597\n"
     ]
    },
    {
     "name": "stderr",
     "output_type": "stream",
     "text": [
      "[Parallel(n_jobs=4)]: Done   1 out of   1 | elapsed:   11.2s finished\n"
     ]
    }
   ],
   "source": [
    "global clip_model, clip_preprocess\n",
    "from sklearn.linear_model import LogisticRegression\n",
    "\n",
    "len_classes = len(classes)\n",
    "\n",
    "train_features, train_labels = get_clip_features(train_loader)\n",
    "test_features, test_labels = get_clip_features(test_loader)\n",
    "\n",
    "train_features = train_features / train_features.norm(dim=-1, keepdim=True)\n",
    "test_features = test_features / test_features.norm(dim=-1, keepdim=True)\n",
    "\n",
    "classifier = LogisticRegression(C=1, max_iter=1000, n_jobs=4,verbose=1)\n",
    "classifier.fit(train_features.cpu().numpy(), train_labels.cpu().numpy())\n",
    "predictions = classifier.predict(test_features.cpu().numpy())\n",
    "accuracy = np.mean((test_labels.cpu().numpy() == predictions).astype(np.float)) * 100.0\n",
    "\n",
    "print(accuracy)"
   ]
  },
  {
   "cell_type": "code",
   "execution_count": 8,
   "metadata": {},
   "outputs": [
    {
     "name": "stdout",
     "output_type": "stream",
     "text": [
      "{}\n"
     ]
    }
   ],
   "source": [
    "clip_model, clip_preprocess = clip.load(\"ViT-B/32\", device)\n",
    "for param in clip_model.parameters"
   ]
  },
  {
   "cell_type": "code",
   "execution_count": null,
   "metadata": {},
   "outputs": [],
   "source": []
  }
 ],
 "metadata": {
  "kernelspec": {
   "display_name": "Python 3.8.5 64-bit ('p3': conda)",
   "language": "python",
   "name": "python385jvsc74a57bd06250aeecf667241d2415373c88b70d4f824c8a2781323a01ee2a69a098796f4a"
  },
  "language_info": {
   "codemirror_mode": {
    "name": "ipython",
    "version": 3
   },
   "file_extension": ".py",
   "mimetype": "text/x-python",
   "name": "python",
   "nbconvert_exporter": "python",
   "pygments_lexer": "ipython3",
   "version": "3.8.5"
  }
 },
 "nbformat": 4,
 "nbformat_minor": 4
}
