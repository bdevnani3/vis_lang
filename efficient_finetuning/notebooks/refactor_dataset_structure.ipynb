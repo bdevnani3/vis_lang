{
 "metadata": {
  "language_info": {
   "codemirror_mode": {
    "name": "ipython",
    "version": 3
   },
   "file_extension": ".py",
   "mimetype": "text/x-python",
   "name": "python",
   "nbconvert_exporter": "python",
   "pygments_lexer": "ipython3",
   "version": ""
  },
  "orig_nbformat": 2,
  "kernelspec": {
   "name": "python38164bitanaconda3virtualenvdbcccc5d5e2345f188094242b46fa470",
   "display_name": "Python"
  },
  "metadata": {
   "interpreter": {
    "hash": "6a6e23683d15b481b0142f19e62f4cb78495308c14a254279646344754c44a76"
   }
  }
 },
 "nbformat": 4,
 "nbformat_minor": 2,
 "cells": [
  {
   "cell_type": "code",
   "execution_count": 7,
   "metadata": {
    "tags": []
   },
   "outputs": [],
   "source": [
    "### Pets - restructure to use easily with pytorch\n",
    "\n",
    "\n",
    "path = \"/nethome/bdevnani3/raid/data/oxfordpets_data/\"\n",
    "import os\n",
    "\n",
    "# Recursively make label based directories\n",
    "for i in range(1,38):\n",
    "    os.makedirs(f\"/nethome/bdevnani3/raid/data/oxford_pets/train/{i}\",exist_ok=True)\n",
    "    os.makedirs(f\"/nethome/bdevnani3/raid/data/oxford_pets/test/{i}\",exist_ok=True)\n",
    "    os.makedirs(f\"/nethome/bdevnani3/raid/data/oxford_pets/valid/{i}\",exist_ok=True)\n",
    "\n",
    "from shutil import copyfile\n",
    "\n",
    "with open(path+\"annotations/list.txt\") as f:\n",
    "    curr_label = \"1\"\n",
    "    d = {str(i):0 for i in range(1,38)}\n",
    "    for line in f:\n",
    "        if not line.startswith(\"#\"):\n",
    "            name, label, _,_ = line.split(\" \")\n",
    "            # 75, 10, 15 split\n",
    "            dst = f\"/nethome/bdevnani3/raid/data/oxford_pets/train/{label}/{name}.jpg\"\n",
    "            if d[label] >= 150: \n",
    "                dst = f\"/nethome/bdevnani3/raid/data/oxford_pets/valid/{label}/{name}.jpg\"\n",
    "            if d[label] >= 170:\n",
    "                dst = f\"/nethome/bdevnani3/raid/data/oxford_pets/test/{label}/{name}.jpg\"\n",
    "            copyfile(f\"/nethome/bdevnani3/raid/data/oxfordpets_data/images/{name}.jpg\", dst)\n",
    "            d[label] +=1\n"
   ]
  },
  {
   "cell_type": "code",
   "execution_count": 8,
   "metadata": {},
   "outputs": [],
   "source": [
    "\n",
    "\n"
   ]
  },
  {
   "cell_type": "code",
   "execution_count": null,
   "metadata": {},
   "outputs": [],
   "source": []
  }
 ]
}