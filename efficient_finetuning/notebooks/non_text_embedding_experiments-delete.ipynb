{
 "cells": [
  {
   "cell_type": "code",
   "execution_count": 43,
   "id": "487f2a3e",
   "metadata": {},
   "outputs": [
    {
     "name": "stdout",
     "output_type": "stream",
     "text": [
      "cuda\n"
     ]
    }
   ],
   "source": [
    "import importlib\n",
    "import datasets\n",
    "importlib.reload(datasets)\n",
    "from tqdm.notebook import tqdm\n",
    "from datasets import *\n",
    "import random\n",
    "\n",
    "\n",
    "\n",
    "# torch.cuda.empty_cache()\n",
    "\n",
    "device = \"cuda\" if torch.cuda.is_available() else \"cpu\"\n",
    "print(device)\n",
    "\n",
    "import clip\n",
    "\n",
    "clip_model, clip_preprocess = clip.load(\"ViT-B/32\", device)"
   ]
  },
  {
   "cell_type": "code",
   "execution_count": 44,
   "id": "2c512993",
   "metadata": {},
   "outputs": [],
   "source": [
    "def get_clip_features(dataset):\n",
    "    all_features = []\n",
    "    all_labels = []\n",
    "\n",
    "    global clip_model\n",
    "\n",
    "    with torch.no_grad():\n",
    "        for images, labels in tqdm(dataset):\n",
    "            features = clip_model.encode_image(images.to(device))\n",
    "            all_features.append(features)\n",
    "            all_labels.append(labels)\n",
    "\n",
    "    return torch.cat(all_features), torch.cat(all_labels)"
   ]
  },
  {
   "cell_type": "code",
   "execution_count": 45,
   "id": "9f8e088b",
   "metadata": {},
   "outputs": [],
   "source": [
    "def get_text_clip_features(classes, prompt=\"This is a photo of a {}\"):\n",
    "    # Assumes the positions are in accordance to the label numbers\n",
    "    embedding_per_class = {}\n",
    "    \n",
    "    global clip_model\n",
    "\n",
    "    with torch.no_grad():\n",
    "        for i,_class in enumerate(classes):\n",
    "            _class = _class.replace(\"_\", \" \")\n",
    "            text = clip.tokenize(prompt.format(_class)).cuda() \n",
    "            class_embeddings = clip_model.encode_text(\n",
    "                    text\n",
    "                )\n",
    "            class_embeddings /= class_embeddings.norm(dim=-1, keepdim=True)\n",
    "            embedding_per_class[i] = class_embeddings\n",
    "    return embedding_per_class"
   ]
  },
  {
   "cell_type": "code",
   "execution_count": 34,
   "id": "3e42b16d",
   "metadata": {},
   "outputs": [
    {
     "name": "stdout",
     "output_type": "stream",
     "text": [
      "Files already downloaded and verified\n",
      "Files already downloaded and verified\n",
      "Files already downloaded and verified\n"
     ]
    }
   ],
   "source": [
    "from datasets import *\n",
    "dataset_obj = Cifar100(0, 50)\n",
    "train_loader, _ = dataset_obj.get_train_loaders(transform_fn=clip_preprocess, shuffle=False)\n",
    "test_loader = dataset_obj.get_test_loader(transform_fn=clip_preprocess)\n",
    "train_features /= train_features.norm(dim=-1, keepdim=True)\n",
    "classes = dataset_obj.classes\n",
    "train_features, train_labels = get_clip_features(train_loader)\n",
    "test_features, test_labels = get_clip_features(test_loader)\n"
   ]
  },
  {
   "cell_type": "code",
   "execution_count": null,
   "id": "bad77b90",
   "metadata": {},
   "outputs": [],
   "source": [
    "train_features, train_labels = get_clip_features(train_loader)\n",
    "test_features, test_labels = get_clip_features(test_loader)\n"
   ]
  },
  {
   "cell_type": "code",
   "execution_count": 9,
   "id": "7387b92f",
   "metadata": {},
   "outputs": [],
   "source": [
    "iters = 5"
   ]
  },
  {
   "cell_type": "code",
   "execution_count": 10,
   "id": "a2bb69c0",
   "metadata": {},
   "outputs": [],
   "source": [
    "def get_stats(l):\n",
    "    return np.mean(l), np.var(l)"
   ]
  },
  {
   "cell_type": "code",
   "execution_count": 11,
   "id": "80d6eeba",
   "metadata": {},
   "outputs": [],
   "source": [
    "def accuracy(output, target, topk=(1,)):\n",
    "    pred = output.topk(max(topk), 1, True, True)[1].t()\n",
    "    correct = pred.eq(target.view(1, -1).expand_as(pred))\n",
    "    return [\n",
    "        float(correct[:k].reshape(-1).float().sum(0, keepdim=True).cpu().numpy())\n",
    "        for k in topk\n",
    "    ]\n"
   ]
  },
  {
   "cell_type": "markdown",
   "id": "4fa410d2",
   "metadata": {},
   "source": [
    "# Baselines"
   ]
  },
  {
   "cell_type": "markdown",
   "id": "964eb2d3",
   "metadata": {},
   "source": [
    "### Random Embedding"
   ]
  },
  {
   "cell_type": "code",
   "execution_count": 11,
   "id": "cf645f4d",
   "metadata": {},
   "outputs": [
    {
     "data": {
      "application/vnd.jupyter.widget-view+json": {
       "model_id": "8146b40eb514407f9cb08cb31f1b69ba",
       "version_major": 2,
       "version_minor": 0
      },
      "text/plain": [
       "  0%|          | 0/37 [00:00<?, ?it/s]"
      ]
     },
     "metadata": {},
     "output_type": "display_data"
    },
    {
     "data": {
      "application/vnd.jupyter.widget-view+json": {
       "model_id": "746311afad3c495a8da332322e794dff",
       "version_major": 2,
       "version_minor": 0
      },
      "text/plain": [
       "  0%|          | 0/74 [00:00<?, ?it/s]"
      ]
     },
     "metadata": {},
     "output_type": "display_data"
    },
    {
     "name": "stdout",
     "output_type": "stream",
     "text": [
      "num_classes: -1 acc: 30.280730444262744\n"
     ]
    },
    {
     "data": {
      "application/vnd.jupyter.widget-view+json": {
       "model_id": "d2e1f681df084b8aa1ddb60234290e11",
       "version_major": 2,
       "version_minor": 0
      },
      "text/plain": [
       "  0%|          | 0/74 [00:00<?, ?it/s]"
      ]
     },
     "metadata": {},
     "output_type": "display_data"
    },
    {
     "name": "stdout",
     "output_type": "stream",
     "text": [
      "num_classes: -1 acc: 35.32297628781684\n"
     ]
    },
    {
     "data": {
      "application/vnd.jupyter.widget-view+json": {
       "model_id": "2db32784e132455b8cf995e5715199ff",
       "version_major": 2,
       "version_minor": 0
      },
      "text/plain": [
       "  0%|          | 0/74 [00:00<?, ?it/s]"
      ]
     },
     "metadata": {},
     "output_type": "display_data"
    },
    {
     "name": "stdout",
     "output_type": "stream",
     "text": [
      "num_classes: -1 acc: 38.32106841101117\n"
     ]
    },
    {
     "data": {
      "application/vnd.jupyter.widget-view+json": {
       "model_id": "1c965a2228dc44d3a62f5590d420377f",
       "version_major": 2,
       "version_minor": 0
      },
      "text/plain": [
       "  0%|          | 0/74 [00:00<?, ?it/s]"
      ]
     },
     "metadata": {},
     "output_type": "display_data"
    },
    {
     "name": "stdout",
     "output_type": "stream",
     "text": [
      "num_classes: -1 acc: 32.57018261106568\n"
     ]
    },
    {
     "data": {
      "application/vnd.jupyter.widget-view+json": {
       "model_id": "383b291572de42fb8951e8720505c815",
       "version_major": 2,
       "version_minor": 0
      },
      "text/plain": [
       "  0%|          | 0/74 [00:00<?, ?it/s]"
      ]
     },
     "metadata": {},
     "output_type": "display_data"
    },
    {
     "name": "stdout",
     "output_type": "stream",
     "text": [
      "num_classes: -1 acc: 33.46961024802398\n",
      "(33.99291360043609, 7.316060893680893)\n"
     ]
    }
   ],
   "source": [
    "# get zs weights \n",
    "out = []\n",
    "train_loader, _ = dataset_obj.get_train_loaders(transform_fn=clip_preprocess)\n",
    "train_featuress, train_labelss = get_clip_features(train_loader)\n",
    "for _ in range(iters):\n",
    "    for nc in [-1]:\n",
    "        train_features = train_featuress / train_featuress.norm(dim=-1, keepdim=True)\n",
    "        for _ in range(1):\n",
    "            embeddings = []\n",
    "            for c in range(len(classes)):\n",
    "                ind = random.choice((c == train_labels).nonzero(as_tuple=False).tolist())\n",
    "                embeddings.append(train_features[ind].cpu().numpy())\n",
    "\n",
    "            zeroshot_weights = torch.from_numpy(np.array(embeddings).squeeze(1).T).to(torch.float16)\n",
    "\n",
    "            def accuracy(output, target, topk=(1,)):\n",
    "                pred = output.topk(max(topk), 1, True, True)[1].t()\n",
    "                correct = pred.eq(target.view(1, -1).expand_as(pred))\n",
    "                return [\n",
    "                    float(correct[:k].reshape(-1).float().sum(0, keepdim=True).cpu().numpy())\n",
    "                    for k in topk\n",
    "                ]\n",
    "\n",
    "            # lazy load\n",
    "            if clip_model == None:\n",
    "                clip_model, clip_preprocess = clip.load(clip_model_name, device)\n",
    "\n",
    "            with torch.no_grad():\n",
    "                top1, top5, n = 0.0, 0.0, 0.0\n",
    "                for i, (images, target) in enumerate(tqdm(test_loader)):\n",
    "                    images = images.cuda()\n",
    "                    target = target.cuda()\n",
    "\n",
    "                    # predict\n",
    "\n",
    "                    image_features = clip_model.encode_image(images)\n",
    "                    image_features /= image_features.norm(dim=-1, keepdim=True)\n",
    "                    logits = 100.0 * image_features.to(device) @ zeroshot_weights.to(device)\n",
    "\n",
    "                    # measure accuracy\n",
    "                    acc1, _ = accuracy(logits, target, topk=(1, 5))\n",
    "                    top1 += acc1\n",
    "                    n += images.size(0)\n",
    "\n",
    "            top1 = (top1 / n) * 100\n",
    "\n",
    "            print(\"num_classes:\", nc, \"acc:\", top1)\n",
    "            out.append(top1)\n",
    "print(get_stats(out))"
   ]
  },
  {
   "cell_type": "markdown",
   "id": "9b26a133",
   "metadata": {},
   "source": [
    "### Average Embeddings"
   ]
  },
  {
   "cell_type": "code",
   "execution_count": 12,
   "id": "dfcc4191",
   "metadata": {
    "scrolled": true
   },
   "outputs": [
    {
     "data": {
      "application/vnd.jupyter.widget-view+json": {
       "model_id": "082e25d9296f4beb8f5930cd6e797053",
       "version_major": 2,
       "version_minor": 0
      },
      "text/plain": [
       "  0%|          | 0/1 [00:00<?, ?it/s]"
      ]
     },
     "metadata": {},
     "output_type": "display_data"
    },
    {
     "name": "stdout",
     "output_type": "stream",
     "text": [
      "Done\n"
     ]
    },
    {
     "data": {
      "application/vnd.jupyter.widget-view+json": {
       "model_id": "67aa49c6dd064363a606ef45d174c0fe",
       "version_major": 2,
       "version_minor": 0
      },
      "text/plain": [
       "  0%|          | 0/74 [00:00<?, ?it/s]"
      ]
     },
     "metadata": {},
     "output_type": "display_data"
    },
    {
     "name": "stdout",
     "output_type": "stream",
     "text": [
      "num_classes: 1 acc: 34.15099482147724\n"
     ]
    },
    {
     "data": {
      "application/vnd.jupyter.widget-view+json": {
       "model_id": "cfaefcb9fec34d75aba0bb793c750081",
       "version_major": 2,
       "version_minor": 0
      },
      "text/plain": [
       "  0%|          | 0/1 [00:00<?, ?it/s]"
      ]
     },
     "metadata": {},
     "output_type": "display_data"
    },
    {
     "name": "stdout",
     "output_type": "stream",
     "text": [
      "Done\n"
     ]
    },
    {
     "data": {
      "application/vnd.jupyter.widget-view+json": {
       "model_id": "d3525a9118944d6fbc338f7aed89be97",
       "version_major": 2,
       "version_minor": 0
      },
      "text/plain": [
       "  0%|          | 0/74 [00:00<?, ?it/s]"
      ]
     },
     "metadata": {},
     "output_type": "display_data"
    },
    {
     "name": "stdout",
     "output_type": "stream",
     "text": [
      "num_classes: 1 acc: 34.88689016080676\n"
     ]
    },
    {
     "data": {
      "application/vnd.jupyter.widget-view+json": {
       "model_id": "1d7a36c7269e48ffb1aeaca28b2e50ab",
       "version_major": 2,
       "version_minor": 0
      },
      "text/plain": [
       "  0%|          | 0/1 [00:00<?, ?it/s]"
      ]
     },
     "metadata": {},
     "output_type": "display_data"
    },
    {
     "name": "stdout",
     "output_type": "stream",
     "text": [
      "Done\n"
     ]
    },
    {
     "data": {
      "application/vnd.jupyter.widget-view+json": {
       "model_id": "b3005c63e0044b7eba72e4c5fe62bd61",
       "version_major": 2,
       "version_minor": 0
      },
      "text/plain": [
       "  0%|          | 0/74 [00:00<?, ?it/s]"
      ]
     },
     "metadata": {},
     "output_type": "display_data"
    },
    {
     "name": "stdout",
     "output_type": "stream",
     "text": [
      "num_classes: 1 acc: 34.53257018261107\n"
     ]
    },
    {
     "data": {
      "application/vnd.jupyter.widget-view+json": {
       "model_id": "982c036233e14b91b17a5b0e4e684b1b",
       "version_major": 2,
       "version_minor": 0
      },
      "text/plain": [
       "  0%|          | 0/1 [00:00<?, ?it/s]"
      ]
     },
     "metadata": {},
     "output_type": "display_data"
    },
    {
     "name": "stdout",
     "output_type": "stream",
     "text": [
      "Done\n"
     ]
    },
    {
     "data": {
      "application/vnd.jupyter.widget-view+json": {
       "model_id": "201e3e71f3884fd6a8d33b1a887f0ec7",
       "version_major": 2,
       "version_minor": 0
      },
      "text/plain": [
       "  0%|          | 0/74 [00:00<?, ?it/s]"
      ]
     },
     "metadata": {},
     "output_type": "display_data"
    },
    {
     "name": "stdout",
     "output_type": "stream",
     "text": [
      "num_classes: 1 acc: 31.398201144726084\n"
     ]
    },
    {
     "data": {
      "application/vnd.jupyter.widget-view+json": {
       "model_id": "fcee19bd1f2d4a56b839d40341124c11",
       "version_major": 2,
       "version_minor": 0
      },
      "text/plain": [
       "  0%|          | 0/1 [00:00<?, ?it/s]"
      ]
     },
     "metadata": {},
     "output_type": "display_data"
    },
    {
     "name": "stdout",
     "output_type": "stream",
     "text": [
      "Done\n"
     ]
    },
    {
     "data": {
      "application/vnd.jupyter.widget-view+json": {
       "model_id": "3e4058329fe94f3eb0c9a852f8f67f29",
       "version_major": 2,
       "version_minor": 0
      },
      "text/plain": [
       "  0%|          | 0/74 [00:00<?, ?it/s]"
      ]
     },
     "metadata": {},
     "output_type": "display_data"
    },
    {
     "name": "stdout",
     "output_type": "stream",
     "text": [
      "num_classes: 1 acc: 30.14445352957209\n",
      "(33.022621967838646, 3.590252274606192)\n"
     ]
    },
    {
     "data": {
      "application/vnd.jupyter.widget-view+json": {
       "model_id": "c738cc7edf2a46ccaa35fa06cb407f76",
       "version_major": 2,
       "version_minor": 0
      },
      "text/plain": [
       "  0%|          | 0/2 [00:00<?, ?it/s]"
      ]
     },
     "metadata": {},
     "output_type": "display_data"
    },
    {
     "name": "stdout",
     "output_type": "stream",
     "text": [
      "Done\n"
     ]
    },
    {
     "data": {
      "application/vnd.jupyter.widget-view+json": {
       "model_id": "ddc39555e0c5469abab730a4cf3a5d05",
       "version_major": 2,
       "version_minor": 0
      },
      "text/plain": [
       "  0%|          | 0/74 [00:00<?, ?it/s]"
      ]
     },
     "metadata": {},
     "output_type": "display_data"
    },
    {
     "name": "stdout",
     "output_type": "stream",
     "text": [
      "num_classes: 2 acc: 39.41128372853638\n"
     ]
    },
    {
     "data": {
      "application/vnd.jupyter.widget-view+json": {
       "model_id": "7b72e0843bba4e54b6cffa1f59121b21",
       "version_major": 2,
       "version_minor": 0
      },
      "text/plain": [
       "  0%|          | 0/2 [00:00<?, ?it/s]"
      ]
     },
     "metadata": {},
     "output_type": "display_data"
    },
    {
     "name": "stdout",
     "output_type": "stream",
     "text": [
      "Done\n"
     ]
    },
    {
     "data": {
      "application/vnd.jupyter.widget-view+json": {
       "model_id": "877bb61e526443c486cb21b01e471935",
       "version_major": 2,
       "version_minor": 0
      },
      "text/plain": [
       "  0%|          | 0/74 [00:00<?, ?it/s]"
      ]
     },
     "metadata": {},
     "output_type": "display_data"
    },
    {
     "name": "stdout",
     "output_type": "stream",
     "text": [
      "num_classes: 2 acc: 41.64622512946307\n"
     ]
    },
    {
     "data": {
      "application/vnd.jupyter.widget-view+json": {
       "model_id": "965ac3cb40d14212ab8e31ce8a6f951e",
       "version_major": 2,
       "version_minor": 0
      },
      "text/plain": [
       "  0%|          | 0/2 [00:00<?, ?it/s]"
      ]
     },
     "metadata": {},
     "output_type": "display_data"
    },
    {
     "name": "stdout",
     "output_type": "stream",
     "text": [
      "Done\n"
     ]
    },
    {
     "data": {
      "application/vnd.jupyter.widget-view+json": {
       "model_id": "ef1bdaf0b6c24915bc9733550686b726",
       "version_major": 2,
       "version_minor": 0
      },
      "text/plain": [
       "  0%|          | 0/74 [00:00<?, ?it/s]"
      ]
     },
     "metadata": {},
     "output_type": "display_data"
    },
    {
     "name": "stdout",
     "output_type": "stream",
     "text": [
      "num_classes: 2 acc: 40.36522213137095\n"
     ]
    },
    {
     "data": {
      "application/vnd.jupyter.widget-view+json": {
       "model_id": "8a6e16d1bcea4b11a36ea9092fc258d2",
       "version_major": 2,
       "version_minor": 0
      },
      "text/plain": [
       "  0%|          | 0/2 [00:00<?, ?it/s]"
      ]
     },
     "metadata": {},
     "output_type": "display_data"
    },
    {
     "name": "stdout",
     "output_type": "stream",
     "text": [
      "Done\n"
     ]
    },
    {
     "data": {
      "application/vnd.jupyter.widget-view+json": {
       "model_id": "f555efb95079495a9afcd3d8716f06f9",
       "version_major": 2,
       "version_minor": 0
      },
      "text/plain": [
       "  0%|          | 0/74 [00:00<?, ?it/s]"
      ]
     },
     "metadata": {},
     "output_type": "display_data"
    },
    {
     "name": "stdout",
     "output_type": "stream",
     "text": [
      "num_classes: 2 acc: 42.109566639411284\n"
     ]
    },
    {
     "data": {
      "application/vnd.jupyter.widget-view+json": {
       "model_id": "3f8e398d90824dce9067a502e32f46d0",
       "version_major": 2,
       "version_minor": 0
      },
      "text/plain": [
       "  0%|          | 0/2 [00:00<?, ?it/s]"
      ]
     },
     "metadata": {},
     "output_type": "display_data"
    },
    {
     "name": "stdout",
     "output_type": "stream",
     "text": [
      "Done\n"
     ]
    },
    {
     "data": {
      "application/vnd.jupyter.widget-view+json": {
       "model_id": "d198216c12c4447d959f70677ed41116",
       "version_major": 2,
       "version_minor": 0
      },
      "text/plain": [
       "  0%|          | 0/74 [00:00<?, ?it/s]"
      ]
     },
     "metadata": {},
     "output_type": "display_data"
    },
    {
     "name": "stdout",
     "output_type": "stream",
     "text": [
      "num_classes: 2 acc: 40.174434450804036\n",
      "(40.74134641591714, 0.9845514944366418)\n"
     ]
    },
    {
     "data": {
      "application/vnd.jupyter.widget-view+json": {
       "model_id": "90fefd89fb2b45a8a9afffe46dea9c51",
       "version_major": 2,
       "version_minor": 0
      },
      "text/plain": [
       "  0%|          | 0/3 [00:00<?, ?it/s]"
      ]
     },
     "metadata": {},
     "output_type": "display_data"
    },
    {
     "name": "stdout",
     "output_type": "stream",
     "text": [
      "Done\n"
     ]
    },
    {
     "data": {
      "application/vnd.jupyter.widget-view+json": {
       "model_id": "a3d1660202d94e07a7c4429ead5d1b21",
       "version_major": 2,
       "version_minor": 0
      },
      "text/plain": [
       "  0%|          | 0/74 [00:00<?, ?it/s]"
      ]
     },
     "metadata": {},
     "output_type": "display_data"
    },
    {
     "name": "stdout",
     "output_type": "stream",
     "text": [
      "num_classes: 4 acc: 49.277732352139545\n"
     ]
    },
    {
     "data": {
      "application/vnd.jupyter.widget-view+json": {
       "model_id": "e669066ac468412e9fcff6af6f49263b",
       "version_major": 2,
       "version_minor": 0
      },
      "text/plain": [
       "  0%|          | 0/3 [00:00<?, ?it/s]"
      ]
     },
     "metadata": {},
     "output_type": "display_data"
    },
    {
     "name": "stdout",
     "output_type": "stream",
     "text": [
      "Done\n"
     ]
    },
    {
     "data": {
      "application/vnd.jupyter.widget-view+json": {
       "model_id": "ff4add99e0914dceb2d055700add24a8",
       "version_major": 2,
       "version_minor": 0
      },
      "text/plain": [
       "  0%|          | 0/74 [00:00<?, ?it/s]"
      ]
     },
     "metadata": {},
     "output_type": "display_data"
    },
    {
     "name": "stdout",
     "output_type": "stream",
     "text": [
      "num_classes: 4 acc: 47.47887707822295\n"
     ]
    },
    {
     "data": {
      "application/vnd.jupyter.widget-view+json": {
       "model_id": "fc0741a6575f43ecba019f5bc5d06608",
       "version_major": 2,
       "version_minor": 0
      },
      "text/plain": [
       "  0%|          | 0/3 [00:00<?, ?it/s]"
      ]
     },
     "metadata": {},
     "output_type": "display_data"
    },
    {
     "name": "stdout",
     "output_type": "stream",
     "text": [
      "Done\n"
     ]
    },
    {
     "data": {
      "application/vnd.jupyter.widget-view+json": {
       "model_id": "9ca3a41f0c9640a0bb464c8a3cca9384",
       "version_major": 2,
       "version_minor": 0
      },
      "text/plain": [
       "  0%|          | 0/74 [00:00<?, ?it/s]"
      ]
     },
     "metadata": {},
     "output_type": "display_data"
    },
    {
     "name": "stdout",
     "output_type": "stream",
     "text": [
      "num_classes: 4 acc: 46.22512946306895\n"
     ]
    },
    {
     "data": {
      "application/vnd.jupyter.widget-view+json": {
       "model_id": "495d116abdd24f7b8c7479ef6ce553e0",
       "version_major": 2,
       "version_minor": 0
      },
      "text/plain": [
       "  0%|          | 0/3 [00:00<?, ?it/s]"
      ]
     },
     "metadata": {},
     "output_type": "display_data"
    },
    {
     "name": "stdout",
     "output_type": "stream",
     "text": [
      "Done\n"
     ]
    },
    {
     "data": {
      "application/vnd.jupyter.widget-view+json": {
       "model_id": "9db6ab5b42874e0d8c8430df3c437375",
       "version_major": 2,
       "version_minor": 0
      },
      "text/plain": [
       "  0%|          | 0/74 [00:00<?, ?it/s]"
      ]
     },
     "metadata": {},
     "output_type": "display_data"
    },
    {
     "name": "stdout",
     "output_type": "stream",
     "text": [
      "num_classes: 4 acc: 52.357590624148266\n"
     ]
    },
    {
     "data": {
      "application/vnd.jupyter.widget-view+json": {
       "model_id": "34ca1f5486a544d6b96d4652a45531c3",
       "version_major": 2,
       "version_minor": 0
      },
      "text/plain": [
       "  0%|          | 0/3 [00:00<?, ?it/s]"
      ]
     },
     "metadata": {},
     "output_type": "display_data"
    },
    {
     "name": "stdout",
     "output_type": "stream",
     "text": [
      "Done\n"
     ]
    },
    {
     "data": {
      "application/vnd.jupyter.widget-view+json": {
       "model_id": "b5310debb76c4710bad82637aed2bd1f",
       "version_major": 2,
       "version_minor": 0
      },
      "text/plain": [
       "  0%|          | 0/74 [00:00<?, ?it/s]"
      ]
     },
     "metadata": {},
     "output_type": "display_data"
    },
    {
     "name": "stdout",
     "output_type": "stream",
     "text": [
      "num_classes: 4 acc: 44.48078495502862\n",
      "(47.96402289452166, 7.284266661199242)\n"
     ]
    },
    {
     "data": {
      "application/vnd.jupyter.widget-view+json": {
       "model_id": "585e7bc92eed41a7bf5e2ff90fb9a942",
       "version_major": 2,
       "version_minor": 0
      },
      "text/plain": [
       "  0%|          | 0/6 [00:00<?, ?it/s]"
      ]
     },
     "metadata": {},
     "output_type": "display_data"
    },
    {
     "name": "stdout",
     "output_type": "stream",
     "text": [
      "Done\n"
     ]
    },
    {
     "data": {
      "application/vnd.jupyter.widget-view+json": {
       "model_id": "a05db1d2acf7400dab0d11a0783c440c",
       "version_major": 2,
       "version_minor": 0
      },
      "text/plain": [
       "  0%|          | 0/74 [00:00<?, ?it/s]"
      ]
     },
     "metadata": {},
     "output_type": "display_data"
    },
    {
     "name": "stdout",
     "output_type": "stream",
     "text": [
      "num_classes: 8 acc: 58.926137912237664\n"
     ]
    },
    {
     "data": {
      "application/vnd.jupyter.widget-view+json": {
       "model_id": "4de805553b484e42bc2cd47c922e3d5f",
       "version_major": 2,
       "version_minor": 0
      },
      "text/plain": [
       "  0%|          | 0/6 [00:00<?, ?it/s]"
      ]
     },
     "metadata": {},
     "output_type": "display_data"
    },
    {
     "name": "stdout",
     "output_type": "stream",
     "text": [
      "Done\n"
     ]
    },
    {
     "data": {
      "application/vnd.jupyter.widget-view+json": {
       "model_id": "e2f88407a6dd4727a8c6f3e87b978d8b",
       "version_major": 2,
       "version_minor": 0
      },
      "text/plain": [
       "  0%|          | 0/74 [00:00<?, ?it/s]"
      ]
     },
     "metadata": {},
     "output_type": "display_data"
    },
    {
     "name": "stdout",
     "output_type": "stream",
     "text": [
      "num_classes: 8 acc: 51.94875988007631\n"
     ]
    },
    {
     "data": {
      "application/vnd.jupyter.widget-view+json": {
       "model_id": "e97f70879b6644798377fb97b584c802",
       "version_major": 2,
       "version_minor": 0
      },
      "text/plain": [
       "  0%|          | 0/6 [00:00<?, ?it/s]"
      ]
     },
     "metadata": {},
     "output_type": "display_data"
    },
    {
     "name": "stdout",
     "output_type": "stream",
     "text": [
      "Done\n"
     ]
    },
    {
     "data": {
      "application/vnd.jupyter.widget-view+json": {
       "model_id": "53908ca418634351807515195086b472",
       "version_major": 2,
       "version_minor": 0
      },
      "text/plain": [
       "  0%|          | 0/74 [00:00<?, ?it/s]"
      ]
     },
     "metadata": {},
     "output_type": "display_data"
    },
    {
     "name": "stdout",
     "output_type": "stream",
     "text": [
      "num_classes: 8 acc: 57.72690106295993\n"
     ]
    },
    {
     "data": {
      "application/vnd.jupyter.widget-view+json": {
       "model_id": "5b0f3e24ff9f43de8d218e23f869060b",
       "version_major": 2,
       "version_minor": 0
      },
      "text/plain": [
       "  0%|          | 0/6 [00:00<?, ?it/s]"
      ]
     },
     "metadata": {},
     "output_type": "display_data"
    },
    {
     "name": "stdout",
     "output_type": "stream",
     "text": [
      "Done\n"
     ]
    },
    {
     "data": {
      "application/vnd.jupyter.widget-view+json": {
       "model_id": "e8c5557a9dc045c1a33dc434665d2e3a",
       "version_major": 2,
       "version_minor": 0
      },
      "text/plain": [
       "  0%|          | 0/74 [00:00<?, ?it/s]"
      ]
     },
     "metadata": {},
     "output_type": "display_data"
    },
    {
     "name": "stdout",
     "output_type": "stream",
     "text": [
      "num_classes: 8 acc: 56.90923957481603\n"
     ]
    },
    {
     "data": {
      "application/vnd.jupyter.widget-view+json": {
       "model_id": "3c1956ea95e847de851cf83950c3ae8c",
       "version_major": 2,
       "version_minor": 0
      },
      "text/plain": [
       "  0%|          | 0/6 [00:00<?, ?it/s]"
      ]
     },
     "metadata": {},
     "output_type": "display_data"
    },
    {
     "name": "stdout",
     "output_type": "stream",
     "text": [
      "Done\n"
     ]
    },
    {
     "data": {
      "application/vnd.jupyter.widget-view+json": {
       "model_id": "ed89990bad084d96be44936d54a4c2ea",
       "version_major": 2,
       "version_minor": 0
      },
      "text/plain": [
       "  0%|          | 0/74 [00:00<?, ?it/s]"
      ]
     },
     "metadata": {},
     "output_type": "display_data"
    },
    {
     "name": "stdout",
     "output_type": "stream",
     "text": [
      "num_classes: 8 acc: 55.46470427909512\n",
      "(56.195148541837014, 5.77597204365824)\n"
     ]
    },
    {
     "data": {
      "application/vnd.jupyter.widget-view+json": {
       "model_id": "d8469cec8a5a4d75994f2cc58f3c6020",
       "version_major": 2,
       "version_minor": 0
      },
      "text/plain": [
       "  0%|          | 0/12 [00:00<?, ?it/s]"
      ]
     },
     "metadata": {},
     "output_type": "display_data"
    },
    {
     "name": "stdout",
     "output_type": "stream",
     "text": [
      "Done\n"
     ]
    },
    {
     "data": {
      "application/vnd.jupyter.widget-view+json": {
       "model_id": "c9dc6a1bb2a34be2aa9081fb142052d6",
       "version_major": 2,
       "version_minor": 0
      },
      "text/plain": [
       "  0%|          | 0/74 [00:00<?, ?it/s]"
      ]
     },
     "metadata": {},
     "output_type": "display_data"
    },
    {
     "name": "stdout",
     "output_type": "stream",
     "text": [
      "num_classes: 16 acc: 60.42518397383483\n"
     ]
    },
    {
     "data": {
      "application/vnd.jupyter.widget-view+json": {
       "model_id": "4200ef0895754a7c90f5b9debfc9ec53",
       "version_major": 2,
       "version_minor": 0
      },
      "text/plain": [
       "  0%|          | 0/12 [00:00<?, ?it/s]"
      ]
     },
     "metadata": {},
     "output_type": "display_data"
    },
    {
     "name": "stdout",
     "output_type": "stream",
     "text": [
      "Done\n"
     ]
    },
    {
     "data": {
      "application/vnd.jupyter.widget-view+json": {
       "model_id": "20fd0e6647314c17a6b34185f00cc74c",
       "version_major": 2,
       "version_minor": 0
      },
      "text/plain": [
       "  0%|          | 0/74 [00:00<?, ?it/s]"
      ]
     },
     "metadata": {},
     "output_type": "display_data"
    },
    {
     "name": "stdout",
     "output_type": "stream",
     "text": [
      "num_classes: 16 acc: 62.74189152357591\n"
     ]
    },
    {
     "data": {
      "application/vnd.jupyter.widget-view+json": {
       "model_id": "59a380c4a50f451e91c2e8e8859624f2",
       "version_major": 2,
       "version_minor": 0
      },
      "text/plain": [
       "  0%|          | 0/12 [00:00<?, ?it/s]"
      ]
     },
     "metadata": {},
     "output_type": "display_data"
    },
    {
     "name": "stdout",
     "output_type": "stream",
     "text": [
      "Done\n"
     ]
    },
    {
     "data": {
      "application/vnd.jupyter.widget-view+json": {
       "model_id": "a83b7c8ebc954b6c87885e2f0ab1cd5e",
       "version_major": 2,
       "version_minor": 0
      },
      "text/plain": [
       "  0%|          | 0/74 [00:00<?, ?it/s]"
      ]
     },
     "metadata": {},
     "output_type": "display_data"
    },
    {
     "name": "stdout",
     "output_type": "stream",
     "text": [
      "num_classes: 16 acc: 64.43172526573998\n"
     ]
    },
    {
     "data": {
      "application/vnd.jupyter.widget-view+json": {
       "model_id": "5af2fce765cc4ff0909b113085fa6c4e",
       "version_major": 2,
       "version_minor": 0
      },
      "text/plain": [
       "  0%|          | 0/12 [00:00<?, ?it/s]"
      ]
     },
     "metadata": {},
     "output_type": "display_data"
    },
    {
     "name": "stdout",
     "output_type": "stream",
     "text": [
      "Done\n"
     ]
    },
    {
     "data": {
      "application/vnd.jupyter.widget-view+json": {
       "model_id": "e89479e759d74b39862b7280fdaab880",
       "version_major": 2,
       "version_minor": 0
      },
      "text/plain": [
       "  0%|          | 0/74 [00:00<?, ?it/s]"
      ]
     },
     "metadata": {},
     "output_type": "display_data"
    },
    {
     "name": "stdout",
     "output_type": "stream",
     "text": [
      "num_classes: 16 acc: 63.58680839465794\n"
     ]
    },
    {
     "data": {
      "application/vnd.jupyter.widget-view+json": {
       "model_id": "8186e2690e1a4085808df250decfc971",
       "version_major": 2,
       "version_minor": 0
      },
      "text/plain": [
       "  0%|          | 0/12 [00:00<?, ?it/s]"
      ]
     },
     "metadata": {},
     "output_type": "display_data"
    },
    {
     "name": "stdout",
     "output_type": "stream",
     "text": [
      "Done\n"
     ]
    },
    {
     "data": {
      "application/vnd.jupyter.widget-view+json": {
       "model_id": "8fad11dbfaf94cd5b45d9da8fd23cdf5",
       "version_major": 2,
       "version_minor": 0
      },
      "text/plain": [
       "  0%|          | 0/74 [00:00<?, ?it/s]"
      ]
     },
     "metadata": {},
     "output_type": "display_data"
    },
    {
     "name": "stdout",
     "output_type": "stream",
     "text": [
      "num_classes: 16 acc: 58.95339329517579\n",
      "(62.027800490596896, 4.147929055181648)\n"
     ]
    },
    {
     "data": {
      "application/vnd.jupyter.widget-view+json": {
       "model_id": "aaa95332f2a24c69b80e3254f55a7a9a",
       "version_major": 2,
       "version_minor": 0
      },
      "text/plain": [
       "  0%|          | 0/37 [00:00<?, ?it/s]"
      ]
     },
     "metadata": {},
     "output_type": "display_data"
    },
    {
     "name": "stdout",
     "output_type": "stream",
     "text": [
      "Done\n"
     ]
    },
    {
     "data": {
      "application/vnd.jupyter.widget-view+json": {
       "model_id": "0a7f1599c1164532a6a8f0249a5fffe0",
       "version_major": 2,
       "version_minor": 0
      },
      "text/plain": [
       "  0%|          | 0/74 [00:00<?, ?it/s]"
      ]
     },
     "metadata": {},
     "output_type": "display_data"
    },
    {
     "name": "stdout",
     "output_type": "stream",
     "text": [
      "num_classes: -1 acc: 68.81984191877896\n"
     ]
    },
    {
     "data": {
      "application/vnd.jupyter.widget-view+json": {
       "model_id": "3c31a082b1dd4b27999d46ec46243c75",
       "version_major": 2,
       "version_minor": 0
      },
      "text/plain": [
       "  0%|          | 0/37 [00:00<?, ?it/s]"
      ]
     },
     "metadata": {},
     "output_type": "display_data"
    },
    {
     "name": "stdout",
     "output_type": "stream",
     "text": [
      "Done\n"
     ]
    },
    {
     "data": {
      "application/vnd.jupyter.widget-view+json": {
       "model_id": "ddf59d2131534702bdcd4340ad1f0e52",
       "version_major": 2,
       "version_minor": 0
      },
      "text/plain": [
       "  0%|          | 0/74 [00:00<?, ?it/s]"
      ]
     },
     "metadata": {},
     "output_type": "display_data"
    },
    {
     "name": "stdout",
     "output_type": "stream",
     "text": [
      "num_classes: -1 acc: 68.81984191877896\n"
     ]
    },
    {
     "data": {
      "application/vnd.jupyter.widget-view+json": {
       "model_id": "e5b36f3a7ce44f818f64180a7eac3390",
       "version_major": 2,
       "version_minor": 0
      },
      "text/plain": [
       "  0%|          | 0/37 [00:00<?, ?it/s]"
      ]
     },
     "metadata": {},
     "output_type": "display_data"
    },
    {
     "name": "stdout",
     "output_type": "stream",
     "text": [
      "Done\n"
     ]
    },
    {
     "data": {
      "application/vnd.jupyter.widget-view+json": {
       "model_id": "18181c0d981e4b0e8c09e6735244f5b3",
       "version_major": 2,
       "version_minor": 0
      },
      "text/plain": [
       "  0%|          | 0/74 [00:00<?, ?it/s]"
      ]
     },
     "metadata": {},
     "output_type": "display_data"
    },
    {
     "name": "stdout",
     "output_type": "stream",
     "text": [
      "num_classes: -1 acc: 68.81984191877896\n"
     ]
    },
    {
     "data": {
      "application/vnd.jupyter.widget-view+json": {
       "model_id": "7b3cc515a2444b45bd58d2234453c54e",
       "version_major": 2,
       "version_minor": 0
      },
      "text/plain": [
       "  0%|          | 0/37 [00:00<?, ?it/s]"
      ]
     },
     "metadata": {},
     "output_type": "display_data"
    },
    {
     "name": "stdout",
     "output_type": "stream",
     "text": [
      "Done\n"
     ]
    },
    {
     "data": {
      "application/vnd.jupyter.widget-view+json": {
       "model_id": "c06cbbb5c551488a980eab06c65d9a04",
       "version_major": 2,
       "version_minor": 0
      },
      "text/plain": [
       "  0%|          | 0/74 [00:00<?, ?it/s]"
      ]
     },
     "metadata": {},
     "output_type": "display_data"
    },
    {
     "name": "stdout",
     "output_type": "stream",
     "text": [
      "num_classes: -1 acc: 68.81984191877896\n"
     ]
    },
    {
     "data": {
      "application/vnd.jupyter.widget-view+json": {
       "model_id": "6de40b2001b241d0b9a93acd05caa11f",
       "version_major": 2,
       "version_minor": 0
      },
      "text/plain": [
       "  0%|          | 0/37 [00:00<?, ?it/s]"
      ]
     },
     "metadata": {},
     "output_type": "display_data"
    },
    {
     "name": "stdout",
     "output_type": "stream",
     "text": [
      "Done\n"
     ]
    },
    {
     "data": {
      "application/vnd.jupyter.widget-view+json": {
       "model_id": "4b5f1a7b179f4c5780136591a86c1842",
       "version_major": 2,
       "version_minor": 0
      },
      "text/plain": [
       "  0%|          | 0/74 [00:00<?, ?it/s]"
      ]
     },
     "metadata": {},
     "output_type": "display_data"
    },
    {
     "name": "stdout",
     "output_type": "stream",
     "text": [
      "num_classes: -1 acc: 68.81984191877896\n",
      "(68.81984191877896, 0.0)\n"
     ]
    }
   ],
   "source": [
    "# get zs weights \n",
    "for nc in [1,2,4,8,16,-1]:\n",
    "    \n",
    "    out = []\n",
    "    # train_loader, _ = dataset_obj.get_train_loaders(transform_fn=clip_preprocess, num_elements_per_class=nc, shuffle=False)\n",
    "    # train_featuress, train_labelss = get_clip_features(train_loader)\n",
    "    for _ in range(iters):\n",
    "        train_loader, _ = dataset_obj.get_train_loaders(transform_fn=clip_preprocess, num_elements_per_class=nc)\n",
    "        train_features, train_labels = get_clip_features(train_loader)\n",
    "        train_features /= train_features.norm(dim=-1, keepdim=True)\n",
    "        for _ in range(1):\n",
    "            embeddings = []\n",
    "            for c in range(len(classes)):\n",
    "                ind = (c == train_labels).nonzero(as_tuple=True)[0]\n",
    "                embeddings.append(torch.mean(train_features[ind],dim=0))\n",
    "#                 embeddings.append(np.mean(train_features[ind].cpu().numpy(), 0))\n",
    "\n",
    "#             zeroshot_weights = torch.from_numpy(np.array(embeddings).T).to(torch.float16)\n",
    "            \n",
    "            zeroshot_weights = torch.stack(embeddings).squeeze(1)\n",
    "            print(\"Done\")\n",
    "\n",
    "\n",
    "            # lazy load\n",
    "            if clip_model == None:\n",
    "                clip_model, clip_preprocess = clip.load(clip_model_name, device)\n",
    "\n",
    "            with torch.no_grad():\n",
    "                top1, top5, n = 0.0, 0.0, 0.0\n",
    "                for i, (images, target) in enumerate(tqdm(test_loader)):\n",
    "                    images = images.cuda()\n",
    "                    target = target.cuda()\n",
    "\n",
    "                    # predict\n",
    "\n",
    "                    image_features = clip_model.encode_image(images)\n",
    "                    image_features /= image_features.norm(dim=-1, keepdim=True)\n",
    "                    logits = 100.0 * image_features.to(device) @ zeroshot_weights.to(device).T\n",
    "\n",
    "                    # measure accuracy\n",
    "                    acc1, _ = accuracy(logits, target, topk=(1, 5))\n",
    "                    top1 += acc1\n",
    "                    n += images.size(0)\n",
    "\n",
    "            top1 = (top1 / n) * 100\n",
    "            out.append(top1)\n",
    "            print(\"num_classes:\", nc, \"acc:\", top1)\n",
    "    print(get_stats(out))"
   ]
  },
  {
   "cell_type": "markdown",
   "id": "d454d7b5",
   "metadata": {},
   "source": [
    "### Nearest Embeddings"
   ]
  },
  {
   "cell_type": "code",
   "execution_count": 13,
   "id": "bf6b45ea",
   "metadata": {},
   "outputs": [
    {
     "data": {
      "application/vnd.jupyter.widget-view+json": {
       "model_id": "ac6e68799f274c7191c5da7cf76ca18f",
       "version_major": 2,
       "version_minor": 0
      },
      "text/plain": [
       "  0%|          | 0/37 [00:00<?, ?it/s]"
      ]
     },
     "metadata": {},
     "output_type": "display_data"
    },
    {
     "data": {
      "application/vnd.jupyter.widget-view+json": {
       "model_id": "377b0c2e888740ddbb5c6cdf65268c9a",
       "version_major": 2,
       "version_minor": 0
      },
      "text/plain": [
       "  0%|          | 0/74 [00:00<?, ?it/s]"
      ]
     },
     "metadata": {},
     "output_type": "display_data"
    },
    {
     "name": "stdout",
     "output_type": "stream",
     "text": [
      "acc: 68.2202234941401\n"
     ]
    },
    {
     "data": {
      "application/vnd.jupyter.widget-view+json": {
       "model_id": "0a06bfc1c5da44498db108234e81e73d",
       "version_major": 2,
       "version_minor": 0
      },
      "text/plain": [
       "  0%|          | 0/37 [00:00<?, ?it/s]"
      ]
     },
     "metadata": {},
     "output_type": "display_data"
    },
    {
     "data": {
      "application/vnd.jupyter.widget-view+json": {
       "model_id": "5b424e0c8a2b46a28536992beb3aa490",
       "version_major": 2,
       "version_minor": 0
      },
      "text/plain": [
       "  0%|          | 0/74 [00:00<?, ?it/s]"
      ]
     },
     "metadata": {},
     "output_type": "display_data"
    },
    {
     "name": "stdout",
     "output_type": "stream",
     "text": [
      "acc: 68.2202234941401\n"
     ]
    },
    {
     "data": {
      "application/vnd.jupyter.widget-view+json": {
       "model_id": "22dcbdc7da0f482e9a36d217c9114ed7",
       "version_major": 2,
       "version_minor": 0
      },
      "text/plain": [
       "  0%|          | 0/37 [00:00<?, ?it/s]"
      ]
     },
     "metadata": {},
     "output_type": "display_data"
    },
    {
     "data": {
      "application/vnd.jupyter.widget-view+json": {
       "model_id": "94f9202d164140fa9d5666f5a00ab713",
       "version_major": 2,
       "version_minor": 0
      },
      "text/plain": [
       "  0%|          | 0/74 [00:00<?, ?it/s]"
      ]
     },
     "metadata": {},
     "output_type": "display_data"
    },
    {
     "name": "stdout",
     "output_type": "stream",
     "text": [
      "acc: 68.2202234941401\n"
     ]
    },
    {
     "data": {
      "application/vnd.jupyter.widget-view+json": {
       "model_id": "e1511b4966204d6dacc48b12b70bda36",
       "version_major": 2,
       "version_minor": 0
      },
      "text/plain": [
       "  0%|          | 0/37 [00:00<?, ?it/s]"
      ]
     },
     "metadata": {},
     "output_type": "display_data"
    },
    {
     "data": {
      "application/vnd.jupyter.widget-view+json": {
       "model_id": "618baa62238e43e1bbe0d470c52be104",
       "version_major": 2,
       "version_minor": 0
      },
      "text/plain": [
       "  0%|          | 0/74 [00:00<?, ?it/s]"
      ]
     },
     "metadata": {},
     "output_type": "display_data"
    },
    {
     "name": "stdout",
     "output_type": "stream",
     "text": [
      "acc: 68.2202234941401\n"
     ]
    },
    {
     "data": {
      "application/vnd.jupyter.widget-view+json": {
       "model_id": "4a85ec3d7b6e43c08eeaef2aa8077037",
       "version_major": 2,
       "version_minor": 0
      },
      "text/plain": [
       "  0%|          | 0/37 [00:00<?, ?it/s]"
      ]
     },
     "metadata": {},
     "output_type": "display_data"
    },
    {
     "data": {
      "application/vnd.jupyter.widget-view+json": {
       "model_id": "844d1221358f43d8bd63945dd2f6e49e",
       "version_major": 2,
       "version_minor": 0
      },
      "text/plain": [
       "  0%|          | 0/74 [00:00<?, ?it/s]"
      ]
     },
     "metadata": {},
     "output_type": "display_data"
    },
    {
     "name": "stdout",
     "output_type": "stream",
     "text": [
      "acc: 68.2202234941401\n"
     ]
    },
    {
     "data": {
      "text/plain": [
       "(68.2202234941401, 0.0)"
      ]
     },
     "execution_count": 13,
     "metadata": {},
     "output_type": "execute_result"
    }
   ],
   "source": [
    "final = []\n",
    "\n",
    "for _ in range(iters):\n",
    "    # Normalize all the training embeddings\n",
    "    train_loader, _ = dataset_obj.get_train_loaders(transform_fn=clip_preprocess)\n",
    "    train_features, train_labels = get_clip_features(train_loader)\n",
    "    train_features /= train_features.norm(dim=-1, keepdim=True)\n",
    "\n",
    "    # lazy load\n",
    "    if clip_model == None:\n",
    "        clip_model, clip_preprocess = clip.load(clip_model_name, device)\n",
    "\n",
    "    with torch.no_grad():\n",
    "        top1, n = 0.0, 0.0\n",
    "        for i, (images, targets) in enumerate(tqdm(test_loader)):\n",
    "            images = images.cuda()\n",
    "            targets = targets.cuda()\n",
    "\n",
    "            # Load and normalize image features\n",
    "            image_features = clip_model.encode_image(images)\n",
    "            image_features /= image_features.norm(dim=-1, keepdim=True)\n",
    "\n",
    "            for image_feature, target in zip(image_features,targets):\n",
    "                # Dot product image feature with train features, find the maximum dot product(closest vector)\n",
    "                out = (image_feature @ train_features.t()).argmax(dim=-1)\n",
    "                closest = out.cpu().numpy()\n",
    "                prediction = train_labels[closest].cpu().numpy()\n",
    "\n",
    "                if target.cpu().numpy() == prediction:\n",
    "                    top1 +=1\n",
    "                n+=1\n",
    "\n",
    "    top1 = (top1 / n) * 100\n",
    "    final.append(top1)\n",
    "    print(\"acc:\", top1)\n",
    "\n",
    "get_stats(final)"
   ]
  },
  {
   "cell_type": "markdown",
   "id": "ccfe81d6",
   "metadata": {},
   "source": [
    "### Average Text and Image Embeddings"
   ]
  },
  {
   "cell_type": "code",
   "execution_count": 19,
   "id": "465bdda3",
   "metadata": {
    "scrolled": false
   },
   "outputs": [
    {
     "data": {
      "application/vnd.jupyter.widget-view+json": {
       "model_id": "6584da8e40354b4cb92642b9b6d69158",
       "version_major": 2,
       "version_minor": 0
      },
      "text/plain": [
       "  0%|          | 0/132 [00:00<?, ?it/s]"
      ]
     },
     "metadata": {},
     "output_type": "display_data"
    },
    {
     "data": {
      "application/vnd.jupyter.widget-view+json": {
       "model_id": "85ab37dd1f114789b953b52b2fa3e577",
       "version_major": 2,
       "version_minor": 0
      },
      "text/plain": [
       "  0%|          | 0/17 [00:00<?, ?it/s]"
      ]
     },
     "metadata": {},
     "output_type": "display_data"
    },
    {
     "name": "stdout",
     "output_type": "stream",
     "text": [
      "num_classes: -1 acc: 76.67887667887669\n",
      "(76.67887667887669, 0.0)\n"
     ]
    }
   ],
   "source": [
    "text_clip_features = get_text_clip_features(classes)\n",
    "for nc in [-1]:\n",
    "    \n",
    "    final = []\n",
    "    for _ in range(iters):\n",
    "        train_loader, _ = dataset_obj.get_train_loaders(transform_fn=clip_preprocess, num_elements_per_class=nc)\n",
    "        train_features, train_labels = get_clip_features(train_loader)\n",
    "        train_features /= train_features.norm(dim=-1, keepdim=True)\n",
    "        for _ in range(1):\n",
    "            embeddings = []\n",
    "            for c in range(len(classes)):\n",
    "                ind = (c == train_labels).nonzero(as_tuple=True)[0]\n",
    "                image_embs = torch.mean(train_features[ind],dim=0)\n",
    "                text_embs = text_clip_features[c].squeeze()\n",
    "                avg_emb = 0.5*image_embs + 0.5*text_embs\n",
    "                embeddings.append(avg_emb)\n",
    "            \n",
    "            zeroshot_weights = torch.stack(embeddings).squeeze(1)\n",
    "\n",
    "            # lazy load\n",
    "            if clip_model == None:\n",
    "                clip_model, clip_preprocess = clip.load(clip_model_name, device)\n",
    "\n",
    "            with torch.no_grad():\n",
    "                top1, top5, n = 0.0, 0.0, 0.0\n",
    "                for i, (images, target) in enumerate(tqdm(test_loader)):\n",
    "                    images = images.cuda()\n",
    "                    target = target.cuda()\n",
    "                    image_features = clip_model.encode_image(images)\n",
    "                    image_features /= image_features.norm(dim=-1, keepdim=True)\n",
    "                    # predict\n",
    "                    for image_feature,tar in zip(image_features, target):\n",
    "                        big = []\n",
    "                        for c in range(len(classes)):\n",
    "                            text_embs = text_clip_features[c].squeeze()\n",
    "                            avg_emb = 0.5*image_feature + 0.5*text_embs\n",
    "                            big.append(avg_emb)\n",
    "                        big = torch.stack(big)\n",
    "                        dot = big @ zeroshot_weights.T\n",
    "                        out = np.unravel_index(torch.argmax(dot, axis=None).cpu().numpy(), dot.shape)[1]\n",
    "                        if tar.cpu().numpy() == out:\n",
    "                            top1 +=1\n",
    "                        n+=1\n",
    "\n",
    "\n",
    "\n",
    "            top1 = (top1 / n) * 100\n",
    "            final.append(top1)\n",
    "            print(\"num_classes:\", nc, \"acc:\", top1)\n",
    "    print(get_stats(final))"
   ]
  },
  {
   "cell_type": "code",
   "execution_count": 38,
   "id": "bb4b93b8",
   "metadata": {},
   "outputs": [
    {
     "name": "stdout",
     "output_type": "stream",
     "text": [
      "Files already downloaded and verified\n",
      "Files already downloaded and verified\n"
     ]
    },
    {
     "data": {
      "application/vnd.jupyter.widget-view+json": {
       "model_id": "ff88b093f24945deb9de72111cec1189",
       "version_major": 2,
       "version_minor": 0
      },
      "text/plain": [
       "  0%|          | 0/1000 [00:00<?, ?it/s]"
      ]
     },
     "metadata": {},
     "output_type": "display_data"
    },
    {
     "data": {
      "application/vnd.jupyter.widget-view+json": {
       "model_id": "42e02e83499349b98f794d87345b04f5",
       "version_major": 2,
       "version_minor": 0
      },
      "text/plain": [
       "  0%|          | 0/200 [00:00<?, ?it/s]"
      ]
     },
     "metadata": {},
     "output_type": "display_data"
    },
    {
     "name": "stdout",
     "output_type": "stream",
     "text": [
      "num_classes: -1 acc: 68.11\n",
      "(68.11, 0.0)\n"
     ]
    }
   ],
   "source": [
    "text_clip_features = get_text_clip_features(classes)\n",
    "iters = 1\n",
    "for nc in [-1]:\n",
    "    final = []\n",
    "    for _ in range(iters):\n",
    "        train_loader, _ = dataset_obj.get_train_loaders(transform_fn=clip_preprocess, shuffle=False)\n",
    "        train_features, train_labels = get_clip_features(train_loader)\n",
    "        train_features /= train_features.norm(dim=-1, keepdim=True)\n",
    "        for _ in range(1):\n",
    "            embeddings = []\n",
    "            for c in range(len(classes)):\n",
    "                ind = (c == train_labels).nonzero(as_tuple=True)[0]\n",
    "                image_embs = torch.mean(train_features[ind],dim=0)\n",
    "                text_embs = text_clip_features[c].squeeze()\n",
    "                avg_emb = (image_embs + text_embs)*0.25\n",
    "                embeddings.append(avg_emb)\n",
    "            \n",
    "            zeroshot_weights = torch.stack(embeddings).squeeze(1)\n",
    "\n",
    "            # lazy load\n",
    "            if clip_model == None:\n",
    "                clip_model, clip_preprocess = clip.load(clip_model_name, device)\n",
    "\n",
    "            with torch.no_grad():\n",
    "                top1, top5, n = 0.0, 0.0, 0.0\n",
    "                for i, (images, target) in enumerate(tqdm(test_loader)):\n",
    "                    images = images.cuda()\n",
    "                    target = target.cuda()\n",
    "\n",
    "                    # predict\n",
    "\n",
    "                    image_features = clip_model.encode_image(images)\n",
    "                    image_features /= image_features.norm(dim=-1, keepdim=True)\n",
    "                    logits = 100.0 * image_features.to(device) @ zeroshot_weights.to(device).T\n",
    "\n",
    "                    # measure accuracy\n",
    "                    acc1, _ = accuracy(logits, target, topk=(1, 5))\n",
    "                    top1 += acc1\n",
    "                    n += images.size(0)\n",
    "\n",
    "            top1 = (top1 / n) * 100\n",
    "            final.append(top1)\n",
    "            print(\"num_classes:\", nc, \"acc:\", top1)\n",
    "    print(get_stats(final))"
   ]
  },
  {
   "cell_type": "code",
   "execution_count": 39,
   "id": "6b507497",
   "metadata": {},
   "outputs": [
    {
     "data": {
      "application/vnd.jupyter.widget-view+json": {
       "model_id": "a3f3a23494134679919059adadde58a4",
       "version_major": 2,
       "version_minor": 0
      },
      "text/plain": [
       "  0%|          | 0/200 [00:00<?, ?it/s]"
      ]
     },
     "metadata": {},
     "output_type": "display_data"
    },
    {
     "name": "stdout",
     "output_type": "stream",
     "text": [
      "num_classes: -1 acc: 68.0\n",
      "(68.0, 0.0)\n"
     ]
    }
   ],
   "source": [
    "text_clip_features = get_text_clip_features(classes)\n",
    "for nc in [-1]:\n",
    "    \n",
    "    final = []\n",
    "    for _ in range(iters):\n",
    "#         train_loader, _ = dataset_obj.get_train_loaders(transform_fn=clip_preprocess, num_elements_per_class=nc)\n",
    "#         train_features, train_labels = get_clip_features(train_loader)\n",
    "#         train_features /= train_features.norm(dim=-1, keepdim=True)\n",
    "        for _ in range(1):\n",
    "            text_embeds = []\n",
    "            image_embeds = []\n",
    "            embeddings = []\n",
    "            for c in range(len(classes)):\n",
    "                ind = (c == train_labels).nonzero(as_tuple=True)[0]\n",
    "                image_embs = torch.mean(train_features[ind],dim=0)\n",
    "                text_embs = text_clip_features[c].squeeze()\n",
    "                text_embeds.append(text_embs)\n",
    "                image_embeds.append(image_embs)\n",
    "                avg_emb = (image_embs + text_embs)*0.5\n",
    "                embeddings.append(avg_emb)\n",
    "            \n",
    "            zeroshot_weights = torch.stack(embeddings).squeeze(1)\n",
    "            image_embeds = torch.stack(image_embeds).squeeze(1)\n",
    "            text_embeds = torch.stack(text_embeds).squeeze(1)\n",
    "\n",
    "            # lazy load\n",
    "            if clip_model == None:\n",
    "                clip_model, clip_preprocess = clip.load(clip_model_name, device)\n",
    "\n",
    "            with torch.no_grad():\n",
    "                top1, top5, n = 0.0, 0.0, 0.0\n",
    "                for i, (images, target) in enumerate(tqdm(test_loader)):\n",
    "                    images = images.cuda()\n",
    "                    target = target.cuda()\n",
    "                    image_features = clip_model.encode_image(images)\n",
    "                    image_features /= image_features.norm(dim=-1, keepdim=True)\n",
    "                    # predict\n",
    "                    for image_feature,tar in zip(image_features, target):\n",
    "                        texts_per_img = []\n",
    "                        imgs_per_img = []\n",
    "                        for c in range(len(classes)):\n",
    "                            text_embs = text_clip_features[c].squeeze()\n",
    "#                             avg_emb = 0.25(image_feature@)\n",
    "                            texts_per_img.append(text_embs)\n",
    "                            imgs_per_img.append(image_feature)\n",
    "                        texts_per_img = torch.stack(texts_per_img)\n",
    "                        imgs_per_img = torch.stack(imgs_per_img)\n",
    "                        dot = 0.25*(imgs_per_img @ text_embeds.T + imgs_per_img @ image_embeds.T + 0*(texts_per_img @ text_embeds.T) + 0*(texts_per_img @ image_embeds.T))\n",
    "                        out = np.unravel_index(torch.argmax(dot, axis=None).cpu().numpy(), dot.shape)[1]\n",
    "                        if tar.cpu().numpy() == out:\n",
    "                            top1 +=1\n",
    "                        n+=1\n",
    "\n",
    "\n",
    "\n",
    "            top1 = (top1 / n) * 100\n",
    "            final.append(top1)\n",
    "            print(\"num_classes:\", nc, \"acc:\", top1)\n",
    "    print(get_stats(final))"
   ]
  },
  {
   "cell_type": "code",
   "execution_count": 48,
   "id": "06d01003",
   "metadata": {},
   "outputs": [
    {
     "name": "stdout",
     "output_type": "stream",
     "text": [
      "Files already downloaded and verified\n",
      "Files already downloaded and verified\n"
     ]
    },
    {
     "data": {
      "application/vnd.jupyter.widget-view+json": {
       "model_id": "00427dc4e2e14a2d889ebadd40b0a16a",
       "version_major": 2,
       "version_minor": 0
      },
      "text/plain": [
       "  0%|          | 0/1000 [00:00<?, ?it/s]"
      ]
     },
     "metadata": {},
     "output_type": "display_data"
    },
    {
     "name": "stdout",
     "output_type": "stream",
     "text": [
      "0.0\n"
     ]
    },
    {
     "data": {
      "application/vnd.jupyter.widget-view+json": {
       "model_id": "35e6e1dae62f43a6b512bdee98509ef3",
       "version_major": 2,
       "version_minor": 0
      },
      "text/plain": [
       "  0%|          | 0/200 [00:00<?, ?it/s]"
      ]
     },
     "metadata": {},
     "output_type": "display_data"
    },
    {
     "name": "stdout",
     "output_type": "stream",
     "text": [
      "num_classes: -1 acc: 59.97\n",
      "0.1111111111111111\n"
     ]
    },
    {
     "data": {
      "application/vnd.jupyter.widget-view+json": {
       "model_id": "67b9c973f6bd4bcc89b92ba8b46cffec",
       "version_major": 2,
       "version_minor": 0
      },
      "text/plain": [
       "  0%|          | 0/200 [00:00<?, ?it/s]"
      ]
     },
     "metadata": {},
     "output_type": "display_data"
    },
    {
     "name": "stdout",
     "output_type": "stream",
     "text": [
      "num_classes: -1 acc: 62.68\n",
      "0.2222222222222222\n"
     ]
    },
    {
     "data": {
      "application/vnd.jupyter.widget-view+json": {
       "model_id": "bfa217d8b0dc44549f0c9d809c84b4b2",
       "version_major": 2,
       "version_minor": 0
      },
      "text/plain": [
       "  0%|          | 0/200 [00:00<?, ?it/s]"
      ]
     },
     "metadata": {},
     "output_type": "display_data"
    },
    {
     "name": "stdout",
     "output_type": "stream",
     "text": [
      "num_classes: -1 acc: 64.74\n",
      "0.3333333333333333\n"
     ]
    },
    {
     "data": {
      "application/vnd.jupyter.widget-view+json": {
       "model_id": "4507deda735a488da9b96d0ab9822072",
       "version_major": 2,
       "version_minor": 0
      },
      "text/plain": [
       "  0%|          | 0/200 [00:00<?, ?it/s]"
      ]
     },
     "metadata": {},
     "output_type": "display_data"
    },
    {
     "name": "stdout",
     "output_type": "stream",
     "text": [
      "num_classes: -1 acc: 66.23\n",
      "0.4444444444444444\n"
     ]
    },
    {
     "data": {
      "application/vnd.jupyter.widget-view+json": {
       "model_id": "3dd17fa4710344f1968092d0e6495631",
       "version_major": 2,
       "version_minor": 0
      },
      "text/plain": [
       "  0%|          | 0/200 [00:00<?, ?it/s]"
      ]
     },
     "metadata": {},
     "output_type": "display_data"
    },
    {
     "name": "stdout",
     "output_type": "stream",
     "text": [
      "num_classes: -1 acc: 67.47\n",
      "0.5555555555555556\n"
     ]
    },
    {
     "data": {
      "application/vnd.jupyter.widget-view+json": {
       "model_id": "d4ac1907426e4eb5af63dec74bc1ca17",
       "version_major": 2,
       "version_minor": 0
      },
      "text/plain": [
       "  0%|          | 0/200 [00:00<?, ?it/s]"
      ]
     },
     "metadata": {},
     "output_type": "display_data"
    },
    {
     "name": "stdout",
     "output_type": "stream",
     "text": [
      "num_classes: -1 acc: 67.77\n",
      "0.6666666666666666\n"
     ]
    },
    {
     "data": {
      "application/vnd.jupyter.widget-view+json": {
       "model_id": "56d1405b4f704dc8afb9ffc9f52126e7",
       "version_major": 2,
       "version_minor": 0
      },
      "text/plain": [
       "  0%|          | 0/200 [00:00<?, ?it/s]"
      ]
     },
     "metadata": {},
     "output_type": "display_data"
    },
    {
     "name": "stdout",
     "output_type": "stream",
     "text": [
      "num_classes: -1 acc: 67.78\n",
      "0.7777777777777777\n"
     ]
    },
    {
     "data": {
      "application/vnd.jupyter.widget-view+json": {
       "model_id": "987cb733177c4008b0c09fd63004b01b",
       "version_major": 2,
       "version_minor": 0
      },
      "text/plain": [
       "  0%|          | 0/200 [00:00<?, ?it/s]"
      ]
     },
     "metadata": {},
     "output_type": "display_data"
    },
    {
     "name": "stdout",
     "output_type": "stream",
     "text": [
      "num_classes: -1 acc: 66.95\n",
      "0.8888888888888888\n"
     ]
    },
    {
     "data": {
      "application/vnd.jupyter.widget-view+json": {
       "model_id": "d30aca15b448477c89685be9c31116ac",
       "version_major": 2,
       "version_minor": 0
      },
      "text/plain": [
       "  0%|          | 0/200 [00:00<?, ?it/s]"
      ]
     },
     "metadata": {},
     "output_type": "display_data"
    },
    {
     "name": "stdout",
     "output_type": "stream",
     "text": [
      "num_classes: -1 acc: 65.47\n",
      "1.0\n"
     ]
    },
    {
     "data": {
      "application/vnd.jupyter.widget-view+json": {
       "model_id": "5720b8181f5b457fac90639b4de80fc6",
       "version_major": 2,
       "version_minor": 0
      },
      "text/plain": [
       "  0%|          | 0/200 [00:00<?, ?it/s]"
      ]
     },
     "metadata": {},
     "output_type": "display_data"
    },
    {
     "name": "stdout",
     "output_type": "stream",
     "text": [
      "num_classes: -1 acc: 63.13999999999999\n",
      "(65.22, 6.076500000000005)\n"
     ]
    }
   ],
   "source": [
    "text_clip_features = get_text_clip_features(classes)\n",
    "\n",
    "train_loader, _ = dataset_obj.get_train_loaders(transform_fn=clip_preprocess, num_elements_per_class=nc, shuffle=False)\n",
    "train_features, train_labels = get_clip_features(train_loader)\n",
    "train_features /= train_features.norm(dim=-1, keepdim=True)\n",
    "for nc in [-1]:\n",
    "    final = []\n",
    "    for lam in np.linspace(0.0, 1.0, 10):\n",
    "        print(lam)\n",
    "        for _ in range(1):\n",
    "            text_embeds = []\n",
    "            image_embeds = []\n",
    "            embeddings = []\n",
    "            for c in range(len(classes)):\n",
    "                ind = (c == train_labels).nonzero(as_tuple=True)[0]\n",
    "                image_embs = torch.mean(train_features[ind],dim=0)\n",
    "                text_embs = text_clip_features[c].squeeze()\n",
    "                text_embeds.append(text_embs)\n",
    "                image_embeds.append(image_embs)\n",
    "                avg_emb = (lam*image_embs + (1-lam)*text_embs)\n",
    "                embeddings.append(avg_emb)\n",
    "            \n",
    "            zeroshot_weights = torch.stack(embeddings).squeeze(1)\n",
    "            image_embeds = torch.stack(image_embeds).squeeze(1)\n",
    "            text_embeds = torch.stack(text_embeds).squeeze(1)\n",
    "\n",
    "            # lazy load\n",
    "            if clip_model == None:\n",
    "                clip_model, clip_preprocess = clip.load(clip_model_name, device)\n",
    "\n",
    "            with torch.no_grad():\n",
    "                top1, top5, n = 0.0, 0.0, 0.0\n",
    "                for i, (images, target) in enumerate(tqdm(test_loader)):\n",
    "                    images = images.cuda()\n",
    "                    target = target.cuda()\n",
    "                    image_features = clip_model.encode_image(images)\n",
    "                    image_features /= image_features.norm(dim=-1, keepdim=True)\n",
    "                    # predict\n",
    "                    for image_feature,tar in zip(image_features, target):\n",
    "                        texts_per_img = []\n",
    "                        imgs_per_img = []\n",
    "                        for c in range(len(classes)):\n",
    "                            text_embs = text_clip_features[c].squeeze()\n",
    "#                             avg_emb = 0.25(image_feature@)\n",
    "                            texts_per_img.append(text_embs)\n",
    "                            imgs_per_img.append(image_feature)\n",
    "                        texts_per_img = torch.stack(texts_per_img)\n",
    "                        imgs_per_img = torch.stack(imgs_per_img)\n",
    "                        dot = lam*(imgs_per_img @ text_embeds.T) + (1-lam)*(imgs_per_img @ image_embeds.T) + 0*(texts_per_img @ text_embeds.T) + 0*(texts_per_img @ image_embeds.T)\n",
    "                        out = np.unravel_index(torch.argmax(dot, axis=None).cpu().numpy(), dot.shape)[1]\n",
    "                        if tar.cpu().numpy() == out:\n",
    "                            top1 +=1\n",
    "                        n+=1\n",
    "\n",
    "\n",
    "\n",
    "            top1 = (top1 / n) * 100\n",
    "            final.append(top1)\n",
    "            print(\"num_classes:\", nc, \"acc:\", top1)\n",
    "    print(get_stats(final))"
   ]
  }
 ],
 "metadata": {
  "kernelspec": {
   "display_name": "Python 3",
   "language": "python",
   "name": "python3"
  },
  "language_info": {
   "codemirror_mode": {
    "name": "ipython",
    "version": 3
   },
   "file_extension": ".py",
   "mimetype": "text/x-python",
   "name": "python",
   "nbconvert_exporter": "python",
   "pygments_lexer": "ipython3",
   "version": "3.8.5"
  }
 },
 "nbformat": 4,
 "nbformat_minor": 5
}
