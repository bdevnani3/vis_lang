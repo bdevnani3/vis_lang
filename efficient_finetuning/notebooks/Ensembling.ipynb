{
 "cells": [
  {
   "cell_type": "markdown",
   "id": "a0a50bdc",
   "metadata": {},
   "source": [
    "Given a list of prompts, how to pick the best ones for a dataset?"
   ]
  },
  {
   "cell_type": "code",
   "execution_count": null,
   "id": "0e6e3162",
   "metadata": {},
   "outputs": [],
   "source": []
  }
 ],
 "metadata": {
  "kernelspec": {
   "display_name": "Python [conda env:p3] *",
   "language": "python",
   "name": "conda-env-p3-py"
  },
  "language_info": {
   "codemirror_mode": {
    "name": "ipython",
    "version": 3
   },
   "file_extension": ".py",
   "mimetype": "text/x-python",
   "name": "python",
   "nbconvert_exporter": "python",
   "pygments_lexer": "ipython3",
   "version": "3.8.5"
  }
 },
 "nbformat": 4,
 "nbformat_minor": 5
}
