{
 "cells": [
  {
   "cell_type": "code",
   "execution_count": 20,
   "metadata": {},
   "outputs": [
    {
     "name": "stdout",
     "output_type": "stream",
     "text": [
      "cuda\n"
     ]
    }
   ],
   "source": [
    "from tqdm.notebook import tqdm\n",
    "import clip\n",
    "import torch\n",
    "device = \"cuda\" if torch.cuda.is_available() else \"cpu\"\n",
    "print(device)\n",
    "\n",
    "clip_model, clip_preprocess = clip.load(\"ViT-B/32\", device)"
   ]
  },
  {
   "cell_type": "code",
   "execution_count": 21,
   "metadata": {},
   "outputs": [],
   "source": [
    "from datasets import *\n",
    "dataset_obj = Food101(0, 50)\n",
    "train_loader, _ = dataset_obj.get_train_loaders(transform_fn=clip_preprocess)\n",
    "test_loader = dataset_obj.get_test_loader(transform_fn=clip_preprocess)\n",
    "classes = dataset_obj.classes"
   ]
  },
  {
   "cell_type": "code",
   "execution_count": 22,
   "metadata": {},
   "outputs": [],
   "source": [
    "import copy"
   ]
  },
  {
   "cell_type": "code",
   "execution_count": 23,
   "metadata": {},
   "outputs": [
    {
     "data": {
      "application/vnd.jupyter.widget-view+json": {
       "model_id": "e9d2b6e4fe024f3fb963e95bbe3527a5",
       "version_major": 2,
       "version_minor": 0
      },
      "text/plain": [
       "  0%|          | 0/1515 [00:00<?, ?it/s]"
      ]
     },
     "metadata": {},
     "output_type": "display_data"
    },
    {
     "data": {
      "application/vnd.jupyter.widget-view+json": {
       "model_id": "7b4a3c547e9b44c8a7acf0ffb9e95c97",
       "version_major": 2,
       "version_minor": 0
      },
      "text/plain": [
       "  0%|          | 0/303 [00:00<?, ?it/s]"
      ]
     },
     "metadata": {},
     "output_type": "display_data"
    }
   ],
   "source": [
    "def get_clip_features(dataset):\n",
    "    all_features = []\n",
    "    all_labels = []\n",
    "\n",
    "    global clip_model\n",
    "\n",
    "    with torch.no_grad():\n",
    "        for images, labels in tqdm(dataset):\n",
    "            features = clip_model.encode_image(images.to(device))\n",
    "            all_features.append(features)\n",
    "            all_labels.append(labels)\n",
    "\n",
    "    return torch.cat(all_features), torch.cat(all_labels)\n",
    "\n",
    "train_features, train_labels = get_clip_features(train_loader)\n",
    "test_features, test_labels = get_clip_features(test_loader)"
   ]
  },
  {
   "cell_type": "code",
   "execution_count": 24,
   "metadata": {},
   "outputs": [],
   "source": [
    "def batch(iterable1,iterable2, n=1):\n",
    "    l = len(iterable1)\n",
    "    for ndx in range(0, l, n):\n",
    "        yield (iterable1[ndx:min(ndx + n, l)], iterable2[ndx:min(ndx + n, l)])\n",
    "\n",
    "out_train = batch(train_features,train_labels, 50)\n",
    "out_test = batch(test_features,test_labels, 50)"
   ]
  },
  {
   "cell_type": "code",
   "execution_count": 25,
   "metadata": {},
   "outputs": [],
   "source": [
    "import torch.nn as nn\n",
    "import torch.optim as optim\n",
    "\n",
    "class LogisticRegression(nn.Module):\n",
    "    def __init__(self, input_dim, output_dim):\n",
    "        super(LogisticRegression, self).__init__()\n",
    "        self.linear = torch.nn.Linear(input_dim, output_dim)\n",
    "        \n",
    "    def forward(self, x):\n",
    "        outputs = self.linear(x)\n",
    "        return outputs\n",
    "    \n",
    "model = LogisticRegression(512,len(classes))\n",
    "model.logit_scale = nn.Parameter(torch.ones([], device=device))\n",
    "criterion = nn.CrossEntropyLoss()\n",
    "learning_rate = 0.01\n",
    "optimizer = torch.optim.SGD(model.parameters(), lr=learning_rate, weight_decay=1e-5)\n",
    "num_epochs = 500\n",
    "# scheduler = optim.lr_scheduler.MultiStepLR(\n",
    "#             optimizer, milestones=[300, 500, 700, 900], gamma=0.1\n",
    "#         )"
   ]
  },
  {
   "cell_type": "code",
   "execution_count": 26,
   "metadata": {},
   "outputs": [],
   "source": [
    "def num_correct_preds(outputs, labels):\n",
    "    _, predicted = outputs.max(1)\n",
    "    return predicted.eq(labels).sum().item()"
   ]
  },
  {
   "cell_type": "code",
   "execution_count": 27,
   "metadata": {},
   "outputs": [],
   "source": [
    "def cosine_loss(output, target):\n",
    "    loss = 1 - torch.cosine_similarity(output, target)\n",
    "    return loss\n",
    "\n",
    "def calc_loss(outputs, labels, loss_name=\"ce\"):\n",
    "    \n",
    "    loss_labels = labels\n",
    "    \n",
    "    criterion = nn.CrossEntropyLoss()\n",
    "\n",
    "    if loss_name == \"ce\":\n",
    "        return criterion(outputs, loss_labels) \n",
    "\n",
    "    elif loss_name == \"dot\":\n",
    "        outputs = outputs / outputs.norm(dim=-1, keepdim=True)\n",
    "        return -(outputs * loss_labels).sum(-1).mean()\n",
    "\n",
    "    elif loss_name == \"cosine\":\n",
    "        print(outputs.shape, loss_labels.shape)\n",
    "        loss = torch.mean(cosine_loss(outputs, loss_labels))\n",
    "        return loss\n",
    "\n",
    "    elif loss_name == \"temperature_ce\":\n",
    "        image_features = outputs\n",
    "\n",
    "        # normalized features\n",
    "        image_features = image_features / image_features.norm(dim=-1, keepdim=True)\n",
    "\n",
    "        # cosine similarity as logits\n",
    "        logit_scale = model.logit_scale.exp()\n",
    "        logits_per_image = logit_scale * image_features @ text_features.t()\n",
    "        return criterion(logits_per_image, labels)"
   ]
  },
  {
   "cell_type": "code",
   "execution_count": 28,
   "metadata": {},
   "outputs": [],
   "source": [
    "import torch\n",
    "from torch.utils.tensorboard import SummaryWriter\n",
    "writer = SummaryWriter()"
   ]
  },
  {
   "cell_type": "code",
   "execution_count": 29,
   "metadata": {
    "scrolled": true
   },
   "outputs": [
    {
     "data": {
      "application/vnd.jupyter.widget-view+json": {
       "model_id": "e7771f24aaad478188e5ee89f2f73188",
       "version_major": 2,
       "version_minor": 0
      },
      "text/plain": [
       "  0%|          | 0/501 [00:00<?, ?it/s]"
      ]
     },
     "metadata": {},
     "output_type": "display_data"
    },
    {
     "name": "stdout",
     "output_type": "stream",
     "text": [
      "Shuffling\n"
     ]
    },
    {
     "data": {
      "application/vnd.jupyter.widget-view+json": {
       "model_id": "d484e6e342a543dfb001970a1b296cf3",
       "version_major": 2,
       "version_minor": 0
      },
      "text/plain": [
       "0it [00:00, ?it/s]"
      ]
     },
     "metadata": {},
     "output_type": "display_data"
    },
    {
     "name": "stdout",
     "output_type": "stream",
     "text": [
      "Found best model\n",
      "Training: Epoch 0 || Loss:   4.078 || Accuracy:  47.98%\n",
      "Training: Epoch 1 || Loss:   2.416 || Accuracy:  73.54%\n",
      "Training: Epoch 2 || Loss:   1.997 || Accuracy:  77.63%\n",
      "Training: Epoch 3 || Loss:   1.348 || Accuracy:  79.24%\n",
      "Training: Epoch 4 || Loss:   1.156 || Accuracy:  80.16%\n",
      "Training: Epoch 5 || Loss:   1.066 || Accuracy:  80.71%\n",
      "Training: Epoch 6 || Loss:   1.019 || Accuracy:  81.12%\n",
      "Training: Epoch 7 || Loss:   0.977 || Accuracy:  81.43%\n",
      "Training: Epoch 8 || Loss:   0.935 || Accuracy:  81.69%\n",
      "Training: Epoch 9 || Loss:   0.898 || Accuracy:  81.92%\n"
     ]
    },
    {
     "data": {
      "application/vnd.jupyter.widget-view+json": {
       "model_id": "b1f18e32c54e49ac8f0a8f63a7673852",
       "version_major": 2,
       "version_minor": 0
      },
      "text/plain": [
       "0it [00:00, ?it/s]"
      ]
     },
     "metadata": {},
     "output_type": "display_data"
    },
    {
     "name": "stdout",
     "output_type": "stream",
     "text": [
      "Found best model\n",
      "Training: Epoch 10 || Loss:   0.861 || Accuracy:  82.08%\n",
      "Training: Epoch 11 || Loss:   0.827 || Accuracy:  82.24%\n",
      "Training: Epoch 12 || Loss:   0.801 || Accuracy:  82.40%\n",
      "Training: Epoch 13 || Loss:   0.775 || Accuracy:  82.55%\n",
      "Training: Epoch 14 || Loss:   0.746 || Accuracy:  82.65%\n",
      "Training: Epoch 15 || Loss:   0.729 || Accuracy:  82.81%\n",
      "Training: Epoch 16 || Loss:   0.713 || Accuracy:  82.90%\n",
      "Training: Epoch 17 || Loss:   0.694 || Accuracy:  83.00%\n",
      "Training: Epoch 18 || Loss:   0.676 || Accuracy:  83.10%\n",
      "Training: Epoch 19 || Loss:   0.667 || Accuracy:  83.16%\n"
     ]
    },
    {
     "data": {
      "application/vnd.jupyter.widget-view+json": {
       "model_id": "69f5af27d084401389ec65cdd5b50f9b",
       "version_major": 2,
       "version_minor": 0
      },
      "text/plain": [
       "0it [00:00, ?it/s]"
      ]
     },
     "metadata": {},
     "output_type": "display_data"
    },
    {
     "name": "stdout",
     "output_type": "stream",
     "text": [
      "Found best model\n",
      "Training: Epoch 20 || Loss:   0.657 || Accuracy:  83.20%\n",
      "Training: Epoch 21 || Loss:   0.652 || Accuracy:  83.27%\n",
      "Training: Epoch 22 || Loss:   0.644 || Accuracy:  83.35%\n",
      "Training: Epoch 23 || Loss:   0.639 || Accuracy:  83.41%\n",
      "Training: Epoch 24 || Loss:   0.634 || Accuracy:  83.45%\n",
      "Training: Epoch 25 || Loss:   0.629 || Accuracy:  83.52%\n",
      "Training: Epoch 26 || Loss:   0.626 || Accuracy:  83.56%\n",
      "Training: Epoch 27 || Loss:   0.624 || Accuracy:  83.60%\n",
      "Training: Epoch 28 || Loss:   0.619 || Accuracy:  83.63%\n",
      "Training: Epoch 29 || Loss:   0.617 || Accuracy:  83.66%\n"
     ]
    },
    {
     "data": {
      "application/vnd.jupyter.widget-view+json": {
       "model_id": "c5edd885ce6c41f7b2728e480e279314",
       "version_major": 2,
       "version_minor": 0
      },
      "text/plain": [
       "0it [00:00, ?it/s]"
      ]
     },
     "metadata": {},
     "output_type": "display_data"
    },
    {
     "name": "stdout",
     "output_type": "stream",
     "text": [
      "Found best model\n",
      "Training: Epoch 30 || Loss:   0.616 || Accuracy:  83.69%\n",
      "Training: Epoch 31 || Loss:   0.613 || Accuracy:  83.73%\n",
      "Training: Epoch 32 || Loss:   0.610 || Accuracy:  83.76%\n",
      "Training: Epoch 33 || Loss:   0.607 || Accuracy:  83.79%\n",
      "Training: Epoch 34 || Loss:   0.607 || Accuracy:  83.84%\n",
      "Training: Epoch 35 || Loss:   0.604 || Accuracy:  83.86%\n",
      "Training: Epoch 36 || Loss:   0.603 || Accuracy:  83.90%\n",
      "Training: Epoch 37 || Loss:   0.601 || Accuracy:  83.93%\n",
      "Training: Epoch 38 || Loss:   0.599 || Accuracy:  83.93%\n",
      "Training: Epoch 39 || Loss:   0.597 || Accuracy:  83.96%\n"
     ]
    },
    {
     "data": {
      "application/vnd.jupyter.widget-view+json": {
       "model_id": "801e40e8fd1945ab867358bbf6eda189",
       "version_major": 2,
       "version_minor": 0
      },
      "text/plain": [
       "0it [00:00, ?it/s]"
      ]
     },
     "metadata": {},
     "output_type": "display_data"
    },
    {
     "name": "stdout",
     "output_type": "stream",
     "text": [
      "Found best model\n",
      "Training: Epoch 40 || Loss:   0.596 || Accuracy:  83.97%\n",
      "Training: Epoch 41 || Loss:   0.594 || Accuracy:  84.00%\n",
      "Training: Epoch 42 || Loss:   0.593 || Accuracy:  84.00%\n",
      "Training: Epoch 43 || Loss:   0.591 || Accuracy:  84.02%\n",
      "Training: Epoch 44 || Loss:   0.590 || Accuracy:  84.04%\n",
      "Training: Epoch 45 || Loss:   0.588 || Accuracy:  84.06%\n",
      "Training: Epoch 46 || Loss:   0.588 || Accuracy:  84.08%\n",
      "Training: Epoch 47 || Loss:   0.586 || Accuracy:  84.09%\n",
      "Training: Epoch 48 || Loss:   0.584 || Accuracy:  84.12%\n",
      "Training: Epoch 49 || Loss:   0.583 || Accuracy:  84.15%\n",
      "Shuffling\n"
     ]
    },
    {
     "data": {
      "application/vnd.jupyter.widget-view+json": {
       "model_id": "f0a819f505bb42c19162cb28c3049a79",
       "version_major": 2,
       "version_minor": 0
      },
      "text/plain": [
       "0it [00:00, ?it/s]"
      ]
     },
     "metadata": {},
     "output_type": "display_data"
    },
    {
     "name": "stdout",
     "output_type": "stream",
     "text": [
      "Training: Epoch 50 || Loss:   0.582 || Accuracy:  84.22%\n",
      "Training: Epoch 51 || Loss:   0.581 || Accuracy:  84.20%\n",
      "Training: Epoch 52 || Loss:   0.579 || Accuracy:  84.21%\n",
      "Training: Epoch 53 || Loss:   0.578 || Accuracy:  84.21%\n",
      "Training: Epoch 54 || Loss:   0.577 || Accuracy:  84.21%\n",
      "Training: Epoch 55 || Loss:   0.577 || Accuracy:  84.22%\n",
      "Training: Epoch 56 || Loss:   0.576 || Accuracy:  84.25%\n",
      "Training: Epoch 57 || Loss:   0.576 || Accuracy:  84.27%\n",
      "Training: Epoch 58 || Loss:   0.574 || Accuracy:  84.27%\n",
      "Training: Epoch 59 || Loss:   0.573 || Accuracy:  84.29%\n"
     ]
    },
    {
     "data": {
      "application/vnd.jupyter.widget-view+json": {
       "model_id": "1eac811436ff428d95218620063ac382",
       "version_major": 2,
       "version_minor": 0
      },
      "text/plain": [
       "0it [00:00, ?it/s]"
      ]
     },
     "metadata": {},
     "output_type": "display_data"
    },
    {
     "name": "stdout",
     "output_type": "stream",
     "text": [
      "Found best model\n",
      "Training: Epoch 60 || Loss:   0.572 || Accuracy:  84.30%\n",
      "Training: Epoch 61 || Loss:   0.571 || Accuracy:  84.34%\n",
      "Training: Epoch 62 || Loss:   0.571 || Accuracy:  84.36%\n",
      "Training: Epoch 63 || Loss:   0.570 || Accuracy:  84.37%\n",
      "Training: Epoch 64 || Loss:   0.569 || Accuracy:  84.37%\n",
      "Training: Epoch 65 || Loss:   0.568 || Accuracy:  84.37%\n",
      "Training: Epoch 66 || Loss:   0.568 || Accuracy:  84.39%\n",
      "Training: Epoch 67 || Loss:   0.567 || Accuracy:  84.39%\n",
      "Training: Epoch 68 || Loss:   0.567 || Accuracy:  84.41%\n",
      "Training: Epoch 69 || Loss:   0.566 || Accuracy:  84.41%\n"
     ]
    },
    {
     "data": {
      "application/vnd.jupyter.widget-view+json": {
       "model_id": "bf85b639a918462c8217e2b975156124",
       "version_major": 2,
       "version_minor": 0
      },
      "text/plain": [
       "0it [00:00, ?it/s]"
      ]
     },
     "metadata": {},
     "output_type": "display_data"
    },
    {
     "name": "stdout",
     "output_type": "stream",
     "text": [
      "Found best model\n",
      "Training: Epoch 70 || Loss:   0.565 || Accuracy:  84.43%\n",
      "Training: Epoch 71 || Loss:   0.564 || Accuracy:  84.44%\n",
      "Training: Epoch 72 || Loss:   0.564 || Accuracy:  84.46%\n",
      "Training: Epoch 73 || Loss:   0.563 || Accuracy:  84.48%\n",
      "Training: Epoch 74 || Loss:   0.563 || Accuracy:  84.50%\n",
      "Training: Epoch 75 || Loss:   0.562 || Accuracy:  84.50%\n",
      "Training: Epoch 76 || Loss:   0.562 || Accuracy:  84.52%\n",
      "Training: Epoch 77 || Loss:   0.561 || Accuracy:  84.53%\n",
      "Training: Epoch 78 || Loss:   0.560 || Accuracy:  84.55%\n",
      "Training: Epoch 79 || Loss:   0.560 || Accuracy:  84.56%\n"
     ]
    },
    {
     "data": {
      "application/vnd.jupyter.widget-view+json": {
       "model_id": "eeefbf3df5a54682ba0ac3bcc376ff37",
       "version_major": 2,
       "version_minor": 0
      },
      "text/plain": [
       "0it [00:00, ?it/s]"
      ]
     },
     "metadata": {},
     "output_type": "display_data"
    },
    {
     "name": "stdout",
     "output_type": "stream",
     "text": [
      "Found best model\n",
      "Training: Epoch 80 || Loss:   0.559 || Accuracy:  84.58%\n",
      "Training: Epoch 81 || Loss:   0.559 || Accuracy:  84.57%\n",
      "Training: Epoch 82 || Loss:   0.558 || Accuracy:  84.58%\n",
      "Training: Epoch 83 || Loss:   0.558 || Accuracy:  84.62%\n",
      "Training: Epoch 84 || Loss:   0.557 || Accuracy:  84.62%\n",
      "Training: Epoch 85 || Loss:   0.557 || Accuracy:  84.64%\n",
      "Training: Epoch 86 || Loss:   0.557 || Accuracy:  84.67%\n",
      "Training: Epoch 87 || Loss:   0.556 || Accuracy:  84.69%\n",
      "Training: Epoch 88 || Loss:   0.556 || Accuracy:  84.69%\n",
      "Training: Epoch 89 || Loss:   0.555 || Accuracy:  84.74%\n"
     ]
    },
    {
     "data": {
      "application/vnd.jupyter.widget-view+json": {
       "model_id": "73f1dd8321794cf59bb3ff203aa083f4",
       "version_major": 2,
       "version_minor": 0
      },
      "text/plain": [
       "0it [00:00, ?it/s]"
      ]
     },
     "metadata": {},
     "output_type": "display_data"
    },
    {
     "name": "stdout",
     "output_type": "stream",
     "text": [
      "Found best model\n",
      "Training: Epoch 90 || Loss:   0.555 || Accuracy:  84.74%\n",
      "Training: Epoch 91 || Loss:   0.555 || Accuracy:  84.75%\n",
      "Training: Epoch 92 || Loss:   0.556 || Accuracy:  84.74%\n",
      "Training: Epoch 93 || Loss:   0.555 || Accuracy:  84.74%\n",
      "Training: Epoch 94 || Loss:   0.554 || Accuracy:  84.76%\n",
      "Training: Epoch 95 || Loss:   0.553 || Accuracy:  84.76%\n",
      "Training: Epoch 96 || Loss:   0.553 || Accuracy:  84.80%\n",
      "Training: Epoch 97 || Loss:   0.552 || Accuracy:  84.79%\n",
      "Training: Epoch 98 || Loss:   0.552 || Accuracy:  84.81%\n",
      "Training: Epoch 99 || Loss:   0.552 || Accuracy:  84.79%\n",
      "Shuffling\n"
     ]
    },
    {
     "data": {
      "application/vnd.jupyter.widget-view+json": {
       "model_id": "5b07e8f6ce774ff9b6fd257717ca8fb6",
       "version_major": 2,
       "version_minor": 0
      },
      "text/plain": [
       "0it [00:00, ?it/s]"
      ]
     },
     "metadata": {},
     "output_type": "display_data"
    },
    {
     "name": "stdout",
     "output_type": "stream",
     "text": [
      "Training: Epoch 100 || Loss:   0.551 || Accuracy:  84.80%\n",
      "Training: Epoch 101 || Loss:   0.551 || Accuracy:  84.82%\n",
      "Training: Epoch 102 || Loss:   0.550 || Accuracy:  84.84%\n",
      "Training: Epoch 103 || Loss:   0.550 || Accuracy:  84.85%\n",
      "Training: Epoch 104 || Loss:   0.550 || Accuracy:  84.84%\n",
      "Training: Epoch 105 || Loss:   0.550 || Accuracy:  84.85%\n",
      "Training: Epoch 106 || Loss:   0.548 || Accuracy:  84.86%\n",
      "Training: Epoch 107 || Loss:   0.548 || Accuracy:  84.86%\n",
      "Training: Epoch 108 || Loss:   0.548 || Accuracy:  84.88%\n",
      "Training: Epoch 109 || Loss:   0.547 || Accuracy:  84.92%\n"
     ]
    },
    {
     "data": {
      "application/vnd.jupyter.widget-view+json": {
       "model_id": "875c3d485926401eb8f3c51da99337c2",
       "version_major": 2,
       "version_minor": 0
      },
      "text/plain": [
       "0it [00:00, ?it/s]"
      ]
     },
     "metadata": {},
     "output_type": "display_data"
    },
    {
     "name": "stdout",
     "output_type": "stream",
     "text": [
      "Found best model\n",
      "Training: Epoch 110 || Loss:   0.547 || Accuracy:  84.93%\n",
      "Training: Epoch 111 || Loss:   0.547 || Accuracy:  84.92%\n",
      "Training: Epoch 112 || Loss:   0.546 || Accuracy:  84.92%\n",
      "Training: Epoch 113 || Loss:   0.546 || Accuracy:  84.95%\n",
      "Training: Epoch 114 || Loss:   0.546 || Accuracy:  84.93%\n",
      "Training: Epoch 115 || Loss:   0.545 || Accuracy:  84.93%\n",
      "Training: Epoch 116 || Loss:   0.545 || Accuracy:  84.92%\n",
      "Training: Epoch 117 || Loss:   0.545 || Accuracy:  84.94%\n",
      "Training: Epoch 118 || Loss:   0.545 || Accuracy:  84.98%\n",
      "Training: Epoch 119 || Loss:   0.544 || Accuracy:  84.95%\n"
     ]
    },
    {
     "data": {
      "application/vnd.jupyter.widget-view+json": {
       "model_id": "2017d702288c4d5fa2376000db3ccd77",
       "version_major": 2,
       "version_minor": 0
      },
      "text/plain": [
       "0it [00:00, ?it/s]"
      ]
     },
     "metadata": {},
     "output_type": "display_data"
    },
    {
     "name": "stdout",
     "output_type": "stream",
     "text": [
      "Found best model\n",
      "Training: Epoch 120 || Loss:   0.544 || Accuracy:  84.94%\n",
      "Training: Epoch 121 || Loss:   0.544 || Accuracy:  84.94%\n",
      "Training: Epoch 122 || Loss:   0.544 || Accuracy:  84.93%\n",
      "Training: Epoch 123 || Loss:   0.545 || Accuracy:  84.92%\n",
      "Training: Epoch 124 || Loss:   0.545 || Accuracy:  84.91%\n",
      "Training: Epoch 125 || Loss:   0.545 || Accuracy:  84.91%\n",
      "Training: Epoch 126 || Loss:   0.546 || Accuracy:  84.91%\n",
      "Training: Epoch 127 || Loss:   0.547 || Accuracy:  84.87%\n",
      "Training: Epoch 128 || Loss:   0.548 || Accuracy:  84.85%\n",
      "Training: Epoch 129 || Loss:   0.548 || Accuracy:  84.85%\n"
     ]
    },
    {
     "data": {
      "application/vnd.jupyter.widget-view+json": {
       "model_id": "ad62b1b382f64013996c0e6d01655956",
       "version_major": 2,
       "version_minor": 0
      },
      "text/plain": [
       "0it [00:00, ?it/s]"
      ]
     },
     "metadata": {},
     "output_type": "display_data"
    },
    {
     "name": "stdout",
     "output_type": "stream",
     "text": [
      "Training: Epoch 130 || Loss:   0.548 || Accuracy:  84.82%\n",
      "Training: Epoch 131 || Loss:   0.548 || Accuracy:  84.82%\n",
      "Training: Epoch 132 || Loss:   0.547 || Accuracy:  84.80%\n",
      "Training: Epoch 133 || Loss:   0.548 || Accuracy:  84.78%\n",
      "Training: Epoch 134 || Loss:   0.548 || Accuracy:  84.79%\n",
      "Training: Epoch 135 || Loss:   0.548 || Accuracy:  84.79%\n",
      "Training: Epoch 136 || Loss:   0.547 || Accuracy:  84.81%\n",
      "Training: Epoch 137 || Loss:   0.548 || Accuracy:  84.83%\n",
      "Training: Epoch 138 || Loss:   0.548 || Accuracy:  84.87%\n",
      "Training: Epoch 139 || Loss:   0.547 || Accuracy:  84.89%\n"
     ]
    },
    {
     "data": {
      "application/vnd.jupyter.widget-view+json": {
       "model_id": "e52bc56991774dc28ae54a6031ccaf87",
       "version_major": 2,
       "version_minor": 0
      },
      "text/plain": [
       "0it [00:00, ?it/s]"
      ]
     },
     "metadata": {},
     "output_type": "display_data"
    },
    {
     "name": "stdout",
     "output_type": "stream",
     "text": [
      "Training: Epoch 140 || Loss:   0.546 || Accuracy:  84.86%\n",
      "Training: Epoch 141 || Loss:   0.546 || Accuracy:  84.87%\n",
      "Training: Epoch 142 || Loss:   0.545 || Accuracy:  84.89%\n",
      "Training: Epoch 143 || Loss:   0.545 || Accuracy:  84.93%\n",
      "Training: Epoch 144 || Loss:   0.544 || Accuracy:  84.95%\n",
      "Training: Epoch 145 || Loss:   0.544 || Accuracy:  84.94%\n",
      "Training: Epoch 146 || Loss:   0.544 || Accuracy:  84.93%\n",
      "Training: Epoch 147 || Loss:   0.544 || Accuracy:  84.93%\n",
      "Training: Epoch 148 || Loss:   0.544 || Accuracy:  84.97%\n",
      "Training: Epoch 149 || Loss:   0.544 || Accuracy:  84.96%\n",
      "Shuffling\n"
     ]
    },
    {
     "data": {
      "application/vnd.jupyter.widget-view+json": {
       "model_id": "297c6d4152294b3b84edc8b9135e9b64",
       "version_major": 2,
       "version_minor": 0
      },
      "text/plain": [
       "0it [00:00, ?it/s]"
      ]
     },
     "metadata": {},
     "output_type": "display_data"
    },
    {
     "name": "stdout",
     "output_type": "stream",
     "text": [
      "Training: Epoch 150 || Loss:   0.546 || Accuracy:  84.95%\n",
      "Training: Epoch 151 || Loss:   0.546 || Accuracy:  84.97%\n",
      "Training: Epoch 152 || Loss:   0.546 || Accuracy:  84.96%\n",
      "Training: Epoch 153 || Loss:   0.546 || Accuracy:  84.98%\n",
      "Training: Epoch 154 || Loss:   0.546 || Accuracy:  85.02%\n",
      "Training: Epoch 155 || Loss:   0.546 || Accuracy:  85.03%\n",
      "Training: Epoch 156 || Loss:   0.546 || Accuracy:  85.03%\n",
      "Training: Epoch 157 || Loss:   0.546 || Accuracy:  85.05%\n",
      "Training: Epoch 158 || Loss:   0.545 || Accuracy:  85.06%\n",
      "Training: Epoch 159 || Loss:   0.546 || Accuracy:  85.07%\n"
     ]
    },
    {
     "data": {
      "application/vnd.jupyter.widget-view+json": {
       "model_id": "6183f0675c98438d82e464d9e023d219",
       "version_major": 2,
       "version_minor": 0
      },
      "text/plain": [
       "0it [00:00, ?it/s]"
      ]
     },
     "metadata": {},
     "output_type": "display_data"
    },
    {
     "name": "stdout",
     "output_type": "stream",
     "text": [
      "Training: Epoch 160 || Loss:   0.546 || Accuracy:  85.03%\n",
      "Training: Epoch 161 || Loss:   0.546 || Accuracy:  85.03%\n",
      "Training: Epoch 162 || Loss:   0.546 || Accuracy:  85.04%\n",
      "Training: Epoch 163 || Loss:   0.547 || Accuracy:  85.05%\n",
      "Training: Epoch 164 || Loss:   0.546 || Accuracy:  85.06%\n",
      "Training: Epoch 165 || Loss:   0.546 || Accuracy:  85.06%\n",
      "Training: Epoch 166 || Loss:   0.546 || Accuracy:  85.06%\n",
      "Training: Epoch 167 || Loss:   0.546 || Accuracy:  85.05%\n",
      "Training: Epoch 168 || Loss:   0.546 || Accuracy:  85.07%\n",
      "Training: Epoch 169 || Loss:   0.547 || Accuracy:  85.08%\n"
     ]
    },
    {
     "data": {
      "application/vnd.jupyter.widget-view+json": {
       "model_id": "221b24d93ca749848ca2af61175fecc4",
       "version_major": 2,
       "version_minor": 0
      },
      "text/plain": [
       "0it [00:00, ?it/s]"
      ]
     },
     "metadata": {},
     "output_type": "display_data"
    },
    {
     "name": "stdout",
     "output_type": "stream",
     "text": [
      "Training: Epoch 170 || Loss:   0.547 || Accuracy:  85.04%\n",
      "Training: Epoch 171 || Loss:   0.547 || Accuracy:  85.05%\n",
      "Training: Epoch 172 || Loss:   0.548 || Accuracy:  85.07%\n",
      "Training: Epoch 173 || Loss:   0.547 || Accuracy:  85.06%\n",
      "Training: Epoch 174 || Loss:   0.547 || Accuracy:  85.04%\n",
      "Training: Epoch 175 || Loss:   0.548 || Accuracy:  85.06%\n",
      "Training: Epoch 176 || Loss:   0.549 || Accuracy:  85.04%\n",
      "Training: Epoch 177 || Loss:   0.549 || Accuracy:  85.02%\n",
      "Training: Epoch 178 || Loss:   0.549 || Accuracy:  85.01%\n",
      "Training: Epoch 179 || Loss:   0.550 || Accuracy:  84.99%\n"
     ]
    },
    {
     "data": {
      "application/vnd.jupyter.widget-view+json": {
       "model_id": "178ceb31f23f4f019a47c650dfba4eb9",
       "version_major": 2,
       "version_minor": 0
      },
      "text/plain": [
       "0it [00:00, ?it/s]"
      ]
     },
     "metadata": {},
     "output_type": "display_data"
    },
    {
     "name": "stdout",
     "output_type": "stream",
     "text": [
      "Training: Epoch 180 || Loss:   0.549 || Accuracy:  84.97%\n",
      "Training: Epoch 181 || Loss:   0.550 || Accuracy:  84.98%\n",
      "Training: Epoch 182 || Loss:   0.551 || Accuracy:  84.97%\n",
      "Training: Epoch 183 || Loss:   0.551 || Accuracy:  84.96%\n",
      "Training: Epoch 184 || Loss:   0.552 || Accuracy:  84.97%\n",
      "Training: Epoch 185 || Loss:   0.552 || Accuracy:  84.96%\n",
      "Training: Epoch 186 || Loss:   0.551 || Accuracy:  84.98%\n",
      "Training: Epoch 187 || Loss:   0.553 || Accuracy:  84.93%\n",
      "Training: Epoch 188 || Loss:   0.553 || Accuracy:  84.93%\n",
      "Training: Epoch 189 || Loss:   0.554 || Accuracy:  84.90%\n"
     ]
    },
    {
     "data": {
      "application/vnd.jupyter.widget-view+json": {
       "model_id": "16418cdcdcbe440086bf1eb3ad71c8be",
       "version_major": 2,
       "version_minor": 0
      },
      "text/plain": [
       "0it [00:00, ?it/s]"
      ]
     },
     "metadata": {},
     "output_type": "display_data"
    },
    {
     "name": "stdout",
     "output_type": "stream",
     "text": [
      "Training: Epoch 190 || Loss:   0.555 || Accuracy:  84.93%\n",
      "Training: Epoch 191 || Loss:   0.555 || Accuracy:  84.90%\n",
      "Training: Epoch 192 || Loss:   0.554 || Accuracy:  84.88%\n",
      "Training: Epoch 193 || Loss:   0.556 || Accuracy:  84.85%\n",
      "Training: Epoch 194 || Loss:   0.556 || Accuracy:  84.86%\n",
      "Training: Epoch 195 || Loss:   0.556 || Accuracy:  84.84%\n",
      "Training: Epoch 196 || Loss:   0.557 || Accuracy:  84.85%\n",
      "Training: Epoch 197 || Loss:   0.557 || Accuracy:  84.81%\n",
      "Training: Epoch 198 || Loss:   0.558 || Accuracy:  84.81%\n",
      "Training: Epoch 199 || Loss:   0.558 || Accuracy:  84.80%\n",
      "Shuffling\n"
     ]
    },
    {
     "data": {
      "application/vnd.jupyter.widget-view+json": {
       "model_id": "9574eb6e95454ebd9f5965ba064b955c",
       "version_major": 2,
       "version_minor": 0
      },
      "text/plain": [
       "0it [00:00, ?it/s]"
      ]
     },
     "metadata": {},
     "output_type": "display_data"
    },
    {
     "name": "stdout",
     "output_type": "stream",
     "text": [
      "Training: Epoch 200 || Loss:   0.559 || Accuracy:  84.80%\n",
      "Training: Epoch 201 || Loss:   0.558 || Accuracy:  84.84%\n",
      "Training: Epoch 202 || Loss:   0.558 || Accuracy:  84.85%\n",
      "Training: Epoch 203 || Loss:   0.557 || Accuracy:  84.82%\n",
      "Training: Epoch 204 || Loss:   0.558 || Accuracy:  84.81%\n",
      "Training: Epoch 205 || Loss:   0.558 || Accuracy:  84.77%\n",
      "Training: Epoch 206 || Loss:   0.558 || Accuracy:  84.77%\n",
      "Training: Epoch 207 || Loss:   0.559 || Accuracy:  84.77%\n",
      "Training: Epoch 208 || Loss:   0.557 || Accuracy:  84.78%\n",
      "Training: Epoch 209 || Loss:   0.558 || Accuracy:  84.77%\n"
     ]
    },
    {
     "data": {
      "application/vnd.jupyter.widget-view+json": {
       "model_id": "e286341c3b3b43a8ad140b475f97d66a",
       "version_major": 2,
       "version_minor": 0
      },
      "text/plain": [
       "0it [00:00, ?it/s]"
      ]
     },
     "metadata": {},
     "output_type": "display_data"
    },
    {
     "name": "stdout",
     "output_type": "stream",
     "text": [
      "Training: Epoch 210 || Loss:   0.558 || Accuracy:  84.76%\n",
      "Training: Epoch 211 || Loss:   0.559 || Accuracy:  84.77%\n",
      "Training: Epoch 212 || Loss:   0.560 || Accuracy:  84.74%\n",
      "Training: Epoch 213 || Loss:   0.559 || Accuracy:  84.76%\n",
      "Training: Epoch 214 || Loss:   0.559 || Accuracy:  84.75%\n",
      "Training: Epoch 215 || Loss:   0.560 || Accuracy:  84.74%\n",
      "Training: Epoch 216 || Loss:   0.560 || Accuracy:  84.73%\n",
      "Training: Epoch 217 || Loss:   0.561 || Accuracy:  84.74%\n",
      "Training: Epoch 218 || Loss:   0.560 || Accuracy:  84.72%\n",
      "Training: Epoch 219 || Loss:   0.560 || Accuracy:  84.73%\n"
     ]
    },
    {
     "data": {
      "application/vnd.jupyter.widget-view+json": {
       "model_id": "2bfb5d8e63d8490fb0447d5f1b18ae07",
       "version_major": 2,
       "version_minor": 0
      },
      "text/plain": [
       "0it [00:00, ?it/s]"
      ]
     },
     "metadata": {},
     "output_type": "display_data"
    },
    {
     "name": "stdout",
     "output_type": "stream",
     "text": [
      "Training: Epoch 220 || Loss:   0.561 || Accuracy:  84.72%\n",
      "Training: Epoch 221 || Loss:   0.560 || Accuracy:  84.71%\n",
      "Training: Epoch 222 || Loss:   0.561 || Accuracy:  84.70%\n",
      "Training: Epoch 223 || Loss:   0.561 || Accuracy:  84.72%\n",
      "Training: Epoch 224 || Loss:   0.561 || Accuracy:  84.70%\n",
      "Training: Epoch 225 || Loss:   0.562 || Accuracy:  84.68%\n",
      "Training: Epoch 226 || Loss:   0.562 || Accuracy:  84.68%\n",
      "Training: Epoch 227 || Loss:   0.562 || Accuracy:  84.67%\n",
      "Training: Epoch 228 || Loss:   0.562 || Accuracy:  84.67%\n",
      "Training: Epoch 229 || Loss:   0.562 || Accuracy:  84.64%\n"
     ]
    },
    {
     "data": {
      "application/vnd.jupyter.widget-view+json": {
       "model_id": "5da2159401674b0db667c2af371321bf",
       "version_major": 2,
       "version_minor": 0
      },
      "text/plain": [
       "0it [00:00, ?it/s]"
      ]
     },
     "metadata": {},
     "output_type": "display_data"
    },
    {
     "name": "stdout",
     "output_type": "stream",
     "text": [
      "Training: Epoch 230 || Loss:   0.562 || Accuracy:  84.63%\n",
      "Training: Epoch 231 || Loss:   0.563 || Accuracy:  84.64%\n",
      "Training: Epoch 232 || Loss:   0.562 || Accuracy:  84.65%\n",
      "Training: Epoch 233 || Loss:   0.562 || Accuracy:  84.62%\n",
      "Training: Epoch 234 || Loss:   0.563 || Accuracy:  84.62%\n",
      "Training: Epoch 235 || Loss:   0.564 || Accuracy:  84.60%\n",
      "Training: Epoch 236 || Loss:   0.563 || Accuracy:  84.61%\n",
      "Training: Epoch 237 || Loss:   0.563 || Accuracy:  84.60%\n",
      "Training: Epoch 238 || Loss:   0.564 || Accuracy:  84.60%\n",
      "Training: Epoch 239 || Loss:   0.564 || Accuracy:  84.59%\n"
     ]
    },
    {
     "data": {
      "application/vnd.jupyter.widget-view+json": {
       "model_id": "dc1f51968eb34afd9fbcc81bee5f3013",
       "version_major": 2,
       "version_minor": 0
      },
      "text/plain": [
       "0it [00:00, ?it/s]"
      ]
     },
     "metadata": {},
     "output_type": "display_data"
    },
    {
     "name": "stdout",
     "output_type": "stream",
     "text": [
      "Training: Epoch 240 || Loss:   0.564 || Accuracy:  84.58%\n",
      "Training: Epoch 241 || Loss:   0.565 || Accuracy:  84.58%\n",
      "Training: Epoch 242 || Loss:   0.564 || Accuracy:  84.55%\n",
      "Training: Epoch 243 || Loss:   0.566 || Accuracy:  84.55%\n",
      "Training: Epoch 244 || Loss:   0.565 || Accuracy:  84.51%\n",
      "Training: Epoch 245 || Loss:   0.566 || Accuracy:  84.52%\n",
      "Training: Epoch 246 || Loss:   0.566 || Accuracy:  84.53%\n",
      "Training: Epoch 247 || Loss:   0.566 || Accuracy:  84.51%\n",
      "Training: Epoch 248 || Loss:   0.566 || Accuracy:  84.51%\n",
      "Training: Epoch 249 || Loss:   0.567 || Accuracy:  84.48%\n",
      "Shuffling\n"
     ]
    },
    {
     "data": {
      "application/vnd.jupyter.widget-view+json": {
       "model_id": "fbce64d6a2614b03ba7f71509f51d993",
       "version_major": 2,
       "version_minor": 0
      },
      "text/plain": [
       "0it [00:00, ?it/s]"
      ]
     },
     "metadata": {},
     "output_type": "display_data"
    },
    {
     "name": "stdout",
     "output_type": "stream",
     "text": [
      "Training: Epoch 250 || Loss:   0.561 || Accuracy:  84.52%\n",
      "Training: Epoch 251 || Loss:   0.559 || Accuracy:  84.59%\n",
      "Training: Epoch 252 || Loss:   0.558 || Accuracy:  84.59%\n",
      "Training: Epoch 253 || Loss:   0.558 || Accuracy:  84.61%\n",
      "Training: Epoch 254 || Loss:   0.558 || Accuracy:  84.61%\n",
      "Training: Epoch 255 || Loss:   0.557 || Accuracy:  84.58%\n",
      "Training: Epoch 256 || Loss:   0.558 || Accuracy:  84.60%\n",
      "Training: Epoch 257 || Loss:   0.558 || Accuracy:  84.62%\n",
      "Training: Epoch 258 || Loss:   0.559 || Accuracy:  84.58%\n",
      "Training: Epoch 259 || Loss:   0.558 || Accuracy:  84.57%\n"
     ]
    },
    {
     "data": {
      "application/vnd.jupyter.widget-view+json": {
       "model_id": "3c200c1eb96c4c70b95518e07512b236",
       "version_major": 2,
       "version_minor": 0
      },
      "text/plain": [
       "0it [00:00, ?it/s]"
      ]
     },
     "metadata": {},
     "output_type": "display_data"
    },
    {
     "name": "stdout",
     "output_type": "stream",
     "text": [
      "Training: Epoch 260 || Loss:   0.559 || Accuracy:  84.58%\n",
      "Training: Epoch 261 || Loss:   0.559 || Accuracy:  84.57%\n",
      "Training: Epoch 262 || Loss:   0.559 || Accuracy:  84.57%\n",
      "Training: Epoch 263 || Loss:   0.559 || Accuracy:  84.56%\n",
      "Training: Epoch 264 || Loss:   0.559 || Accuracy:  84.57%\n",
      "Training: Epoch 265 || Loss:   0.559 || Accuracy:  84.59%\n",
      "Training: Epoch 266 || Loss:   0.559 || Accuracy:  84.58%\n",
      "Training: Epoch 267 || Loss:   0.559 || Accuracy:  84.56%\n",
      "Training: Epoch 268 || Loss:   0.560 || Accuracy:  84.55%\n",
      "Training: Epoch 269 || Loss:   0.561 || Accuracy:  84.55%\n"
     ]
    },
    {
     "data": {
      "application/vnd.jupyter.widget-view+json": {
       "model_id": "e4cb5152b52944eb860a114b1810da2d",
       "version_major": 2,
       "version_minor": 0
      },
      "text/plain": [
       "0it [00:00, ?it/s]"
      ]
     },
     "metadata": {},
     "output_type": "display_data"
    },
    {
     "name": "stdout",
     "output_type": "stream",
     "text": [
      "Training: Epoch 270 || Loss:   0.562 || Accuracy:  84.55%\n",
      "Training: Epoch 271 || Loss:   0.562 || Accuracy:  84.55%\n",
      "Training: Epoch 272 || Loss:   0.562 || Accuracy:  84.53%\n",
      "Training: Epoch 273 || Loss:   0.562 || Accuracy:  84.52%\n",
      "Training: Epoch 274 || Loss:   0.562 || Accuracy:  84.52%\n",
      "Training: Epoch 275 || Loss:   0.562 || Accuracy:  84.52%\n",
      "Training: Epoch 276 || Loss:   0.562 || Accuracy:  84.51%\n",
      "Training: Epoch 277 || Loss:   0.562 || Accuracy:  84.50%\n",
      "Training: Epoch 278 || Loss:   0.563 || Accuracy:  84.49%\n",
      "Training: Epoch 279 || Loss:   0.563 || Accuracy:  84.47%\n"
     ]
    },
    {
     "data": {
      "application/vnd.jupyter.widget-view+json": {
       "model_id": "968d62ae45894a47a7a9083609442a44",
       "version_major": 2,
       "version_minor": 0
      },
      "text/plain": [
       "0it [00:00, ?it/s]"
      ]
     },
     "metadata": {},
     "output_type": "display_data"
    },
    {
     "name": "stdout",
     "output_type": "stream",
     "text": [
      "Training: Epoch 280 || Loss:   0.563 || Accuracy:  84.46%\n",
      "Training: Epoch 281 || Loss:   0.564 || Accuracy:  84.47%\n",
      "Training: Epoch 282 || Loss:   0.564 || Accuracy:  84.45%\n",
      "Training: Epoch 283 || Loss:   0.565 || Accuracy:  84.43%\n",
      "Training: Epoch 284 || Loss:   0.564 || Accuracy:  84.42%\n",
      "Training: Epoch 285 || Loss:   0.564 || Accuracy:  84.43%\n",
      "Training: Epoch 286 || Loss:   0.564 || Accuracy:  84.45%\n",
      "Training: Epoch 287 || Loss:   0.566 || Accuracy:  84.44%\n",
      "Training: Epoch 288 || Loss:   0.566 || Accuracy:  84.43%\n",
      "Training: Epoch 289 || Loss:   0.566 || Accuracy:  84.44%\n"
     ]
    },
    {
     "data": {
      "application/vnd.jupyter.widget-view+json": {
       "model_id": "877f5f42c25c44b5b58b86a7863537fb",
       "version_major": 2,
       "version_minor": 0
      },
      "text/plain": [
       "0it [00:00, ?it/s]"
      ]
     },
     "metadata": {},
     "output_type": "display_data"
    },
    {
     "name": "stdout",
     "output_type": "stream",
     "text": [
      "Training: Epoch 290 || Loss:   0.566 || Accuracy:  84.41%\n",
      "Training: Epoch 291 || Loss:   0.566 || Accuracy:  84.40%\n",
      "Training: Epoch 292 || Loss:   0.567 || Accuracy:  84.42%\n",
      "Training: Epoch 293 || Loss:   0.567 || Accuracy:  84.40%\n",
      "Training: Epoch 294 || Loss:   0.566 || Accuracy:  84.40%\n",
      "Training: Epoch 295 || Loss:   0.568 || Accuracy:  84.40%\n",
      "Training: Epoch 296 || Loss:   0.568 || Accuracy:  84.38%\n",
      "Training: Epoch 297 || Loss:   0.568 || Accuracy:  84.38%\n",
      "Training: Epoch 298 || Loss:   0.567 || Accuracy:  84.38%\n",
      "Training: Epoch 299 || Loss:   0.568 || Accuracy:  84.39%\n",
      "Shuffling\n"
     ]
    },
    {
     "data": {
      "application/vnd.jupyter.widget-view+json": {
       "model_id": "1bd0531e7fc44e4b99facbf72bf476d8",
       "version_major": 2,
       "version_minor": 0
      },
      "text/plain": [
       "0it [00:00, ?it/s]"
      ]
     },
     "metadata": {},
     "output_type": "display_data"
    },
    {
     "name": "stdout",
     "output_type": "stream",
     "text": [
      "Training: Epoch 300 || Loss:   0.573 || Accuracy:  84.37%\n",
      "Training: Epoch 301 || Loss:   0.572 || Accuracy:  84.37%\n",
      "Training: Epoch 302 || Loss:   0.571 || Accuracy:  84.39%\n",
      "Training: Epoch 303 || Loss:   0.572 || Accuracy:  84.38%\n",
      "Training: Epoch 304 || Loss:   0.573 || Accuracy:  84.39%\n",
      "Training: Epoch 305 || Loss:   0.573 || Accuracy:  84.39%\n",
      "Training: Epoch 306 || Loss:   0.573 || Accuracy:  84.34%\n",
      "Training: Epoch 307 || Loss:   0.574 || Accuracy:  84.33%\n",
      "Training: Epoch 308 || Loss:   0.574 || Accuracy:  84.32%\n",
      "Training: Epoch 309 || Loss:   0.574 || Accuracy:  84.29%\n"
     ]
    },
    {
     "data": {
      "application/vnd.jupyter.widget-view+json": {
       "model_id": "6c192e09fcda4c41b0f051b794fc74e5",
       "version_major": 2,
       "version_minor": 0
      },
      "text/plain": [
       "0it [00:00, ?it/s]"
      ]
     },
     "metadata": {},
     "output_type": "display_data"
    },
    {
     "name": "stdout",
     "output_type": "stream",
     "text": [
      "Training: Epoch 310 || Loss:   0.575 || Accuracy:  84.30%\n",
      "Training: Epoch 311 || Loss:   0.575 || Accuracy:  84.25%\n",
      "Training: Epoch 312 || Loss:   0.575 || Accuracy:  84.26%\n",
      "Training: Epoch 313 || Loss:   0.576 || Accuracy:  84.25%\n",
      "Training: Epoch 314 || Loss:   0.575 || Accuracy:  84.23%\n",
      "Training: Epoch 315 || Loss:   0.576 || Accuracy:  84.24%\n",
      "Training: Epoch 316 || Loss:   0.577 || Accuracy:  84.21%\n",
      "Training: Epoch 317 || Loss:   0.577 || Accuracy:  84.25%\n",
      "Training: Epoch 318 || Loss:   0.578 || Accuracy:  84.21%\n",
      "Training: Epoch 319 || Loss:   0.577 || Accuracy:  84.24%\n"
     ]
    },
    {
     "data": {
      "application/vnd.jupyter.widget-view+json": {
       "model_id": "2019784ac0c14d28a740f223ee500622",
       "version_major": 2,
       "version_minor": 0
      },
      "text/plain": [
       "0it [00:00, ?it/s]"
      ]
     },
     "metadata": {},
     "output_type": "display_data"
    },
    {
     "name": "stdout",
     "output_type": "stream",
     "text": [
      "Training: Epoch 320 || Loss:   0.578 || Accuracy:  84.22%\n",
      "Training: Epoch 321 || Loss:   0.578 || Accuracy:  84.22%\n",
      "Training: Epoch 322 || Loss:   0.578 || Accuracy:  84.19%\n",
      "Training: Epoch 323 || Loss:   0.578 || Accuracy:  84.22%\n",
      "Training: Epoch 324 || Loss:   0.579 || Accuracy:  84.20%\n",
      "Training: Epoch 325 || Loss:   0.580 || Accuracy:  84.19%\n",
      "Training: Epoch 326 || Loss:   0.579 || Accuracy:  84.19%\n",
      "Training: Epoch 327 || Loss:   0.579 || Accuracy:  84.18%\n",
      "Training: Epoch 328 || Loss:   0.580 || Accuracy:  84.17%\n",
      "Training: Epoch 329 || Loss:   0.580 || Accuracy:  84.16%\n"
     ]
    },
    {
     "data": {
      "application/vnd.jupyter.widget-view+json": {
       "model_id": "71c7e507bee64029a71bc27a13ca6d52",
       "version_major": 2,
       "version_minor": 0
      },
      "text/plain": [
       "0it [00:00, ?it/s]"
      ]
     },
     "metadata": {},
     "output_type": "display_data"
    },
    {
     "name": "stdout",
     "output_type": "stream",
     "text": [
      "Training: Epoch 330 || Loss:   0.579 || Accuracy:  84.16%\n",
      "Training: Epoch 331 || Loss:   0.580 || Accuracy:  84.17%\n",
      "Training: Epoch 332 || Loss:   0.580 || Accuracy:  84.15%\n",
      "Training: Epoch 333 || Loss:   0.580 || Accuracy:  84.14%\n",
      "Training: Epoch 334 || Loss:   0.580 || Accuracy:  84.15%\n",
      "Training: Epoch 335 || Loss:   0.580 || Accuracy:  84.13%\n",
      "Training: Epoch 336 || Loss:   0.581 || Accuracy:  84.14%\n",
      "Training: Epoch 337 || Loss:   0.580 || Accuracy:  84.13%\n",
      "Training: Epoch 338 || Loss:   0.580 || Accuracy:  84.13%\n",
      "Training: Epoch 339 || Loss:   0.580 || Accuracy:  84.11%\n"
     ]
    },
    {
     "data": {
      "application/vnd.jupyter.widget-view+json": {
       "model_id": "b1d10b5bdc4b4d21b6e32b5edfb3d79a",
       "version_major": 2,
       "version_minor": 0
      },
      "text/plain": [
       "0it [00:00, ?it/s]"
      ]
     },
     "metadata": {},
     "output_type": "display_data"
    },
    {
     "name": "stdout",
     "output_type": "stream",
     "text": [
      "Training: Epoch 340 || Loss:   0.580 || Accuracy:  84.10%\n",
      "Training: Epoch 341 || Loss:   0.581 || Accuracy:  84.12%\n",
      "Training: Epoch 342 || Loss:   0.581 || Accuracy:  84.10%\n",
      "Training: Epoch 343 || Loss:   0.582 || Accuracy:  84.11%\n",
      "Training: Epoch 344 || Loss:   0.581 || Accuracy:  84.10%\n",
      "Training: Epoch 345 || Loss:   0.582 || Accuracy:  84.10%\n",
      "Training: Epoch 346 || Loss:   0.583 || Accuracy:  84.10%\n",
      "Training: Epoch 347 || Loss:   0.582 || Accuracy:  84.10%\n",
      "Training: Epoch 348 || Loss:   0.582 || Accuracy:  84.09%\n",
      "Training: Epoch 349 || Loss:   0.583 || Accuracy:  84.10%\n",
      "Shuffling\n"
     ]
    },
    {
     "data": {
      "application/vnd.jupyter.widget-view+json": {
       "model_id": "e44e88a31c194ccbb1aa075571c6839a",
       "version_major": 2,
       "version_minor": 0
      },
      "text/plain": [
       "0it [00:00, ?it/s]"
      ]
     },
     "metadata": {},
     "output_type": "display_data"
    },
    {
     "name": "stdout",
     "output_type": "stream",
     "text": [
      "Training: Epoch 350 || Loss:   0.580 || Accuracy:  84.10%\n",
      "Training: Epoch 351 || Loss:   0.579 || Accuracy:  84.16%\n",
      "Training: Epoch 352 || Loss:   0.578 || Accuracy:  84.17%\n",
      "Training: Epoch 353 || Loss:   0.579 || Accuracy:  84.17%\n",
      "Training: Epoch 354 || Loss:   0.579 || Accuracy:  84.17%\n",
      "Training: Epoch 355 || Loss:   0.580 || Accuracy:  84.15%\n",
      "Training: Epoch 356 || Loss:   0.581 || Accuracy:  84.14%\n",
      "Training: Epoch 357 || Loss:   0.580 || Accuracy:  84.15%\n",
      "Training: Epoch 358 || Loss:   0.581 || Accuracy:  84.13%\n",
      "Training: Epoch 359 || Loss:   0.581 || Accuracy:  84.11%\n"
     ]
    },
    {
     "data": {
      "application/vnd.jupyter.widget-view+json": {
       "model_id": "a90dc986db574c5cb8cde24a41ef49b2",
       "version_major": 2,
       "version_minor": 0
      },
      "text/plain": [
       "0it [00:00, ?it/s]"
      ]
     },
     "metadata": {},
     "output_type": "display_data"
    },
    {
     "name": "stdout",
     "output_type": "stream",
     "text": [
      "Training: Epoch 360 || Loss:   0.581 || Accuracy:  84.08%\n",
      "Training: Epoch 361 || Loss:   0.582 || Accuracy:  84.10%\n",
      "Training: Epoch 362 || Loss:   0.582 || Accuracy:  84.11%\n",
      "Training: Epoch 363 || Loss:   0.582 || Accuracy:  84.10%\n",
      "Training: Epoch 364 || Loss:   0.582 || Accuracy:  84.07%\n",
      "Training: Epoch 365 || Loss:   0.583 || Accuracy:  84.08%\n",
      "Training: Epoch 366 || Loss:   0.583 || Accuracy:  84.09%\n",
      "Training: Epoch 367 || Loss:   0.584 || Accuracy:  84.06%\n",
      "Training: Epoch 368 || Loss:   0.585 || Accuracy:  84.05%\n",
      "Training: Epoch 369 || Loss:   0.585 || Accuracy:  84.06%\n"
     ]
    },
    {
     "data": {
      "application/vnd.jupyter.widget-view+json": {
       "model_id": "9603f44f65fc4450b586d8bf2e47efe4",
       "version_major": 2,
       "version_minor": 0
      },
      "text/plain": [
       "0it [00:00, ?it/s]"
      ]
     },
     "metadata": {},
     "output_type": "display_data"
    },
    {
     "name": "stdout",
     "output_type": "stream",
     "text": [
      "Training: Epoch 370 || Loss:   0.585 || Accuracy:  84.03%\n",
      "Training: Epoch 371 || Loss:   0.585 || Accuracy:  84.05%\n",
      "Training: Epoch 372 || Loss:   0.586 || Accuracy:  84.04%\n",
      "Training: Epoch 373 || Loss:   0.586 || Accuracy:  84.02%\n",
      "Training: Epoch 374 || Loss:   0.586 || Accuracy:  84.03%\n",
      "Training: Epoch 375 || Loss:   0.586 || Accuracy:  84.03%\n",
      "Training: Epoch 376 || Loss:   0.587 || Accuracy:  84.04%\n",
      "Training: Epoch 377 || Loss:   0.586 || Accuracy:  84.04%\n",
      "Training: Epoch 378 || Loss:   0.586 || Accuracy:  84.04%\n",
      "Training: Epoch 379 || Loss:   0.586 || Accuracy:  84.05%\n"
     ]
    },
    {
     "data": {
      "application/vnd.jupyter.widget-view+json": {
       "model_id": "6f426653bd0f46758ce3880ea3864ab9",
       "version_major": 2,
       "version_minor": 0
      },
      "text/plain": [
       "0it [00:00, ?it/s]"
      ]
     },
     "metadata": {},
     "output_type": "display_data"
    },
    {
     "name": "stdout",
     "output_type": "stream",
     "text": [
      "Training: Epoch 380 || Loss:   0.586 || Accuracy:  84.04%\n",
      "Training: Epoch 381 || Loss:   0.586 || Accuracy:  84.04%\n",
      "Training: Epoch 382 || Loss:   0.587 || Accuracy:  84.05%\n",
      "Training: Epoch 383 || Loss:   0.587 || Accuracy:  84.05%\n",
      "Training: Epoch 384 || Loss:   0.586 || Accuracy:  84.03%\n",
      "Training: Epoch 385 || Loss:   0.587 || Accuracy:  84.04%\n",
      "Training: Epoch 386 || Loss:   0.588 || Accuracy:  84.04%\n",
      "Training: Epoch 387 || Loss:   0.587 || Accuracy:  84.03%\n",
      "Training: Epoch 388 || Loss:   0.587 || Accuracy:  84.04%\n",
      "Training: Epoch 389 || Loss:   0.588 || Accuracy:  84.04%\n"
     ]
    },
    {
     "data": {
      "application/vnd.jupyter.widget-view+json": {
       "model_id": "8047ddd2e97944e8b2809c93146416b4",
       "version_major": 2,
       "version_minor": 0
      },
      "text/plain": [
       "0it [00:00, ?it/s]"
      ]
     },
     "metadata": {},
     "output_type": "display_data"
    },
    {
     "name": "stdout",
     "output_type": "stream",
     "text": [
      "Training: Epoch 390 || Loss:   0.587 || Accuracy:  84.03%\n",
      "Training: Epoch 391 || Loss:   0.589 || Accuracy:  84.01%\n",
      "Training: Epoch 392 || Loss:   0.589 || Accuracy:  84.01%\n",
      "Training: Epoch 393 || Loss:   0.589 || Accuracy:  84.02%\n",
      "Training: Epoch 394 || Loss:   0.589 || Accuracy:  84.01%\n",
      "Training: Epoch 395 || Loss:   0.590 || Accuracy:  84.02%\n",
      "Training: Epoch 396 || Loss:   0.590 || Accuracy:  84.04%\n",
      "Training: Epoch 397 || Loss:   0.590 || Accuracy:  84.02%\n",
      "Training: Epoch 398 || Loss:   0.590 || Accuracy:  84.04%\n",
      "Training: Epoch 399 || Loss:   0.590 || Accuracy:  84.02%\n",
      "Shuffling\n"
     ]
    },
    {
     "data": {
      "application/vnd.jupyter.widget-view+json": {
       "model_id": "eaae041c5d064cf6934c891bafa46985",
       "version_major": 2,
       "version_minor": 0
      },
      "text/plain": [
       "0it [00:00, ?it/s]"
      ]
     },
     "metadata": {},
     "output_type": "display_data"
    },
    {
     "name": "stdout",
     "output_type": "stream",
     "text": [
      "Training: Epoch 400 || Loss:   0.587 || Accuracy:  84.06%\n",
      "Training: Epoch 401 || Loss:   0.584 || Accuracy:  84.15%\n",
      "Training: Epoch 402 || Loss:   0.583 || Accuracy:  84.14%\n",
      "Training: Epoch 403 || Loss:   0.582 || Accuracy:  84.13%\n",
      "Training: Epoch 404 || Loss:   0.581 || Accuracy:  84.14%\n",
      "Training: Epoch 405 || Loss:   0.580 || Accuracy:  84.12%\n",
      "Training: Epoch 406 || Loss:   0.580 || Accuracy:  84.11%\n",
      "Training: Epoch 407 || Loss:   0.579 || Accuracy:  84.12%\n",
      "Training: Epoch 408 || Loss:   0.579 || Accuracy:  84.11%\n",
      "Training: Epoch 409 || Loss:   0.580 || Accuracy:  84.10%\n"
     ]
    },
    {
     "data": {
      "application/vnd.jupyter.widget-view+json": {
       "model_id": "1ad0d52c8b1a4571934a77c8bd61d8e1",
       "version_major": 2,
       "version_minor": 0
      },
      "text/plain": [
       "0it [00:00, ?it/s]"
      ]
     },
     "metadata": {},
     "output_type": "display_data"
    },
    {
     "name": "stdout",
     "output_type": "stream",
     "text": [
      "Training: Epoch 410 || Loss:   0.580 || Accuracy:  84.08%\n",
      "Training: Epoch 411 || Loss:   0.580 || Accuracy:  84.07%\n",
      "Training: Epoch 412 || Loss:   0.580 || Accuracy:  84.07%\n",
      "Training: Epoch 413 || Loss:   0.580 || Accuracy:  84.07%\n",
      "Training: Epoch 414 || Loss:   0.581 || Accuracy:  84.06%\n",
      "Training: Epoch 415 || Loss:   0.581 || Accuracy:  84.06%\n",
      "Training: Epoch 416 || Loss:   0.582 || Accuracy:  84.05%\n",
      "Training: Epoch 417 || Loss:   0.582 || Accuracy:  84.05%\n",
      "Training: Epoch 418 || Loss:   0.582 || Accuracy:  84.05%\n",
      "Training: Epoch 419 || Loss:   0.583 || Accuracy:  84.04%\n"
     ]
    },
    {
     "data": {
      "application/vnd.jupyter.widget-view+json": {
       "model_id": "ab4605a02bf74fc1848ea74f321e3e66",
       "version_major": 2,
       "version_minor": 0
      },
      "text/plain": [
       "0it [00:00, ?it/s]"
      ]
     },
     "metadata": {},
     "output_type": "display_data"
    },
    {
     "name": "stdout",
     "output_type": "stream",
     "text": [
      "Training: Epoch 420 || Loss:   0.583 || Accuracy:  84.04%\n",
      "Training: Epoch 421 || Loss:   0.583 || Accuracy:  84.06%\n",
      "Training: Epoch 422 || Loss:   0.582 || Accuracy:  84.06%\n",
      "Training: Epoch 423 || Loss:   0.582 || Accuracy:  84.04%\n",
      "Training: Epoch 424 || Loss:   0.582 || Accuracy:  84.05%\n",
      "Training: Epoch 425 || Loss:   0.582 || Accuracy:  84.07%\n",
      "Training: Epoch 426 || Loss:   0.583 || Accuracy:  84.05%\n",
      "Training: Epoch 427 || Loss:   0.583 || Accuracy:  84.06%\n",
      "Training: Epoch 428 || Loss:   0.583 || Accuracy:  84.07%\n",
      "Training: Epoch 429 || Loss:   0.583 || Accuracy:  84.05%\n"
     ]
    },
    {
     "data": {
      "application/vnd.jupyter.widget-view+json": {
       "model_id": "86a388bf1b2341829ceb8ab6e6762672",
       "version_major": 2,
       "version_minor": 0
      },
      "text/plain": [
       "0it [00:00, ?it/s]"
      ]
     },
     "metadata": {},
     "output_type": "display_data"
    },
    {
     "name": "stdout",
     "output_type": "stream",
     "text": [
      "Training: Epoch 430 || Loss:   0.582 || Accuracy:  84.07%\n",
      "Training: Epoch 431 || Loss:   0.583 || Accuracy:  84.08%\n",
      "Training: Epoch 432 || Loss:   0.583 || Accuracy:  84.06%\n",
      "Training: Epoch 433 || Loss:   0.582 || Accuracy:  84.07%\n",
      "Training: Epoch 434 || Loss:   0.582 || Accuracy:  84.10%\n",
      "Training: Epoch 435 || Loss:   0.582 || Accuracy:  84.09%\n",
      "Training: Epoch 436 || Loss:   0.582 || Accuracy:  84.09%\n",
      "Training: Epoch 437 || Loss:   0.582 || Accuracy:  84.09%\n",
      "Training: Epoch 438 || Loss:   0.582 || Accuracy:  84.08%\n",
      "Training: Epoch 439 || Loss:   0.582 || Accuracy:  84.11%\n"
     ]
    },
    {
     "data": {
      "application/vnd.jupyter.widget-view+json": {
       "model_id": "be710580c19e4852ae051c129dbf45d4",
       "version_major": 2,
       "version_minor": 0
      },
      "text/plain": [
       "0it [00:00, ?it/s]"
      ]
     },
     "metadata": {},
     "output_type": "display_data"
    },
    {
     "name": "stdout",
     "output_type": "stream",
     "text": [
      "Training: Epoch 440 || Loss:   0.581 || Accuracy:  84.11%\n",
      "Training: Epoch 441 || Loss:   0.581 || Accuracy:  84.12%\n",
      "Training: Epoch 442 || Loss:   0.581 || Accuracy:  84.13%\n",
      "Training: Epoch 443 || Loss:   0.581 || Accuracy:  84.13%\n",
      "Training: Epoch 444 || Loss:   0.581 || Accuracy:  84.15%\n",
      "Training: Epoch 445 || Loss:   0.581 || Accuracy:  84.16%\n",
      "Training: Epoch 446 || Loss:   0.579 || Accuracy:  84.17%\n",
      "Training: Epoch 447 || Loss:   0.580 || Accuracy:  84.16%\n",
      "Training: Epoch 448 || Loss:   0.579 || Accuracy:  84.14%\n",
      "Training: Epoch 449 || Loss:   0.579 || Accuracy:  84.17%\n",
      "Shuffling\n"
     ]
    },
    {
     "data": {
      "application/vnd.jupyter.widget-view+json": {
       "model_id": "3788800ff4f64bb8a60882137e6af90c",
       "version_major": 2,
       "version_minor": 0
      },
      "text/plain": [
       "0it [00:00, ?it/s]"
      ]
     },
     "metadata": {},
     "output_type": "display_data"
    },
    {
     "name": "stdout",
     "output_type": "stream",
     "text": [
      "Training: Epoch 450 || Loss:   0.578 || Accuracy:  84.19%\n",
      "Training: Epoch 451 || Loss:   0.577 || Accuracy:  84.26%\n",
      "Training: Epoch 452 || Loss:   0.577 || Accuracy:  84.23%\n",
      "Training: Epoch 453 || Loss:   0.576 || Accuracy:  84.23%\n",
      "Training: Epoch 454 || Loss:   0.576 || Accuracy:  84.23%\n",
      "Training: Epoch 455 || Loss:   0.577 || Accuracy:  84.22%\n",
      "Training: Epoch 456 || Loss:   0.578 || Accuracy:  84.18%\n",
      "Training: Epoch 457 || Loss:   0.577 || Accuracy:  84.20%\n",
      "Training: Epoch 458 || Loss:   0.577 || Accuracy:  84.18%\n",
      "Training: Epoch 459 || Loss:   0.577 || Accuracy:  84.14%\n"
     ]
    },
    {
     "data": {
      "application/vnd.jupyter.widget-view+json": {
       "model_id": "d0f1a398d4154d0e9801f909a6a5c007",
       "version_major": 2,
       "version_minor": 0
      },
      "text/plain": [
       "0it [00:00, ?it/s]"
      ]
     },
     "metadata": {},
     "output_type": "display_data"
    },
    {
     "name": "stdout",
     "output_type": "stream",
     "text": [
      "Training: Epoch 460 || Loss:   0.577 || Accuracy:  84.14%\n",
      "Training: Epoch 461 || Loss:   0.577 || Accuracy:  84.12%\n",
      "Training: Epoch 462 || Loss:   0.577 || Accuracy:  84.10%\n",
      "Training: Epoch 463 || Loss:   0.576 || Accuracy:  84.07%\n",
      "Training: Epoch 464 || Loss:   0.577 || Accuracy:  84.09%\n",
      "Training: Epoch 465 || Loss:   0.576 || Accuracy:  84.08%\n",
      "Training: Epoch 466 || Loss:   0.577 || Accuracy:  84.07%\n",
      "Training: Epoch 467 || Loss:   0.577 || Accuracy:  84.10%\n",
      "Training: Epoch 468 || Loss:   0.577 || Accuracy:  84.13%\n",
      "Training: Epoch 469 || Loss:   0.576 || Accuracy:  84.13%\n"
     ]
    },
    {
     "data": {
      "application/vnd.jupyter.widget-view+json": {
       "model_id": "5d2a59ac6ae646a482b1fd869774cfc3",
       "version_major": 2,
       "version_minor": 0
      },
      "text/plain": [
       "0it [00:00, ?it/s]"
      ]
     },
     "metadata": {},
     "output_type": "display_data"
    },
    {
     "name": "stdout",
     "output_type": "stream",
     "text": [
      "Training: Epoch 470 || Loss:   0.576 || Accuracy:  84.12%\n",
      "Training: Epoch 471 || Loss:   0.576 || Accuracy:  84.13%\n",
      "Training: Epoch 472 || Loss:   0.576 || Accuracy:  84.13%\n",
      "Training: Epoch 473 || Loss:   0.576 || Accuracy:  84.14%\n",
      "Training: Epoch 474 || Loss:   0.576 || Accuracy:  84.14%\n",
      "Training: Epoch 475 || Loss:   0.575 || Accuracy:  84.13%\n",
      "Training: Epoch 476 || Loss:   0.575 || Accuracy:  84.12%\n",
      "Training: Epoch 477 || Loss:   0.574 || Accuracy:  84.13%\n",
      "Training: Epoch 478 || Loss:   0.574 || Accuracy:  84.14%\n",
      "Training: Epoch 479 || Loss:   0.574 || Accuracy:  84.13%\n"
     ]
    },
    {
     "data": {
      "application/vnd.jupyter.widget-view+json": {
       "model_id": "6b5aac11f0fb47dc870075552700edbf",
       "version_major": 2,
       "version_minor": 0
      },
      "text/plain": [
       "0it [00:00, ?it/s]"
      ]
     },
     "metadata": {},
     "output_type": "display_data"
    },
    {
     "name": "stdout",
     "output_type": "stream",
     "text": [
      "Training: Epoch 480 || Loss:   0.574 || Accuracy:  84.14%\n",
      "Training: Epoch 481 || Loss:   0.574 || Accuracy:  84.15%\n",
      "Training: Epoch 482 || Loss:   0.574 || Accuracy:  84.17%\n",
      "Training: Epoch 483 || Loss:   0.573 || Accuracy:  84.16%\n",
      "Training: Epoch 484 || Loss:   0.573 || Accuracy:  84.16%\n",
      "Training: Epoch 485 || Loss:   0.573 || Accuracy:  84.16%\n",
      "Training: Epoch 486 || Loss:   0.573 || Accuracy:  84.17%\n",
      "Training: Epoch 487 || Loss:   0.573 || Accuracy:  84.18%\n",
      "Training: Epoch 488 || Loss:   0.573 || Accuracy:  84.19%\n",
      "Training: Epoch 489 || Loss:   0.574 || Accuracy:  84.18%\n"
     ]
    },
    {
     "data": {
      "application/vnd.jupyter.widget-view+json": {
       "model_id": "4fca849394994f3891b1309496e7404e",
       "version_major": 2,
       "version_minor": 0
      },
      "text/plain": [
       "0it [00:00, ?it/s]"
      ]
     },
     "metadata": {},
     "output_type": "display_data"
    },
    {
     "name": "stdout",
     "output_type": "stream",
     "text": [
      "Training: Epoch 490 || Loss:   0.573 || Accuracy:  84.18%\n",
      "Training: Epoch 491 || Loss:   0.572 || Accuracy:  84.17%\n",
      "Training: Epoch 492 || Loss:   0.573 || Accuracy:  84.18%\n",
      "Training: Epoch 493 || Loss:   0.573 || Accuracy:  84.18%\n",
      "Training: Epoch 494 || Loss:   0.573 || Accuracy:  84.17%\n",
      "Training: Epoch 495 || Loss:   0.573 || Accuracy:  84.17%\n",
      "Training: Epoch 496 || Loss:   0.573 || Accuracy:  84.18%\n",
      "Training: Epoch 497 || Loss:   0.573 || Accuracy:  84.19%\n",
      "Training: Epoch 498 || Loss:   0.572 || Accuracy:  84.21%\n",
      "Training: Epoch 499 || Loss:   0.573 || Accuracy:  84.19%\n",
      "Shuffling\n"
     ]
    },
    {
     "data": {
      "application/vnd.jupyter.widget-view+json": {
       "model_id": "5e32911d3c7745c8b0d35149efdf613c",
       "version_major": 2,
       "version_minor": 0
      },
      "text/plain": [
       "0it [00:00, ?it/s]"
      ]
     },
     "metadata": {},
     "output_type": "display_data"
    },
    {
     "name": "stdout",
     "output_type": "stream",
     "text": [
      "Training: Epoch 500 || Loss:   0.575 || Accuracy:  84.23%\n"
     ]
    }
   ],
   "source": [
    "import random\n",
    "\n",
    "model.to(device)\n",
    "model = model.to(torch.float16)\n",
    "\n",
    "best_model = None\n",
    "best_acc = -1\n",
    "\n",
    "for epoch in tqdm(range(num_epochs+1)):\n",
    "    \n",
    "    model.train()\n",
    "    running_loss = 0.0\n",
    "    correct = 0.0\n",
    "    total = 0\n",
    "\n",
    "    if epoch%50 == 0:\n",
    "        print(\"Shuffling\")\n",
    "        c = list(zip(train_features, train_labels))\n",
    "        random.shuffle(c)\n",
    "        train_features, train_labels = zip(*c)\n",
    "        train_features = torch.stack(list(train_features))\n",
    "        train_labels = torch.stack(list(train_labels))\n",
    "        \n",
    "    out_train = batch(train_features,train_labels, 50)\n",
    "    for inputs, labels in out_train:\n",
    "        \n",
    "        inputs, labels = inputs.to(device), labels.to(device)\n",
    "        \n",
    "        optimizer.zero_grad()\n",
    "\n",
    "        outputs = model(inputs)\n",
    "        loss = calc_loss(outputs, labels)\n",
    "\n",
    "        loss.backward()\n",
    "\n",
    "        optimizer.step()\n",
    "        running_loss+=loss\n",
    "        total += len(labels)\n",
    "        correct += num_correct_preds(outputs, labels)\n",
    "        \n",
    "    if epoch%10 == 0:\n",
    "        model.eval()\n",
    "        out_test = batch(test_features,test_labels, 50)\n",
    "        \n",
    "        test_running_loss = 0.0\n",
    "        test_correct = 0.0\n",
    "        test_total = 0\n",
    "        with torch.no_grad():\n",
    "            for inputs, labels in tqdm(out_test):\n",
    "        #         inputs = inputs / inputs.norm(dim=-1, keepdim=True)\n",
    "                inputs, labels = inputs.to(device), labels.to(device)\n",
    "                outputs = model(inputs)\n",
    "                loss = criterion(outputs, labels)\n",
    "                test_running_loss += loss.item()\n",
    "                test_total += labels.size(0)\n",
    "                test_correct += num_correct_preds(outputs, labels)\n",
    "\n",
    "        epoch_loss = test_running_loss / len(test_loader)\n",
    "        writer.add_scalar(\"Loss/val\", epoch_loss, epoch)\n",
    "        epoch_accuracy = test_correct * 100 / test_total\n",
    "        writer.add_scalar(\"Accuracy/val\", epoch_loss, epoch)\n",
    "        if epoch_accuracy > best_acc:\n",
    "            best_model= copy.deepcopy(model)\n",
    "            best_acc = epoch_accuracy\n",
    "            print(\"Found best model\")\n",
    "#         print(\n",
    "#             f\"Testing: Epoch {epoch} || Loss: {epoch_loss:7.3f} || Accuracy: {epoch_accuracy:6.2f}%\"\n",
    "#         )\n",
    "\n",
    "        \n",
    "    epoch_loss = running_loss/len(train_loader)\n",
    "    writer.add_scalar(\"Loss/train\", epoch_loss, epoch)\n",
    "    epoch_accuracy = correct*100/total\n",
    "    writer.add_scalar(\"Accuracy/train\", epoch_loss, epoch)\n",
    "    print(\n",
    "        f\"Training: Epoch {epoch} || Loss: {epoch_loss:7.3f} || Accuracy: {epoch_accuracy:6.2f}%\"\n",
    "    )\n",
    "\n",
    "    writer.flush()\n",
    "writer.close()\n"
   ]
  },
  {
   "cell_type": "code",
   "execution_count": 30,
   "metadata": {},
   "outputs": [],
   "source": [
    "embeddings = torch.from_numpy(best_model.linear.weight.detach().cpu().numpy()).to(torch.float16)"
   ]
  },
  {
   "cell_type": "code",
   "execution_count": 31,
   "metadata": {},
   "outputs": [
    {
     "data": {
      "application/vnd.jupyter.widget-view+json": {
       "model_id": "55c7d01fbb8e4660b1a69531d2113544",
       "version_major": 2,
       "version_minor": 0
      },
      "text/plain": [
       "  0%|          | 0/303 [00:00<?, ?it/s]"
      ]
     },
     "metadata": {},
     "output_type": "display_data"
    },
    {
     "name": "stdout",
     "output_type": "stream",
     "text": [
      "acc: 82.69966996699671\n"
     ]
    }
   ],
   "source": [
    "zeroshot_weights = torch.from_numpy(np.array(embeddings).T).to(torch.float16)\n",
    "\n",
    "def accuracy(output, target, topk=(1,)):\n",
    "    pred = output.topk(max(topk), 1, True, True)[1].t()\n",
    "    correct = pred.eq(target.view(1, -1).expand_as(pred))\n",
    "    return [\n",
    "        float(correct[:k].reshape(-1).float().sum(0, keepdim=True).cpu().numpy())\n",
    "        for k in topk\n",
    "    ]\n",
    "\n",
    "# lazy load\n",
    "if clip_model == None:\n",
    "    clip_model, clip_preprocess = clip.load(clip_model_name, device)\n",
    "\n",
    "with torch.no_grad():\n",
    "    top1, top5, n = 0.0, 0.0, 0.0\n",
    "    for i, (images, target) in enumerate(tqdm(test_loader)):\n",
    "        images = images.cuda()\n",
    "        target = target.cuda()\n",
    "\n",
    "        # predict\n",
    "\n",
    "        image_features = clip_model.encode_image(images)\n",
    "        image_features /= image_features.norm(dim=-1, keepdim=True)\n",
    "        logits = 100.0 * image_features.to(device) @ zeroshot_weights.to(device)\n",
    "\n",
    "        # measure accuracy\n",
    "        acc1, _ = accuracy(logits, target, topk=(1, 5))\n",
    "        top1 += acc1\n",
    "        n += images.size(0)\n",
    "\n",
    "top1 = (top1 / n) * 100\n",
    "\n",
    "print(\"acc:\", top1)"
   ]
  },
  {
   "cell_type": "markdown",
   "metadata": {},
   "source": [
    "## Deterministic - (using sci-kit)"
   ]
  },
  {
   "cell_type": "code",
   "execution_count": 32,
   "metadata": {},
   "outputs": [
    {
     "data": {
      "application/vnd.jupyter.widget-view+json": {
       "model_id": "55095cf8b3ee4446b90dd767f4be5067",
       "version_major": 2,
       "version_minor": 0
      },
      "text/plain": [
       "  0%|          | 0/1515 [00:00<?, ?it/s]"
      ]
     },
     "metadata": {},
     "output_type": "display_data"
    },
    {
     "data": {
      "application/vnd.jupyter.widget-view+json": {
       "model_id": "b19924b9856e490bb89da8bd8b0f60d8",
       "version_major": 2,
       "version_minor": 0
      },
      "text/plain": [
       "  0%|          | 0/303 [00:00<?, ?it/s]"
      ]
     },
     "metadata": {},
     "output_type": "display_data"
    },
    {
     "name": "stderr",
     "output_type": "stream",
     "text": [
      "[Parallel(n_jobs=4)]: Using backend LokyBackend with 4 concurrent workers.\n",
      "[Parallel(n_jobs=4)]: Done   1 out of   1 | elapsed:  2.1min finished\n"
     ]
    },
    {
     "name": "stdout",
     "output_type": "stream",
     "text": [
      "83.86138613861385\n"
     ]
    }
   ],
   "source": [
    "global clip_model, clip_preprocess\n",
    "from sklearn.linear_model import LogisticRegression\n",
    "\n",
    "len_classes = len(classes)\n",
    "\n",
    "train_features, train_labels = get_clip_features(train_loader)\n",
    "test_features, test_labels = get_clip_features(test_loader)\n",
    "\n",
    "train_features = train_features / train_features.norm(dim=-1, keepdim=True)\n",
    "test_features = test_features / test_features.norm(dim=-1, keepdim=True)\n",
    "\n",
    "classifier = LogisticRegression(C=1, max_iter=1000, n_jobs=4,verbose=1)\n",
    "classifier.fit(train_features.cpu().numpy(), train_labels.cpu().numpy())\n",
    "predictions = classifier.predict(test_features.cpu().numpy())\n",
    "accuracy = np.mean((test_labels.cpu().numpy() == predictions).astype(np.float)) * 100.0\n",
    "\n",
    "print(accuracy)"
   ]
  },
  {
   "cell_type": "code",
   "execution_count": null,
   "metadata": {},
   "outputs": [],
   "source": []
  }
 ],
 "metadata": {
  "kernelspec": {
   "display_name": "Python 3.8.5 64-bit ('p3': conda)",
   "language": "python",
   "name": "python385jvsc74a57bd06250aeecf667241d2415373c88b70d4f824c8a2781323a01ee2a69a098796f4a"
  },
  "language_info": {
   "codemirror_mode": {
    "name": "ipython",
    "version": 3
   },
   "file_extension": ".py",
   "mimetype": "text/x-python",
   "name": "python",
   "nbconvert_exporter": "python",
   "pygments_lexer": "ipython3",
   "version": "3.8.5"
  }
 },
 "nbformat": 4,
 "nbformat_minor": 4
}
