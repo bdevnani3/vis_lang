{
 "metadata": {
  "language_info": {
   "codemirror_mode": {
    "name": "ipython",
    "version": 3
   },
   "file_extension": ".py",
   "mimetype": "text/x-python",
   "name": "python",
   "nbconvert_exporter": "python",
   "pygments_lexer": "ipython3",
   "version": "3.8"
  },
  "orig_nbformat": 2,
  "kernelspec": {
   "name": "python385jvsc74a57bd06250aeecf667241d2415373c88b70d4f824c8a2781323a01ee2a69a098796f4a",
   "display_name": "Python 3.8  ('p3': conda)"
  },
  "metadata": {
   "interpreter": {
    "hash": "6250aeecf667241d2415373c88b70d4f824c8a2781323a01ee2a69a098796f4a"
   }
  }
 },
 "nbformat": 4,
 "nbformat_minor": 2,
 "cells": [
  {
   "source": [
    "## CIFAR-100"
   ],
   "cell_type": "markdown",
   "metadata": {}
  },
  {
   "cell_type": "code",
   "execution_count": 1,
   "metadata": {},
   "outputs": [
    {
     "output_type": "stream",
     "name": "stdout",
     "text": [
      "Files already downloaded and verified\n"
     ]
    }
   ],
   "source": [
    "import os\n",
    "import clip\n",
    "import torch\n",
    "from torchvision.datasets import CIFAR100\n",
    "from torchvision import datasets, transforms, models\n",
    "\n",
    "import clip_model_comparison as cmc\n",
    "\n",
    "# Load the model\n",
    "device = \"cuda\" if torch.cuda.is_available() else \"cpu\"\n",
    "model, preprocess = clip.load('ViT-B/32', device)\n",
    "cifar100 = CIFAR100(root=\"/nethome/bdevnani3/raid/data/\", download=True, train=False)"
   ]
  },
  {
   "cell_type": "code",
   "execution_count": 3,
   "metadata": {},
   "outputs": [
    {
     "output_type": "execute_result",
     "data": {
      "text/plain": [
       "(0.5093, 0.7515)"
      ]
     },
     "metadata": {},
     "execution_count": 3
    }
   ],
   "source": [
    "acc_1, acc_5, cls_acc_1, cls_acc_5 = cmc.clip_zero_shot(cifar100, cifar100.classes ,phrase=\"a vehicle: {}\")\n",
    "acc_1/10000, acc_5/10000"
   ]
  },
  {
   "cell_type": "code",
   "execution_count": 4,
   "metadata": {},
   "outputs": [
    {
     "output_type": "execute_result",
     "data": {
      "text/plain": [
       "{0: [45, 100, 'apple'],\n",
       " 1: [91, 100, 'aquarium_fish'],\n",
       " 2: [64, 100, 'baby'],\n",
       " 3: [47, 100, 'bear'],\n",
       " 4: [22, 100, 'beaver'],\n",
       " 5: [49, 100, 'bed'],\n",
       " 6: [62, 100, 'bee'],\n",
       " 7: [51, 100, 'beetle'],\n",
       " 8: [85, 100, 'bicycle'],\n",
       " 9: [85, 100, 'bottle'],\n",
       " 10: [20, 100, 'bowl'],\n",
       " 11: [60, 100, 'boy'],\n",
       " 12: [58, 100, 'bridge'],\n",
       " 13: [28, 100, 'bus'],\n",
       " 14: [57, 100, 'butterfly'],\n",
       " 15: [63, 100, 'camel'],\n",
       " 16: [0, 100, 'can'],\n",
       " 17: [63, 100, 'castle'],\n",
       " 18: [7, 100, 'caterpillar'],\n",
       " 19: [83, 100, 'cattle'],\n",
       " 20: [95, 100, 'chair'],\n",
       " 21: [91, 100, 'chimpanzee'],\n",
       " 22: [75, 100, 'clock'],\n",
       " 23: [62, 100, 'cloud'],\n",
       " 24: [32, 100, 'cockroach'],\n",
       " 25: [48, 100, 'couch'],\n",
       " 26: [45, 100, 'crab'],\n",
       " 27: [2, 100, 'crocodile'],\n",
       " 28: [75, 100, 'cup'],\n",
       " 29: [34, 100, 'dinosaur'],\n",
       " 30: [32, 100, 'dolphin'],\n",
       " 31: [84, 100, 'elephant'],\n",
       " 32: [51, 100, 'flatfish'],\n",
       " 33: [31, 100, 'forest'],\n",
       " 34: [66, 100, 'fox'],\n",
       " 35: [33, 100, 'girl'],\n",
       " 36: [72, 100, 'hamster'],\n",
       " 37: [63, 100, 'house'],\n",
       " 38: [55, 100, 'kangaroo'],\n",
       " 39: [61, 100, 'keyboard'],\n",
       " 40: [53, 100, 'lamp'],\n",
       " 41: [99, 100, 'lawn_mower'],\n",
       " 42: [33, 100, 'leopard'],\n",
       " 43: [70, 100, 'lion'],\n",
       " 44: [24, 100, 'lizard'],\n",
       " 45: [7, 100, 'lobster'],\n",
       " 46: [5, 100, 'man'],\n",
       " 47: [63, 100, 'maple_tree'],\n",
       " 48: [75, 100, 'motorcycle'],\n",
       " 49: [82, 100, 'mountain'],\n",
       " 50: [6, 100, 'mouse'],\n",
       " 51: [50, 100, 'mushroom'],\n",
       " 52: [41, 100, 'oak_tree'],\n",
       " 53: [50, 100, 'orange'],\n",
       " 54: [80, 100, 'orchid'],\n",
       " 55: [22, 100, 'otter'],\n",
       " 56: [96, 100, 'palm_tree'],\n",
       " 57: [70, 100, 'pear'],\n",
       " 58: [72, 100, 'pickup_truck'],\n",
       " 59: [75, 100, 'pine_tree'],\n",
       " 60: [0, 100, 'plain'],\n",
       " 61: [40, 100, 'plate'],\n",
       " 62: [52, 100, 'poppy'],\n",
       " 63: [22, 100, 'porcupine'],\n",
       " 64: [43, 100, 'possum'],\n",
       " 65: [54, 100, 'rabbit'],\n",
       " 66: [41, 100, 'raccoon'],\n",
       " 67: [0, 100, 'ray'],\n",
       " 68: [88, 100, 'road'],\n",
       " 69: [81, 100, 'rocket'],\n",
       " 70: [37, 100, 'rose'],\n",
       " 71: [67, 100, 'sea'],\n",
       " 72: [33, 100, 'seal'],\n",
       " 73: [20, 100, 'shark'],\n",
       " 74: [42, 100, 'shrew'],\n",
       " 75: [65, 100, 'skunk'],\n",
       " 76: [72, 100, 'skyscraper'],\n",
       " 77: [35, 100, 'snail'],\n",
       " 78: [45, 100, 'snake'],\n",
       " 79: [45, 100, 'spider'],\n",
       " 80: [44, 100, 'squirrel'],\n",
       " 81: [73, 100, 'streetcar'],\n",
       " 82: [94, 100, 'sunflower'],\n",
       " 83: [77, 100, 'sweet_pepper'],\n",
       " 84: [66, 100, 'table'],\n",
       " 85: [68, 100, 'tank'],\n",
       " 86: [67, 100, 'telephone'],\n",
       " 87: [57, 100, 'television'],\n",
       " 88: [32, 100, 'tiger'],\n",
       " 89: [27, 100, 'tractor'],\n",
       " 90: [88, 100, 'train'],\n",
       " 91: [2, 100, 'trout'],\n",
       " 92: [61, 100, 'tulip'],\n",
       " 93: [19, 100, 'turtle'],\n",
       " 94: [18, 100, 'wardrobe'],\n",
       " 95: [45, 100, 'whale'],\n",
       " 96: [42, 100, 'willow_tree'],\n",
       " 97: [54, 100, 'wolf'],\n",
       " 98: [41, 100, 'woman'],\n",
       " 99: [16, 100, 'worm']}"
      ]
     },
     "metadata": {},
     "execution_count": 4
    }
   ],
   "source": [
    "cls_acc_1"
   ]
  },
  {
   "cell_type": "code",
   "execution_count": 3,
   "metadata": {},
   "outputs": [
    {
     "output_type": "stream",
     "name": "stderr",
     "text": [
      "100%|██████████| 10000/10000 [24:41<00:00,  6.75it/s]\n"
     ]
    },
    {
     "output_type": "execute_result",
     "data": {
      "text/plain": [
       "(5.0249999999999995e-05, 7.732999999999999e-05)"
      ]
     },
     "metadata": {},
     "execution_count": 3
    }
   ],
   "source": [
    "acc_1, acc_5, cls_acc_1, cls_acc_5 = cmc.clip_zero_shot(cifar100, cifar100.classes ,phrase=\"a vehicle {}\")\n",
    "acc_1/10000, acc_5/10000"
   ]
  },
  {
   "cell_type": "code",
   "execution_count": 4,
   "metadata": {},
   "outputs": [
    {
     "output_type": "execute_result",
     "data": {
      "text/plain": [
       "{0: [69, 100, 'apple'],\n",
       " 1: [36, 100, 'aquarium_fish'],\n",
       " 2: [76, 100, 'baby'],\n",
       " 3: [51, 100, 'bear'],\n",
       " 4: [17, 100, 'beaver'],\n",
       " 5: [43, 100, 'bed'],\n",
       " 6: [62, 100, 'bee'],\n",
       " 7: [30, 100, 'beetle'],\n",
       " 8: [86, 100, 'bicycle'],\n",
       " 9: [73, 100, 'bottle'],\n",
       " 10: [16, 100, 'bowl'],\n",
       " 11: [0, 100, 'boy'],\n",
       " 12: [61, 100, 'bridge'],\n",
       " 13: [24, 100, 'bus'],\n",
       " 14: [56, 100, 'butterfly'],\n",
       " 15: [79, 100, 'camel'],\n",
       " 16: [0, 100, 'can'],\n",
       " 17: [66, 100, 'castle'],\n",
       " 18: [4, 100, 'caterpillar'],\n",
       " 19: [84, 100, 'cattle'],\n",
       " 20: [95, 100, 'chair'],\n",
       " 21: [91, 100, 'chimpanzee'],\n",
       " 22: [70, 100, 'clock'],\n",
       " 23: [65, 100, 'cloud'],\n",
       " 24: [67, 100, 'cockroach'],\n",
       " 25: [48, 100, 'couch'],\n",
       " 26: [44, 100, 'crab'],\n",
       " 27: [2, 100, 'crocodile'],\n",
       " 28: [74, 100, 'cup'],\n",
       " 29: [38, 100, 'dinosaur'],\n",
       " 30: [59, 100, 'dolphin'],\n",
       " 31: [66, 100, 'elephant'],\n",
       " 32: [66, 100, 'flatfish'],\n",
       " 33: [0, 100, 'forest'],\n",
       " 34: [67, 100, 'fox'],\n",
       " 35: [5, 100, 'girl'],\n",
       " 36: [68, 100, 'hamster'],\n",
       " 37: [73, 100, 'house'],\n",
       " 38: [56, 100, 'kangaroo'],\n",
       " 39: [54, 100, 'keyboard'],\n",
       " 40: [55, 100, 'lamp'],\n",
       " 41: [95, 100, 'lawn_mower'],\n",
       " 42: [40, 100, 'leopard'],\n",
       " 43: [68, 100, 'lion'],\n",
       " 44: [24, 100, 'lizard'],\n",
       " 45: [4, 100, 'lobster'],\n",
       " 46: [22, 100, 'man'],\n",
       " 47: [51, 100, 'maple_tree'],\n",
       " 48: [81, 100, 'motorcycle'],\n",
       " 49: [59, 100, 'mountain'],\n",
       " 50: [20, 100, 'mouse'],\n",
       " 51: [43, 100, 'mushroom'],\n",
       " 52: [44, 100, 'oak_tree'],\n",
       " 53: [73, 100, 'orange'],\n",
       " 54: [72, 100, 'orchid'],\n",
       " 55: [28, 100, 'otter'],\n",
       " 56: [82, 100, 'palm_tree'],\n",
       " 57: [71, 100, 'pear'],\n",
       " 58: [75, 100, 'pickup_truck'],\n",
       " 59: [81, 100, 'pine_tree'],\n",
       " 60: [2, 100, 'plain'],\n",
       " 61: [3, 100, 'plate'],\n",
       " 62: [61, 100, 'poppy'],\n",
       " 63: [33, 100, 'porcupine'],\n",
       " 64: [25, 100, 'possum'],\n",
       " 65: [58, 100, 'rabbit'],\n",
       " 66: [47, 100, 'raccoon'],\n",
       " 67: [1, 100, 'ray'],\n",
       " 68: [85, 100, 'road'],\n",
       " 69: [87, 100, 'rocket'],\n",
       " 70: [55, 100, 'rose'],\n",
       " 71: [72, 100, 'sea'],\n",
       " 72: [14, 100, 'seal'],\n",
       " 73: [41, 100, 'shark'],\n",
       " 74: [52, 100, 'shrew'],\n",
       " 75: [51, 100, 'skunk'],\n",
       " 76: [82, 100, 'skyscraper'],\n",
       " 77: [35, 100, 'snail'],\n",
       " 78: [46, 100, 'snake'],\n",
       " 79: [50, 100, 'spider'],\n",
       " 80: [34, 100, 'squirrel'],\n",
       " 81: [74, 100, 'streetcar'],\n",
       " 82: [93, 100, 'sunflower'],\n",
       " 83: [73, 100, 'sweet_pepper'],\n",
       " 84: [34, 100, 'table'],\n",
       " 85: [55, 100, 'tank'],\n",
       " 86: [63, 100, 'telephone'],\n",
       " 87: [86, 100, 'television'],\n",
       " 88: [39, 100, 'tiger'],\n",
       " 89: [22, 100, 'tractor'],\n",
       " 90: [82, 100, 'train'],\n",
       " 91: [20, 100, 'trout'],\n",
       " 92: [75, 100, 'tulip'],\n",
       " 93: [11, 100, 'turtle'],\n",
       " 94: [2, 100, 'wardrobe'],\n",
       " 95: [29, 100, 'whale'],\n",
       " 96: [59, 100, 'willow_tree'],\n",
       " 97: [56, 100, 'wolf'],\n",
       " 98: [68, 100, 'woman'],\n",
       " 99: [21, 100, 'worm']}"
      ]
     },
     "metadata": {},
     "execution_count": 4
    }
   ],
   "source": [
    "cls_acc_1"
   ]
  },
  {
   "cell_type": "code",
   "execution_count": 5,
   "metadata": {},
   "outputs": [
    {
     "output_type": "stream",
     "name": "stderr",
     "text": [
      "  7%|▋         | 733/10000 [00:46<09:50, 15.71it/s]\n"
     ]
    },
    {
     "output_type": "error",
     "ename": "KeyboardInterrupt",
     "evalue": "",
     "traceback": [
      "\u001b[0;31m---------------------------------------------------------------------------\u001b[0m",
      "\u001b[0;31mKeyboardInterrupt\u001b[0m                         Traceback (most recent call last)",
      "\u001b[0;32m<ipython-input-5-8212b6249588>\u001b[0m in \u001b[0;36m<module>\u001b[0;34m\u001b[0m\n\u001b[0;32m----> 1\u001b[0;31m \u001b[0macc_1\u001b[0m\u001b[0;34m,\u001b[0m \u001b[0macc_5\u001b[0m\u001b[0;34m,\u001b[0m \u001b[0mcls_acc_1\u001b[0m\u001b[0;34m,\u001b[0m \u001b[0mcls_acc_5\u001b[0m \u001b[0;34m=\u001b[0m \u001b[0mcmc\u001b[0m\u001b[0;34m.\u001b[0m\u001b[0mclip_zero_shot\u001b[0m\u001b[0;34m(\u001b[0m\u001b[0mcifar100\u001b[0m\u001b[0;34m,\u001b[0m \u001b[0mcifar100\u001b[0m\u001b[0;34m.\u001b[0m\u001b[0mclasses\u001b[0m \u001b[0;34m,\u001b[0m\u001b[0mphrase\u001b[0m\u001b[0;34m=\u001b[0m\u001b[0;34m\"a photo of a {}\"\u001b[0m\u001b[0;34m)\u001b[0m\u001b[0;34m\u001b[0m\u001b[0;34m\u001b[0m\u001b[0m\n\u001b[0m\u001b[1;32m      2\u001b[0m \u001b[0macc_1\u001b[0m\u001b[0;34m/\u001b[0m\u001b[0;36m10000\u001b[0m\u001b[0;34m,\u001b[0m \u001b[0macc_5\u001b[0m\u001b[0;34m/\u001b[0m\u001b[0;36m10000\u001b[0m\u001b[0;34m\u001b[0m\u001b[0;34m\u001b[0m\u001b[0m\n",
      "\u001b[0;32m~/vis_lang/zero_shot/experimental_notebooks/clip_deep_dive/clip_model_comparison.py\u001b[0m in \u001b[0;36mclip_zero_shot\u001b[0;34m(dataset, classes, phrase)\u001b[0m\n\u001b[1;32m     53\u001b[0m         \u001b[0;31m# Calculate features\u001b[0m\u001b[0;34m\u001b[0m\u001b[0;34m\u001b[0m\u001b[0;34m\u001b[0m\u001b[0m\n\u001b[1;32m     54\u001b[0m         \u001b[0;32mwith\u001b[0m \u001b[0mtorch\u001b[0m\u001b[0;34m.\u001b[0m\u001b[0mno_grad\u001b[0m\u001b[0;34m(\u001b[0m\u001b[0;34m)\u001b[0m\u001b[0;34m:\u001b[0m\u001b[0;34m\u001b[0m\u001b[0;34m\u001b[0m\u001b[0m\n\u001b[0;32m---> 55\u001b[0;31m             \u001b[0mimage_features\u001b[0m \u001b[0;34m=\u001b[0m \u001b[0mclip_model\u001b[0m\u001b[0;34m.\u001b[0m\u001b[0mencode_image\u001b[0m\u001b[0;34m(\u001b[0m\u001b[0mimage_input\u001b[0m\u001b[0;34m)\u001b[0m\u001b[0;34m\u001b[0m\u001b[0;34m\u001b[0m\u001b[0m\n\u001b[0m\u001b[1;32m     56\u001b[0m \u001b[0;34m\u001b[0m\u001b[0m\n\u001b[1;32m     57\u001b[0m         \u001b[0;31m# Pick the top 5 most similar labels for the image\u001b[0m\u001b[0;34m\u001b[0m\u001b[0;34m\u001b[0m\u001b[0;34m\u001b[0m\u001b[0m\n",
      "\u001b[0;31mKeyboardInterrupt\u001b[0m: "
     ]
    }
   ],
   "source": [
    "acc_1, acc_5, cls_acc_1, cls_acc_5 = cmc.clip_zero_shot(cifar100, cifar100.classes ,phrase=\"a photo of a {}\")\n",
    "acc_1/10000, acc_5/10000"
   ]
  },
  {
   "cell_type": "code",
   "execution_count": null,
   "metadata": {},
   "outputs": [],
   "source": [
    "cls_acc_1"
   ]
  },
  {
   "cell_type": "code",
   "execution_count": null,
   "metadata": {},
   "outputs": [],
   "source": []
  }
 ]
}