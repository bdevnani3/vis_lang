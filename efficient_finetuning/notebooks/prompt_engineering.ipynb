{
 "cells": [
  {
   "cell_type": "code",
   "execution_count": 1,
   "metadata": {},
   "outputs": [],
   "source": [
    "from torchvision.datasets import CIFAR100\n",
    "import tqdm.notebook as tq"
   ]
  },
  {
   "cell_type": "code",
   "execution_count": 2,
   "metadata": {
    "scrolled": true
   },
   "outputs": [
    {
     "data": {
      "application/vnd.jupyter.widget-view+json": {
       "model_id": "81837b9047a84f7ea57ad94df1bb7703",
       "version_major": 2,
       "version_minor": 0
      },
      "text/plain": [
       "HBox(children=(FloatProgress(value=1.0, bar_style='info', max=1.0), HTML(value='')))"
      ]
     },
     "metadata": {},
     "output_type": "display_data"
    },
    {
     "name": "stdout",
     "output_type": "stream",
     "text": [
      "\n"
     ]
    }
   ],
   "source": [
    "from torchvision import datasets, transforms, models\n",
    "flowers = datasets.ImageFolder(\"/nethome/bdevnani3/raid/data/flower_data/train\")\n",
    "flowers_classes = [\n",
    "            \"pink primrose\",\n",
    "            \"globe thistle\",\n",
    "            \"blanket flower\",\n",
    "            \"trumpet creeper\",\n",
    "            \"blackberry lily\",\n",
    "            \"snapdragon\",\n",
    "            \"colt's foot\",\n",
    "            \"king protea\",\n",
    "            \"spear thistle\",\n",
    "            \"yellow iris\",\n",
    "            \"globe-flower\",\n",
    "            \"purple coneflower\",\n",
    "            \"peruvian lily\",\n",
    "            \"balloon flower\",\n",
    "            \"hard-leaved pocket orchid\",\n",
    "            \"giant white arum lily\",\n",
    "            \"fire lily\",\n",
    "            \"pincushion flower\",\n",
    "            \"fritillary\",\n",
    "            \"red ginger\",\n",
    "            \"grape hyacinth\",\n",
    "            \"corn poppy\",\n",
    "            \"prince of wales feathers\",\n",
    "            \"stemless gentian\",\n",
    "            \"artichoke\",\n",
    "            \"canterbury bells\",\n",
    "            \"sweet william\",\n",
    "            \"carnation\",\n",
    "            \"garden phlox\",\n",
    "            \"love in the mist\",\n",
    "            \"mexican aster\",\n",
    "            \"alpine sea holly\",\n",
    "            \"ruby-lipped cattleya\",\n",
    "            \"cape flower\",\n",
    "            \"great masterwort\",\n",
    "            \"siam tulip\",\n",
    "            \"sweet pea\",\n",
    "            \"lenten rose\",\n",
    "            \"barbeton daisy\",\n",
    "            \"daffodil\",\n",
    "            \"sword lily\",\n",
    "            \"poinsettia\",\n",
    "            \"bolero deep blue\",\n",
    "            \"wallflower\",\n",
    "            \"marigold\",\n",
    "            \"buttercup\",\n",
    "            \"oxeye daisy\",\n",
    "            \"english marigold\",\n",
    "            \"common dandelion\",\n",
    "            \"petunia\",\n",
    "            \"wild pansy\",\n",
    "            \"primula\",\n",
    "            \"sunflower\",\n",
    "            \"pelargonium\",\n",
    "            \"bishop of llandaff\",\n",
    "            \"gaura\",\n",
    "            \"geranium\",\n",
    "            \"orange dahlia\",\n",
    "            \"tiger lily\",\n",
    "            \"pink-yellow dahlia\",\n",
    "            \"cautleya spicata\",\n",
    "            \"japanese anemone\",\n",
    "            \"black-eyed susan\",\n",
    "            \"silverbush\",\n",
    "            \"californian poppy\",\n",
    "            \"osteospermum\",\n",
    "            \"spring crocus\",\n",
    "            \"bearded iris\",\n",
    "            \"windflower\",\n",
    "            \"moon orchid\",\n",
    "            \"tree poppy\",\n",
    "            \"gazania\",\n",
    "            \"azalea\",\n",
    "            \"water lily\",\n",
    "            \"rose\",\n",
    "            \"thorn apple\",\n",
    "            \"morning glory\",\n",
    "            \"passion flower\",\n",
    "            \"lotus\",\n",
    "            \"toad lily\",\n",
    "            \"bird of paradise\",\n",
    "            \"anthurium\",\n",
    "            \"frangipani\",\n",
    "            \"clematis\",\n",
    "            \"hibiscus\",\n",
    "            \"columbine\",\n",
    "            \"desert-rose\",\n",
    "            \"tree mallow\",\n",
    "            \"magnolia\",\n",
    "            \"cyclamen\",\n",
    "            \"watercress\",\n",
    "            \"monkshood\",\n",
    "            \"canna lily\",\n",
    "            \"hippeastrum\",\n",
    "            \"bee balm\",\n",
    "            \"ball moss\",\n",
    "            \"foxglove\",\n",
    "            \"bougainvillea\",\n",
    "            \"camellia\",\n",
    "            \"mallow\",\n",
    "            \"mexican petunia\",\n",
    "            \"bromelia\",\n",
    "        ]\n",
    "\n",
    "flowers_dict = {c:[] for c in flowers_classes}\n",
    "\n",
    "from tqdm import tqdm\n",
    "with open(\"/nethome/bdevnani3/datasets/wikipedia/data/wiki/txt/en.all\") as f:\n",
    "    for line in tq.tqdm(f):\n",
    "        for c in flowers_classes:\n",
    "            if c in line:\n",
    "                if len(flowers_dict[c]) < 50:\n",
    "                    flowers_dict[c].append(line)"
   ]
  },
  {
   "cell_type": "code",
   "execution_count": 3,
   "metadata": {},
   "outputs": [],
   "source": [
    "import json\n",
    "with open(f\"wikipedia_flowers_prompts.json\", \"w\") as outfile: \n",
    "    json.dump(flowers_dict, outfile)"
   ]
  },
  {
   "cell_type": "code",
   "execution_count": 34,
   "metadata": {},
   "outputs": [
    {
     "name": "stdout",
     "output_type": "stream",
     "text": [
      "pink primrose : 4\n",
      "hard-leaved pocket orchid : 3\n",
      "canterbury bells : 18\n",
      "english marigold : 2\n",
      "moon orchid : 24\n",
      "globe thistle : 13\n",
      "colt's foot : 0\n",
      "king protea : 30\n",
      "spear thistle : 17\n",
      "globe-flower : 13\n",
      "peruvian lily : 6\n",
      "balloon flower : 19\n",
      "giant white arum lily : 1\n",
      "fire lily : 25\n",
      "pincushion flower : 10\n",
      "corn poppy : 27\n",
      "prince of wales feathers : 17\n",
      "stemless gentian : 5\n",
      "garden phlox : 5\n",
      "love in the mist : 6\n",
      "mexican aster : 4\n",
      "alpine sea holly : 3\n",
      "ruby-lipped cattleya : 1\n",
      "cape flower : 6\n",
      "great masterwort : 5\n",
      "siam tulip : 14\n",
      "lenten rose : 10\n",
      "barbeton daisy : 0\n",
      "sword lily : 6\n",
      "bolero deep blue : 3\n",
      "oxeye daisy : 42\n",
      "common dandelion : 30\n",
      "wild pansy : 14\n",
      "orange dahlia : 1\n",
      "pink-yellow dahlia : 0\n",
      "cautleya spicata : 4\n",
      "japanese anemone : 8\n",
      "silverbush : 16\n",
      "californian poppy : 3\n",
      "osteospermum : 37\n",
      "spring crocus : 5\n",
      "tree poppy : 11\n",
      "thorn apple : 29\n",
      "toad lily : 6\n",
      "desert-rose : 2\n",
      "tree mallow : 42\n",
      "canna lily : 16\n",
      "bee balm : 21\n",
      "ball moss : 15\n",
      "mexican petunia : 3\n",
      "blanket flower : 7\n",
      "trumpet creeper : 20\n",
      "blackberry lily : 5\n",
      "51.96078431372549\n"
     ]
    }
   ],
   "source": [
    "i = 0 \n",
    "for c in flowers_dict:\n",
    "    if len(flowers_dict[c]) < 50:\n",
    "        i+=1\n",
    "        print(c, \":\", len(flowers_dict[c]))\n",
    "print(i*100/len(flowers_dict))"
   ]
  }
 ],
 "metadata": {
  "interpreter": {
   "hash": "6250aeecf667241d2415373c88b70d4f824c8a2781323a01ee2a69a098796f4a"
  },
  "kernelspec": {
   "display_name": "Python 3",
   "language": "python",
   "name": "python3"
  },
  "language_info": {
   "codemirror_mode": {
    "name": "ipython",
    "version": 3
   },
   "file_extension": ".py",
   "mimetype": "text/x-python",
   "name": "python",
   "nbconvert_exporter": "python",
   "pygments_lexer": "ipython3",
   "version": "3.8.1"
  },
  "metadata": {
   "interpreter": {
    "hash": "6250aeecf667241d2415373c88b70d4f824c8a2781323a01ee2a69a098796f4a"
   }
  }
 },
 "nbformat": 4,
 "nbformat_minor": 2
}
