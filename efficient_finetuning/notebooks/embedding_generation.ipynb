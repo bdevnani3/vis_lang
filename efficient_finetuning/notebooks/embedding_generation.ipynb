{
 "cells": [
  {
   "cell_type": "code",
   "execution_count": 1,
   "metadata": {},
   "outputs": [
    {
     "name": "stdout",
     "output_type": "stream",
     "text": [
      "cuda\n"
     ]
    }
   ],
   "source": [
    "import os\n",
    "import clip\n",
    "import torch\n",
    "from torchvision import transforms, models\n",
    "\n",
    "import numpy as np\n",
    "from sklearn.linear_model import LogisticRegression\n",
    "from torch.utils.data import DataLoader\n",
    "from tqdm import tqdm\n",
    "\n",
    "import argparse\n",
    "from omegaconf import OmegaConf\n",
    "\n",
    "import json\n",
    "\n",
    "from datasets import *\n",
    "from clip_model_comparison import *\n",
    "\n",
    "results_path = \"results\"\n",
    "device = \"cuda\" if torch.cuda.is_available() else \"cpu\"\n",
    "print(device)\n",
    "\n",
    "clip_model, clip_preprocess = clip.load(\"ViT-B/32\", device)\n",
    "\n",
    "import torch.nn as nn\n",
    "import torch.optim as optim\n",
    "\n",
    "def get_clip_features(dataset):\n",
    "    all_features = []\n",
    "    all_labels = []\n",
    "\n",
    "    global clip_model\n",
    "\n",
    "    with torch.no_grad():\n",
    "        for images, labels in tqdm(dataset):\n",
    "            features = clip_model.encode_image(images.to(device))\n",
    "            all_features.append(features)\n",
    "            all_labels.append(labels)\n",
    "\n",
    "    return torch.cat(all_features), torch.cat(all_labels)"
   ]
  },
  {
   "cell_type": "code",
   "execution_count": 2,
   "metadata": {},
   "outputs": [],
   "source": [
    "dataset_obj = Flowers102(4, 100)\n",
    "train_loader, _ = dataset_obj.get_train_loaders(transform_fn=clip_preprocess,num_elements_per_class=10)\n",
    "test_loader = dataset_obj.get_test_loader(transform_fn=clip_preprocess)\n",
    "classes = dataset_obj.classes"
   ]
  },
  {
   "cell_type": "code",
   "execution_count": 3,
   "metadata": {},
   "outputs": [],
   "source": [
    "def text_zeroshot_classifier(classnames, templates):\n",
    "    with torch.no_grad():\n",
    "        zeroshot_weights = []\n",
    "        for classname in tqdm(classnames):\n",
    "            texts = [\n",
    "                template.format(classname) for template in templates\n",
    "            ]  # format with class\n",
    "            texts = clip.tokenize(texts).cuda()  # tokenize\n",
    "            class_embeddings = clip_model.encode_text(\n",
    "                texts\n",
    "            )  # embed with text encoder\n",
    "            class_embeddings /= class_embeddings.norm(dim=-1, keepdim=True)\n",
    "            class_embedding = class_embeddings.mean(dim=0)\n",
    "            class_embedding /= class_embedding.norm()\n",
    "            zeroshot_weights.append(class_embedding)\n",
    "        zeroshot_weights = torch.stack(zeroshot_weights, dim=1).cuda()\n",
    "    return zeroshot_weights\n",
    "\n"
   ]
  },
  {
   "cell_type": "code",
   "execution_count": 4,
   "metadata": {},
   "outputs": [
    {
     "name": "stderr",
     "output_type": "stream",
     "text": [
      "100%|██████████| 11/11 [00:09<00:00,  1.10it/s]\n",
      "100%|██████████| 9/9 [00:06<00:00,  1.38it/s]\n"
     ]
    },
    {
     "name": "stdout",
     "output_type": "stream",
     "text": [
      "83.15018315018315\n"
     ]
    }
   ],
   "source": [
    "global clip_model, clip_preprocess\n",
    "\n",
    "len_classes = len(classes)\n",
    "\n",
    "train_features, train_labels = get_clip_features(train_loader)\n",
    "test_features, test_labels = get_clip_features(test_loader)\n",
    "\n",
    "train_features = train_features / train_features.norm(dim=-1, keepdim=True)\n",
    "test_features = test_features / test_features.norm(dim=-1, keepdim=True)\n",
    "\n",
    "classifier = LogisticRegression(C=1, max_iter=1000, n_jobs=6)\n",
    "classifier.fit(train_features.cpu().numpy(), train_labels.cpu().numpy())\n",
    "predictions = classifier.predict(test_features.cpu().numpy())\n",
    "accuracy = np.mean((test_labels.cpu().numpy() == predictions).astype(np.float)) * 100.0\n",
    "\n",
    "print(accuracy)\n",
    "\n"
   ]
  },
  {
   "cell_type": "code",
   "execution_count": 5,
   "metadata": {},
   "outputs": [
    {
     "name": "stdout",
     "output_type": "stream",
     "text": [
      "(102, 512)\n"
     ]
    }
   ],
   "source": [
    "print(classifier.coef_.shape)"
   ]
  },
  {
   "cell_type": "code",
   "execution_count": 6,
   "metadata": {},
   "outputs": [
    {
     "data": {
      "text/plain": [
       "torch.Size([512, 102])"
      ]
     },
     "execution_count": 6,
     "metadata": {},
     "output_type": "execute_result"
    }
   ],
   "source": [
    "zeroshot_weights = torch.from_numpy(classifier.coef_.T).to(torch.float16)\n",
    "zeroshot_weights.shape"
   ]
  },
  {
   "cell_type": "code",
   "execution_count": 4,
   "metadata": {},
   "outputs": [
    {
     "name": "stderr",
     "output_type": "stream",
     "text": [
      "100%|██████████| 9/9 [00:07<00:00,  1.25it/s]"
     ]
    },
    {
     "name": "stdout",
     "output_type": "stream",
     "text": [
      "84.004884004884\n"
     ]
    },
    {
     "name": "stderr",
     "output_type": "stream",
     "text": [
      "\n"
     ]
    }
   ],
   "source": [
    "zeroshot_weights = torch.from_numpy(classifier.coef_.T).to(torch.float16)\n",
    "# zeroshot_weights = torch.stack(zeroshot_weights, dim=1).cuda()\n",
    "\n",
    "def accuracy(output, target, topk=(1,)):\n",
    "    pred = output.topk(max(topk), 1, True, True)[1].t()\n",
    "    correct = pred.eq(target.view(1, -1).expand_as(pred))\n",
    "    return [\n",
    "        float(correct[:k].reshape(-1).float().sum(0, keepdim=True).cpu().numpy())\n",
    "        for k in topk\n",
    "    ]\n",
    "\n",
    "# lazy load\n",
    "if clip_model == None:\n",
    "    clip_model, clip_preprocess = clip.load(clip_model_name, device)\n",
    "\n",
    "with torch.no_grad():\n",
    "    top1, top5, n = 0.0, 0.0, 0.0\n",
    "    for i, (images, target) in enumerate(tqdm(test_loader)):\n",
    "        images = images.cuda()\n",
    "        target = target.cuda()\n",
    "\n",
    "        # predict\n",
    "        \n",
    "        image_features = clip_model.encode_image(images)\n",
    "        image_features /= image_features.norm(dim=-1, keepdim=True)\n",
    "        logits = 100.0 * image_features.to(device) @ zeroshot_weights.to(device)\n",
    "\n",
    "        # measure accuracy\n",
    "        acc1, _ = accuracy(logits, target, topk=(1, 5))\n",
    "        top1 += acc1\n",
    "        n += images.size(0)\n",
    "\n",
    "top1 = (top1 / n) * 100\n",
    "\n",
    "print(top1)"
   ]
  },
  {
   "cell_type": "code",
   "execution_count": null,
   "metadata": {},
   "outputs": [],
   "source": []
  }
 ],
 "metadata": {
  "kernelspec": {
   "display_name": "Python 3",
   "language": "python",
   "name": "python3"
  },
  "language_info": {
   "codemirror_mode": {
    "name": "ipython",
    "version": 3
   },
   "file_extension": ".py",
   "mimetype": "text/x-python",
   "name": "python",
   "nbconvert_exporter": "python",
   "pygments_lexer": "ipython3",
   "version": "3.8.5"
  }
 },
 "nbformat": 4,
 "nbformat_minor": 4
}
