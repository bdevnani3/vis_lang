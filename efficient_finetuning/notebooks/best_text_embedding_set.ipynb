{
 "cells": [
  {
   "cell_type": "code",
   "execution_count": 1,
   "id": "320a2229",
   "metadata": {},
   "outputs": [
    {
     "name": "stderr",
     "output_type": "stream",
     "text": [
      "In /nethome/bdevnani3/anaconda3/envs/p3/lib/python3.8/site-packages/matplotlib/mpl-data/stylelib/_classic_test.mplstyle: \n",
      "The text.latex.preview rcparam was deprecated in Matplotlib 3.3 and will be removed two minor releases later.\n",
      "In /nethome/bdevnani3/anaconda3/envs/p3/lib/python3.8/site-packages/matplotlib/mpl-data/stylelib/_classic_test.mplstyle: \n",
      "The mathtext.fallback_to_cm rcparam was deprecated in Matplotlib 3.3 and will be removed two minor releases later.\n",
      "In /nethome/bdevnani3/anaconda3/envs/p3/lib/python3.8/site-packages/matplotlib/mpl-data/stylelib/_classic_test.mplstyle: Support for setting the 'mathtext.fallback_to_cm' rcParam is deprecated since 3.3 and will be removed two minor releases later; use 'mathtext.fallback : 'cm' instead.\n",
      "In /nethome/bdevnani3/anaconda3/envs/p3/lib/python3.8/site-packages/matplotlib/mpl-data/stylelib/_classic_test.mplstyle: \n",
      "The validate_bool_maybe_none function was deprecated in Matplotlib 3.3 and will be removed two minor releases later.\n",
      "In /nethome/bdevnani3/anaconda3/envs/p3/lib/python3.8/site-packages/matplotlib/mpl-data/stylelib/_classic_test.mplstyle: \n",
      "The savefig.jpeg_quality rcparam was deprecated in Matplotlib 3.3 and will be removed two minor releases later.\n",
      "In /nethome/bdevnani3/anaconda3/envs/p3/lib/python3.8/site-packages/matplotlib/mpl-data/stylelib/_classic_test.mplstyle: \n",
      "The keymap.all_axes rcparam was deprecated in Matplotlib 3.3 and will be removed two minor releases later.\n",
      "In /nethome/bdevnani3/anaconda3/envs/p3/lib/python3.8/site-packages/matplotlib/mpl-data/stylelib/_classic_test.mplstyle: \n",
      "The animation.avconv_path rcparam was deprecated in Matplotlib 3.3 and will be removed two minor releases later.\n",
      "In /nethome/bdevnani3/anaconda3/envs/p3/lib/python3.8/site-packages/matplotlib/mpl-data/stylelib/_classic_test.mplstyle: \n",
      "The animation.avconv_args rcparam was deprecated in Matplotlib 3.3 and will be removed two minor releases later.\n"
     ]
    }
   ],
   "source": [
    "import importlib\n",
    "\n",
    "import os\n",
    "import clip\n",
    "import torch\n",
    "from torchvision import transforms, models\n",
    "\n",
    "import numpy as np\n",
    "from sklearn.linear_model import LogisticRegression\n",
    "from torch.utils.data import DataLoader\n",
    "from tqdm.notebook import tqdm\n",
    "\n",
    "import argparse\n",
    "from omegaconf import OmegaConf\n",
    "\n",
    "import json\n",
    "\n",
    "device = \"cuda\" if torch.cuda.is_available() else \"cpu\"\n",
    "from sklearn.metrics.pairwise import euclidean_distances, cosine_similarity\n",
    "import seaborn as sn\n",
    "\n",
    "from columnar import columnar\n",
    "from nltk.corpus import wordnet as wn\n",
    "clip_model, clip_preprocess = clip.load(\"ViT-B/32\", )\n",
    "\n",
    "\n",
    "import datasets #import the module here, so that it can be reloaded.\n",
    "importlib.reload(datasets)\n",
    "from datasets import *\n"
   ]
  },
  {
   "cell_type": "code",
   "execution_count": 2,
   "id": "ef186eac",
   "metadata": {},
   "outputs": [],
   "source": [
    "template_performance = {}"
   ]
  },
  {
   "cell_type": "code",
   "execution_count": 3,
   "id": "0818800b",
   "metadata": {},
   "outputs": [],
   "source": [
    "dataset_obj = SmallFlowers102(4, 1)\n",
    "train_loader, _ = dataset_obj.get_train_loaders(transform_fn=clip_preprocess)\n",
    "test_loader = dataset_obj.get_test_loader(transform_fn=clip_preprocess)"
   ]
  },
  {
   "cell_type": "code",
   "execution_count": 4,
   "id": "d9dc908c",
   "metadata": {},
   "outputs": [],
   "source": [
    "def clip_zero_shot(\n",
    "    loader,\n",
    "    classes,\n",
    "    zeroshot_weights,\n",
    "    clip_model_name=\"ViT-B/32\",\n",
    "):\n",
    "\n",
    "    global clip_model, clip_preprocess\n",
    "    device = \"cuda\" if torch.cuda.is_available() else \"cpu\"\n",
    "\n",
    "    def accuracy(output, target, topk=(1,)):\n",
    "        pred = output.topk(max(topk), 1, True, True)[1].t()\n",
    "        correct = pred.eq(target.view(1, -1).expand_as(pred))\n",
    "        return [\n",
    "            float(correct[:k].reshape(-1).float().sum(0, keepdim=True).cpu().numpy())\n",
    "            for k in topk\n",
    "        ]\n",
    "\n",
    "    # lazy load\n",
    "    if clip_model == None:\n",
    "        clip_model, clip_preprocess = clip.load(clip_model_name, device)\n",
    "        \n",
    "    per_class_accuracy_top1 = { k:[0,0, classes[k]] for k in range(len(classes))} # correct, total, class_name\n",
    "    per_class_accuracy_top5 = { k:[0,0, classes[k]] for k in range(len(classes))} \n",
    "\n",
    "    with torch.no_grad():\n",
    "        top1, top5, n = 0.0, 0.0, 0.0\n",
    "        for i , (images, target) in enumerate(tqdm(loader)):\n",
    "            images = images.cuda()\n",
    "            target = target.cuda()\n",
    "\n",
    "            # predict\n",
    "            image_features = clip_model.encode_image(images)\n",
    "            image_features /= image_features.norm(dim=-1, keepdim=True)\n",
    "            logits = 100.0 * image_features @ zeroshot_weights\n",
    "\n",
    "            # measure accuracy\n",
    "            acc1, acc5 = accuracy(logits, target, topk=(1, 5))\n",
    "            top1 += acc1\n",
    "            top5 += acc5\n",
    "            n += images.size(0)\n",
    "            \n",
    "            per_class_accuracy_top1[target.cpu().detach().numpy()[0]][0]+= acc1\n",
    "            per_class_accuracy_top1[target.cpu().detach().numpy()[0]][1]+= 1\n",
    "\n",
    "    top1 = (top1 / n) * 100\n",
    "    top5 = (top5 / n) * 100\n",
    "\n",
    "    return top1, per_class_accuracy_top1"
   ]
  },
  {
   "cell_type": "markdown",
   "id": "7baa3d2e",
   "metadata": {},
   "source": [
    "### Baseline"
   ]
  },
  {
   "cell_type": "code",
   "execution_count": 5,
   "id": "8283db18",
   "metadata": {},
   "outputs": [
    {
     "data": {
      "application/vnd.jupyter.widget-view+json": {
       "model_id": "15fefb5f6911484097b0a7ef8494ac6b",
       "version_major": 2,
       "version_minor": 0
      },
      "text/plain": [
       "  0%|          | 0/10 [00:00<?, ?it/s]"
      ]
     },
     "metadata": {},
     "output_type": "display_data"
    },
    {
     "data": {
      "application/vnd.jupyter.widget-view+json": {
       "model_id": "7658143052e24257a54c7231bc0f4bc5",
       "version_major": 2,
       "version_minor": 0
      },
      "text/plain": [
       "  0%|          | 0/819 [00:00<?, ?it/s]"
      ]
     },
     "metadata": {},
     "output_type": "display_data"
    },
    {
     "name": "stdout",
     "output_type": "stream",
     "text": [
      "44.44444444444444\n"
     ]
    }
   ],
   "source": [
    "phrase_file = \"/nethome/bdevnani3/vis_lang/efficient_finetuning/configs/phrases/flowers.txt\"\n",
    "\n",
    "templates = [\"{}\"]\n",
    "    \n",
    "def zeroshot_classifier(classnames, templates):\n",
    "    with torch.no_grad():\n",
    "        zeroshot_weights = []\n",
    "        for classname in tqdm(classnames):\n",
    "            texts = [\n",
    "                template.format(classname) for template in templates\n",
    "            ]  # format with class\n",
    "            texts = clip.tokenize(texts).cuda()  # tokenize\n",
    "            class_embeddings = clip_model.encode_text(texts)  # embed with text encoder\n",
    "            class_embeddings /= class_embeddings.norm(dim=-1, keepdim=True)\n",
    "            class_embedding = class_embeddings.mean(dim=0)\n",
    "            class_embedding /= class_embedding.norm()\n",
    "            zeroshot_weights.append(class_embedding)\n",
    "        zeroshot_weights = torch.stack(zeroshot_weights, dim=1).cuda()\n",
    "    return zeroshot_weights\n",
    "\n",
    "baseline_zw = zeroshot_classifier(dataset_obj.classes,templates)\n",
    "\n",
    "baseline_czs = clip_zero_shot(\n",
    "    train_loader,\n",
    "    dataset_obj.classes,\n",
    "    baseline_zw\n",
    ")\n",
    "print(baseline_czs[0])"
   ]
  },
  {
   "cell_type": "code",
   "execution_count": 6,
   "id": "617e3fb4",
   "metadata": {},
   "outputs": [
    {
     "name": "stdout",
     "output_type": "stream",
     "text": [
      "0.6959952485193894\n"
     ]
    },
    {
     "data": {
      "text/plain": [
       "<AxesSubplot:>"
      ]
     },
     "execution_count": 6,
     "metadata": {},
     "output_type": "execute_result"
    },
    {
     "data": {
      "image/png": "[encoded data removed]",
      "text/plain": [
       "<Figure size 432x288 with 2 Axes>"
      ]
     },
     "metadata": {
      "needs_background": "light"
     },
     "output_type": "display_data"
    }
   ],
   "source": [
    "matrix = cosine_similarity(baseline_zw.cpu().detach().numpy().T)\n",
    "print(matrix.mean())\n",
    "sn.heatmap(matrix, xticklabels = dataset_obj.classes, yticklabels = dataset_obj.classes)"
   ]
  },
  {
   "cell_type": "code",
   "execution_count": 7,
   "id": "8d240c62",
   "metadata": {},
   "outputs": [
    {
     "name": "stdout",
     "output_type": "stream",
     "text": [
      "|-------------------------|-----------|-----------|-----|\n",
      "|Class Name               |Accuracy(%)|Num Correct|Total|\n",
      "|=======================================================|\n",
      "|love in the mist         |0.0        |0          |31   |\n",
      "|-------------------------|-----------|-----------|-----|\n",
      "|bolero deep blue         |0.0        |0          |33   |\n",
      "|-------------------------|-----------|-----------|-----|\n",
      "|silverbush               |16.66667   |7          |42   |\n",
      "|-------------------------|-----------|-----------|-----|\n",
      "|sword lily               |23.0       |23         |100  |\n",
      "|-------------------------|-----------|-----------|-----|\n",
      "|pelargonium              |25.0       |14         |56   |\n",
      "|-------------------------|-----------|-----------|-----|\n",
      "|petunia                  |31.06796   |64         |206  |\n",
      "|-------------------------|-----------|-----------|-----|\n",
      "|wallflower               |54.14013   |85         |157  |\n",
      "|-------------------------|-----------|-----------|-----|\n",
      "|great masterwort         |75.0       |33         |44   |\n",
      "|-------------------------|-----------|-----------|-----|\n",
      "|bougainvillea            |88.11881   |89         |101  |\n",
      "|-------------------------|-----------|-----------|-----|\n",
      "|hard-leaved pocket orchid|100.0      |49         |49   |\n",
      "|-------------------------|-----------|-----------|-----|\n",
      "\n"
     ]
    }
   ],
   "source": [
    "def per_class_performance(d, print_out=True):\n",
    "    x = []\n",
    "    labels = []\n",
    "    corr = []\n",
    "    tot = []\n",
    "    for el in d:\n",
    "        x.append((d[el][0]*100)/d[el][1])\n",
    "        labels.append(d[el][2])\n",
    "        corr.append(d[el][0])\n",
    "        tot.append(d[el][1])\n",
    "    idx = np.argsort(x)\n",
    "    x = np.array(x)[idx]\n",
    "    labels = np.array(labels)[idx]\n",
    "    corr = np.array(corr)[idx]\n",
    "    tot = np.array(tot)[idx]\n",
    "    out = {}\n",
    "    for l,per,c,t in zip(labels,x,corr,tot):\n",
    "        out[l] = [np.around(per,5),int(c),int(t)]\n",
    "    if print_out:\n",
    "        table = columnar([[l, o[0], o[1], o[2]] for l,o in out.items()], [\"Class Name\", \"Accuracy(%)\", \"Num Correct\", \"Total\"])\n",
    "        print(table)\n",
    "    return out\n",
    "baseline_pcp = per_class_performance(baseline_czs[1])"
   ]
  },
  {
   "cell_type": "markdown",
   "id": "e1e64db2",
   "metadata": {},
   "source": [
    "## Exploring qualities of templates"
   ]
  },
  {
   "cell_type": "markdown",
   "id": "047d1292",
   "metadata": {},
   "source": [
    "### Single template exploration"
   ]
  },
  {
   "cell_type": "code",
   "execution_count": 13,
   "id": "d7a1a1a6",
   "metadata": {},
   "outputs": [
    {
     "data": {
      "application/vnd.jupyter.widget-view+json": {
       "model_id": "84de48eade6044478f73b52c42ee19b1",
       "version_major": 2,
       "version_minor": 0
      },
      "text/plain": [
       "  0%|          | 0/10 [00:00<?, ?it/s]"
      ]
     },
     "metadata": {},
     "output_type": "display_data"
    },
    {
     "data": {
      "application/vnd.jupyter.widget-view+json": {
       "model_id": "debf7ce17b8a48d29c8c08950fe1c0da",
       "version_major": 2,
       "version_minor": 0
      },
      "text/plain": [
       "  0%|          | 0/819 [00:00<?, ?it/s]"
      ]
     },
     "metadata": {},
     "output_type": "display_data"
    },
    {
     "data": {
      "application/vnd.jupyter.widget-view+json": {
       "model_id": "fb631e65b586489cb038d0ae56d81ff8",
       "version_major": 2,
       "version_minor": 0
      },
      "text/plain": [
       "  0%|          | 0/10 [00:00<?, ?it/s]"
      ]
     },
     "metadata": {},
     "output_type": "display_data"
    },
    {
     "data": {
      "application/vnd.jupyter.widget-view+json": {
       "model_id": "1d32ef64a5da4e3992f8db6fe25e8e83",
       "version_major": 2,
       "version_minor": 0
      },
      "text/plain": [
       "  0%|          | 0/819 [00:00<?, ?it/s]"
      ]
     },
     "metadata": {},
     "output_type": "display_data"
    },
    {
     "data": {
      "application/vnd.jupyter.widget-view+json": {
       "model_id": "b893e08f17cc410fbd61da0559b53ebc",
       "version_major": 2,
       "version_minor": 0
      },
      "text/plain": [
       "  0%|          | 0/10 [00:00<?, ?it/s]"
      ]
     },
     "metadata": {},
     "output_type": "display_data"
    },
    {
     "data": {
      "application/vnd.jupyter.widget-view+json": {
       "model_id": "54e359a3add44c36ba3201a5f8b674ff",
       "version_major": 2,
       "version_minor": 0
      },
      "text/plain": [
       "  0%|          | 0/819 [00:00<?, ?it/s]"
      ]
     },
     "metadata": {},
     "output_type": "display_data"
    },
    {
     "data": {
      "application/vnd.jupyter.widget-view+json": {
       "model_id": "cda6392ecc5c4010968d6c9d3aa670c1",
       "version_major": 2,
       "version_minor": 0
      },
      "text/plain": [
       "  0%|          | 0/10 [00:00<?, ?it/s]"
      ]
     },
     "metadata": {},
     "output_type": "display_data"
    },
    {
     "data": {
      "application/vnd.jupyter.widget-view+json": {
       "model_id": "4643ad79e1c94c94a6d8cfc964a29f8b",
       "version_major": 2,
       "version_minor": 0
      },
      "text/plain": [
       "  0%|          | 0/819 [00:00<?, ?it/s]"
      ]
     },
     "metadata": {},
     "output_type": "display_data"
    },
    {
     "data": {
      "application/vnd.jupyter.widget-view+json": {
       "model_id": "507005074dc148c880390411229c702d",
       "version_major": 2,
       "version_minor": 0
      },
      "text/plain": [
       "  0%|          | 0/10 [00:00<?, ?it/s]"
      ]
     },
     "metadata": {},
     "output_type": "display_data"
    },
    {
     "data": {
      "application/vnd.jupyter.widget-view+json": {
       "model_id": "c5e9e7f4aa0840b79eba0229cb628553",
       "version_major": 2,
       "version_minor": 0
      },
      "text/plain": [
       "  0%|          | 0/819 [00:00<?, ?it/s]"
      ]
     },
     "metadata": {},
     "output_type": "display_data"
    },
    {
     "data": {
      "application/vnd.jupyter.widget-view+json": {
       "model_id": "7cde4d041c1e48aaadf5e8d4897f41b8",
       "version_major": 2,
       "version_minor": 0
      },
      "text/plain": [
       "  0%|          | 0/10 [00:00<?, ?it/s]"
      ]
     },
     "metadata": {},
     "output_type": "display_data"
    },
    {
     "data": {
      "application/vnd.jupyter.widget-view+json": {
       "model_id": "0e9ae1207c2f49e59bb8404daf525600",
       "version_major": 2,
       "version_minor": 0
      },
      "text/plain": [
       "  0%|          | 0/819 [00:00<?, ?it/s]"
      ]
     },
     "metadata": {},
     "output_type": "display_data"
    },
    {
     "data": {
      "application/vnd.jupyter.widget-view+json": {
       "model_id": "54a176992869498ebd59fca4a524cef4",
       "version_major": 2,
       "version_minor": 0
      },
      "text/plain": [
       "  0%|          | 0/10 [00:00<?, ?it/s]"
      ]
     },
     "metadata": {},
     "output_type": "display_data"
    },
    {
     "data": {
      "application/vnd.jupyter.widget-view+json": {
       "model_id": "682a8524f5f74d10aa0380ca5d3340ca",
       "version_major": 2,
       "version_minor": 0
      },
      "text/plain": [
       "  0%|          | 0/819 [00:00<?, ?it/s]"
      ]
     },
     "metadata": {},
     "output_type": "display_data"
    },
    {
     "data": {
      "application/vnd.jupyter.widget-view+json": {
       "model_id": "cd6f2deeae4e421497d35945a25d61ea",
       "version_major": 2,
       "version_minor": 0
      },
      "text/plain": [
       "  0%|          | 0/10 [00:00<?, ?it/s]"
      ]
     },
     "metadata": {},
     "output_type": "display_data"
    },
    {
     "data": {
      "application/vnd.jupyter.widget-view+json": {
       "model_id": "5c389aefb900472d9047539c21832b33",
       "version_major": 2,
       "version_minor": 0
      },
      "text/plain": [
       "  0%|          | 0/819 [00:00<?, ?it/s]"
      ]
     },
     "metadata": {},
     "output_type": "display_data"
    },
    {
     "data": {
      "application/vnd.jupyter.widget-view+json": {
       "model_id": "edbdeae3e2144ddcabc085903b5608a2",
       "version_major": 2,
       "version_minor": 0
      },
      "text/plain": [
       "  0%|          | 0/10 [00:00<?, ?it/s]"
      ]
     },
     "metadata": {},
     "output_type": "display_data"
    },
    {
     "data": {
      "application/vnd.jupyter.widget-view+json": {
       "model_id": "1862cc17cda04c2491ce9b92638e9e29",
       "version_major": 2,
       "version_minor": 0
      },
      "text/plain": [
       "  0%|          | 0/819 [00:00<?, ?it/s]"
      ]
     },
     "metadata": {},
     "output_type": "display_data"
    },
    {
     "data": {
      "application/vnd.jupyter.widget-view+json": {
       "model_id": "a40b3723a3964cb397ea3339d819308d",
       "version_major": 2,
       "version_minor": 0
      },
      "text/plain": [
       "  0%|          | 0/10 [00:00<?, ?it/s]"
      ]
     },
     "metadata": {},
     "output_type": "display_data"
    },
    {
     "data": {
      "application/vnd.jupyter.widget-view+json": {
       "model_id": "8be5805e0ca546209bf150f516104548",
       "version_major": 2,
       "version_minor": 0
      },
      "text/plain": [
       "  0%|          | 0/819 [00:00<?, ?it/s]"
      ]
     },
     "metadata": {},
     "output_type": "display_data"
    },
    {
     "data": {
      "application/vnd.jupyter.widget-view+json": {
       "model_id": "66faf2f24e02471d95532859d22b4a3c",
       "version_major": 2,
       "version_minor": 0
      },
      "text/plain": [
       "  0%|          | 0/10 [00:00<?, ?it/s]"
      ]
     },
     "metadata": {},
     "output_type": "display_data"
    },
    {
     "data": {
      "application/vnd.jupyter.widget-view+json": {
       "model_id": "eb8669f630d44211a6752d75dca5ad43",
       "version_major": 2,
       "version_minor": 0
      },
      "text/plain": [
       "  0%|          | 0/819 [00:00<?, ?it/s]"
      ]
     },
     "metadata": {},
     "output_type": "display_data"
    },
    {
     "data": {
      "text/plain": [
       "{'{}': 44.44444444444444,\n",
       " 'a {}': 56.776556776556774,\n",
       " 'is a {}': 41.02564102564102,\n",
       " 'this is a {}': 11.477411477411477,\n",
       " 'This is a {}.': 12.21001221001221,\n",
       " 'This is a photo of a {}.': 22.1001221001221,\n",
       " 'This is a photo of a {}, a kind of flower.': 35.775335775335776,\n",
       " 'a photo of many {}.': 32.356532356532355,\n",
       " 'a beautiful {}': 31.37973137973138,\n",
       " 'many beautiful {}': 36.26373626373626,\n",
       " 'many beatiful {}': 36.75213675213676,\n",
       " 'a flower of type: {}': 32.234432234432234,\n",
       " 'a {} with leaves.': 28.69352869352869,\n",
       " 'a {} with petals.': 33.943833943833944}"
      ]
     },
     "execution_count": 13,
     "metadata": {},
     "output_type": "execute_result"
    }
   ],
   "source": [
    "templates = [\"{}\", \"a {}\", \n",
    "             \"is a {}\", \n",
    "             \"this is a {}\", \n",
    "             \"This is a {}.\", \n",
    "             \"This is a photo of a {}.\",\n",
    "             'This is a photo of a {}, a kind of flower.',\n",
    "             'a photo of many {}.',\n",
    "             'a beautiful {}',\n",
    "             'many beautiful {}',\n",
    "             'many beatiful {}',\n",
    "             'a flower of type: {}',\n",
    "             'a {} with leaves.',\n",
    "             'a {} with petals.']\n",
    "\n",
    "\n",
    "for template in templates:\n",
    "    if template in template_performance:\n",
    "        continue\n",
    "    zw = zeroshot_classifier(dataset_obj.classes,[template])\n",
    "\n",
    "    czs = clip_zero_shot(\n",
    "        train_loader,\n",
    "        dataset_obj.classes,\n",
    "        zw\n",
    "    )\n",
    "    template_performance[template] = czs[0]\n",
    "    \n",
    "template_performance"
   ]
  },
  {
   "cell_type": "markdown",
   "id": "c927ce07",
   "metadata": {},
   "source": [
    "Some key observations:\n",
    "\n",
    "- \"a\" made a really big difference to the accuracy\n",
    "- Spelling mistakes don't seem to hurt perpormance much.\n",
    "- Potential bias towards visually available objects (leaves, petals)"
   ]
  },
  {
   "cell_type": "markdown",
   "id": "e6a78165",
   "metadata": {},
   "source": [
    "### Combination of templates exploration\n"
   ]
  },
  {
   "cell_type": "code",
   "execution_count": 14,
   "id": "3fb60aaa",
   "metadata": {},
   "outputs": [
    {
     "data": {
      "application/vnd.jupyter.widget-view+json": {
       "model_id": "7a217e0d5ae6455882789dc65561f760",
       "version_major": 2,
       "version_minor": 0
      },
      "text/plain": [
       "  0%|          | 0/10 [00:00<?, ?it/s]"
      ]
     },
     "metadata": {},
     "output_type": "display_data"
    },
    {
     "data": {
      "application/vnd.jupyter.widget-view+json": {
       "model_id": "3934cec8b93b4c87b4fc820e77c5607c",
       "version_major": 2,
       "version_minor": 0
      },
      "text/plain": [
       "  0%|          | 0/819 [00:00<?, ?it/s]"
      ]
     },
     "metadata": {},
     "output_type": "display_data"
    },
    {
     "name": "stdout",
     "output_type": "stream",
     "text": [
      "65.07936507936508\n"
     ]
    },
    {
     "data": {
      "application/vnd.jupyter.widget-view+json": {
       "model_id": "ff91431e96004cbc921a8c3d36679a96",
       "version_major": 2,
       "version_minor": 0
      },
      "text/plain": [
       "  0%|          | 0/10 [00:00<?, ?it/s]"
      ]
     },
     "metadata": {},
     "output_type": "display_data"
    },
    {
     "data": {
      "application/vnd.jupyter.widget-view+json": {
       "model_id": "42e6e379a5d6491e9bf2e9d820835c93",
       "version_major": 2,
       "version_minor": 0
      },
      "text/plain": [
       "  0%|          | 0/819 [00:00<?, ?it/s]"
      ]
     },
     "metadata": {},
     "output_type": "display_data"
    },
    {
     "name": "stdout",
     "output_type": "stream",
     "text": [
      "67.52136752136752\n"
     ]
    },
    {
     "data": {
      "application/vnd.jupyter.widget-view+json": {
       "model_id": "1a33814628f4427880245321dfaecf26",
       "version_major": 2,
       "version_minor": 0
      },
      "text/plain": [
       "  0%|          | 0/10 [00:00<?, ?it/s]"
      ]
     },
     "metadata": {},
     "output_type": "display_data"
    },
    {
     "data": {
      "application/vnd.jupyter.widget-view+json": {
       "model_id": "95ec7cf589934a6ba5a7f63d5a19a4f6",
       "version_major": 2,
       "version_minor": 0
      },
      "text/plain": [
       "  0%|          | 0/819 [00:00<?, ?it/s]"
      ]
     },
     "metadata": {},
     "output_type": "display_data"
    },
    {
     "name": "stdout",
     "output_type": "stream",
     "text": [
      "68.00976800976801\n"
     ]
    },
    {
     "data": {
      "application/vnd.jupyter.widget-view+json": {
       "model_id": "1d60b127efb94de7822b875429051dfa",
       "version_major": 2,
       "version_minor": 0
      },
      "text/plain": [
       "  0%|          | 0/10 [00:00<?, ?it/s]"
      ]
     },
     "metadata": {},
     "output_type": "display_data"
    },
    {
     "data": {
      "application/vnd.jupyter.widget-view+json": {
       "model_id": "f30212b48cb243968df12265cda3fcdb",
       "version_major": 2,
       "version_minor": 0
      },
      "text/plain": [
       "  0%|          | 0/819 [00:00<?, ?it/s]"
      ]
     },
     "metadata": {},
     "output_type": "display_data"
    },
    {
     "name": "stdout",
     "output_type": "stream",
     "text": [
      "70.6959706959707\n"
     ]
    },
    {
     "data": {
      "application/vnd.jupyter.widget-view+json": {
       "model_id": "196d13d0ae2e43db90ea6b9555fe3559",
       "version_major": 2,
       "version_minor": 0
      },
      "text/plain": [
       "  0%|          | 0/10 [00:00<?, ?it/s]"
      ]
     },
     "metadata": {},
     "output_type": "display_data"
    },
    {
     "data": {
      "application/vnd.jupyter.widget-view+json": {
       "model_id": "49e0ed063fca4b1daeb2dbd627277dc4",
       "version_major": 2,
       "version_minor": 0
      },
      "text/plain": [
       "  0%|          | 0/819 [00:00<?, ?it/s]"
      ]
     },
     "metadata": {},
     "output_type": "display_data"
    },
    {
     "name": "stdout",
     "output_type": "stream",
     "text": [
      "44.44444444444444\n"
     ]
    },
    {
     "data": {
      "application/vnd.jupyter.widget-view+json": {
       "model_id": "d4622497fd594254a4b56885661f4165",
       "version_major": 2,
       "version_minor": 0
      },
      "text/plain": [
       "  0%|          | 0/10 [00:00<?, ?it/s]"
      ]
     },
     "metadata": {},
     "output_type": "display_data"
    },
    {
     "data": {
      "application/vnd.jupyter.widget-view+json": {
       "model_id": "6692e63f37bb415bb04a79d51225a941",
       "version_major": 2,
       "version_minor": 0
      },
      "text/plain": [
       "  0%|          | 0/819 [00:00<?, ?it/s]"
      ]
     },
     "metadata": {},
     "output_type": "display_data"
    },
    {
     "name": "stdout",
     "output_type": "stream",
     "text": [
      "68.25396825396825\n"
     ]
    },
    {
     "data": {
      "text/plain": [
       "{0: [['a {} with leaves'], 65.07936507936508],\n",
       " 1: [['a {} with petals'], 67.52136752136752],\n",
       " 2: [['a {} with leaves.', 'a {} with petals.'], 68.00976800976801],\n",
       " 3: [['a {} with leaves and petals.'], 70.6959706959707],\n",
       " 4: [['{}'], 44.44444444444444],\n",
       " 5: [['a {} with a number of green leaves and a number of beautiful petals.'],\n",
       "  68.25396825396825]}"
      ]
     },
     "execution_count": 14,
     "metadata": {},
     "output_type": "execute_result"
    }
   ],
   "source": [
    "templates = [[\"a {} with leaves\"],\n",
    "             [\"a {} with petals\"],\n",
    "             ['a {} with leaves.',\n",
    "             'a {} with petals.'],\n",
    "             ['a {} with leaves and petals.'],\n",
    "            ['{}'],\n",
    "            ['a {} with a number of green leaves and a number of beautiful petals.']]\n",
    "\n",
    "def zeroshot_classifier(classnames, templates):\n",
    "    with torch.no_grad():\n",
    "        zeroshot_weights = []\n",
    "        for classname in tqdm(classnames):\n",
    "            texts = [\n",
    "                template.format(classname) for template in templates\n",
    "            ]  # format with class\n",
    "            texts = clip.tokenize(texts).cuda()  # tokenize\n",
    "            class_embeddings = clip_model.encode_text(texts)  # embed with text encoder\n",
    "            class_embeddings /= class_embeddings.norm(dim=-1, keepdim=True)\n",
    "            class_embedding = class_embeddings.mean(dim=0)\n",
    "            class_embedding /= class_embedding.norm()\n",
    "            zeroshot_weights.append(class_embedding)\n",
    "        zeroshot_weights = torch.stack(zeroshot_weights, dim=1).cuda()\n",
    "    return zeroshot_weights\n",
    "\n",
    "\n",
    "nt = {}\n",
    "for i, template in enumerate(templates):\n",
    "    zw = zeroshot_classifier(dataset_obj.classes,template)\n",
    "\n",
    "    czs = clip_zero_shot(\n",
    "        train_loader,\n",
    "        dataset_obj.classes,\n",
    "        zw\n",
    "    )\n",
    "    nt[i] = [template, czs[0]]\n",
    "    print(czs[0])\n",
    "    \n",
    "nt"
   ]
  },
  {
   "cell_type": "markdown",
   "id": "7eb44f6f",
   "metadata": {},
   "source": [
    "Some key observations:\n",
    "\n",
    "- Incorporating multiple signals in the same sentence seems to work better than averaging over multiple sentence embeddings."
   ]
  },
  {
   "cell_type": "code",
   "execution_count": 19,
   "id": "89bb7c23",
   "metadata": {},
   "outputs": [
    {
     "data": {
      "application/vnd.jupyter.widget-view+json": {
       "model_id": "fea70c5a4ca1473f8d9970df68f5180c",
       "version_major": 2,
       "version_minor": 0
      },
      "text/plain": [
       "  0%|          | 0/10 [00:00<?, ?it/s]"
      ]
     },
     "metadata": {},
     "output_type": "display_data"
    },
    {
     "data": {
      "application/vnd.jupyter.widget-view+json": {
       "model_id": "b6b2006e57d04398a01e04def61d3168",
       "version_major": 2,
       "version_minor": 0
      },
      "text/plain": [
       "  0%|          | 0/819 [00:00<?, ?it/s]"
      ]
     },
     "metadata": {},
     "output_type": "display_data"
    },
    {
     "name": "stdout",
     "output_type": "stream",
     "text": [
      "67.15506715506714\n"
     ]
    },
    {
     "data": {
      "text/plain": [
       "{0: [['{} leaves petals'], 67.15506715506714]}"
      ]
     },
     "execution_count": 19,
     "metadata": {},
     "output_type": "execute_result"
    }
   ],
   "source": [
    "templates = [[\"{} leaves petals\"]]\n",
    "\n",
    "def zeroshot_classifier(classnames, templates):\n",
    "    with torch.no_grad():\n",
    "        zeroshot_weights = []\n",
    "        for classname in tqdm(classnames):\n",
    "            texts = [\n",
    "                template.format(classname) for template in templates\n",
    "            ]  # format with class\n",
    "            texts = clip.tokenize(texts).cuda()  # tokenize\n",
    "            class_embeddings = clip_model.encode_text(texts)  # embed with text encoder\n",
    "            class_embeddings /= class_embeddings.norm(dim=-1, keepdim=True)\n",
    "            class_embedding = class_embeddings.mean(dim=0)\n",
    "            class_embedding /= class_embedding.norm()\n",
    "            zeroshot_weights.append(class_embedding)\n",
    "        zeroshot_weights = torch.stack(zeroshot_weights, dim=1).cuda()\n",
    "    return zeroshot_weights\n",
    "\n",
    "\n",
    "nt = {}\n",
    "for i, template in enumerate(templates):\n",
    "    zw = zeroshot_classifier(dataset_obj.classes,template)\n",
    "\n",
    "    czs = clip_zero_shot(\n",
    "        train_loader,\n",
    "        dataset_obj.classes,\n",
    "        zw\n",
    "    )\n",
    "    nt[i] = [template, czs[0]]\n",
    "    print(czs[0])\n",
    "    \n",
    "nt"
   ]
  },
  {
   "cell_type": "markdown",
   "id": "f32db403",
   "metadata": {},
   "source": [
    "## Incorporating class attributes\n"
   ]
  },
  {
   "cell_type": "markdown",
   "id": "e819d479",
   "metadata": {},
   "source": [
    "### Color descriptors"
   ]
  },
  {
   "cell_type": "code",
   "execution_count": 15,
   "id": "85bcc47a",
   "metadata": {},
   "outputs": [],
   "source": [
    "colors = {\n",
    "     'pelargonium': [\"violet\", \"lavender\"],\n",
    "     'love in the mist': [\"white\", \"blue\", \"purple\"],\n",
    "     'silverbush': [\"white\", \"yellow\"],\n",
    "     'great masterwort': [\"white\", \"pink\", \"magenta\"],\n",
    "     'bolero deep blue': [\"purple\", \"lavender\", \"violet\"],\n",
    "     'hard-leaved pocket orchid': [\"white\", \"pink\", \"lavender\"],\n",
    "     'petunia': [\"white\", \"red\", \"pink\"],\n",
    "     'sword lily': [\"red\", \"pink\", \"white\"],\n",
    "     'wallflower': [\"red\", \"yellow\", \"orange\"],\n",
    "     'bougainvillea': [\"purple\", \"violet\", \"pink\", \"white\"],}"
   ]
  },
  {
   "cell_type": "code",
   "execution_count": 16,
   "id": "b30420f6",
   "metadata": {},
   "outputs": [
    {
     "data": {
      "application/vnd.jupyter.widget-view+json": {
       "model_id": "b034b63410cd4f1497629c7b06c569ab",
       "version_major": 2,
       "version_minor": 0
      },
      "text/plain": [
       "  0%|          | 0/10 [00:00<?, ?it/s]"
      ]
     },
     "metadata": {},
     "output_type": "display_data"
    },
    {
     "data": {
      "application/vnd.jupyter.widget-view+json": {
       "model_id": "0f7888cf4aae444ab378e750494ea29b",
       "version_major": 2,
       "version_minor": 0
      },
      "text/plain": [
       "  0%|          | 0/819 [00:00<?, ?it/s]"
      ]
     },
     "metadata": {},
     "output_type": "display_data"
    },
    {
     "name": "stdout",
     "output_type": "stream",
     "text": [
      "75.45787545787546\n"
     ]
    }
   ],
   "source": [
    "templates = [\"a {} flower with {} petals.\"]\n",
    "\n",
    "    \n",
    "def zeroshot_classifier(classnames, templates):\n",
    "    with torch.no_grad():\n",
    "        zeroshot_weights = []\n",
    "        for classname in tqdm(classnames):\n",
    "            texts = []\n",
    "            for color in colors[classname]:\n",
    "                texts.extend([\n",
    "                    template.format(classname, color) for template in templates\n",
    "                ])  # format with class\n",
    "            texts = clip.tokenize(texts).cuda()  # tokenize\n",
    "            class_embeddings = clip_model.encode_text(texts)  # embed with text encoder\n",
    "            class_embeddings /= class_embeddings.norm(dim=-1, keepdim=True)\n",
    "            class_embedding = class_embeddings.mean(dim=0)\n",
    "            class_embedding /= class_embedding.norm()\n",
    "            zeroshot_weights.append(class_embedding)\n",
    "        zeroshot_weights = torch.stack(zeroshot_weights, dim=1).cuda()\n",
    "    return zeroshot_weights\n",
    "\n",
    "colors_zw = zeroshot_classifier(dataset_obj.classes,templates)\n",
    "\n",
    "colors_czs = clip_zero_shot(\n",
    "    train_loader,\n",
    "    dataset_obj.classes,\n",
    "    colors_zw\n",
    ")\n",
    "print(colors_czs[0])"
   ]
  },
  {
   "cell_type": "code",
   "execution_count": 12,
   "id": "baa56f74",
   "metadata": {},
   "outputs": [
    {
     "data": {
      "application/vnd.jupyter.widget-view+json": {
       "model_id": "94a1f9919a0546b0b58a789336404d45",
       "version_major": 2,
       "version_minor": 0
      },
      "text/plain": [
       "  0%|          | 0/10 [00:00<?, ?it/s]"
      ]
     },
     "metadata": {},
     "output_type": "display_data"
    },
    {
     "data": {
      "application/vnd.jupyter.widget-view+json": {
       "model_id": "975f5bdd68f043bdb9d40f3d611703de",
       "version_major": 2,
       "version_minor": 0
      },
      "text/plain": [
       "  0%|          | 0/819 [00:00<?, ?it/s]"
      ]
     },
     "metadata": {},
     "output_type": "display_data"
    },
    {
     "name": "stdout",
     "output_type": "stream",
     "text": [
      "75.94627594627595\n"
     ]
    }
   ],
   "source": [
    "templates = [\"a {} {} flower.\"]\n",
    "\n",
    "    \n",
    "def zeroshot_classifier(classnames, templates):\n",
    "    with torch.no_grad():\n",
    "        zeroshot_weights = []\n",
    "        for classname in tqdm(classnames):\n",
    "            texts = []\n",
    "            for color in colors[classname]:\n",
    "                texts.extend([\n",
    "                    template.format(color, classname) for template in templates\n",
    "                ])  # format with class\n",
    "            texts = clip.tokenize(texts).cuda()  # tokenize\n",
    "            class_embeddings = clip_model.encode_text(texts)  # embed with text encoder\n",
    "            class_embeddings /= class_embeddings.norm(dim=-1, keepdim=True)\n",
    "            class_embedding = class_embeddings.mean(dim=0)\n",
    "            class_embedding /= class_embedding.norm()\n",
    "            zeroshot_weights.append(class_embedding)\n",
    "        zeroshot_weights = torch.stack(zeroshot_weights, dim=1).cuda()\n",
    "    return zeroshot_weights\n",
    "\n",
    "colors_zw = zeroshot_classifier(dataset_obj.classes,templates)\n",
    "\n",
    "colors_czs = clip_zero_shot(\n",
    "    train_loader,\n",
    "    dataset_obj.classes,\n",
    "    colors_zw\n",
    ")\n",
    "print(colors_czs[0])"
   ]
  },
  {
   "cell_type": "code",
   "execution_count": 20,
   "id": "cf0025e1",
   "metadata": {},
   "outputs": [
    {
     "name": "stdout",
     "output_type": "stream",
     "text": [
      "0.7023736448021353\n"
     ]
    },
    {
     "data": {
      "text/plain": [
       "<AxesSubplot:>"
      ]
     },
     "execution_count": 20,
     "metadata": {},
     "output_type": "execute_result"
    },
    {
     "data": {
      "image/png": "[encoded data removed]",
      "text/plain": [
       "<Figure size 432x288 with 2 Axes>"
      ]
     },
     "metadata": {
      "needs_background": "light"
     },
     "output_type": "display_data"
    }
   ],
   "source": [
    "matrix = cosine_similarity(colors_zw.cpu().detach().numpy().T)\n",
    "print(matrix.mean())\n",
    "sn.heatmap(matrix, xticklabels = dataset_obj.classes, yticklabels = dataset_obj.classes)"
   ]
  },
  {
   "cell_type": "markdown",
   "id": "be93d2bd",
   "metadata": {},
   "source": [
    "### Other names\n"
   ]
  },
  {
   "cell_type": "code",
   "execution_count": null,
   "id": "3f32ae6f",
   "metadata": {},
   "outputs": [],
   "source": [
    "other_names = {\n",
    "     'pelargonium': [\"geranium\", \"storksbill\"],\n",
    "     'love in the mist': [\"ragged lady\", \"devil in the bush\", ],\n",
    "     'silverbush': [\"shrubby bindweed\", \"Convolvulus cneorum\"],\n",
    "     'great masterwort': [\"Astrantia major\"],\n",
    "     'bolero deep blue': [\"Texas bluebell\", \"bluebell\", \"showy prairie gentian\", \"prairie gentian\"],\n",
    "     'hard-leaved pocket orchid': [\"silver slipper orchid\", \"paphiopedilum micranthum\"],\n",
    "     'petunia': [\"Grandiflora\", \"Multiflora\", \"Cascadia\"],\n",
    "     'sword lily': [\"Gladiolus\"],\n",
    "     'wallflower': [\"Erysimum\"],\n",
    "     'bougainvillea': [\"paper flower\", \"bougainvillia\"],}"
   ]
  },
  {
   "cell_type": "code",
   "execution_count": 21,
   "id": "649bd07f",
   "metadata": {},
   "outputs": [],
   "source": [
    "other_names = {\n",
    "     'pelargonium': [\"geranium\"],\n",
    "     'love in the mist': [\"ragged lady\" ],\n",
    "     'silverbush': [\"Convolvulus cneorum\"],\n",
    "     'great masterwort': [\"Astrantia major\"],\n",
    "     'bolero deep blue': [\"prairie gentian\"],\n",
    "     'hard-leaved pocket orchid': [\"paphiopedilum micranthum\"],\n",
    "     'petunia': [\"Cascadia\"],\n",
    "     'sword lily': [\"Gladiolus\"],\n",
    "     'wallflower': [\"Erysimum\"],\n",
    "     'bougainvillea': [\"bougainvillia\"],}"
   ]
  },
  {
   "cell_type": "code",
   "execution_count": 49,
   "id": "72042135",
   "metadata": {},
   "outputs": [
    {
     "data": {
      "application/vnd.jupyter.widget-view+json": {
       "model_id": "5dfa926ccf40471780bde8321f560a16",
       "version_major": 2,
       "version_minor": 0
      },
      "text/plain": [
       "  0%|          | 0/10 [00:00<?, ?it/s]"
      ]
     },
     "metadata": {},
     "output_type": "display_data"
    },
    {
     "data": {
      "application/vnd.jupyter.widget-view+json": {
       "model_id": "75e1fa05ae3743a69c00210e35452948",
       "version_major": 2,
       "version_minor": 0
      },
      "text/plain": [
       "  0%|          | 0/819 [00:00<?, ?it/s]"
      ]
     },
     "metadata": {},
     "output_type": "display_data"
    },
    {
     "name": "stdout",
     "output_type": "stream",
     "text": [
      "76.55677655677655\n"
     ]
    }
   ],
   "source": [
    "templates = [\"a {} flower, also called {} flower.\"]\n",
    "\n",
    "    \n",
    "def zeroshot_classifier(classnames, templates):\n",
    "    with torch.no_grad():\n",
    "        zeroshot_weights = []\n",
    "        for classname in tqdm(classnames):\n",
    "            texts = []\n",
    "            all_names = other_names[classname]\n",
    "            for c in all_names:\n",
    "                texts.extend([\n",
    "                    template.format(classname, c) for template in templates\n",
    "                ])  # format with class\n",
    "            texts = clip.tokenize(texts).cuda()  # tokenize\n",
    "            class_embeddings = clip_model.encode_text(texts)  # embed with text encoder\n",
    "            class_embeddings /= class_embeddings.norm(dim=-1, keepdim=True)\n",
    "            class_embedding = class_embeddings.mean(dim=0)\n",
    "            class_embedding /= class_embedding.norm()\n",
    "            zeroshot_weights.append(class_embedding)\n",
    "        zeroshot_weights = torch.stack(zeroshot_weights, dim=1).cuda()\n",
    "    return zeroshot_weights\n",
    "\n",
    "names_zw = zeroshot_classifier(dataset_obj.classes,templates)\n",
    "\n",
    "names_czs = clip_zero_shot(\n",
    "    train_loader,\n",
    "    dataset_obj.classes,\n",
    "    names_zw\n",
    ")\n",
    "print(names_czs[0])"
   ]
  },
  {
   "cell_type": "code",
   "execution_count": 23,
   "id": "a5990d07",
   "metadata": {},
   "outputs": [
    {
     "name": "stdout",
     "output_type": "stream",
     "text": [
      "0.6109125784149995\n"
     ]
    },
    {
     "data": {
      "text/plain": [
       "<AxesSubplot:>"
      ]
     },
     "execution_count": 23,
     "metadata": {},
     "output_type": "execute_result"
    },
    {
     "data": {
      "image/png": "[encoded data removed]",
      "text/plain": [
       "<Figure size 432x288 with 2 Axes>"
      ]
     },
     "metadata": {
      "needs_background": "light"
     },
     "output_type": "display_data"
    }
   ],
   "source": [
    "matrix = cosine_similarity(names_zw.cpu().detach().numpy().T)\n",
    "print(matrix.mean())\n",
    "sn.heatmap(matrix, xticklabels = dataset_obj.classes, yticklabels = dataset_obj.classes)"
   ]
  },
  {
   "cell_type": "markdown",
   "id": "6a415c79",
   "metadata": {},
   "source": [
    "Observations\n",
    "\n",
    "- Oddly enough, providing one alternate name seems to be working equally as well as providing multiple, nothing new is learnt"
   ]
  },
  {
   "cell_type": "markdown",
   "id": "1d1f7c20",
   "metadata": {},
   "source": [
    "### Non visual descriptors\n"
   ]
  },
  {
   "cell_type": "code",
   "execution_count": 24,
   "id": "119a8a76",
   "metadata": {},
   "outputs": [],
   "source": [
    "non_visual_descriptions = {\n",
    "     'pelargonium': [\"{} is an evergreen plant.\", \"{} is a perennial.\", \"{} has five petals.\"],\n",
    "     'love in the mist': [\"{} has pinnately divided, thread-like, alternate leaves\", \"{} blooms in early summer\"],\n",
    "     'silverbush': [\"{} is an evergreen shrub.\" , \"{} is found in coastal areas\"],\n",
    "     'great masterwort': [\"{}'s stem is erect and glabrous.\", \"{} produces an essential oil.\"],\n",
    "     'bolero deep blue': [\"{} has been cultivated in japan for many years.\", \"{} prefers moist sandy soils.\"],\n",
    "     'hard-leaved pocket orchid': [\"{} has no fragrance.\", \"{} is found commonly in China.\"],\n",
    "     'petunia': [\"{} is an annual flower.\", \"{} are insect pollinated.\"],\n",
    "     'sword lily': [\"{}s grow from round, symmetrical corms.\", \"{} were originally pollinated by long-tongued anthophorini bees.\"],\n",
    "     'wallflower': [\"The leaves of {} are narrow and sessile.\", \"Flowering for the {} occurs during spring and summer.\"],\n",
    "     'bougainvillea': [\" The {} consists of large colourful sepal-like bracts which surround three simple waxy flowers.\"],}"
   ]
  },
  {
   "cell_type": "code",
   "execution_count": 25,
   "id": "16d03547",
   "metadata": {},
   "outputs": [
    {
     "data": {
      "application/vnd.jupyter.widget-view+json": {
       "model_id": "79b670bedb0742ad9ba7a58022498f28",
       "version_major": 2,
       "version_minor": 0
      },
      "text/plain": [
       "  0%|          | 0/10 [00:00<?, ?it/s]"
      ]
     },
     "metadata": {},
     "output_type": "display_data"
    },
    {
     "data": {
      "application/vnd.jupyter.widget-view+json": {
       "model_id": "e5b6f4654e014d65a299d126e4f3f2b4",
       "version_major": 2,
       "version_minor": 0
      },
      "text/plain": [
       "  0%|          | 0/819 [00:00<?, ?it/s]"
      ]
     },
     "metadata": {},
     "output_type": "display_data"
    },
    {
     "name": "stdout",
     "output_type": "stream",
     "text": [
      "66.30036630036629\n"
     ]
    }
   ],
   "source": [
    "templates = []\n",
    "\n",
    "    \n",
    "def zeroshot_classifier(classnames, templates):\n",
    "    with torch.no_grad():\n",
    "        zeroshot_weights = []\n",
    "        \n",
    "        for classname in tqdm(classnames):\n",
    "            templates = non_visual_descriptions[classname]\n",
    "            texts = [\n",
    "                template.format(classname) for template in templates\n",
    "            ]  # format with class\n",
    "            texts = clip.tokenize(texts).cuda()  # tokenize\n",
    "            class_embeddings = clip_model.encode_text(\n",
    "                texts\n",
    "            )  # embed with text encoder\n",
    "            class_embeddings /= class_embeddings.norm(dim=-1, keepdim=True)\n",
    "            class_embedding = class_embeddings.mean(dim=0)\n",
    "            class_embedding /= class_embedding.norm()\n",
    "            zeroshot_weights.append(class_embedding)\n",
    "        zeroshot_weights = torch.stack(zeroshot_weights, dim=1).cuda()\n",
    "    return zeroshot_weights\n",
    "\n",
    "desc_zw = zeroshot_classifier(dataset_obj.classes,templates)\n",
    "\n",
    "desc_czs = clip_zero_shot(\n",
    "    train_loader,\n",
    "    dataset_obj.classes,\n",
    "    desc_zw\n",
    ")\n",
    "print(desc_czs[0])"
   ]
  },
  {
   "cell_type": "code",
   "execution_count": 26,
   "id": "95bf60b7",
   "metadata": {},
   "outputs": [
    {
     "name": "stdout",
     "output_type": "stream",
     "text": [
      "0.6821450622295204\n"
     ]
    },
    {
     "data": {
      "text/plain": [
       "<AxesSubplot:>"
      ]
     },
     "execution_count": 26,
     "metadata": {},
     "output_type": "execute_result"
    },
    {
     "data": {
      "image/png": "[encoded data removed]",
      "text/plain": [
       "<Figure size 432x288 with 2 Axes>"
      ]
     },
     "metadata": {
      "needs_background": "light"
     },
     "output_type": "display_data"
    }
   ],
   "source": [
    "matrix = cosine_similarity(desc_zw.cpu().detach().numpy().T)\n",
    "print(matrix.mean())\n",
    "sn.heatmap(matrix, xticklabels = dataset_obj.classes, yticklabels = dataset_obj.classes)"
   ]
  },
  {
   "cell_type": "markdown",
   "id": "873d87f1",
   "metadata": {},
   "source": [
    "### Visual Descriptions"
   ]
  },
  {
   "cell_type": "code",
   "execution_count": 27,
   "id": "182efa9c",
   "metadata": {},
   "outputs": [],
   "source": [
    "visual_descriptions = {\n",
    "     'pelargonium': [\"{} has five-petaled flowers in umbel-like clusters.\", \"{} open from the centre outwards, this is a form of inflorescence is referred to as pseudoumbels\"],\n",
    "     'love in the mist': [\"{} has pinnately divided, thread-like, alternate leaves\", \"For {}, the four to five carpels of the compound pistil have each an erect style\"],\n",
    "     'silverbush': [\"{} has a yellow throat.\"],\n",
    "     'great masterwort': [\"{} has long stamens.\", \"{} has five petaled leaves.\"],\n",
    "     'bolero deep blue': [\"{} has blue-green waxy leaves.\", \"{} has showy bell shaped flowers in blue pink or white.\"],\n",
    "     'hard-leaved pocket orchid': [\"{} has red veins.\", \"{} has large white petals.\"],\n",
    "     'petunia': [\"{} is a round flower.\"],\n",
    "     'sword lily': [\"the {} flower spikes are large and one-sided.\" ],\n",
    "     'wallflower': [\"{} is characterised by sessile, stellate (star-shaped) and/or malpighiaceous (two-sided) trichomes, yellow to orange flowers\"],\n",
    "     'bougainvillea': [\"{} has three flowers is surrounded by three or six bracts\", \"{} occur in groups\"]}"
   ]
  },
  {
   "cell_type": "code",
   "execution_count": 28,
   "id": "2cc0d494",
   "metadata": {},
   "outputs": [
    {
     "data": {
      "application/vnd.jupyter.widget-view+json": {
       "model_id": "b12d077d069449399b64892c61056196",
       "version_major": 2,
       "version_minor": 0
      },
      "text/plain": [
       "  0%|          | 0/10 [00:00<?, ?it/s]"
      ]
     },
     "metadata": {},
     "output_type": "display_data"
    },
    {
     "data": {
      "application/vnd.jupyter.widget-view+json": {
       "model_id": "b74240e0cb454a9eb5a26dcb9c0e99e3",
       "version_major": 2,
       "version_minor": 0
      },
      "text/plain": [
       "  0%|          | 0/819 [00:00<?, ?it/s]"
      ]
     },
     "metadata": {},
     "output_type": "display_data"
    },
    {
     "name": "stdout",
     "output_type": "stream",
     "text": [
      "61.66056166056166\n"
     ]
    }
   ],
   "source": [
    "templates = []\n",
    "\n",
    "    \n",
    "def zeroshot_classifier(classnames, templates):\n",
    "    with torch.no_grad():\n",
    "        zeroshot_weights = []\n",
    "        \n",
    "        for classname in tqdm(classnames):\n",
    "            templates = visual_descriptions[classname]\n",
    "            texts = [\n",
    "                template.format(classname) for template in templates\n",
    "            ]  # format with class\n",
    "            texts = clip.tokenize(texts).cuda()  # tokenize\n",
    "            class_embeddings = clip_model.encode_text(\n",
    "                texts\n",
    "            )  # embed with text encoder\n",
    "            class_embeddings /= class_embeddings.norm(dim=-1, keepdim=True)\n",
    "            class_embedding = class_embeddings.mean(dim=0)\n",
    "            class_embedding /= class_embedding.norm()\n",
    "            zeroshot_weights.append(class_embedding)\n",
    "        zeroshot_weights = torch.stack(zeroshot_weights, dim=1).cuda()\n",
    "    return zeroshot_weights\n",
    "\n",
    "vis_desc_zw = zeroshot_classifier(dataset_obj.classes,templates)\n",
    "\n",
    "vis_desc_czs = clip_zero_shot(\n",
    "    train_loader,\n",
    "    dataset_obj.classes,\n",
    "    vis_desc_zw\n",
    ")\n",
    "print(vis_desc_czs[0])"
   ]
  },
  {
   "cell_type": "code",
   "execution_count": 29,
   "id": "1f6894ae",
   "metadata": {},
   "outputs": [
    {
     "name": "stdout",
     "output_type": "stream",
     "text": [
      "0.6093670945967934\n"
     ]
    },
    {
     "data": {
      "text/plain": [
       "<AxesSubplot:>"
      ]
     },
     "execution_count": 29,
     "metadata": {},
     "output_type": "execute_result"
    },
    {
     "data": {
      "image/png": "[encoded data removed]",
      "text/plain": [
       "<Figure size 432x288 with 2 Axes>"
      ]
     },
     "metadata": {
      "needs_background": "light"
     },
     "output_type": "display_data"
    }
   ],
   "source": [
    "matrix = cosine_similarity(vis_desc_zw.cpu().detach().numpy().T)\n",
    "print(matrix.mean())\n",
    "sn.heatmap(matrix, xticklabels = dataset_obj.classes, yticklabels = dataset_obj.classes)"
   ]
  },
  {
   "cell_type": "markdown",
   "id": "afaeebfa",
   "metadata": {},
   "source": [
    "### Putting it all together"
   ]
  },
  {
   "cell_type": "code",
   "execution_count": 43,
   "id": "7dac2ff2",
   "metadata": {},
   "outputs": [
    {
     "data": {
      "text/plain": [
       "{'pelargonium': ['pelargonium also known as geranium has  violet, lavender petals'],\n",
       " 'love in the mist': ['love in the mist also known as ragged lady has  white, blue, purple petals'],\n",
       " 'silverbush': ['silverbush also known as Convolvulus cneorum has  white, yellow petals'],\n",
       " 'great masterwort': ['great masterwort also known as Astrantia major has  white, pink, magenta petals'],\n",
       " 'bolero deep blue': ['bolero deep blue also known as prairie gentian has  purple, lavender, violet petals'],\n",
       " 'hard-leaved pocket orchid': ['hard-leaved pocket orchid also known as paphiopedilum micranthum has  white, pink, lavender petals'],\n",
       " 'petunia': ['petunia also known as Cascadia has  white, red, pink petals'],\n",
       " 'sword lily': ['sword lily also known as Gladiolus has  red, pink, white petals'],\n",
       " 'wallflower': ['wallflower also known as Erysimum has  red, yellow, orange petals'],\n",
       " 'bougainvillea': ['bougainvillea also known as bougainvillia has  purple, violet, pink, white petals']}"
      ]
     },
     "execution_count": 43,
     "metadata": {},
     "output_type": "execute_result"
    }
   ],
   "source": [
    "final_templates = {}\n",
    "for c in dataset_obj.classes:\n",
    "    final_templates[c] = []\n",
    "    cs = \"\"\n",
    "    for color in colors[c]:\n",
    "        cs+= f\" {color},\"\n",
    "    cs = cs[:-1]\n",
    "    sen = f\"{c} also known as {other_names[c][0]} has {cs} petals\"\n",
    "    final_templates[c] = [sen]\n",
    "    \n",
    "final_templates"
   ]
  },
  {
   "cell_type": "code",
   "execution_count": 44,
   "id": "34477ae7",
   "metadata": {},
   "outputs": [
    {
     "data": {
      "application/vnd.jupyter.widget-view+json": {
       "model_id": "a335284b6dd54445baef12d29a9eaaab",
       "version_major": 2,
       "version_minor": 0
      },
      "text/plain": [
       "  0%|          | 0/10 [00:00<?, ?it/s]"
      ]
     },
     "metadata": {},
     "output_type": "display_data"
    },
    {
     "data": {
      "application/vnd.jupyter.widget-view+json": {
       "model_id": "5d8fb5272edf4d88bae4384431520c5b",
       "version_major": 2,
       "version_minor": 0
      },
      "text/plain": [
       "  0%|          | 0/819 [00:00<?, ?it/s]"
      ]
     },
     "metadata": {},
     "output_type": "display_data"
    },
    {
     "name": "stdout",
     "output_type": "stream",
     "text": [
      "77.65567765567766\n"
     ]
    }
   ],
   "source": [
    "templates = []\n",
    "\n",
    "def zeroshot_classifier(classnames, templates):\n",
    "    with torch.no_grad():\n",
    "        zeroshot_weights = []\n",
    "        \n",
    "        for classname in tqdm(classnames):\n",
    "            templates = final_templates[classname]\n",
    "            texts = [\n",
    "                template for template in templates\n",
    "            ]  # format with class\n",
    "            texts = clip.tokenize(texts).cuda()  # tokenize\n",
    "            class_embeddings = clip_model.encode_text(\n",
    "                texts\n",
    "            )  # embed with text encoder\n",
    "            class_embeddings /= class_embeddings.norm(dim=-1, keepdim=True)\n",
    "            class_embedding = class_embeddings.mean(dim=0)\n",
    "            class_embedding /= class_embedding.norm()\n",
    "            zeroshot_weights.append(class_embedding)\n",
    "        zeroshot_weights = torch.stack(zeroshot_weights, dim=1).cuda()\n",
    "    return zeroshot_weights\n",
    "\n",
    "zw = zeroshot_classifier(dataset_obj.classes,templates)\n",
    "\n",
    "czs = clip_zero_shot(\n",
    "    train_loader,\n",
    "    dataset_obj.classes,\n",
    "    zw\n",
    ")\n",
    "print(czs[0])"
   ]
  },
  {
   "cell_type": "code",
   "execution_count": 45,
   "id": "ff5a1fb9",
   "metadata": {},
   "outputs": [
    {
     "name": "stdout",
     "output_type": "stream",
     "text": [
      "0.5369013124339506\n"
     ]
    },
    {
     "data": {
      "text/plain": [
       "<AxesSubplot:>"
      ]
     },
     "execution_count": 45,
     "metadata": {},
     "output_type": "execute_result"
    },
    {
     "data": {
      "image/png": "[encoded data removed]",
      "text/plain": [
       "<Figure size 432x288 with 2 Axes>"
      ]
     },
     "metadata": {
      "needs_background": "light"
     },
     "output_type": "display_data"
    }
   ],
   "source": [
    "matrix = cosine_similarity(zw.cpu().detach().numpy().T)\n",
    "print(matrix.mean())\n",
    "sn.heatmap(matrix, xticklabels = dataset_obj.classes, yticklabels = dataset_obj.classes)"
   ]
  },
  {
   "cell_type": "code",
   "execution_count": null,
   "id": "2bf0d3a9",
   "metadata": {},
   "outputs": [],
   "source": []
  }
 ],
 "metadata": {
  "kernelspec": {
   "display_name": "Python 3",
   "language": "python",
   "name": "python3"
  },
  "language_info": {
   "codemirror_mode": {
    "name": "ipython",
    "version": 3
   },
   "file_extension": ".py",
   "mimetype": "text/x-python",
   "name": "python",
   "nbconvert_exporter": "python",
   "pygments_lexer": "ipython3",
   "version": "3.8.5"
  }
 },
 "nbformat": 4,
 "nbformat_minor": 5
}
