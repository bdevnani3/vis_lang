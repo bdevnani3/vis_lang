{
 "cells": [
  {
   "cell_type": "code",
   "execution_count": 2,
   "metadata": {},
   "outputs": [
    {
     "name": "stderr",
     "output_type": "stream",
     "text": [
      "In /nethome/bdevnani3/anaconda3/envs/p3/lib/python3.8/site-packages/matplotlib/mpl-data/stylelib/_classic_test.mplstyle: \n",
      "The text.latex.preview rcparam was deprecated in Matplotlib 3.3 and will be removed two minor releases later.\n",
      "In /nethome/bdevnani3/anaconda3/envs/p3/lib/python3.8/site-packages/matplotlib/mpl-data/stylelib/_classic_test.mplstyle: \n",
      "The mathtext.fallback_to_cm rcparam was deprecated in Matplotlib 3.3 and will be removed two minor releases later.\n",
      "In /nethome/bdevnani3/anaconda3/envs/p3/lib/python3.8/site-packages/matplotlib/mpl-data/stylelib/_classic_test.mplstyle: Support for setting the 'mathtext.fallback_to_cm' rcParam is deprecated since 3.3 and will be removed two minor releases later; use 'mathtext.fallback : 'cm' instead.\n",
      "In /nethome/bdevnani3/anaconda3/envs/p3/lib/python3.8/site-packages/matplotlib/mpl-data/stylelib/_classic_test.mplstyle: \n",
      "The validate_bool_maybe_none function was deprecated in Matplotlib 3.3 and will be removed two minor releases later.\n",
      "In /nethome/bdevnani3/anaconda3/envs/p3/lib/python3.8/site-packages/matplotlib/mpl-data/stylelib/_classic_test.mplstyle: \n",
      "The savefig.jpeg_quality rcparam was deprecated in Matplotlib 3.3 and will be removed two minor releases later.\n",
      "In /nethome/bdevnani3/anaconda3/envs/p3/lib/python3.8/site-packages/matplotlib/mpl-data/stylelib/_classic_test.mplstyle: \n",
      "The keymap.all_axes rcparam was deprecated in Matplotlib 3.3 and will be removed two minor releases later.\n",
      "In /nethome/bdevnani3/anaconda3/envs/p3/lib/python3.8/site-packages/matplotlib/mpl-data/stylelib/_classic_test.mplstyle: \n",
      "The animation.avconv_path rcparam was deprecated in Matplotlib 3.3 and will be removed two minor releases later.\n",
      "In /nethome/bdevnani3/anaconda3/envs/p3/lib/python3.8/site-packages/matplotlib/mpl-data/stylelib/_classic_test.mplstyle: \n",
      "The animation.avconv_args rcparam was deprecated in Matplotlib 3.3 and will be removed two minor releases later.\n"
     ]
    }
   ],
   "source": [
    "import matplotlib.pyplot as plt\n",
    "import seaborn as sns\n",
    "\n",
    "CB91_Blue = '#2CBDFE'\n",
    "CB91_Green = '#47DBCD'\n",
    "CB91_Pink = '#F3A0F2'\n",
    "CB91_Purple = '#9D2EC5'\n",
    "CB91_Violet = '#661D98'\n",
    "CB91_Amber = '#F5B14C'\n",
    "color_list = [CB91_Blue, CB91_Pink, CB91_Green, CB91_Amber,\n",
    "              CB91_Purple, CB91_Violet]\n",
    "plt.rcParams['axes.prop_cycle'] = plt.cycler(color=color_list)\n",
    "\n",
    "sns.set(font='Franklin Gothic Book',\n",
    "        rc={\n",
    " 'axes.axisbelow': False,\n",
    " 'axes.edgecolor': 'lightgrey',\n",
    " 'axes.facecolor': 'None',\n",
    " 'axes.grid': False,\n",
    " 'axes.labelcolor': 'dimgrey',\n",
    " 'axes.spines.right': False,\n",
    " 'axes.spines.top': False,\n",
    " 'figure.facecolor': 'white',\n",
    " 'lines.solid_capstyle': 'round',\n",
    " 'patch.edgecolor': 'w',\n",
    " 'patch.force_edgecolor': True,\n",
    " 'text.color': 'dimgrey',\n",
    " 'xtick.bottom': False,\n",
    " 'xtick.color': 'dimgrey',\n",
    " 'xtick.direction': 'out',\n",
    " 'xtick.top': False,\n",
    " 'ytick.color': 'dimgrey',\n",
    " 'ytick.direction': 'out',\n",
    " 'ytick.left': False,\n",
    " 'ytick.right': False})\n",
    "sns.set_context(\"notebook\", rc={\"font.size\":16,\n",
    "                                \"axes.titlesize\":20,\n",
    "                                \"axes.labelsize\":18})"
   ]
  },
  {
   "cell_type": "code",
   "execution_count": 3,
   "metadata": {},
   "outputs": [],
   "source": [
    "# Flowers\n",
    "d = {\"1\": 61.758241758241766, \"2\": 78.31501831501832, \"4\": 86.44688644688645, \"8\": 91.97802197802199, \"16\": 95.77533577533578, \"-1\": 97.55799755799754}\n",
    "avg_class_len = 64.2\n",
    "zs_performance = 64.83\n",
    "lp_performance = 97.5\n",
    "title = \"Flowers\""
   ]
  },
  {
   "cell_type": "code",
   "execution_count": 13,
   "metadata": {},
   "outputs": [],
   "source": [
    "# CIFAR-100\n",
    "d = {\"1\": 30.264, \"2\": 40.251, \"4\": 49.12199999999999, \"8\": 56.355, \"16\": 61.41799999999999, \"-1\": 79.03299999999999}\n",
    "avg_class_len = 600\n",
    "zs_performance = 63.19\n",
    "lp_performance = 80.15\n",
    "title = \"Cifar-100\""
   ]
  },
  {
   "cell_type": "code",
   "execution_count": 6,
   "metadata": {},
   "outputs": [],
   "source": [
    "# Pets\n",
    "d = {\"1\": 35.57645134914146, \"2\": 50.35159443990189, \"4\": 63.23793949304987, \"8\": 74.79694739711093, \"16\": 81.18015808122105, \"-1\": 87.70782229490327}\n",
    "avg_class_len = 50\n",
    "zs_performance = 89.97\n",
    "lp_performance = d[\"-1\"]\n",
    "title = \"Pets\""
   ]
  },
  {
   "cell_type": "code",
   "execution_count": 24,
   "metadata": {},
   "outputs": [],
   "source": [
    "# Food\n",
    "d = {\"1\": 37.95709570957096, \"2\": 52.13069306930693, \"4\": 64.21914191419143, \"8\": 71.47524752475249, \"16\": 76.0957095709571, \"-1\": 84.158}\n",
    "avg_class_len = 750\n",
    "zs_performance = 79\n",
    "lp_performance = d[\"-1\"]\n",
    "title = \"Food101\""
   ]
  },
  {
   "cell_type": "code",
   "execution_count": 16,
   "metadata": {},
   "outputs": [
    {
     "name": "stdout",
     "output_type": "stream",
     "text": [
      "[[ 1.          3.40995889]\n",
      " [ 2.          3.69513485]\n",
      " [ 4.          3.894307  ]\n",
      " [ 8.          4.03167097]\n",
      " [16.          4.11770295]\n",
      " [-1.          4.36986549]]\n"
     ]
    },
    {
     "name": "stderr",
     "output_type": "stream",
     "text": [
      "<ipython-input-16-f6277edfed91>:7: RuntimeWarning: overflow encountered in exp\n",
      "  return a*np.exp(-b*x)+c\n"
     ]
    },
    {
     "data": {
      "image/png": "[encoded data removed]",
      "text/plain": [
       "<Figure size 432x288 with 1 Axes>"
      ]
     },
     "metadata": {},
     "output_type": "display_data"
    }
   ],
   "source": [
    "import numpy as np\n",
    "import matplotlib.pyplot as plt\n",
    "import scipy\n",
    "from scipy.optimize import curve_fit\n",
    "\n",
    "def func(x, a, b,c):\n",
    "    return a*np.exp(-b*x)+c\n",
    "\n",
    "points = np.array([(int(k),np.log(v)) for k,v in d.items()])\n",
    "print(points)\n",
    "# get x and y vectors\n",
    "x = points[:,0]\n",
    "y = points[:,1]\n",
    "\n",
    "x[-1] = avg_class_len\n",
    "\n",
    "# calculate polynomial\n",
    "popt, pcov  = curve_fit(func,  x,  y)\n",
    "\n",
    "plt.plot(x[:-1],np.exp(y)[:-1],'o')\n",
    "x_new = np.linspace(x[0], x[-2], 100)\n",
    "plt.title(title)\n",
    "plt.xlabel('Num Labels')\n",
    "plt.ylabel('Scores')\n",
    "plt.plot(x_new, np.exp(func(x_new, *popt)), 'r-')\n",
    "plt.plot(x_new, np.exp(func(x_new, *popt)), 'r-')\n",
    "\n",
    "plt.plot([0], [zs_performance], marker='*', markersize=10, color=\"red\")\n",
    "plt.plot([20], [lp_performance], marker='*', markersize=10, color=\"green\")\n",
    "plt.show()"
   ]
  },
  {
   "cell_type": "code",
   "execution_count": 23,
   "metadata": {},
   "outputs": [
    {
     "name": "stdout",
     "output_type": "stream",
     "text": [
      "Avg classes to match zero shot 20.848037973839652\n",
      "Avg classes to match linear probe 79.63710182802438\n"
     ]
    }
   ],
   "source": [
    "def find_nearest(array, value):\n",
    "    array = np.asarray(array)\n",
    "    idx = (np.abs(array - value)).argmin()\n",
    "    return idx\n",
    "\n",
    "x_all = np.linspace(0,avg_class_len+1,int(avg_class_len*100))\n",
    "\n",
    "y_all = func(x_all, *popt)\n",
    "\n",
    "log_zsp = np.log(zs_performance)\n",
    "log_lpp = np.log(lp_performance)\n",
    "\n",
    "ind = find_nearest(y_all,log_zsp)\n",
    "print(\"Avg classes to match zero shot\", x_all[ind])\n",
    "ind = find_nearest(y_all,log_lpp)\n",
    "print(\"Avg classes to match linear probe\", x_all[ind])\n"
   ]
  },
  {
   "cell_type": "code",
   "execution_count": null,
   "metadata": {},
   "outputs": [],
   "source": [
    "line1_x = list(d['cross_entropy'].keys())\n",
    "line1_y = [d['cross_entropy'][v] for v in line1_x]\n",
    "\n",
    "line1_x[-1] = 50 \n",
    "\n",
    "line2_x = list(d['clip'].keys())\n",
    "line2_y = [d['clip'][v] for v in line2_x]\n",
    "\n",
    "line2_x[-1] = 50 \n",
    "\n",
    "import numpy as np\n",
    "import matplotlib.pyplot as plt\n",
    "import scipy\n",
    "from scipy.optimize import curve_fit\n",
    "\n",
    "\n",
    "plt.title(title)\n",
    "plt.xlabel('Num Labels')\n",
    "plt.ylabel('Accuracy')\n",
    "plt.plot(line1_x, line1_y, 'r-', label=\"cross_entropy\")\n",
    "plt.plot(line2_x, line2_y, 'b-', label=\"clip\")\n",
    "# plt.plot([0], [zs_performance], marker='*', markersize=10, color=\"orange\", label=\"zs_performance\")\n",
    "plt.legend()\n",
    "plt.show()"
   ]
  },
  {
   "cell_type": "code",
   "execution_count": null,
   "metadata": {},
   "outputs": [],
   "source": []
  }
 ],
 "metadata": {
  "interpreter": {
   "hash": "6250aeecf667241d2415373c88b70d4f824c8a2781323a01ee2a69a098796f4a"
  },
  "kernelspec": {
   "display_name": "Python 3",
   "language": "python",
   "name": "python3"
  },
  "language_info": {
   "codemirror_mode": {
    "name": "ipython",
    "version": 3
   },
   "file_extension": ".py",
   "mimetype": "text/x-python",
   "name": "python",
   "nbconvert_exporter": "python",
   "pygments_lexer": "ipython3",
   "version": "3.8.5"
  }
 },
 "nbformat": 4,
 "nbformat_minor": 2
}
