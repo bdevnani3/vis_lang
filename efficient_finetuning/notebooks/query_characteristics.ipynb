{
 "cells": [
  {
   "cell_type": "code",
   "execution_count": 1,
   "id": "cb2952cb",
   "metadata": {},
   "outputs": [
    {
     "name": "stderr",
     "output_type": "stream",
     "text": [
      "In /nethome/bdevnani3/anaconda3/envs/p3/lib/python3.8/site-packages/matplotlib/mpl-data/stylelib/_classic_test.mplstyle: \n",
      "The text.latex.preview rcparam was deprecated in Matplotlib 3.3 and will be removed two minor releases later.\n",
      "In /nethome/bdevnani3/anaconda3/envs/p3/lib/python3.8/site-packages/matplotlib/mpl-data/stylelib/_classic_test.mplstyle: \n",
      "The mathtext.fallback_to_cm rcparam was deprecated in Matplotlib 3.3 and will be removed two minor releases later.\n",
      "In /nethome/bdevnani3/anaconda3/envs/p3/lib/python3.8/site-packages/matplotlib/mpl-data/stylelib/_classic_test.mplstyle: Support for setting the 'mathtext.fallback_to_cm' rcParam is deprecated since 3.3 and will be removed two minor releases later; use 'mathtext.fallback : 'cm' instead.\n",
      "In /nethome/bdevnani3/anaconda3/envs/p3/lib/python3.8/site-packages/matplotlib/mpl-data/stylelib/_classic_test.mplstyle: \n",
      "The validate_bool_maybe_none function was deprecated in Matplotlib 3.3 and will be removed two minor releases later.\n",
      "In /nethome/bdevnani3/anaconda3/envs/p3/lib/python3.8/site-packages/matplotlib/mpl-data/stylelib/_classic_test.mplstyle: \n",
      "The savefig.jpeg_quality rcparam was deprecated in Matplotlib 3.3 and will be removed two minor releases later.\n",
      "In /nethome/bdevnani3/anaconda3/envs/p3/lib/python3.8/site-packages/matplotlib/mpl-data/stylelib/_classic_test.mplstyle: \n",
      "The keymap.all_axes rcparam was deprecated in Matplotlib 3.3 and will be removed two minor releases later.\n",
      "In /nethome/bdevnani3/anaconda3/envs/p3/lib/python3.8/site-packages/matplotlib/mpl-data/stylelib/_classic_test.mplstyle: \n",
      "The animation.avconv_path rcparam was deprecated in Matplotlib 3.3 and will be removed two minor releases later.\n",
      "In /nethome/bdevnani3/anaconda3/envs/p3/lib/python3.8/site-packages/matplotlib/mpl-data/stylelib/_classic_test.mplstyle: \n",
      "The animation.avconv_args rcparam was deprecated in Matplotlib 3.3 and will be removed two minor releases later.\n"
     ]
    }
   ],
   "source": [
    "import importlib\n",
    "\n",
    "import os\n",
    "import clip\n",
    "import torch\n",
    "from torchvision import transforms, models\n",
    "\n",
    "import numpy as np\n",
    "from sklearn.linear_model import LogisticRegression\n",
    "from torch.utils.data import DataLoader\n",
    "from tqdm.notebook import tqdm\n",
    "\n",
    "import argparse\n",
    "from omegaconf import OmegaConf\n",
    "\n",
    "import json\n",
    "\n",
    "device = \"cuda\" if torch.cuda.is_available() else \"cpu\"\n",
    "from sklearn.metrics.pairwise import euclidean_distances, cosine_similarity\n",
    "import seaborn as sn\n",
    "\n",
    "from columnar import columnar\n",
    "from nltk.corpus import wordnet as wn\n",
    "clip_model, clip_preprocess = clip.load(\"ViT-B/32\", )\n",
    "\n",
    "\n",
    "import datasets #import the module here, so that it can be reloaded.\n",
    "importlib.reload(datasets)\n",
    "from datasets import *\n"
   ]
  },
  {
   "cell_type": "code",
   "execution_count": 30,
   "id": "d535a3ea",
   "metadata": {},
   "outputs": [],
   "source": [
    "import json\n",
    "def pp(d):\n",
    "    print(json.dumps(d,sort_keys=True, indent=4))"
   ]
  },
  {
   "cell_type": "code",
   "execution_count": 9,
   "id": "c3d0e794",
   "metadata": {},
   "outputs": [
    {
     "name": "stdout",
     "output_type": "stream",
     "text": [
      "Files already downloaded and verified\n",
      "Files already downloaded and verified\n",
      "Files already downloaded and verified\n"
     ]
    }
   ],
   "source": [
    "smallflowers = SmallFlowers102(4, 1)\n",
    "smallflowers.classes = [x.replace(\"_\", \" \").title() for x in smallflowers.classes]\n",
    "sf_train_loader, _ = smallflowers.get_train_loaders(transform_fn=clip_preprocess)\n",
    "sf_test_loader = smallflowers.get_test_loader(transform_fn=clip_preprocess)\n",
    "\n",
    "pets = OxfordPets(4,1)\n",
    "pets.classes = [x.replace(\"_\", \" \").title() for x in pets.classes]\n",
    "p_train_loader, _ = pets.get_train_loaders(transform_fn=clip_preprocess)\n",
    "p_test_loader = pets.get_test_loader(transform_fn=clip_preprocess)\n",
    "\n",
    "cifar100 = Cifar100(4,1, root=None)\n",
    "c_train_loader, _ = cifar100.get_train_loaders(transform_fn=clip_preprocess)\n",
    "cifar100.classes = [x.replace(\"_\", \" \").title() for x in cifar100.classes]\n",
    "c_test_loader = cifar100.get_test_loader(transform_fn=clip_preprocess)"
   ]
  },
  {
   "cell_type": "code",
   "execution_count": 10,
   "id": "84bb12bc",
   "metadata": {},
   "outputs": [],
   "source": [
    "def clip_zero_shot(\n",
    "    loader,\n",
    "    classes,\n",
    "    zeroshot_weights,\n",
    "    clip_model_name=\"ViT-B/32\",\n",
    "):\n",
    "\n",
    "    global clip_model, clip_preprocess\n",
    "    device = \"cuda\" if torch.cuda.is_available() else \"cpu\"\n",
    "\n",
    "    def accuracy(output, target, topk=(1,)):\n",
    "        pred = output.topk(max(topk), 1, True, True)[1].t()\n",
    "        correct = pred.eq(target.view(1, -1).expand_as(pred))\n",
    "        return [\n",
    "            float(correct[:k].reshape(-1).float().sum(0, keepdim=True).cpu().numpy())\n",
    "            for k in topk\n",
    "        ]\n",
    "\n",
    "    # lazy load\n",
    "    if clip_model == None:\n",
    "        clip_model, clip_preprocess = clip.load(clip_model_name, device)\n",
    "        \n",
    "    per_class_accuracy_top1 = { k:[0,0, classes[k]] for k in range(len(classes))} # correct, total, class_name\n",
    "    per_class_accuracy_top5 = { k:[0,0, classes[k]] for k in range(len(classes))} \n",
    "\n",
    "    with torch.no_grad():\n",
    "        top1, top5, n = 0.0, 0.0, 0.0\n",
    "        for i , (images, target) in enumerate(tqdm(loader)):\n",
    "            images = images.cuda()\n",
    "            target = target.cuda()\n",
    "\n",
    "            # predict\n",
    "            image_features = clip_model.encode_image(images)\n",
    "            image_features /= image_features.norm(dim=-1, keepdim=True)\n",
    "            logits = 100.0 * image_features @ zeroshot_weights\n",
    "\n",
    "            # measure accuracy\n",
    "            acc1, acc5 = accuracy(logits, target, topk=(1, 5))\n",
    "            top1 += acc1\n",
    "            top5 += acc5\n",
    "            n += images.size(0)\n",
    "            \n",
    "            per_class_accuracy_top1[target.cpu().detach().numpy()[0]][0]+= acc1\n",
    "            per_class_accuracy_top1[target.cpu().detach().numpy()[0]][1]+= 1\n",
    "\n",
    "    top1 = (top1 / n) * 100\n",
    "    top5 = (top5 / n) * 100\n",
    "\n",
    "    return top1, per_class_accuracy_top1"
   ]
  },
  {
   "cell_type": "code",
   "execution_count": 11,
   "id": "4a63b6a6",
   "metadata": {},
   "outputs": [],
   "source": [
    "phrase_file = \"/nethome/bdevnani3/vis_lang/efficient_finetuning/configs/phrases/flowers.txt\"\n",
    "\n",
    "templates = [\"{}\"]\n",
    "    \n",
    "def zeroshot_classifier(classnames, templates):\n",
    "    with torch.no_grad():\n",
    "        zeroshot_weights = []\n",
    "        for classname in tqdm(classnames):\n",
    "            texts = [\n",
    "                template.format(classname) for template in templates\n",
    "            ]  # format with class\n",
    "            texts = clip.tokenize(texts).cuda()  # tokenize\n",
    "            class_embeddings = clip_model.encode_text(texts)  # embed with text encoder\n",
    "            class_embeddings /= class_embeddings.norm(dim=-1, keepdim=True)\n",
    "            class_embedding = class_embeddings.mean(dim=0)\n",
    "            class_embedding /= class_embedding.norm()\n",
    "            zeroshot_weights.append(class_embedding)\n",
    "        zeroshot_weights = torch.stack(zeroshot_weights, dim=1).cuda()\n",
    "    return zeroshot_weights"
   ]
  },
  {
   "cell_type": "markdown",
   "id": "37fe08ba",
   "metadata": {},
   "source": [
    "This notebook will explore characteristics particular to the structure of every query to understand what makes a good query."
   ]
  },
  {
   "cell_type": "markdown",
   "id": "8f07b847",
   "metadata": {},
   "source": [
    "### Baselines"
   ]
  },
  {
   "cell_type": "code",
   "execution_count": 19,
   "id": "8ab90f2c",
   "metadata": {},
   "outputs": [
    {
     "data": {
      "application/vnd.jupyter.widget-view+json": {
       "model_id": "6c1ebedbea0b448aa44d7ae60d5639a3",
       "version_major": 2,
       "version_minor": 0
      },
      "text/plain": [
       "  0%|          | 0/10 [00:00<?, ?it/s]"
      ]
     },
     "metadata": {},
     "output_type": "display_data"
    },
    {
     "data": {
      "application/vnd.jupyter.widget-view+json": {
       "model_id": "b754223e46e44049a24a59899b553061",
       "version_major": 2,
       "version_minor": 0
      },
      "text/plain": [
       "  0%|          | 0/819 [00:00<?, ?it/s]"
      ]
     },
     "metadata": {},
     "output_type": "display_data"
    },
    {
     "name": "stdout",
     "output_type": "stream",
     "text": [
      "Small Flowers:  44.44444444444444\n"
     ]
    }
   ],
   "source": [
    "sf_zw = zeroshot_classifier(smallflowers.classes,templates)\n",
    "\n",
    "sf_czs = clip_zero_shot(\n",
    "    sf_train_loader,\n",
    "    smallflowers.classes,\n",
    "    sf_zw\n",
    ")\n",
    "print(\"Small Flowers: \", sf_czs[0])"
   ]
  },
  {
   "cell_type": "code",
   "execution_count": 20,
   "id": "e183c74d",
   "metadata": {},
   "outputs": [
    {
     "data": {
      "application/vnd.jupyter.widget-view+json": {
       "model_id": "f6b99fe3dbc149068ffaa56093a9f50d",
       "version_major": 2,
       "version_minor": 0
      },
      "text/plain": [
       "  0%|          | 0/37 [00:00<?, ?it/s]"
      ]
     },
     "metadata": {},
     "output_type": "display_data"
    },
    {
     "data": {
      "application/vnd.jupyter.widget-view+json": {
       "model_id": "52532fa93bf24a1db75f7ec260947b70",
       "version_major": 2,
       "version_minor": 0
      },
      "text/plain": [
       "  0%|          | 0/3669 [00:00<?, ?it/s]"
      ]
     },
     "metadata": {},
     "output_type": "display_data"
    },
    {
     "name": "stdout",
     "output_type": "stream",
     "text": [
      "Pets:  82.28400109021533\n"
     ]
    }
   ],
   "source": [
    "p_zw = zeroshot_classifier(pets.classes,templates)\n",
    "\n",
    "p_czs = clip_zero_shot(\n",
    "    p_test_loader,\n",
    "    pets.classes,\n",
    "    p_zw\n",
    ")\n",
    "print(\"Pets: \", p_czs[0])"
   ]
  },
  {
   "cell_type": "code",
   "execution_count": 21,
   "id": "b856d063",
   "metadata": {},
   "outputs": [
    {
     "data": {
      "application/vnd.jupyter.widget-view+json": {
       "model_id": "ba87d03e99a9427eb4e950e3f197f4bf",
       "version_major": 2,
       "version_minor": 0
      },
      "text/plain": [
       "  0%|          | 0/100 [00:00<?, ?it/s]"
      ]
     },
     "metadata": {},
     "output_type": "display_data"
    },
    {
     "data": {
      "application/vnd.jupyter.widget-view+json": {
       "model_id": "ba017979849e467abf1baccc2168a249",
       "version_major": 2,
       "version_minor": 0
      },
      "text/plain": [
       "  0%|          | 0/10000 [00:00<?, ?it/s]"
      ]
     },
     "metadata": {},
     "output_type": "display_data"
    },
    {
     "name": "stdout",
     "output_type": "stream",
     "text": [
      "Cifar100:  60.38\n"
     ]
    }
   ],
   "source": [
    "c_zw = zeroshot_classifier(cifar100.classes,templates)\n",
    "\n",
    "c_czs = clip_zero_shot(\n",
    "    c_test_loader,\n",
    "    cifar100.classes,\n",
    "    c_zw\n",
    ")\n",
    "print(\"Cifar100: \", c_czs[0])"
   ]
  },
  {
   "cell_type": "markdown",
   "id": "3ad1e15b",
   "metadata": {},
   "source": [
    "### Query Length"
   ]
  },
  {
   "cell_type": "code",
   "execution_count": 25,
   "id": "9515961b",
   "metadata": {},
   "outputs": [],
   "source": [
    "phrase_file = \"/nethome/bdevnani3/vis_lang/efficient_finetuning/configs/phrases/flowers.txt\"\n",
    "\n",
    "templates = [\"{}\", \n",
    "             \"                               {}                                \", \n",
    "             \"{}                                                               \",\n",
    "             \"This is a {}\",\n",
    "             \"This is a photo of a {}\",\n",
    "             \"This image is a photo of a {}\",\n",
    "             \"I see that this image is a photo of a {}\",\n",
    "             \"One observes that this image contains within it a {}\"]\n"
   ]
  },
  {
   "cell_type": "code",
   "execution_count": 31,
   "id": "a40a4871",
   "metadata": {},
   "outputs": [
    {
     "data": {
      "application/vnd.jupyter.widget-view+json": {
       "model_id": "149dbb3da2444c659fadccf66f956515",
       "version_major": 2,
       "version_minor": 0
      },
      "text/plain": [
       "  0%|          | 0/10 [00:00<?, ?it/s]"
      ]
     },
     "metadata": {},
     "output_type": "display_data"
    },
    {
     "data": {
      "application/vnd.jupyter.widget-view+json": {
       "model_id": "325333cc146f414dbbbe7eb16a67fdac",
       "version_major": 2,
       "version_minor": 0
      },
      "text/plain": [
       "  0%|          | 0/819 [00:00<?, ?it/s]"
      ]
     },
     "metadata": {},
     "output_type": "display_data"
    },
    {
     "data": {
      "application/vnd.jupyter.widget-view+json": {
       "model_id": "6c233b208626450bbb45a83c08e46243",
       "version_major": 2,
       "version_minor": 0
      },
      "text/plain": [
       "  0%|          | 0/10 [00:00<?, ?it/s]"
      ]
     },
     "metadata": {},
     "output_type": "display_data"
    },
    {
     "data": {
      "application/vnd.jupyter.widget-view+json": {
       "model_id": "8f5a30f1be6644c1b04edc8db9bcebaa",
       "version_major": 2,
       "version_minor": 0
      },
      "text/plain": [
       "  0%|          | 0/819 [00:00<?, ?it/s]"
      ]
     },
     "metadata": {},
     "output_type": "display_data"
    },
    {
     "data": {
      "application/vnd.jupyter.widget-view+json": {
       "model_id": "2ab438c6a3424f3e812caf39897b77b6",
       "version_major": 2,
       "version_minor": 0
      },
      "text/plain": [
       "  0%|          | 0/10 [00:00<?, ?it/s]"
      ]
     },
     "metadata": {},
     "output_type": "display_data"
    },
    {
     "data": {
      "application/vnd.jupyter.widget-view+json": {
       "model_id": "0ddd60c13d2d41528b9b9527ff2c0c13",
       "version_major": 2,
       "version_minor": 0
      },
      "text/plain": [
       "  0%|          | 0/819 [00:00<?, ?it/s]"
      ]
     },
     "metadata": {},
     "output_type": "display_data"
    },
    {
     "data": {
      "application/vnd.jupyter.widget-view+json": {
       "model_id": "6e09db9d03ac430298d194a92630bdd3",
       "version_major": 2,
       "version_minor": 0
      },
      "text/plain": [
       "  0%|          | 0/10 [00:00<?, ?it/s]"
      ]
     },
     "metadata": {},
     "output_type": "display_data"
    },
    {
     "data": {
      "application/vnd.jupyter.widget-view+json": {
       "model_id": "058b350e337b4d9dbb71c288c2c1d929",
       "version_major": 2,
       "version_minor": 0
      },
      "text/plain": [
       "  0%|          | 0/819 [00:00<?, ?it/s]"
      ]
     },
     "metadata": {},
     "output_type": "display_data"
    },
    {
     "data": {
      "application/vnd.jupyter.widget-view+json": {
       "model_id": "0da3d054e88a4fcdbec0ae7e8a4ecf30",
       "version_major": 2,
       "version_minor": 0
      },
      "text/plain": [
       "  0%|          | 0/10 [00:00<?, ?it/s]"
      ]
     },
     "metadata": {},
     "output_type": "display_data"
    },
    {
     "data": {
      "application/vnd.jupyter.widget-view+json": {
       "model_id": "a295ba0c908743aba1a375736c726299",
       "version_major": 2,
       "version_minor": 0
      },
      "text/plain": [
       "  0%|          | 0/819 [00:00<?, ?it/s]"
      ]
     },
     "metadata": {},
     "output_type": "display_data"
    },
    {
     "data": {
      "application/vnd.jupyter.widget-view+json": {
       "model_id": "fb9679e0e1554056b439a71770761548",
       "version_major": 2,
       "version_minor": 0
      },
      "text/plain": [
       "  0%|          | 0/10 [00:00<?, ?it/s]"
      ]
     },
     "metadata": {},
     "output_type": "display_data"
    },
    {
     "data": {
      "application/vnd.jupyter.widget-view+json": {
       "model_id": "8449c09910414356b4fc8ebc2369e291",
       "version_major": 2,
       "version_minor": 0
      },
      "text/plain": [
       "  0%|          | 0/819 [00:00<?, ?it/s]"
      ]
     },
     "metadata": {},
     "output_type": "display_data"
    },
    {
     "data": {
      "application/vnd.jupyter.widget-view+json": {
       "model_id": "80edc412ff6b43cfae7387ca435452c6",
       "version_major": 2,
       "version_minor": 0
      },
      "text/plain": [
       "  0%|          | 0/10 [00:00<?, ?it/s]"
      ]
     },
     "metadata": {},
     "output_type": "display_data"
    },
    {
     "data": {
      "application/vnd.jupyter.widget-view+json": {
       "model_id": "36ff3491e5f746e29092ac30585f0cfb",
       "version_major": 2,
       "version_minor": 0
      },
      "text/plain": [
       "  0%|          | 0/819 [00:00<?, ?it/s]"
      ]
     },
     "metadata": {},
     "output_type": "display_data"
    },
    {
     "data": {
      "application/vnd.jupyter.widget-view+json": {
       "model_id": "10886e21fe864532b8b62eb87358bca5",
       "version_major": 2,
       "version_minor": 0
      },
      "text/plain": [
       "  0%|          | 0/10 [00:00<?, ?it/s]"
      ]
     },
     "metadata": {},
     "output_type": "display_data"
    },
    {
     "data": {
      "application/vnd.jupyter.widget-view+json": {
       "model_id": "1d58bab322cd41918f9567296e784d13",
       "version_major": 2,
       "version_minor": 0
      },
      "text/plain": [
       "  0%|          | 0/819 [00:00<?, ?it/s]"
      ]
     },
     "metadata": {},
     "output_type": "display_data"
    },
    {
     "name": "stdout",
     "output_type": "stream",
     "text": [
      "Small Flowers:\n",
      "{\n",
      "    \"                               {}                                \": 44.44444444444444,\n",
      "    \"I see that this image is a photo of a {}\": 56.776556776556774,\n",
      "    \"One observes that this image contains within it a {}\": 38.82783882783883,\n",
      "    \"This image is a photo of a {}\": 60.68376068376068,\n",
      "    \"This is a photo of a {}\": 63.85836385836385,\n",
      "    \"This is a {}\": 65.07936507936508,\n",
      "    \"{}\": 44.44444444444444,\n",
      "    \"{}                                                               \": 44.44444444444444\n",
      "}\n"
     ]
    }
   ],
   "source": [
    "dummy = {}\n",
    "for template in templates:\n",
    "    sf_zw = zeroshot_classifier(smallflowers.classes,[template])\n",
    "\n",
    "    sf_czs = clip_zero_shot(\n",
    "        sf_train_loader,\n",
    "        smallflowers.classes,\n",
    "        sf_zw\n",
    "    )\n",
    "    dummy[template]= sf_czs[0]\n",
    "print(\"Small Flowers:\")\n",
    "pp(dummy)"
   ]
  },
  {
   "cell_type": "code",
   "execution_count": 34,
   "id": "4890ab5e",
   "metadata": {},
   "outputs": [
    {
     "data": {
      "application/vnd.jupyter.widget-view+json": {
       "model_id": "b5933181c6784a49863457b47113af99",
       "version_major": 2,
       "version_minor": 0
      },
      "text/plain": [
       "  0%|          | 0/37 [00:00<?, ?it/s]"
      ]
     },
     "metadata": {},
     "output_type": "display_data"
    },
    {
     "data": {
      "application/vnd.jupyter.widget-view+json": {
       "model_id": "de0c9fcf6bc74f818d88f93cc1f089b2",
       "version_major": 2,
       "version_minor": 0
      },
      "text/plain": [
       "  0%|          | 0/3669 [00:00<?, ?it/s]"
      ]
     },
     "metadata": {},
     "output_type": "display_data"
    },
    {
     "data": {
      "application/vnd.jupyter.widget-view+json": {
       "model_id": "ee0375236d574d78b61ce28df96d6aaf",
       "version_major": 2,
       "version_minor": 0
      },
      "text/plain": [
       "  0%|          | 0/37 [00:00<?, ?it/s]"
      ]
     },
     "metadata": {},
     "output_type": "display_data"
    },
    {
     "data": {
      "application/vnd.jupyter.widget-view+json": {
       "model_id": "404a4ff54594425880f058cecb0d27fb",
       "version_major": 2,
       "version_minor": 0
      },
      "text/plain": [
       "  0%|          | 0/3669 [00:00<?, ?it/s]"
      ]
     },
     "metadata": {},
     "output_type": "display_data"
    },
    {
     "data": {
      "application/vnd.jupyter.widget-view+json": {
       "model_id": "3c57bf5d4c334df3b2b0bfb3308be024",
       "version_major": 2,
       "version_minor": 0
      },
      "text/plain": [
       "  0%|          | 0/37 [00:00<?, ?it/s]"
      ]
     },
     "metadata": {},
     "output_type": "display_data"
    },
    {
     "data": {
      "application/vnd.jupyter.widget-view+json": {
       "model_id": "ccbe2ad5704c4226b0ff3afd4818b8e1",
       "version_major": 2,
       "version_minor": 0
      },
      "text/plain": [
       "  0%|          | 0/3669 [00:00<?, ?it/s]"
      ]
     },
     "metadata": {},
     "output_type": "display_data"
    },
    {
     "data": {
      "application/vnd.jupyter.widget-view+json": {
       "model_id": "553008af0df84e7998685b7846011233",
       "version_major": 2,
       "version_minor": 0
      },
      "text/plain": [
       "  0%|          | 0/37 [00:00<?, ?it/s]"
      ]
     },
     "metadata": {},
     "output_type": "display_data"
    },
    {
     "data": {
      "application/vnd.jupyter.widget-view+json": {
       "model_id": "68c5dce87a5b4bf088ae807fc2c71cbe",
       "version_major": 2,
       "version_minor": 0
      },
      "text/plain": [
       "  0%|          | 0/3669 [00:00<?, ?it/s]"
      ]
     },
     "metadata": {},
     "output_type": "display_data"
    },
    {
     "data": {
      "application/vnd.jupyter.widget-view+json": {
       "model_id": "e4235ec56bc74a88b33206cd902fd2eb",
       "version_major": 2,
       "version_minor": 0
      },
      "text/plain": [
       "  0%|          | 0/37 [00:00<?, ?it/s]"
      ]
     },
     "metadata": {},
     "output_type": "display_data"
    },
    {
     "data": {
      "application/vnd.jupyter.widget-view+json": {
       "model_id": "d28a447f7b954a4199bf27ef58cf878f",
       "version_major": 2,
       "version_minor": 0
      },
      "text/plain": [
       "  0%|          | 0/3669 [00:00<?, ?it/s]"
      ]
     },
     "metadata": {},
     "output_type": "display_data"
    },
    {
     "data": {
      "application/vnd.jupyter.widget-view+json": {
       "model_id": "9f1621cfd5c34fa3ae8a22ef44ccb486",
       "version_major": 2,
       "version_minor": 0
      },
      "text/plain": [
       "  0%|          | 0/37 [00:00<?, ?it/s]"
      ]
     },
     "metadata": {},
     "output_type": "display_data"
    },
    {
     "data": {
      "application/vnd.jupyter.widget-view+json": {
       "model_id": "afe236e7e17743a99eff3999efb3729d",
       "version_major": 2,
       "version_minor": 0
      },
      "text/plain": [
       "  0%|          | 0/3669 [00:00<?, ?it/s]"
      ]
     },
     "metadata": {},
     "output_type": "display_data"
    },
    {
     "data": {
      "application/vnd.jupyter.widget-view+json": {
       "model_id": "8d45b000308d47eda21aa7ea70ee21f3",
       "version_major": 2,
       "version_minor": 0
      },
      "text/plain": [
       "  0%|          | 0/37 [00:00<?, ?it/s]"
      ]
     },
     "metadata": {},
     "output_type": "display_data"
    },
    {
     "data": {
      "application/vnd.jupyter.widget-view+json": {
       "model_id": "d6c954ef02c0405c8e36eb2b698d9d2f",
       "version_major": 2,
       "version_minor": 0
      },
      "text/plain": [
       "  0%|          | 0/3669 [00:00<?, ?it/s]"
      ]
     },
     "metadata": {},
     "output_type": "display_data"
    },
    {
     "data": {
      "application/vnd.jupyter.widget-view+json": {
       "model_id": "21d034550d7f4bcab5a4936d56328bda",
       "version_major": 2,
       "version_minor": 0
      },
      "text/plain": [
       "  0%|          | 0/37 [00:00<?, ?it/s]"
      ]
     },
     "metadata": {},
     "output_type": "display_data"
    },
    {
     "data": {
      "application/vnd.jupyter.widget-view+json": {
       "model_id": "5f45c59f456a4df5881776aba34a5467",
       "version_major": 2,
       "version_minor": 0
      },
      "text/plain": [
       "  0%|          | 0/3669 [00:00<?, ?it/s]"
      ]
     },
     "metadata": {},
     "output_type": "display_data"
    },
    {
     "name": "stdout",
     "output_type": "stream",
     "text": [
      "Pets: \n",
      "{\n",
      "    \"                               {}                                \": 82.28400109021533,\n",
      "    \"I see that this image is a photo of a {}\": 80.04905968928864,\n",
      "    \"One observes that this image contains within it a {}\": 75.98800763150723,\n",
      "    \"This image is a photo of a {}\": 85.09130553284272,\n",
      "    \"This is a photo of a {}\": 88.1984191877896,\n",
      "    \"This is a {}\": 88.90705914418098,\n",
      "    \"{}\": 82.28400109021533,\n",
      "    \"{}                                                               \": 82.28400109021533\n",
      "}\n"
     ]
    }
   ],
   "source": [
    "dummy = {}\n",
    "for template in templates:\n",
    "    p_zw = zeroshot_classifier(pets.classes,[template])\n",
    "\n",
    "    p_czs = clip_zero_shot(\n",
    "        p_test_loader,\n",
    "        pets.classes,\n",
    "        p_zw\n",
    "    )\n",
    "    dummy[template]= p_czs[0]\n",
    "print(\"Pets: \")\n",
    "pp(dummy)"
   ]
  },
  {
   "cell_type": "code",
   "execution_count": 35,
   "id": "8b62b8fb",
   "metadata": {},
   "outputs": [
    {
     "data": {
      "application/vnd.jupyter.widget-view+json": {
       "model_id": "3b48427fd0d948148d7fe9dc9270785d",
       "version_major": 2,
       "version_minor": 0
      },
      "text/plain": [
       "  0%|          | 0/100 [00:00<?, ?it/s]"
      ]
     },
     "metadata": {},
     "output_type": "display_data"
    },
    {
     "data": {
      "application/vnd.jupyter.widget-view+json": {
       "model_id": "805a8c58db2440ebb062ece050375498",
       "version_major": 2,
       "version_minor": 0
      },
      "text/plain": [
       "  0%|          | 0/10000 [00:00<?, ?it/s]"
      ]
     },
     "metadata": {},
     "output_type": "display_data"
    },
    {
     "data": {
      "application/vnd.jupyter.widget-view+json": {
       "model_id": "42fbcb71426148678eab4d511644aba2",
       "version_major": 2,
       "version_minor": 0
      },
      "text/plain": [
       "  0%|          | 0/100 [00:00<?, ?it/s]"
      ]
     },
     "metadata": {},
     "output_type": "display_data"
    },
    {
     "data": {
      "application/vnd.jupyter.widget-view+json": {
       "model_id": "d431cb17dba344689f7c43e87c5e6759",
       "version_major": 2,
       "version_minor": 0
      },
      "text/plain": [
       "  0%|          | 0/10000 [00:00<?, ?it/s]"
      ]
     },
     "metadata": {},
     "output_type": "display_data"
    },
    {
     "data": {
      "application/vnd.jupyter.widget-view+json": {
       "model_id": "beadb2d7cdb146008c203a5bfc853958",
       "version_major": 2,
       "version_minor": 0
      },
      "text/plain": [
       "  0%|          | 0/100 [00:00<?, ?it/s]"
      ]
     },
     "metadata": {},
     "output_type": "display_data"
    },
    {
     "data": {
      "application/vnd.jupyter.widget-view+json": {
       "model_id": "52b1f311da774485a8533296e7a329d2",
       "version_major": 2,
       "version_minor": 0
      },
      "text/plain": [
       "  0%|          | 0/10000 [00:00<?, ?it/s]"
      ]
     },
     "metadata": {},
     "output_type": "display_data"
    },
    {
     "data": {
      "application/vnd.jupyter.widget-view+json": {
       "model_id": "596cbfa36a434bfd91dc527ad4fe5a46",
       "version_major": 2,
       "version_minor": 0
      },
      "text/plain": [
       "  0%|          | 0/100 [00:00<?, ?it/s]"
      ]
     },
     "metadata": {},
     "output_type": "display_data"
    },
    {
     "data": {
      "application/vnd.jupyter.widget-view+json": {
       "model_id": "6335e25a067344019f82620d3fa4c5de",
       "version_major": 2,
       "version_minor": 0
      },
      "text/plain": [
       "  0%|          | 0/10000 [00:00<?, ?it/s]"
      ]
     },
     "metadata": {},
     "output_type": "display_data"
    },
    {
     "data": {
      "application/vnd.jupyter.widget-view+json": {
       "model_id": "3d2c3b8260d845f38e542a4afebaa36e",
       "version_major": 2,
       "version_minor": 0
      },
      "text/plain": [
       "  0%|          | 0/100 [00:00<?, ?it/s]"
      ]
     },
     "metadata": {},
     "output_type": "display_data"
    },
    {
     "data": {
      "application/vnd.jupyter.widget-view+json": {
       "model_id": "e67a5f23bba848f484c42f9e14572160",
       "version_major": 2,
       "version_minor": 0
      },
      "text/plain": [
       "  0%|          | 0/10000 [00:00<?, ?it/s]"
      ]
     },
     "metadata": {},
     "output_type": "display_data"
    },
    {
     "data": {
      "application/vnd.jupyter.widget-view+json": {
       "model_id": "971c16a2038b40d9b20c6431fe7b5bde",
       "version_major": 2,
       "version_minor": 0
      },
      "text/plain": [
       "  0%|          | 0/100 [00:00<?, ?it/s]"
      ]
     },
     "metadata": {},
     "output_type": "display_data"
    },
    {
     "data": {
      "application/vnd.jupyter.widget-view+json": {
       "model_id": "a5ad1dd42dee435d9066f8a9934858ef",
       "version_major": 2,
       "version_minor": 0
      },
      "text/plain": [
       "  0%|          | 0/10000 [00:00<?, ?it/s]"
      ]
     },
     "metadata": {},
     "output_type": "display_data"
    },
    {
     "data": {
      "application/vnd.jupyter.widget-view+json": {
       "model_id": "9a91c84bdd7d4805b1ca416fab687209",
       "version_major": 2,
       "version_minor": 0
      },
      "text/plain": [
       "  0%|          | 0/100 [00:00<?, ?it/s]"
      ]
     },
     "metadata": {},
     "output_type": "display_data"
    },
    {
     "data": {
      "application/vnd.jupyter.widget-view+json": {
       "model_id": "467a21f8aa6c41e49b042d715266f8e9",
       "version_major": 2,
       "version_minor": 0
      },
      "text/plain": [
       "  0%|          | 0/10000 [00:00<?, ?it/s]"
      ]
     },
     "metadata": {},
     "output_type": "display_data"
    },
    {
     "data": {
      "application/vnd.jupyter.widget-view+json": {
       "model_id": "9994a959c7294043a47137404604bdb5",
       "version_major": 2,
       "version_minor": 0
      },
      "text/plain": [
       "  0%|          | 0/100 [00:00<?, ?it/s]"
      ]
     },
     "metadata": {},
     "output_type": "display_data"
    },
    {
     "data": {
      "application/vnd.jupyter.widget-view+json": {
       "model_id": "033e5235b2b145948061eb7ae30fdc50",
       "version_major": 2,
       "version_minor": 0
      },
      "text/plain": [
       "  0%|          | 0/10000 [00:00<?, ?it/s]"
      ]
     },
     "metadata": {},
     "output_type": "display_data"
    },
    {
     "name": "stdout",
     "output_type": "stream",
     "text": [
      "Cifar100: \n",
      "{'{}': 60.38, '                               {}                                ': 60.38, '{}                                                               ': 60.38, 'This is a {}': 62.72, 'This is a photo of a {}': 63.13999999999999, 'This image is a photo of a {}': 62.81, 'I see that this image is a photo of a {}': 62.18, 'One observes that this image contains within it a {}': 59.040000000000006}\n"
     ]
    }
   ],
   "source": [
    "dummy = {}\n",
    "for template in templates:\n",
    "    c_zw = zeroshot_classifier(cifar100.classes,[template])\n",
    "\n",
    "    c_czs = clip_zero_shot(\n",
    "        c_test_loader,\n",
    "        cifar100.classes,\n",
    "        c_zw\n",
    "    )\n",
    "    dummy[template]= c_czs[0]\n",
    "print(\"Cifar100: \")\n",
    "print(dummy)"
   ]
  },
  {
   "cell_type": "markdown",
   "id": "9650c6fe",
   "metadata": {},
   "source": [
    "### Many templates or one?"
   ]
  },
  {
   "cell_type": "code",
   "execution_count": 38,
   "id": "6f6a44e0",
   "metadata": {},
   "outputs": [
    {
     "data": {
      "application/vnd.jupyter.widget-view+json": {
       "model_id": "d39657ca87774ac29a7440d20c8d76d5",
       "version_major": 2,
       "version_minor": 0
      },
      "text/plain": [
       "  0%|          | 0/10 [00:00<?, ?it/s]"
      ]
     },
     "metadata": {},
     "output_type": "display_data"
    },
    {
     "data": {
      "application/vnd.jupyter.widget-view+json": {
       "model_id": "e95aec43c1d54d4c955d319d9bd2af85",
       "version_major": 2,
       "version_minor": 0
      },
      "text/plain": [
       "  0%|          | 0/819 [00:00<?, ?it/s]"
      ]
     },
     "metadata": {},
     "output_type": "display_data"
    },
    {
     "name": "stdout",
     "output_type": "stream",
     "text": [
      "['This is a {} with leaves'] 66.30036630036629\n"
     ]
    },
    {
     "data": {
      "application/vnd.jupyter.widget-view+json": {
       "model_id": "b4947bcea883447588a69269bbbf90ff",
       "version_major": 2,
       "version_minor": 0
      },
      "text/plain": [
       "  0%|          | 0/10 [00:00<?, ?it/s]"
      ]
     },
     "metadata": {},
     "output_type": "display_data"
    },
    {
     "data": {
      "application/vnd.jupyter.widget-view+json": {
       "model_id": "02298c1406344601869538b57009bbe7",
       "version_major": 2,
       "version_minor": 0
      },
      "text/plain": [
       "  0%|          | 0/819 [00:00<?, ?it/s]"
      ]
     },
     "metadata": {},
     "output_type": "display_data"
    },
    {
     "name": "stdout",
     "output_type": "stream",
     "text": [
      "['This is a {} with petals'] 70.45177045177046\n"
     ]
    },
    {
     "data": {
      "application/vnd.jupyter.widget-view+json": {
       "model_id": "7c1d82c77c1a454a8c976987b48ce1e2",
       "version_major": 2,
       "version_minor": 0
      },
      "text/plain": [
       "  0%|          | 0/10 [00:00<?, ?it/s]"
      ]
     },
     "metadata": {},
     "output_type": "display_data"
    },
    {
     "data": {
      "application/vnd.jupyter.widget-view+json": {
       "model_id": "95192ff1fc0e49b193981d4b350e7161",
       "version_major": 2,
       "version_minor": 0
      },
      "text/plain": [
       "  0%|          | 0/819 [00:00<?, ?it/s]"
      ]
     },
     "metadata": {},
     "output_type": "display_data"
    },
    {
     "name": "stdout",
     "output_type": "stream",
     "text": [
      "['This is a {} with petals and leaves'] 71.30647130647131\n"
     ]
    },
    {
     "data": {
      "application/vnd.jupyter.widget-view+json": {
       "model_id": "bac0c27e61d9482aa943e04715f550b9",
       "version_major": 2,
       "version_minor": 0
      },
      "text/plain": [
       "  0%|          | 0/10 [00:00<?, ?it/s]"
      ]
     },
     "metadata": {},
     "output_type": "display_data"
    },
    {
     "data": {
      "application/vnd.jupyter.widget-view+json": {
       "model_id": "55b413220f954d80ad1c88bc0d31bca6",
       "version_major": 2,
       "version_minor": 0
      },
      "text/plain": [
       "  0%|          | 0/819 [00:00<?, ?it/s]"
      ]
     },
     "metadata": {},
     "output_type": "display_data"
    },
    {
     "name": "stdout",
     "output_type": "stream",
     "text": [
      "['This is a {} with leaves', 'This is a {} with petals'] 70.6959706959707\n",
      "Small Flowers:\n"
     ]
    }
   ],
   "source": [
    "# Flowers\n",
    "templates = [[\"This is a {} with leaves\"],\n",
    "             [\"This is a {} with petals\"],\n",
    "             [\"This is a {} with petals and leaves\"], \n",
    "             [\"This is a {} with leaves\", \"This is a {} with petals\"]]\n",
    "\n",
    "\n",
    "for template in templates:\n",
    "    sf_zw = zeroshot_classifier(smallflowers.classes,template)\n",
    "\n",
    "    sf_czs = clip_zero_shot(\n",
    "        sf_train_loader,\n",
    "        smallflowers.classes,\n",
    "        sf_zw\n",
    "    )\n",
    "    print(template, sf_czs[0])\n",
    "print(\"Small Flowers:\")"
   ]
  },
  {
   "cell_type": "code",
   "execution_count": null,
   "id": "e4520027",
   "metadata": {},
   "outputs": [],
   "source": [
    "# Flowers\n",
    "templates = [[\"This is a white {}\"],\n",
    "             [\"This is a pink {}\"],\n",
    "             [\"This is a {} white or pink flower\"], \n",
    "             [\"Many beatiful white and pink flowers\"], \n",
    "             [\"This is a white {}\",\"This is a pink {}\", \"Many beatiful {} flowers\"]]\n",
    "\n",
    "for template in templates:\n",
    "    sf_zw = zeroshot_classifier(smallflowers.classes,template)\n",
    "\n",
    "    sf_czs = clip_zero_shot(\n",
    "        sf_train_loader,\n",
    "        smallflowers.classes,\n",
    "        sf_zw\n",
    "    )\n",
    "    print(template, sf_czs[0])\n",
    "print(\"Small Flowers:\")"
   ]
  },
  {
   "cell_type": "code",
   "execution_count": 39,
   "id": "6cf6d60c",
   "metadata": {},
   "outputs": [
    {
     "data": {
      "application/vnd.jupyter.widget-view+json": {
       "model_id": "77407998147549d9ab252cc0910b99fa",
       "version_major": 2,
       "version_minor": 0
      },
      "text/plain": [
       "  0%|          | 0/37 [00:00<?, ?it/s]"
      ]
     },
     "metadata": {},
     "output_type": "display_data"
    },
    {
     "data": {
      "application/vnd.jupyter.widget-view+json": {
       "model_id": "c5414f6b33964625b3f6320db8216089",
       "version_major": 2,
       "version_minor": 0
      },
      "text/plain": [
       "  0%|          | 0/3669 [00:00<?, ?it/s]"
      ]
     },
     "metadata": {},
     "output_type": "display_data"
    },
    {
     "name": "stdout",
     "output_type": "stream",
     "text": [
      "['This is a cute {}'] 89.07059144180975\n"
     ]
    },
    {
     "data": {
      "application/vnd.jupyter.widget-view+json": {
       "model_id": "7ba47f43b07146f1b26916ded697ae4a",
       "version_major": 2,
       "version_minor": 0
      },
      "text/plain": [
       "  0%|          | 0/37 [00:00<?, ?it/s]"
      ]
     },
     "metadata": {},
     "output_type": "display_data"
    },
    {
     "data": {
      "application/vnd.jupyter.widget-view+json": {
       "model_id": "07622a05f564466ca3b7ba4aa71c56de",
       "version_major": 2,
       "version_minor": 0
      },
      "text/plain": [
       "  0%|          | 0/3669 [00:00<?, ?it/s]"
      ]
     },
     "metadata": {},
     "output_type": "display_data"
    },
    {
     "name": "stdout",
     "output_type": "stream",
     "text": [
      "['This is a fluffy {}'] 82.63832106841102\n"
     ]
    },
    {
     "data": {
      "application/vnd.jupyter.widget-view+json": {
       "model_id": "94990dbc8f81420d8da3b403794d17bf",
       "version_major": 2,
       "version_minor": 0
      },
      "text/plain": [
       "  0%|          | 0/37 [00:00<?, ?it/s]"
      ]
     },
     "metadata": {},
     "output_type": "display_data"
    },
    {
     "data": {
      "application/vnd.jupyter.widget-view+json": {
       "model_id": "8d3885e097d74b999a58a7dee1bbd6fd",
       "version_major": 2,
       "version_minor": 0
      },
      "text/plain": [
       "  0%|          | 0/3669 [00:00<?, ?it/s]"
      ]
     },
     "metadata": {},
     "output_type": "display_data"
    },
    {
     "name": "stdout",
     "output_type": "stream",
     "text": [
      "['This is a small {}'] 87.32624693376943\n"
     ]
    },
    {
     "data": {
      "application/vnd.jupyter.widget-view+json": {
       "model_id": "7070776a24ca42a6ad76acb99268affe",
       "version_major": 2,
       "version_minor": 0
      },
      "text/plain": [
       "  0%|          | 0/37 [00:00<?, ?it/s]"
      ]
     },
     "metadata": {},
     "output_type": "display_data"
    },
    {
     "data": {
      "application/vnd.jupyter.widget-view+json": {
       "model_id": "552d38aa3bf64c63a940fe6cd61150b6",
       "version_major": 2,
       "version_minor": 0
      },
      "text/plain": [
       "  0%|          | 0/3669 [00:00<?, ?it/s]"
      ]
     },
     "metadata": {},
     "output_type": "display_data"
    },
    {
     "name": "stdout",
     "output_type": "stream",
     "text": [
      "['This is a {} cute, fluffy and small'] 84.35541019351321\n"
     ]
    },
    {
     "data": {
      "application/vnd.jupyter.widget-view+json": {
       "model_id": "3ccc02a2b9d94a4fbf9d07f7340045ff",
       "version_major": 2,
       "version_minor": 0
      },
      "text/plain": [
       "  0%|          | 0/37 [00:00<?, ?it/s]"
      ]
     },
     "metadata": {},
     "output_type": "display_data"
    },
    {
     "data": {
      "application/vnd.jupyter.widget-view+json": {
       "model_id": "4cef6c4fa9984646b5d52ad446e5bc8a",
       "version_major": 2,
       "version_minor": 0
      },
      "text/plain": [
       "  0%|          | 0/3669 [00:00<?, ?it/s]"
      ]
     },
     "metadata": {},
     "output_type": "display_data"
    },
    {
     "name": "stdout",
     "output_type": "stream",
     "text": [
      "['This is a cute {}', 'This is a fluffy {}', 'This is a small {}'] 88.28018533660398\n",
      "Small Flowers:\n"
     ]
    }
   ],
   "source": [
    "# Pets\n",
    "templates = [[\"This is a cute {}\"],\n",
    "             [\"This is a fluffy {}\"],\n",
    "             [\"This is a small {}\"],\n",
    "             [\"This is a {} cute, fluffy and small\"], \n",
    "             [\"This is a cute {}\",\"This is a fluffy {}\",\"This is a small {}\"]]\n",
    "\n",
    "for template in templates:\n",
    "    p_zw = zeroshot_classifier(pets.classes,template)\n",
    "\n",
    "    p_czs = clip_zero_shot(\n",
    "        p_test_loader,\n",
    "        pets.classes,\n",
    "        p_zw\n",
    "    )\n",
    "    print(template, p_czs[0])\n",
    "print(\"Small Flowers:\")"
   ]
  },
  {
   "cell_type": "code",
   "execution_count": null,
   "id": "9c2be6fb",
   "metadata": {},
   "outputs": [],
   "source": []
  }
 ],
 "metadata": {
  "kernelspec": {
   "display_name": "Python [conda env:p3] *",
   "language": "python",
   "name": "conda-env-p3-py"
  },
  "language_info": {
   "codemirror_mode": {
    "name": "ipython",
    "version": 3
   },
   "file_extension": ".py",
   "mimetype": "text/x-python",
   "name": "python",
   "nbconvert_exporter": "python",
   "pygments_lexer": "ipython3",
   "version": "3.8.5"
  }
 },
 "nbformat": 4,
 "nbformat_minor": 5
}
