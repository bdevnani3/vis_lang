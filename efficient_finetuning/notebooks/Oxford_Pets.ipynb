{
 "cells": [
  {
   "cell_type": "code",
   "execution_count": 4,
   "metadata": {},
   "outputs": [],
   "source": [
    "import os\n",
    "import numpy as np\n",
    "import json\n",
    "from collections import defaultdict\n",
    "from shutil import copyfile"
   ]
  },
  {
   "cell_type": "markdown",
   "metadata": {},
   "source": [
    "# Create Validation Set"
   ]
  },
  {
   "cell_type": "code",
   "execution_count": 7,
   "metadata": {},
   "outputs": [
    {
     "data": {
      "text/plain": [
       "['flower_data.tar.gz',\n",
       " 'fgvc-aircraft-2013b',\n",
       " 'cifar-100-python.tar.gz',\n",
       " 'cifar-10-batches-py',\n",
       " 'annotations',\n",
       " 'images.tar.gz',\n",
       " 'images',\n",
       " 'train',\n",
       " 'fgvc-aircraft-2013b.tar.gz',\n",
       " 'oxford_pets',\n",
       " 'cifar-100-python',\n",
       " 'annotations.tar.gz',\n",
       " 'flower_data',\n",
       " 'cifar-10-python.tar.gz',\n",
       " 'valid']"
      ]
     },
     "execution_count": 7,
     "metadata": {},
     "output_type": "execute_result"
    }
   ],
   "source": [
    "# data_dir = \"/usr0/home/gis/research/vis_lang/data/oxford_pets\"\n",
    "data_dir = \"/nethome/bdevnani3/raid/data/\"\n",
    "os.listdir(data_dir)"
   ]
  },
  {
   "cell_type": "code",
   "execution_count": 5,
   "metadata": {},
   "outputs": [],
   "source": [
    "def read_annotations(path):\n",
    "    image_names = []\n",
    "    with open(path, 'r') as handle:\n",
    "        for line in handle:\n",
    "            image_name, _, _, _ = line.strip().split(' ')\n",
    "            image_names.append(image_name)\n",
    "    return image_names\n",
    "\n"
   ]
  },
  {
   "cell_type": "code",
   "execution_count": 8,
   "metadata": {},
   "outputs": [
    {
     "data": {
      "text/plain": [
       "(3680, 3669)"
      ]
     },
     "execution_count": 8,
     "metadata": {},
     "output_type": "execute_result"
    }
   ],
   "source": [
    "trainval_annotations = read_annotations(os.path.join(data_dir, 'annotations', 'trainval.txt'))\n",
    "test_annotations = read_annotations(os.path.join(data_dir, 'annotations', 'test.txt'))\n",
    "len(trainval_annotations), len(test_annotations)"
   ]
  },
  {
   "cell_type": "code",
   "execution_count": 9,
   "metadata": {},
   "outputs": [
    {
     "data": {
      "text/plain": [
       "(7393, 'Abyssinian_160.jpg')"
      ]
     },
     "execution_count": 9,
     "metadata": {},
     "output_type": "execute_result"
    }
   ],
   "source": [
    "image_files = os.listdir(os.path.join(data_dir, 'images'))\n",
    "len(image_files), image_files[0]"
   ]
  },
  {
   "cell_type": "code",
   "execution_count": 10,
   "metadata": {},
   "outputs": [],
   "source": [
    "def assign_class2ids(annotations):\n",
    "    class2ids = {}\n",
    "    for annotation in annotations:\n",
    "        components = annotation.split('_')\n",
    "        label = '_'.join(components[:-1])\n",
    "        ref = components[-1]\n",
    "        if label not in class2ids:\n",
    "            class2ids[label] = []\n",
    "        class2ids[label].append(ref)\n",
    "    return class2ids\n",
    "\n",
    "def create_filenames(label, ids):\n",
    "    filenames = []\n",
    "    for ref in ids:\n",
    "        filename = f'{label}_{ref}.jpg'\n",
    "        filenames.append(filename)\n",
    "    return filenames\n",
    "\n",
    "def split_partition(class2ids, proportion=.5):\n",
    "    split1, split2 = defaultdict(lambda: []), defaultdict(lambda: [])\n",
    "    for label, ids in class2ids.items():\n",
    "        np.random.shuffle(ids)\n",
    "        split_bound = int(len(ids) * proportion)\n",
    "        split1_files = create_filenames(label, ids[:split_bound])\n",
    "        split2_files = create_filenames(label, ids[split_bound:])\n",
    "        split1[label] = split1_files\n",
    "        split2[label]= split2_files\n",
    "    return split1, split2\n",
    "        "
   ]
  },
  {
   "cell_type": "code",
   "execution_count": 11,
   "metadata": {},
   "outputs": [
    {
     "data": {
      "text/plain": [
       "(37, 37)"
      ]
     },
     "execution_count": 11,
     "metadata": {},
     "output_type": "execute_result"
    }
   ],
   "source": [
    "trainval_class2ids = assign_class2ids(trainval_annotations)\n",
    "test_class2ids = assign_class2ids(test_annotations)\n",
    "len(trainval_class2ids), len(test_class2ids)"
   ]
  },
  {
   "cell_type": "code",
   "execution_count": 12,
   "metadata": {},
   "outputs": [
    {
     "data": {
      "text/plain": [
       "(37, 37, 37)"
      ]
     },
     "execution_count": 12,
     "metadata": {},
     "output_type": "execute_result"
    }
   ],
   "source": [
    "train_set, val_set = split_partition(trainval_class2ids, proportion=.5)\n",
    "test_set, _ = split_partition(test_class2ids, proportion=1.)\n",
    "len(train_set), len(val_set), len(test_set)"
   ]
  },
  {
   "cell_type": "code",
   "execution_count": 13,
   "metadata": {},
   "outputs": [
    {
     "data": {
      "text/plain": [
       "['Abyssinian',\n",
       " 'american_bulldog',\n",
       " 'american_pit_bull_terrier',\n",
       " 'basset_hound',\n",
       " 'beagle']"
      ]
     },
     "execution_count": 13,
     "metadata": {},
     "output_type": "execute_result"
    }
   ],
   "source": [
    "list(train_set.keys())[:5]"
   ]
  },
  {
   "cell_type": "code",
   "execution_count": 14,
   "metadata": {},
   "outputs": [
    {
     "data": {
      "text/plain": [
       "50"
      ]
     },
     "execution_count": 14,
     "metadata": {},
     "output_type": "execute_result"
    }
   ],
   "source": [
    "len(train_set['Abyssinian'])"
   ]
  },
  {
   "cell_type": "code",
   "execution_count": 11,
   "metadata": {},
   "outputs": [],
   "source": [
    "def create_file_structures(dataset, save_dir, source_dir):\n",
    "    for label, filenames in dataset.items():\n",
    "        label_dir = os.path.join(save_dir, label)\n",
    "        os.makedirs(label_dir, exist_ok=True)\n",
    "        for filename in filenames:\n",
    "            source_file = os.path.join(source_dir, filename)\n",
    "            dest_file = os.path.join(label_dir, filename)\n",
    "            copyfile(source_file, dest_file)"
   ]
  },
  {
   "cell_type": "code",
   "execution_count": 12,
   "metadata": {},
   "outputs": [],
   "source": [
    "create_file_structures(\n",
    "    train_set, \n",
    "    save_dir=os.path.join(data_dir, 'train'),\n",
    "    source_dir=os.path.join(data_dir, 'images')\n",
    ")"
   ]
  },
  {
   "cell_type": "code",
   "execution_count": 13,
   "metadata": {},
   "outputs": [],
   "source": [
    "create_file_structures(\n",
    "    val_set, \n",
    "    save_dir=os.path.join(data_dir, 'valid'),\n",
    "    source_dir=os.path.join(data_dir, 'images')\n",
    ")\n",
    "create_file_structures(\n",
    "    test_set, \n",
    "    save_dir=os.path.join(data_dir, 'test'),\n",
    "    source_dir=os.path.join(data_dir, 'images')\n",
    ")"
   ]
  },
  {
   "cell_type": "code",
   "execution_count": 15,
   "metadata": {},
   "outputs": [
    {
     "data": {
      "text/plain": [
       "['flower_data.tar.gz',\n",
       " 'fgvc-aircraft-2013b',\n",
       " 'cifar-100-python.tar.gz',\n",
       " 'cifar-10-batches-py',\n",
       " 'annotations',\n",
       " 'images.tar.gz',\n",
       " 'images',\n",
       " 'train',\n",
       " 'fgvc-aircraft-2013b.tar.gz',\n",
       " 'oxford_pets',\n",
       " 'cifar-100-python',\n",
       " 'annotations.tar.gz',\n",
       " 'flower_data',\n",
       " 'cifar-10-python.tar.gz',\n",
       " 'valid']"
      ]
     },
     "execution_count": 15,
     "metadata": {},
     "output_type": "execute_result"
    }
   ],
   "source": [
    "os.listdir(data_dir)"
   ]
  },
  {
   "cell_type": "code",
   "execution_count": 16,
   "metadata": {},
   "outputs": [
    {
     "data": {
      "text/plain": [
       "['Abyssinian',\n",
       " 'Bengal',\n",
       " 'Birman',\n",
       " 'Bombay',\n",
       " 'British_Shorthair',\n",
       " 'Egyptian_Mau',\n",
       " 'Maine_Coon',\n",
       " 'Persian',\n",
       " 'Ragdoll',\n",
       " 'Russian_Blue',\n",
       " 'Siamese',\n",
       " 'Sphynx',\n",
       " 'american_bulldog',\n",
       " 'american_pit_bull_terrier',\n",
       " 'basset_hound',\n",
       " 'beagle',\n",
       " 'boxer',\n",
       " 'chihuahua',\n",
       " 'english_cocker_spaniel',\n",
       " 'english_setter',\n",
       " 'german_shorthaired',\n",
       " 'great_pyrenees',\n",
       " 'havanese',\n",
       " 'japanese_chin',\n",
       " 'keeshond',\n",
       " 'leonberger',\n",
       " 'miniature_pinscher',\n",
       " 'newfoundland',\n",
       " 'pomeranian',\n",
       " 'pug',\n",
       " 'saint_bernard',\n",
       " 'samoyed',\n",
       " 'scottish_terrier',\n",
       " 'shiba_inu',\n",
       " 'staffordshire_bull_terrier',\n",
       " 'wheaten_terrier',\n",
       " 'yorkshire_terrier']"
      ]
     },
     "execution_count": 16,
     "metadata": {},
     "output_type": "execute_result"
    }
   ],
   "source": [
    "sorted(os.listdir(os.path.join(data_dir, 'train')))"
   ]
  },
  {
   "cell_type": "markdown",
   "metadata": {},
   "source": [
    "# Run Initial Zero Shot Experiment"
   ]
  },
  {
   "cell_type": "code",
   "execution_count": 17,
   "metadata": {},
   "outputs": [
    {
     "name": "stderr",
     "output_type": "stream",
     "text": [
      "In /nethome/bdevnani3/anaconda3/envs/p3/lib/python3.8/site-packages/matplotlib/mpl-data/stylelib/_classic_test.mplstyle: \n",
      "The text.latex.preview rcparam was deprecated in Matplotlib 3.3 and will be removed two minor releases later.\n",
      "In /nethome/bdevnani3/anaconda3/envs/p3/lib/python3.8/site-packages/matplotlib/mpl-data/stylelib/_classic_test.mplstyle: \n",
      "The mathtext.fallback_to_cm rcparam was deprecated in Matplotlib 3.3 and will be removed two minor releases later.\n",
      "In /nethome/bdevnani3/anaconda3/envs/p3/lib/python3.8/site-packages/matplotlib/mpl-data/stylelib/_classic_test.mplstyle: Support for setting the 'mathtext.fallback_to_cm' rcParam is deprecated since 3.3 and will be removed two minor releases later; use 'mathtext.fallback : 'cm' instead.\n",
      "In /nethome/bdevnani3/anaconda3/envs/p3/lib/python3.8/site-packages/matplotlib/mpl-data/stylelib/_classic_test.mplstyle: \n",
      "The validate_bool_maybe_none function was deprecated in Matplotlib 3.3 and will be removed two minor releases later.\n",
      "In /nethome/bdevnani3/anaconda3/envs/p3/lib/python3.8/site-packages/matplotlib/mpl-data/stylelib/_classic_test.mplstyle: \n",
      "The savefig.jpeg_quality rcparam was deprecated in Matplotlib 3.3 and will be removed two minor releases later.\n",
      "In /nethome/bdevnani3/anaconda3/envs/p3/lib/python3.8/site-packages/matplotlib/mpl-data/stylelib/_classic_test.mplstyle: \n",
      "The keymap.all_axes rcparam was deprecated in Matplotlib 3.3 and will be removed two minor releases later.\n",
      "In /nethome/bdevnani3/anaconda3/envs/p3/lib/python3.8/site-packages/matplotlib/mpl-data/stylelib/_classic_test.mplstyle: \n",
      "The animation.avconv_path rcparam was deprecated in Matplotlib 3.3 and will be removed two minor releases later.\n",
      "In /nethome/bdevnani3/anaconda3/envs/p3/lib/python3.8/site-packages/matplotlib/mpl-data/stylelib/_classic_test.mplstyle: \n",
      "The animation.avconv_args rcparam was deprecated in Matplotlib 3.3 and will be removed two minor releases later.\n"
     ]
    }
   ],
   "source": [
    "import os\n",
    "import clip\n",
    "import torch\n",
    "from torchvision import transforms, models\n",
    "\n",
    "import numpy as np\n",
    "from sklearn.linear_model import LogisticRegression\n",
    "from torch.utils.data import DataLoader\n",
    "from tqdm.notebook import tqdm\n",
    "\n",
    "import argparse\n",
    "from omegaconf import OmegaConf\n",
    "\n",
    "import json\n",
    "\n",
    "from datasets import *\n",
    "device = \"cuda\" if torch.cuda.is_available() else \"cpu\"\n",
    "from sklearn.metrics.pairwise import euclidean_distances, cosine_similarity\n",
    "import seaborn as sn\n",
    "\n",
    "from columnar import columnar\n",
    "from nltk.corpus import wordnet as wn\n",
    "import matplotlib.pyplot as plt\n",
    "import pandas as pd"
   ]
  },
  {
   "cell_type": "code",
   "execution_count": 22,
   "metadata": {},
   "outputs": [],
   "source": [
    "class OxfordPetsTmp(ClipExptDataset):\n",
    "    def __init__(self, num_workers, batch_size, root):\n",
    "        super().__init__(num_workers, batch_size, root)\n",
    "        self.name = \"OxfordPets\"\n",
    "        self.classes = [\n",
    "            'Abyssinian',\n",
    "            'Bengal',\n",
    "            'Birman',\n",
    "            'Bombay_cat', # TODO: change this back to Bombay. Bombay_cat is something I added.\n",
    "            'British_Shorthair',\n",
    "            'Egyptian_Mau',\n",
    "            'Maine_Coon',\n",
    "            'Persian',\n",
    "            'Ragdoll',\n",
    "            'Russian_Blue',\n",
    "            'Siamese',\n",
    "            'Sphynx',\n",
    "            'american_bulldog',\n",
    "            'american_pit_bull_terrier',\n",
    "            'basset_hound',\n",
    "            'beagle',\n",
    "            'boxer',\n",
    "            'chihuahua',\n",
    "            'english_cocker_spaniel',\n",
    "            'english_setter',\n",
    "            'german_shorthaired',\n",
    "            'great_pyrenees',\n",
    "            'havanese',\n",
    "            'japanese_chin',\n",
    "            'keeshond',\n",
    "            'leonberger',\n",
    "            'miniature_pinscher',\n",
    "            'newfoundland',\n",
    "            'pomeranian',\n",
    "            'pug',\n",
    "            'saint_bernard',\n",
    "            'samoyed',\n",
    "            'scottish_terrier',\n",
    "            'shiba_inu',\n",
    "            'staffordshire_bull_terrier',\n",
    "            'wheaten_terrier',\n",
    "            'yorkshire_terrier'\n",
    "        ]\n",
    "\n",
    "    def get_train_loaders(self, transform_fn=None):\n",
    "\n",
    "        if transform_fn is None:\n",
    "            transform_fn = self.train_transform\n",
    "\n",
    "        train_dataset = datasets.ImageFolder(\n",
    "            self.root + \"oxford_pets/train\", transform=transform_fn\n",
    "        )\n",
    "\n",
    "        valid_dataset = datasets.ImageFolder(\n",
    "            self.root + \"oxford_pets/valid\", transform=transform_fn\n",
    "        )\n",
    "\n",
    "        train_loader = torch.utils.data.DataLoader(\n",
    "            train_dataset,\n",
    "            batch_size=self.batch_size,\n",
    "            num_workers=self.num_workers,\n",
    "        )\n",
    "        valid_loader = torch.utils.data.DataLoader(\n",
    "            valid_dataset,\n",
    "            batch_size=self.batch_size,\n",
    "            num_workers=self.num_workers,\n",
    "        )\n",
    "\n",
    "        return train_loader, valid_loader\n",
    "\n",
    "    def get_test_loader(self, transform_fn=None):\n",
    "\n",
    "        if transform_fn is None:\n",
    "            transform_fn = self.test_transform\n",
    "\n",
    "        test_dataset = datasets.ImageFolder(\n",
    "            self.root + \"oxford_pets/test\", transform=transform_fn\n",
    "        )\n",
    "\n",
    "        test_loader = torch.utils.data.DataLoader(\n",
    "            test_dataset,\n",
    "            batch_size=self.batch_size,\n",
    "            num_workers=self.num_workers,\n",
    "        )\n",
    "\n",
    "        return test_loader\n"
   ]
  },
  {
   "cell_type": "code",
   "execution_count": 29,
   "metadata": {},
   "outputs": [],
   "source": [
    "def clip_zero_shot(\n",
    "    loader,\n",
    "    classes,\n",
    "    zeroshot_weights,\n",
    "    clip_model_name=\"ViT-B/32\",\n",
    "):\n",
    "\n",
    "    global clip_model, clip_preprocess\n",
    "    device = \"cuda\" if torch.cuda.is_available() else \"cpu\"\n",
    "\n",
    "    def accuracy(output, target, topk=(1,)):\n",
    "        pred = output.topk(max(topk), 1, True, True)[1].t()\n",
    "        correct = pred.eq(target.view(1, -1).expand_as(pred))\n",
    "        return [\n",
    "            float(correct[:k].reshape(-1).float().sum(0, keepdim=True).cpu().numpy())\n",
    "            for k in topk\n",
    "        ]\n",
    "\n",
    "    # lazy load\n",
    "    if clip_model == None:\n",
    "        clip_model, clip_preprocess = clip.load(clip_model_name, device)\n",
    "\n",
    "    per_class_accuracy_top1 = { k:[0,0, classes[k]] for k in range(len(classes))} # correct, total, class_name\n",
    "    per_class_accuracy_top5 = { k:[0,0, classes[k]] for k in range(len(classes))} \n",
    "\n",
    "    with torch.no_grad():\n",
    "        top1, top5, n = 0.0, 0.0, 0.0\n",
    "        for i , (images, target) in enumerate(tqdm(loader)):\n",
    "            images = images.cuda()\n",
    "            target = target.cuda()\n",
    "\n",
    "            # predict\n",
    "            image_features = clip_model.encode_image(images)\n",
    "            image_features /= image_features.norm(dim=-1, keepdim=True)\n",
    "            logits = 100.0 * image_features @ zeroshot_weights\n",
    "\n",
    "            # measure accuracy\n",
    "            acc1, acc5 = accuracy(logits, target, topk=(1, 5))\n",
    "            top1 += acc1\n",
    "            top5 += acc5\n",
    "            n += images.size(0)\n",
    "            \n",
    "            per_class_accuracy_top1[target.cpu().detach().numpy()[0]][0]+= acc1\n",
    "            per_class_accuracy_top1[target.cpu().detach().numpy()[0]][1]+= 1\n",
    "\n",
    "    top1 = (top1 / n) * 100\n",
    "    top5 = (top5 / n) * 100\n",
    "\n",
    "    return top1, per_class_accuracy_top1\n",
    "\n",
    "def zeroshot_classifier(classnames, templates):\n",
    "    with torch.no_grad():\n",
    "        zeroshot_weights = []\n",
    "        for classname in classnames:\n",
    "            classname = ' '.join(classname.split('_'))\n",
    "            texts = [\n",
    "                template.format(classname) for template in templates\n",
    "            ]  # format with class\n",
    "            texts = clip.tokenize(texts).cuda()  # tokenize\n",
    "            class_embeddings = clip_model.encode_text(texts)  # embed with text encoder\n",
    "            class_embeddings /= class_embeddings.norm(dim=-1, keepdim=True)\n",
    "            class_embedding = class_embeddings.mean(dim=0)\n",
    "            class_embedding /= class_embedding.norm()\n",
    "            zeroshot_weights.append(class_embedding)\n",
    "        zeroshot_weights = torch.stack(zeroshot_weights, dim=1).cuda()\n",
    "    return zeroshot_weights"
   ]
  },
  {
   "cell_type": "code",
   "execution_count": 24,
   "metadata": {},
   "outputs": [],
   "source": [
    "dataset_obj = OxfordPetsTmp(4, 1, root=\"/nethome/bdevnani3/raid/data/\")\n",
    "clip_model, clip_preprocess = clip.load(\"ViT-B/32\", )\n",
    "train_loader, dev_loader = dataset_obj.get_train_loaders(transform_fn=clip_preprocess)\n",
    "test_loader = dataset_obj.get_test_loader(transform_fn=clip_preprocess)"
   ]
  },
  {
   "cell_type": "code",
   "execution_count": 26,
   "metadata": {},
   "outputs": [
    {
     "data": {
      "application/vnd.jupyter.widget-view+json": {
       "model_id": "6fb0571bfe4e4f598920823abcbf6ead",
       "version_major": 2,
       "version_minor": 0
      },
      "text/plain": [
       "  0%|          | 0/3669 [00:00<?, ?it/s]"
      ]
     },
     "metadata": {},
     "output_type": "display_data"
    },
    {
     "name": "stdout",
     "output_type": "stream",
     "text": [
      "89.42491142000544\n"
     ]
    }
   ],
   "source": [
    "phrase_file = \"/nethome/bdevnani3/vis_lang/efficient_finetuning/configs/phrases/pets.txt\"\n",
    "\n",
    "templates = []\n",
    "with open(phrase_file) as f:\n",
    "    templates = [line for line in f]\n",
    "\n",
    "baseline_zw = zeroshot_classifier(dataset_obj.classes,templates)\n",
    "\n",
    "baseline_czs = clip_zero_shot(\n",
    "    test_loader,\n",
    "    dataset_obj.classes,\n",
    "    baseline_zw\n",
    ")\n",
    "print(baseline_czs[0])"
   ]
  },
  {
   "cell_type": "code",
   "execution_count": 27,
   "metadata": {},
   "outputs": [
    {
     "data": {
      "text/plain": [
       "['This is a photo of a {}, a pet.']"
      ]
     },
     "execution_count": 27,
     "metadata": {},
     "output_type": "execute_result"
    }
   ],
   "source": [
    "templates"
   ]
  },
  {
   "cell_type": "code",
   "execution_count": 28,
   "metadata": {},
   "outputs": [
    {
     "data": {
      "application/vnd.jupyter.widget-view+json": {
       "model_id": "c8c3603c35a64cc58dd3a8901b2c6d6f",
       "version_major": 2,
       "version_minor": 0
      },
      "text/plain": [
       "  0%|          | 0/3669 [00:00<?, ?it/s]"
      ]
     },
     "metadata": {},
     "output_type": "display_data"
    },
    {
     "data": {
      "application/vnd.jupyter.widget-view+json": {
       "model_id": "5d8311aca03e4247a279b4f514f5d8ec",
       "version_major": 2,
       "version_minor": 0
      },
      "text/plain": [
       "  0%|          | 0/1841 [00:00<?, ?it/s]"
      ]
     },
     "metadata": {},
     "output_type": "display_data"
    },
    {
     "name": "stdout",
     "output_type": "stream",
     "text": [
      "This is a photo of a {}, a pet.\n",
      "85.7686040195546\n",
      "89.42491142000544\n"
     ]
    }
   ],
   "source": [
    "for template in templates:\n",
    "    baseline_zw = zeroshot_classifier(dataset_obj.classes,[template])\n",
    "    test_czs = clip_zero_shot(\n",
    "        test_loader,\n",
    "        dataset_obj.classes,\n",
    "        baseline_zw\n",
    "    )\n",
    "    dev_czs = clip_zero_shot(\n",
    "        dev_loader,\n",
    "        dataset_obj.classes,\n",
    "        baseline_zw\n",
    "    )\n",
    "    print(template)\n",
    "    print(dev_czs[0])\n",
    "    print(test_czs[0])"
   ]
  },
  {
   "cell_type": "markdown",
   "metadata": {},
   "source": [
    "Among the manually selected queries, it appears that keeping the template general with \"type\" of animal yields the best performance. However, phrases like \"big\" or \"small\" do not work as well. I believe this is because the phrases offer a blanket that's not well representative of the type of images."
   ]
  },
  {
   "cell_type": "code",
   "execution_count": 36,
   "metadata": {},
   "outputs": [
    {
     "data": {
      "application/vnd.jupyter.widget-view+json": {
       "model_id": "228de9710f23466cada8e29c45b694f2",
       "version_major": 2,
       "version_minor": 0
      },
      "text/plain": [
       "  0%|          | 0/3669 [00:00<?, ?it/s]"
      ]
     },
     "metadata": {},
     "output_type": "display_data"
    },
    {
     "name": "stdout",
     "output_type": "stream",
     "text": [
      "|--------------------------|-----------|-----------|-----|\n",
      "|Class Name                |Accuracy(%)|Num Correct|Total|\n",
      "|========================================================|\n",
      "|Ragdoll                   |37.0       |37         |100  |\n",
      "|--------------------------|-----------|-----------|-----|\n",
      "|staffordshire_bull_terrier|70.78652   |63         |89   |\n",
      "|--------------------------|-----------|-----------|-----|\n",
      "|american_pit_bull_terrier |72.0       |72         |100  |\n",
      "|--------------------------|-----------|-----------|-----|\n",
      "|boxer                     |74.74747   |74         |99   |\n",
      "|--------------------------|-----------|-----------|-----|\n",
      "|British_Shorthair         |79.0       |79         |100  |\n",
      "|--------------------------|-----------|-----------|-----|\n",
      "|english_cocker_spaniel    |80.0       |80         |100  |\n",
      "|--------------------------|-----------|-----------|-----|\n",
      "|Bengal                    |80.0       |80         |100  |\n",
      "|--------------------------|-----------|-----------|-----|\n",
      "|Persian                   |81.0       |81         |100  |\n",
      "|--------------------------|-----------|-----------|-----|\n",
      "|beagle                    |81.0       |81         |100  |\n",
      "|--------------------------|-----------|-----------|-----|\n",
      "|Maine_Coon                |84.0       |84         |100  |\n",
      "|--------------------------|-----------|-----------|-----|\n",
      "|Egyptian_Mau              |87.62887   |85         |97   |\n",
      "|--------------------------|-----------|-----------|-----|\n",
      "|Birman                    |88.0       |88         |100  |\n",
      "|--------------------------|-----------|-----------|-----|\n",
      "|Abyssinian                |88.77551   |87         |98   |\n",
      "|--------------------------|-----------|-----------|-----|\n",
      "|chihuahua                 |91.0       |91         |100  |\n",
      "|--------------------------|-----------|-----------|-----|\n",
      "|saint_bernard             |91.0       |91         |100  |\n",
      "|--------------------------|-----------|-----------|-----|\n",
      "|havanese                  |92.0       |92         |100  |\n",
      "|--------------------------|-----------|-----------|-----|\n",
      "|wheaten_terrier           |93.0       |93         |100  |\n",
      "|--------------------------|-----------|-----------|-----|\n",
      "|great_pyrenees            |93.0       |93         |100  |\n",
      "|--------------------------|-----------|-----------|-----|\n",
      "|newfoundland              |93.0       |93         |100  |\n",
      "|--------------------------|-----------|-----------|-----|\n",
      "|Siamese                   |94.0       |94         |100  |\n",
      "|--------------------------|-----------|-----------|-----|\n",
      "|japanese_chin             |94.0       |94         |100  |\n",
      "|--------------------------|-----------|-----------|-----|\n",
      "|leonberger                |94.0       |94         |100  |\n",
      "|--------------------------|-----------|-----------|-----|\n",
      "|basset_hound              |95.0       |95         |100  |\n",
      "|--------------------------|-----------|-----------|-----|\n",
      "|american_bulldog          |96.0       |96         |100  |\n",
      "|--------------------------|-----------|-----------|-----|\n",
      "|yorkshire_terrier         |97.0       |97         |100  |\n",
      "|--------------------------|-----------|-----------|-----|\n",
      "|Russian_Blue              |97.0       |97         |100  |\n",
      "|--------------------------|-----------|-----------|-----|\n",
      "|english_setter            |97.0       |97         |100  |\n",
      "|--------------------------|-----------|-----------|-----|\n",
      "|Bombay_cat                |97.72727   |86         |88   |\n",
      "|--------------------------|-----------|-----------|-----|\n",
      "|keeshond                  |97.9798    |97         |99   |\n",
      "|--------------------------|-----------|-----------|-----|\n",
      "|pug                       |98.0       |98         |100  |\n",
      "|--------------------------|-----------|-----------|-----|\n",
      "|pomeranian                |98.0       |98         |100  |\n",
      "|--------------------------|-----------|-----------|-----|\n",
      "|scottish_terrier          |98.9899    |98         |99   |\n",
      "|--------------------------|-----------|-----------|-----|\n",
      "|samoyed                   |99.0       |99         |100  |\n",
      "|--------------------------|-----------|-----------|-----|\n",
      "|shiba_inu                 |99.0       |99         |100  |\n",
      "|--------------------------|-----------|-----------|-----|\n",
      "|german_shorthaired        |99.0       |99         |100  |\n",
      "|--------------------------|-----------|-----------|-----|\n",
      "|Sphynx                    |99.0       |99         |100  |\n",
      "|--------------------------|-----------|-----------|-----|\n",
      "|miniature_pinscher        |100.0      |100        |100  |\n",
      "|--------------------------|-----------|-----------|-----|\n",
      "\n"
     ]
    }
   ],
   "source": [
    "#Per class performance\n",
    "def per_class_performance(d, print_out=True):\n",
    "    x = []\n",
    "    labels = []\n",
    "    corr = []\n",
    "    tot = []\n",
    "    for el in d:\n",
    "        x.append((d[el][0]*100)/d[el][1])\n",
    "        labels.append(d[el][2])\n",
    "        corr.append(d[el][0])\n",
    "        tot.append(d[el][1])\n",
    "    idx = np.argsort(x)\n",
    "    x = np.array(x)[idx]\n",
    "    labels = np.array(labels)[idx]\n",
    "    corr = np.array(corr)[idx]\n",
    "    tot = np.array(tot)[idx]\n",
    "    out = {}\n",
    "    for l,per,c,t in zip(labels,x,corr,tot):\n",
    "        out[l] = [np.around(per,5),int(c),int(t)]\n",
    "    if print_out:\n",
    "        table = columnar([[l, o[0], o[1], o[2]] for l,o in out.items()], [\"Class Name\", \"Accuracy(%)\", \"Num Correct\", \"Total\"])\n",
    "        print(table)\n",
    "    return out\n",
    "\n",
    "template = 'This is a photo of a {}, a pet.'\n",
    "baseline_zw = zeroshot_classifier(dataset_obj.classes,[template])\n",
    "test_czs = clip_zero_shot(\n",
    "    test_loader,\n",
    "    dataset_obj.classes,\n",
    "    baseline_zw\n",
    ")\n",
    "\n",
    "baseline_pcp = per_class_performance(test_czs[1])"
   ]
  },
  {
   "cell_type": "code",
   "execution_count": 37,
   "metadata": {},
   "outputs": [
    {
     "data": {
      "text/plain": [
       "{0: [87.0, 98, 'Abyssinian'],\n",
       " 1: [80.0, 100, 'Bengal'],\n",
       " 2: [88.0, 100, 'Birman'],\n",
       " 3: [86.0, 88, 'Bombay_cat'],\n",
       " 4: [79.0, 100, 'British_Shorthair'],\n",
       " 5: [85.0, 97, 'Egyptian_Mau'],\n",
       " 6: [84.0, 100, 'Maine_Coon'],\n",
       " 7: [81.0, 100, 'Persian'],\n",
       " 8: [37.0, 100, 'Ragdoll'],\n",
       " 9: [97.0, 100, 'Russian_Blue'],\n",
       " 10: [94.0, 100, 'Siamese'],\n",
       " 11: [99.0, 100, 'Sphynx'],\n",
       " 12: [96.0, 100, 'american_bulldog'],\n",
       " 13: [72.0, 100, 'american_pit_bull_terrier'],\n",
       " 14: [95.0, 100, 'basset_hound'],\n",
       " 15: [81.0, 100, 'beagle'],\n",
       " 16: [74.0, 99, 'boxer'],\n",
       " 17: [91.0, 100, 'chihuahua'],\n",
       " 18: [80.0, 100, 'english_cocker_spaniel'],\n",
       " 19: [97.0, 100, 'english_setter'],\n",
       " 20: [99.0, 100, 'german_shorthaired'],\n",
       " 21: [93.0, 100, 'great_pyrenees'],\n",
       " 22: [92.0, 100, 'havanese'],\n",
       " 23: [94.0, 100, 'japanese_chin'],\n",
       " 24: [97.0, 99, 'keeshond'],\n",
       " 25: [94.0, 100, 'leonberger'],\n",
       " 26: [100.0, 100, 'miniature_pinscher'],\n",
       " 27: [93.0, 100, 'newfoundland'],\n",
       " 28: [98.0, 100, 'pomeranian'],\n",
       " 29: [98.0, 100, 'pug'],\n",
       " 30: [91.0, 100, 'saint_bernard'],\n",
       " 31: [99.0, 100, 'samoyed'],\n",
       " 32: [98.0, 99, 'scottish_terrier'],\n",
       " 33: [99.0, 100, 'shiba_inu'],\n",
       " 34: [63.0, 89, 'staffordshire_bull_terrier'],\n",
       " 35: [93.0, 100, 'wheaten_terrier'],\n",
       " 36: [97.0, 100, 'yorkshire_terrier']}"
      ]
     },
     "execution_count": 37,
     "metadata": {},
     "output_type": "execute_result"
    }
   ],
   "source": [
    "test_czs[1]"
   ]
  },
  {
   "cell_type": "code",
   "execution_count": 38,
   "metadata": {},
   "outputs": [],
   "source": [
    "id2label = {key: value[-1] for key, value in test_czs[1].items()}\n",
    "label2id = {value[-1]: key for key, value in test_czs[1].items()}"
   ]
  },
  {
   "cell_type": "markdown",
   "metadata": {},
   "source": [
    "Hypothesis: Terms with low scores are low because they are poor descriptors of the actual class. E.g. \"Bombay\" the city is signifantly better known than \"Bombay\" the cat breed. \n",
    "\n",
    "Bombay: Replacing the 'Bombay' with 'Bombay_cat' significantly improves per class performance from 14% to 97.72%.\n",
    "\n",
    "Ragdoll: Including \"cat\" with Ragdoll actuall decreases perfromance from 37% to 28%. Why is this? Is it due to overlaps between bombay_cat? Answer: No, this is not the case.\n",
    "\n"
   ]
  },
  {
   "cell_type": "markdown",
   "metadata": {},
   "source": [
    "# Synonym Exploration"
   ]
  },
  {
   "cell_type": "code",
   "execution_count": 39,
   "metadata": {},
   "outputs": [
    {
     "data": {
      "text/plain": [
       "{'Abyssinian': {'Abyssinian', 'abyssinian', 'abyssinian cat'},\n",
       " 'Bengal': {'Bengal', 'bengal'},\n",
       " 'Birman': {'Birman'},\n",
       " 'Bombay_cat': {'Bombay_cat'},\n",
       " 'British_Shorthair': {'British_Shorthair'},\n",
       " 'Egyptian_Mau': {'Egyptian_Mau'},\n",
       " 'Maine_Coon': {'Maine_Coon'},\n",
       " 'Persian': {'Persian', 'irani', 'iranian', 'persian'},\n",
       " 'Ragdoll': {'Ragdoll'},\n",
       " 'Russian_Blue': {'Russian_Blue'},\n",
       " 'Siamese': {'Siamese', 'central thai', 'siamese', 'thai'},\n",
       " 'Sphynx': {'Sphynx'},\n",
       " 'american_bulldog': {'american_bulldog'},\n",
       " 'american_pit_bull_terrier': {'american pit bull terrier',\n",
       "  'american staffordshire terrier',\n",
       "  'american_pit_bull_terrier',\n",
       "  'pit bull terrier',\n",
       "  'staffordshire terrier'},\n",
       " 'basset_hound': {'basset', 'basset hound', 'basset_hound'},\n",
       " 'beagle': {'beagle'},\n",
       " 'boxer': {'boxer', 'pugilist'},\n",
       " 'chihuahua': {'chihuahua'},\n",
       " 'english_cocker_spaniel': {'cocker',\n",
       "  'cocker spaniel',\n",
       "  'english cocker spaniel',\n",
       "  'english_cocker_spaniel'},\n",
       " 'english_setter': {'english setter', 'english_setter'},\n",
       " 'german_shorthaired': {'german_shorthaired'},\n",
       " 'great_pyrenees': {'great pyrenees', 'great_pyrenees'},\n",
       " 'havanese': {'havanese'},\n",
       " 'japanese_chin': {'japanese_chin'},\n",
       " 'keeshond': {'keeshond'},\n",
       " 'leonberger': {'leonberger'},\n",
       " 'miniature_pinscher': {'miniature pinscher', 'miniature_pinscher'},\n",
       " 'newfoundland': {'newfoundland', 'newfoundland dog'},\n",
       " 'pomeranian': {'pomeranian'},\n",
       " 'pug': {'pug', 'pug-dog'},\n",
       " 'saint_bernard': {'saint bernard', 'saint_bernard', 'st bernard'},\n",
       " 'samoyed': {'samoyed'},\n",
       " 'scottish_terrier': {'scotch terrier',\n",
       "  'scottie',\n",
       "  'scottish terrier',\n",
       "  'scottish_terrier'},\n",
       " 'shiba_inu': {'shiba_inu'},\n",
       " 'staffordshire_bull_terrier': {'staffordshire bull terrier',\n",
       "  'staffordshire bullterrier',\n",
       "  'staffordshire_bull_terrier'},\n",
       " 'wheaten_terrier': {'wheaten_terrier'},\n",
       " 'yorkshire_terrier': {'yorkshire terrier', 'yorkshire_terrier'}}"
      ]
     },
     "execution_count": 39,
     "metadata": {},
     "output_type": "execute_result"
    }
   ],
   "source": [
    "def generate_synonym_set(word):\n",
    "    out = []\n",
    "    try:\n",
    "        synset = wn.synset(word+\".n.01\")\n",
    "        for lemma in synset.lemmas():\n",
    "            out.append(lemma.name().lower().replace(\"_\", \" \"))\n",
    "#         for hypernym in synset.hypernyms():\n",
    "#             out.append(hypernym.name().lower().replace(\"_\", \" \").split(\".\")[0])\n",
    "#         for mh in synset.member_holonyms():\n",
    "#             out.append(mh.name().lower().replace(\"_\", \" \").split(\".\")[0])\n",
    "        out = list(set(out))\n",
    "        return out\n",
    "    except:\n",
    "        return []\n",
    "\n",
    "d_synonyms = {}\n",
    "for c in dataset_obj.classes:\n",
    "    d_synonyms[c] = set(generate_synonym_set(c.replace(\" \", \"_\")) + [c])\n",
    "\n",
    "d_synonyms"
   ]
  },
  {
   "cell_type": "markdown",
   "metadata": {},
   "source": [
    "There are no synonyms for the pets. "
   ]
  },
  {
   "cell_type": "code",
   "execution_count": 40,
   "metadata": {},
   "outputs": [],
   "source": [
    "# def zeroshot_classifier(classnames, templates):\n",
    "#     with torch.no_grad():\n",
    "#         zeroshot_weights = []\n",
    "#         i = 0\n",
    "#         for cs in tqdm(classnames):\n",
    "#             syns = Flowers102.wordnet_synonyms[cs] + [cs]\n",
    "#             texts = []\n",
    "#             for classname in syns:\n",
    "#                 texts.extend([\n",
    "#                     template.format(classname) for template in templates\n",
    "#                 ])  # format with class\n",
    "#             texts = clip.tokenize(texts).cuda()  # tokenize\n",
    "#             class_embeddings = clip_model.encode_text(texts)  # embed with text encoder\n",
    "#             class_embeddings /= class_embeddings.norm(dim=-1, keepdim=True)\n",
    "#             class_embedding = class_embeddings.mean(dim=0)\n",
    "#             class_embedding /= class_embedding.norm()\n",
    "#             zeroshot_weights.append(class_embedding)\n",
    "#         zeroshot_weights = torch.stack(zeroshot_weights, dim=1).cuda()\n",
    "#     return zeroshot_weights\n",
    "\n",
    "def zeroshot_with_synonyms(class2synonyms, templates):\n",
    "    with torch.no_grad():\n",
    "        class_encodings = []\n",
    "        for synonyms in class2synonyms.values():\n",
    "            class_descriptors = []\n",
    "            for synonym in synonyms:\n",
    "                class_descriptors += [template.format(synonym) for template in templates]\n",
    "            tokenized_descs = clip.tokenize(class_descriptors).cuda()\n",
    "            class_embeddings = clip_model.encode_text(tokenized_descs)  # embed with text encoder\n",
    "            class_embeddings /= class_embeddings.norm(dim=-1, keepdim=True)\n",
    "            class_embedding = class_embeddings.mean(dim=0)\n",
    "            class_embedding /= class_embedding.norm()\n",
    "            class_encodings.append(class_embedding)\n",
    "        class_encodings = torch.stack(class_encodings, dim=1).cuda()\n",
    "    return class_encodings"
   ]
  },
  {
   "cell_type": "code",
   "execution_count": 41,
   "metadata": {},
   "outputs": [
    {
     "data": {
      "application/vnd.jupyter.widget-view+json": {
       "model_id": "2ae2471d1192450fbf96b7a06656fcd1",
       "version_major": 2,
       "version_minor": 0
      },
      "text/plain": [
       "  0%|          | 0/3669 [00:00<?, ?it/s]"
      ]
     },
     "metadata": {},
     "output_type": "display_data"
    },
    {
     "name": "stdout",
     "output_type": "stream",
     "text": [
      "84.27364404469883\n"
     ]
    }
   ],
   "source": [
    "wordnetsyns_zw = zeroshot_with_synonyms(d_synonyms,[template])\n",
    "\n",
    "wordnetsyns_czs = clip_zero_shot(\n",
    "    test_loader,\n",
    "    dataset_obj.classes,\n",
    "    wordnetsyns_zw\n",
    ")\n",
    "print(wordnetsyns_czs[0])"
   ]
  },
  {
   "cell_type": "code",
   "execution_count": 42,
   "metadata": {},
   "outputs": [
    {
     "name": "stdout",
     "output_type": "stream",
     "text": [
      "|--------------------------|-----------|-----------|-----|\n",
      "|Class Name                |Accuracy(%)|Num Correct|Total|\n",
      "|========================================================|\n",
      "|japanese_chin             |5.0        |5          |100  |\n",
      "|--------------------------|-----------|-----------|-----|\n",
      "|Ragdoll                   |29.0       |29         |100  |\n",
      "|--------------------------|-----------|-----------|-----|\n",
      "|boxer                     |58.58586   |58         |99   |\n",
      "|--------------------------|-----------|-----------|-----|\n",
      "|Persian                   |60.0       |60         |100  |\n",
      "|--------------------------|-----------|-----------|-----|\n",
      "|staffordshire_bull_terrier|64.04494   |57         |89   |\n",
      "|--------------------------|-----------|-----------|-----|\n",
      "|British_Shorthair         |69.0       |69         |100  |\n",
      "|--------------------------|-----------|-----------|-----|\n",
      "|english_cocker_spaniel    |73.0       |73         |100  |\n",
      "|--------------------------|-----------|-----------|-----|\n",
      "|Bengal                    |79.0       |79         |100  |\n",
      "|--------------------------|-----------|-----------|-----|\n",
      "|beagle                    |81.0       |81         |100  |\n",
      "|--------------------------|-----------|-----------|-----|\n",
      "|german_shorthaired        |82.0       |82         |100  |\n",
      "|--------------------------|-----------|-----------|-----|\n",
      "|american_pit_bull_terrier |84.0       |84         |100  |\n",
      "|--------------------------|-----------|-----------|-----|\n",
      "|Birman                    |86.0       |86         |100  |\n",
      "|--------------------------|-----------|-----------|-----|\n",
      "|american_bulldog          |86.0       |86         |100  |\n",
      "|--------------------------|-----------|-----------|-----|\n",
      "|Egyptian_Mau              |86.59794   |84         |97   |\n",
      "|--------------------------|-----------|-----------|-----|\n",
      "|Abyssinian                |86.73469   |85         |98   |\n",
      "|--------------------------|-----------|-----------|-----|\n",
      "|chihuahua                 |88.0       |88         |100  |\n",
      "|--------------------------|-----------|-----------|-----|\n",
      "|Maine_Coon                |89.0       |89         |100  |\n",
      "|--------------------------|-----------|-----------|-----|\n",
      "|leonberger                |92.0       |92         |100  |\n",
      "|--------------------------|-----------|-----------|-----|\n",
      "|saint_bernard             |92.0       |92         |100  |\n",
      "|--------------------------|-----------|-----------|-----|\n",
      "|havanese                  |92.0       |92         |100  |\n",
      "|--------------------------|-----------|-----------|-----|\n",
      "|Sphynx                    |93.0       |93         |100  |\n",
      "|--------------------------|-----------|-----------|-----|\n",
      "|wheaten_terrier           |93.0       |93         |100  |\n",
      "|--------------------------|-----------|-----------|-----|\n",
      "|Siamese                   |93.0       |93         |100  |\n",
      "|--------------------------|-----------|-----------|-----|\n",
      "|great_pyrenees            |94.0       |94         |100  |\n",
      "|--------------------------|-----------|-----------|-----|\n",
      "|Russian_Blue              |94.0       |94         |100  |\n",
      "|--------------------------|-----------|-----------|-----|\n",
      "|Bombay_cat                |94.31818   |83         |88   |\n",
      "|--------------------------|-----------|-----------|-----|\n",
      "|basset_hound              |96.0       |96         |100  |\n",
      "|--------------------------|-----------|-----------|-----|\n",
      "|newfoundland              |96.0       |96         |100  |\n",
      "|--------------------------|-----------|-----------|-----|\n",
      "|english_setter            |97.0       |97         |100  |\n",
      "|--------------------------|-----------|-----------|-----|\n",
      "|pug                       |97.0       |97         |100  |\n",
      "|--------------------------|-----------|-----------|-----|\n",
      "|yorkshire_terrier         |97.0       |97         |100  |\n",
      "|--------------------------|-----------|-----------|-----|\n",
      "|keeshond                  |97.9798    |97         |99   |\n",
      "|--------------------------|-----------|-----------|-----|\n",
      "|scottish_terrier          |97.9798    |97         |99   |\n",
      "|--------------------------|-----------|-----------|-----|\n",
      "|miniature_pinscher        |98.0       |98         |100  |\n",
      "|--------------------------|-----------|-----------|-----|\n",
      "|samoyed                   |98.0       |98         |100  |\n",
      "|--------------------------|-----------|-----------|-----|\n",
      "|pomeranian                |99.0       |99         |100  |\n",
      "|--------------------------|-----------|-----------|-----|\n",
      "|shiba_inu                 |99.0       |99         |100  |\n",
      "|--------------------------|-----------|-----------|-----|\n",
      "\n"
     ]
    },
    {
     "data": {
      "text/plain": [
       "{'japanese_chin': [5.0, 5, 100],\n",
       " 'Ragdoll': [29.0, 29, 100],\n",
       " 'boxer': [58.58586, 58, 99],\n",
       " 'Persian': [60.0, 60, 100],\n",
       " 'staffordshire_bull_terrier': [64.04494, 57, 89],\n",
       " 'British_Shorthair': [69.0, 69, 100],\n",
       " 'english_cocker_spaniel': [73.0, 73, 100],\n",
       " 'Bengal': [79.0, 79, 100],\n",
       " 'beagle': [81.0, 81, 100],\n",
       " 'german_shorthaired': [82.0, 82, 100],\n",
       " 'american_pit_bull_terrier': [84.0, 84, 100],\n",
       " 'Birman': [86.0, 86, 100],\n",
       " 'american_bulldog': [86.0, 86, 100],\n",
       " 'Egyptian_Mau': [86.59794, 84, 97],\n",
       " 'Abyssinian': [86.73469, 85, 98],\n",
       " 'chihuahua': [88.0, 88, 100],\n",
       " 'Maine_Coon': [89.0, 89, 100],\n",
       " 'leonberger': [92.0, 92, 100],\n",
       " 'saint_bernard': [92.0, 92, 100],\n",
       " 'havanese': [92.0, 92, 100],\n",
       " 'Sphynx': [93.0, 93, 100],\n",
       " 'wheaten_terrier': [93.0, 93, 100],\n",
       " 'Siamese': [93.0, 93, 100],\n",
       " 'great_pyrenees': [94.0, 94, 100],\n",
       " 'Russian_Blue': [94.0, 94, 100],\n",
       " 'Bombay_cat': [94.31818, 83, 88],\n",
       " 'basset_hound': [96.0, 96, 100],\n",
       " 'newfoundland': [96.0, 96, 100],\n",
       " 'english_setter': [97.0, 97, 100],\n",
       " 'pug': [97.0, 97, 100],\n",
       " 'yorkshire_terrier': [97.0, 97, 100],\n",
       " 'keeshond': [97.9798, 97, 99],\n",
       " 'scottish_terrier': [97.9798, 97, 99],\n",
       " 'miniature_pinscher': [98.0, 98, 100],\n",
       " 'samoyed': [98.0, 98, 100],\n",
       " 'pomeranian': [99.0, 99, 100],\n",
       " 'shiba_inu': [99.0, 99, 100]}"
      ]
     },
     "execution_count": 42,
     "metadata": {},
     "output_type": "execute_result"
    }
   ],
   "source": [
    "per_class_performance(wordnetsyns_czs[1])"
   ]
  },
  {
   "cell_type": "markdown",
   "metadata": {},
   "source": [
    "We have a pretty significant decrease in accuracy for several classes that did very well before introducing synoynms. \n",
    "Weird that japanese_chin is horrible yet it has no wordnet synoynms. "
   ]
  },
  {
   "cell_type": "code",
   "execution_count": 12,
   "metadata": {},
   "outputs": [],
   "source": [
    "def get_avg_image_encodings(dataloader):\n",
    "    class2encodings = {}\n",
    "    with torch.no_grad():\n",
    "        for i, (images, target) in enumerate(tqdm(dataloader)):\n",
    "            images = images.cuda()\n",
    "\n",
    "            image_features = clip_model.encode_image(images)\n",
    "            image_features /= image_features.norm(dim=-1, keepdim=True)\n",
    "            class2encodings[target.numpy()[0]] = image_features\n",
    "    return class2encodings"
   ]
  },
  {
   "cell_type": "code",
   "execution_count": 13,
   "metadata": {},
   "outputs": [
    {
     "data": {
      "application/vnd.jupyter.widget-view+json": {
       "model_id": "1704476a8b1c4c4595e9b4e4db75ebaa",
       "version_major": 2,
       "version_minor": 0
      },
      "text/plain": [
       "  0%|          | 0/3669 [00:00<?, ?it/s]"
      ]
     },
     "metadata": {},
     "output_type": "display_data"
    }
   ],
   "source": [
    "class2encodings = get_avg_image_encodings(test_loader)"
   ]
  },
  {
   "cell_type": "code",
   "execution_count": 14,
   "metadata": {},
   "outputs": [
    {
     "data": {
      "text/plain": [
       "dict_keys([0, 1, 2, 3, 4, 5, 6, 7, 8, 9, 10, 11, 12, 13, 14, 15, 16, 17, 18, 19, 20, 21, 22, 23, 24, 25, 26, 27, 28, 29, 30, 31, 32, 33, 34, 35, 36])"
      ]
     },
     "execution_count": 14,
     "metadata": {},
     "output_type": "execute_result"
    }
   ],
   "source": [
    "class2encodings.keys()"
   ]
  },
  {
   "cell_type": "code",
   "execution_count": 32,
   "metadata": {},
   "outputs": [
    {
     "data": {
      "text/plain": [
       "torch.Size([37, 512])"
      ]
     },
     "execution_count": 32,
     "metadata": {},
     "output_type": "execute_result"
    }
   ],
   "source": [
    "image_encodings = torch.cat(list(class2encodings.values())).cpu()\n",
    "image_encodings.shape"
   ]
  },
  {
   "cell_type": "code",
   "execution_count": 33,
   "metadata": {},
   "outputs": [
    {
     "data": {
      "text/plain": [
       "torch.Size([37, 512])"
      ]
     },
     "execution_count": 33,
     "metadata": {},
     "output_type": "execute_result"
    }
   ],
   "source": [
    "wordnetsyns_zw.T.shape"
   ]
  },
  {
   "cell_type": "code",
   "execution_count": 42,
   "metadata": {},
   "outputs": [
    {
     "name": "stdout",
     "output_type": "stream",
     "text": [
      "0.21191799663594374\n"
     ]
    },
    {
     "data": {
      "text/plain": [
       "<AxesSubplot:>"
      ]
     },
     "execution_count": 42,
     "metadata": {},
     "output_type": "execute_result"
    },
    {
     "data": {
      "image/png": "[encoded data removed]",
      "text/plain": [
       "<Figure size 432x288 with 2 Axes>"
      ]
     },
     "metadata": {
      "needs_background": "light"
     },
     "output_type": "display_data"
    }
   ],
   "source": [
    "similarities = cosine_similarity(image_encodings, wordnetsyns_zw.T.cpu())\n",
    "print(similarities.mean())\n",
    "sn.heatmap(pd.DataFrame(similarities, columns=id2label.values(), index=id2label.values()))"
   ]
  },
  {
   "cell_type": "code",
   "execution_count": 47,
   "metadata": {},
   "outputs": [],
   "source": [
    "template = 'This is a photo of a {}, a pet.'\n",
    "raw_zw = zeroshot_classifier(dataset_obj.classes,[template])"
   ]
  },
  {
   "cell_type": "code",
   "execution_count": 48,
   "metadata": {},
   "outputs": [
    {
     "name": "stdout",
     "output_type": "stream",
     "text": [
      "0.20529130860907094\n"
     ]
    },
    {
     "data": {
      "text/plain": [
       "<AxesSubplot:>"
      ]
     },
     "execution_count": 48,
     "metadata": {},
     "output_type": "execute_result"
    },
    {
     "data": {
      "image/png": "[encoded data removed]",
      "text/plain": [
       "<Figure size 432x288 with 2 Axes>"
      ]
     },
     "metadata": {
      "needs_background": "light"
     },
     "output_type": "display_data"
    }
   ],
   "source": [
    "raw_similarities = cosine_similarity(image_encodings, raw_zw.T.cpu())\n",
    "print(raw_similarities.mean())\n",
    "sn.heatmap(pd.DataFrame(raw_similarities, columns=id2label.values(), index=id2label.values()))"
   ]
  },
  {
   "cell_type": "code",
   "execution_count": null,
   "metadata": {},
   "outputs": [],
   "source": []
  }
 ],
 "metadata": {
  "kernelspec": {
   "display_name": "Python 3",
   "language": "python",
   "name": "python3"
  },
  "language_info": {
   "codemirror_mode": {
    "name": "ipython",
    "version": 3
   },
   "file_extension": ".py",
   "mimetype": "text/x-python",
   "name": "python",
   "nbconvert_exporter": "python",
   "pygments_lexer": "ipython3",
   "version": "3.8.5"
  }
 },
 "nbformat": 4,
 "nbformat_minor": 4
}
