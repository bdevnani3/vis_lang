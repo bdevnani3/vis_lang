{
 "cells": [
  {
   "cell_type": "code",
   "execution_count": 29,
   "metadata": {},
   "outputs": [],
   "source": [
    "import importlib\n",
    "\n",
    "import os\n",
    "import clip\n",
    "import torch\n",
    "from torchvision import transforms, models\n",
    "\n",
    "import numpy as np\n",
    "from sklearn.linear_model import LogisticRegression\n",
    "from torch.utils.data import DataLoader\n",
    "from tqdm.notebook import tqdm\n",
    "\n",
    "import argparse\n",
    "from omegaconf import OmegaConf\n",
    "\n",
    "import json\n",
    "\n",
    "device = \"cuda\" if torch.cuda.is_available() else \"cpu\"\n",
    "from sklearn.metrics.pairwise import euclidean_distances, cosine_similarity\n",
    "import seaborn as sn\n",
    "\n",
    "from columnar import columnar\n",
    "from nltk.corpus import wordnet as wn\n",
    "clip_model, clip_preprocess = clip.load(\"ViT-B/32\", )\n",
    "\n",
    "\n",
    "import datasets #import the module here, so that it can be reloaded.\n",
    "importlib.reload(datasets)\n",
    "from datasets import *"
   ]
  },
  {
   "cell_type": "code",
   "execution_count": 48,
   "metadata": {},
   "outputs": [],
   "source": [
    "dataset_obj = SmallFlowers102(4, 1)\n",
    "train_loader, _ = dataset_obj.get_train_loaders(transform_fn=clip_preprocess)\n",
    "test_loader = dataset_obj.get_test_loader(transform_fn=clip_preprocess)"
   ]
  },
  {
   "cell_type": "code",
   "execution_count": 49,
   "metadata": {},
   "outputs": [],
   "source": [
    "def clip_zero_shot(\n",
    "    loader,\n",
    "    classes,\n",
    "    zeroshot_weights,\n",
    "    clip_model_name=\"ViT-B/32\",\n",
    "):\n",
    "\n",
    "    global clip_model, clip_preprocess\n",
    "    device = \"cuda\" if torch.cuda.is_available() else \"cpu\"\n",
    "\n",
    "    def accuracy(output, target, topk=(1,)):\n",
    "        pred = output.topk(max(topk), 1, True, True)[1].t()\n",
    "        correct = pred.eq(target.view(1, -1).expand_as(pred))\n",
    "        return [\n",
    "            float(correct[:k].reshape(-1).float().sum(0, keepdim=True).cpu().numpy())\n",
    "            for k in topk\n",
    "        ]\n",
    "\n",
    "    # lazy load\n",
    "    if clip_model == None:\n",
    "        clip_model, clip_preprocess = clip.load(clip_model_name, device)\n",
    "        \n",
    "    per_class_accuracy_top1 = { k:[0,0, classes[k]] for k in range(len(classes))} # correct, total, class_name\n",
    "    per_class_accuracy_top5 = { k:[0,0, classes[k]] for k in range(len(classes))} \n",
    "\n",
    "    with torch.no_grad():\n",
    "        top1, top5, n = 0.0, 0.0, 0.0\n",
    "        for i , (images, target) in enumerate(tqdm(loader)):\n",
    "            images = images.cuda()\n",
    "            target = target.cuda()\n",
    "\n",
    "            # predict\n",
    "            image_features = clip_model.encode_image(images)\n",
    "            image_features /= image_features.norm(dim=-1, keepdim=True)\n",
    "            logits = 100.0 * image_features @ zeroshot_weights\n",
    "\n",
    "            # measure accuracy\n",
    "            acc1, acc5 = accuracy(logits, target, topk=(1, 5))\n",
    "            top1 += acc1\n",
    "            top5 += acc5\n",
    "            n += images.size(0)\n",
    "            \n",
    "            per_class_accuracy_top1[target.cpu().detach().numpy()[0]][0]+= acc1\n",
    "            per_class_accuracy_top1[target.cpu().detach().numpy()[0]][1]+= 1\n",
    "\n",
    "    top1 = (top1 / n) * 100\n",
    "    top5 = (top5 / n) * 100\n",
    "\n",
    "    return top1, per_class_accuracy_top1\n",
    "\n",
    "def zeroshot_classifier(classnames, templates):\n",
    "    with torch.no_grad():\n",
    "        zeroshot_weights = []\n",
    "        for classname in tqdm(classnames):\n",
    "            texts = [\n",
    "                template.format(classname) for template in templates\n",
    "            ]  # format with class\n",
    "            texts = clip.tokenize(texts).cuda()  # tokenize\n",
    "            class_embeddings = clip_model.encode_text(texts)  # embed with text encoder\n",
    "            class_embeddings /= class_embeddings.norm(dim=-1, keepdim=True)\n",
    "            class_embedding = class_embeddings.mean(dim=0)\n",
    "            class_embedding /= class_embedding.norm()\n",
    "            zeroshot_weights.append(class_embedding)\n",
    "        zeroshot_weights = torch.stack(zeroshot_weights, dim=1).cuda()\n",
    "    return zeroshot_weights"
   ]
  },
  {
   "cell_type": "code",
   "execution_count": 50,
   "metadata": {},
   "outputs": [
    {
     "data": {
      "text/plain": [
       "['Pelargonium',\n",
       " 'Love In The Mist',\n",
       " 'Silverbush',\n",
       " 'Great Masterwort',\n",
       " 'Bolero Deep Blue',\n",
       " 'Hard-Leaved Pocket Orchid',\n",
       " 'Petunia',\n",
       " 'Sword Lily',\n",
       " 'Wallflower',\n",
       " 'Bougainvillea']"
      ]
     },
     "execution_count": 50,
     "metadata": {},
     "output_type": "execute_result"
    }
   ],
   "source": [
    "dataset_obj.classes = [x.replace(\"_\", \" \").title() for x in dataset_obj.classes]\n",
    "dataset_obj.classes"
   ]
  },
  {
   "cell_type": "markdown",
   "metadata": {},
   "source": [
    "### Obtaining Colors without images"
   ]
  },
  {
   "cell_type": "code",
   "execution_count": 51,
   "metadata": {},
   "outputs": [],
   "source": [
    "from sentence_transformers import SentenceTransformer, util\n",
    "model=\"stsb-bert-base\"\n",
    "transformer_model = SentenceTransformer(model)"
   ]
  },
  {
   "cell_type": "code",
   "execution_count": 52,
   "metadata": {},
   "outputs": [
    {
     "name": "stdout",
     "output_type": "stream",
     "text": [
      "0.27399564\n"
     ]
    },
    {
     "data": {
      "text/plain": [
       "<AxesSubplot:>"
      ]
     },
     "execution_count": 52,
     "metadata": {},
     "output_type": "execute_result"
    },
    {
     "data": {
      "image/png": "[encoded data removed]",
      "text/plain": [
       "<Figure size 432x288 with 2 Axes>"
      ]
     },
     "metadata": {
      "needs_background": "light"
     },
     "output_type": "display_data"
    }
   ],
   "source": [
    "class_names_bert = []\n",
    "\n",
    "for c in dataset_obj.classes:\n",
    "    class_names_bert.append(transformer_model.encode(c))\n",
    "\n",
    "matrix = cosine_similarity(np.array(class_names_bert))\n",
    "print(matrix.mean())\n",
    "sn.heatmap(matrix, xticklabels = dataset_obj.classes, yticklabels = dataset_obj.classes)"
   ]
  },
  {
   "cell_type": "code",
   "execution_count": 55,
   "metadata": {},
   "outputs": [],
   "source": [
    "colors = [\"white\", \"green\", \"blue\", \"purple\", \"pink\", \"red\", \"yellow\", \"orange\", \"brown\", \"grey\", \"black\",\"violet\",\"lavender\", \"golden\", \"tan\"]"
   ]
  },
  {
   "cell_type": "code",
   "execution_count": 54,
   "metadata": {},
   "outputs": [
    {
     "data": {
      "text/plain": [
       "{'Pelargonium': ['pink', 'green'],\n",
       " 'Love In The Mist': ['purple', 'pink'],\n",
       " 'Silverbush': ['white', 'yellow'],\n",
       " 'Great Masterwort': ['yellow', 'pink'],\n",
       " 'Bolero Deep Blue': ['grey', 'blue'],\n",
       " 'Hard-Leaved Pocket Orchid': ['green', 'purple'],\n",
       " 'Petunia': ['blue', 'pink'],\n",
       " 'Sword Lily': ['violet', 'purple'],\n",
       " 'Wallflower': ['violet', 'lavender'],\n",
       " 'Bougainvillea': ['blue', 'brown']}"
      ]
     },
     "execution_count": 54,
     "metadata": {},
     "output_type": "execute_result"
    }
   ],
   "source": [
    "bert_emb_colors = {}\n",
    "\n",
    "bert_embs = []\n",
    "for c in dataset_obj.classes:\n",
    "#     bert_embs.append(transformer_model.encode(f\"This is a {c} flower.\"))\n",
    "    bert_embs.append(transformer_model.encode(f\"This is a {c} pet.\"))\n",
    "    \n",
    "color_bert_embs = []\n",
    "for c in colors:\n",
    "#     color_bert_embs.append(transformer_model.encode(f\"This is a {c} color flower.\"))\n",
    "    color_bert_embs.append(transformer_model.encode(f\"This is a {c} color pet.\"))\n",
    "    \n",
    "cosine_scores = util.pytorch_cos_sim(bert_embs, color_bert_embs)\n",
    "#Output the pairs with their score\n",
    "for i in range(len(dataset_obj.classes)):\n",
    "    bert_emb_colors[dataset_obj.classes[i]] = []\n",
    "    for j in range(len(colors)):\n",
    "        bert_emb_colors[dataset_obj.classes[i]].append((colors[j], cosine_scores[i][j]))\n",
    "\n",
    "final_bert_emb_colors = {}\n",
    "for key in bert_emb_colors:\n",
    "    top3 = sorted(bert_emb_colors[key], key=lambda k: k[1])[-2:]\n",
    "    final_bert_emb_colors[key] = [x[0] for x in top3]\n",
    "    \n",
    "final_bert_emb_colors"
   ]
  },
  {
   "cell_type": "code",
   "execution_count": 37,
   "metadata": {},
   "outputs": [
    {
     "data": {
      "application/vnd.jupyter.widget-view+json": {
       "model_id": "056791add072405e9540eaa47df82e18",
       "version_major": 2,
       "version_minor": 0
      },
      "text/plain": [
       "  0%|          | 0/13 [00:00<?, ?it/s]"
      ]
     },
     "metadata": {},
     "output_type": "display_data"
    },
    {
     "data": {
      "application/vnd.jupyter.widget-view+json": {
       "model_id": "d0c1a50f473242b2885ea35ce870aedc",
       "version_major": 2,
       "version_minor": 0
      },
      "text/plain": [
       "  0%|          | 0/37 [00:00<?, ?it/s]"
      ]
     },
     "metadata": {},
     "output_type": "display_data"
    },
    {
     "data": {
      "text/plain": [
       "{'Abyssinian': ['orange', 'brown'],\n",
       " 'Bengal': ['white', 'brown'],\n",
       " 'Birman': ['grey', 'white'],\n",
       " 'Bombay Cat': ['grey', 'black'],\n",
       " 'British Shorthair': ['white', 'grey'],\n",
       " 'Egyptian Mau': ['white', 'grey'],\n",
       " 'Maine Coon': ['black', 'green'],\n",
       " 'Persian': ['grey', 'white'],\n",
       " 'Ragdoll': ['grey', 'white'],\n",
       " 'Russian Blue': ['blue', 'grey'],\n",
       " 'Siamese': ['grey', 'white'],\n",
       " 'Sphynx': ['pink', 'grey'],\n",
       " 'American Bulldog': ['grey', 'white'],\n",
       " 'American Pit Bull Terrier': ['brown', 'white'],\n",
       " 'Basset Hound': ['white', 'brown'],\n",
       " 'Beagle': ['brown', 'green'],\n",
       " 'Boxer': ['red', 'brown'],\n",
       " 'Chihuahua': ['grey', 'white'],\n",
       " 'English Cocker Spaniel': ['brown', 'black'],\n",
       " 'English Setter': ['grey', 'white'],\n",
       " 'German Shorthaired': ['brown', 'grey'],\n",
       " 'Great Pyrenees': ['grey', 'white'],\n",
       " 'Havanese': ['black', 'white'],\n",
       " 'Japanese Chin': ['black', 'white'],\n",
       " 'Keeshond': ['white', 'grey'],\n",
       " 'Leonberger': ['black', 'brown'],\n",
       " 'Miniature Pinscher': ['brown', 'black'],\n",
       " 'Newfoundland': ['white', 'black'],\n",
       " 'Pomeranian': ['black', 'white'],\n",
       " 'Pug': ['grey', 'black'],\n",
       " 'Saint Bernard': ['brown', 'white'],\n",
       " 'Samoyed': ['yellow', 'white'],\n",
       " 'Scottish Terrier': ['green', 'black'],\n",
       " 'Shiba Inu': ['green', 'white'],\n",
       " 'Staffordshire Bull Terrier': ['white', 'black'],\n",
       " 'Wheaten Terrier': ['yellow', 'white'],\n",
       " 'Yorkshire Terrier': ['black', 'brown']}"
      ]
     },
     "execution_count": 37,
     "metadata": {},
     "output_type": "execute_result"
    }
   ],
   "source": [
    "# templates_f = [\"This is a {} flower.\"]\n",
    "# templates_c = [\"This is a {} color flower.\"]\n",
    "\n",
    "templates_f = [\"This is a {} pet.\"]\n",
    "templates_c = [\"This is a {} color pet.\"]\n",
    "\n",
    "clip_emb_colors = {}\n",
    "\n",
    "colors_zw = zeroshot_classifier(colors,templates_f)\n",
    "flowers_zw = zeroshot_classifier(dataset_obj.classes,templates_f)\n",
    "\n",
    "cosine_scores = util.pytorch_cos_sim(colors_zw.T, flowers_zw.T)\n",
    "\n",
    "#Output the pairs with their score\n",
    "for i in range(len(dataset_obj.classes)):\n",
    "    clip_emb_colors[dataset_obj.classes[i]] = []\n",
    "    for j in range(len(colors)):\n",
    "        clip_emb_colors[dataset_obj.classes[i]].append((colors[j], cosine_scores[j][i].cpu().numpy()))\n",
    "        \n",
    "final_clip_emb_colors = {}\n",
    "for key in clip_emb_colors:\n",
    "    top3 = sorted(clip_emb_colors[key], key=lambda k: k[1])[-2:]\n",
    "    final_clip_emb_colors[key] = [x[0] for x in top3]\n",
    "final_clip_emb_colors"
   ]
  },
  {
   "cell_type": "code",
   "execution_count": 38,
   "metadata": {},
   "outputs": [
    {
     "data": {
      "application/vnd.jupyter.widget-view+json": {
       "model_id": "72603334e66c43db83f4821d657566da",
       "version_major": 2,
       "version_minor": 0
      },
      "text/plain": [
       "  0%|          | 0/37 [00:00<?, ?it/s]"
      ]
     },
     "metadata": {},
     "output_type": "display_data"
    },
    {
     "data": {
      "application/vnd.jupyter.widget-view+json": {
       "model_id": "1083db2d73b44a0cbe159997a98941dd",
       "version_major": 2,
       "version_minor": 0
      },
      "text/plain": [
       "  0%|          | 0/1839 [00:00<?, ?it/s]"
      ]
     },
     "metadata": {},
     "output_type": "display_data"
    },
    {
     "name": "stdout",
     "output_type": "stream",
     "text": [
      "83.14301250679718\n"
     ]
    }
   ],
   "source": [
    "templates = [\"a {} {} pet.\"]\n",
    "\n",
    "def zeroshot_classifier(classnames, templates):\n",
    "    with torch.no_grad():\n",
    "        zeroshot_weights = []\n",
    "        for classname in tqdm(classnames):\n",
    "            texts = []\n",
    "            for color in final_bert_emb_colors[classname]:\n",
    "                texts.extend([\n",
    "                    template.format(color, classname) for template in templates\n",
    "                ])  # format with class\n",
    "            texts = clip.tokenize(texts).cuda()  # tokenize\n",
    "            class_embeddings = clip_model.encode_text(texts)  # embed with text encoder\n",
    "            class_embeddings /= class_embeddings.norm(dim=-1, keepdim=True)\n",
    "            class_embedding = class_embeddings.mean(dim=0)\n",
    "            class_embedding /= class_embedding.norm()\n",
    "            zeroshot_weights.append(class_embedding)\n",
    "        zeroshot_weights = torch.stack(zeroshot_weights, dim=1).cuda()\n",
    "    return zeroshot_weights\n",
    "\n",
    "colors_zw = zeroshot_classifier(dataset_obj.classes,templates)\n",
    "\n",
    "colors_czs = clip_zero_shot(\n",
    "    train_loader,\n",
    "    dataset_obj.classes,\n",
    "    colors_zw\n",
    ")\n",
    "print(colors_czs[0])"
   ]
  },
  {
   "cell_type": "code",
   "execution_count": 39,
   "metadata": {},
   "outputs": [
    {
     "data": {
      "application/vnd.jupyter.widget-view+json": {
       "model_id": "87becf6c78264938bcb88526ba04bc4b",
       "version_major": 2,
       "version_minor": 0
      },
      "text/plain": [
       "  0%|          | 0/37 [00:00<?, ?it/s]"
      ]
     },
     "metadata": {},
     "output_type": "display_data"
    },
    {
     "data": {
      "application/vnd.jupyter.widget-view+json": {
       "model_id": "e9f47f4d8f0745078b237ef5279982e4",
       "version_major": 2,
       "version_minor": 0
      },
      "text/plain": [
       "  0%|          | 0/1839 [00:00<?, ?it/s]"
      ]
     },
     "metadata": {},
     "output_type": "display_data"
    },
    {
     "name": "stdout",
     "output_type": "stream",
     "text": [
      "84.28493746601414\n"
     ]
    }
   ],
   "source": [
    "templates = [\"a {} {} pet.\"]\n",
    "\n",
    "def zeroshot_classifier(classnames, templates):\n",
    "    with torch.no_grad():\n",
    "        zeroshot_weights = []\n",
    "        for classname in tqdm(classnames):\n",
    "            texts = []\n",
    "            for color in final_clip_emb_colors[classname]:\n",
    "                texts.extend([\n",
    "                    template.format(color, classname) for template in templates\n",
    "                ])  # format with class\n",
    "            texts = clip.tokenize(texts).cuda()  # tokenize\n",
    "            class_embeddings = clip_model.encode_text(texts)  # embed with text encoder\n",
    "            class_embeddings /= class_embeddings.norm(dim=-1, keepdim=True)\n",
    "            class_embedding = class_embeddings.mean(dim=0)\n",
    "            class_embedding /= class_embedding.norm()\n",
    "            zeroshot_weights.append(class_embedding)\n",
    "        zeroshot_weights = torch.stack(zeroshot_weights, dim=1).cuda()\n",
    "    return zeroshot_weights\n",
    "\n",
    "colors_zw = zeroshot_classifier(dataset_obj.classes,templates)\n",
    "\n",
    "colors_czs = clip_zero_shot(\n",
    "    train_loader,\n",
    "    dataset_obj.classes,\n",
    "    colors_zw\n",
    ")\n",
    "print(colors_czs[0])"
   ]
  },
  {
   "cell_type": "code",
   "execution_count": 24,
   "metadata": {
    "scrolled": true
   },
   "outputs": [
    {
     "data": {
      "application/vnd.jupyter.widget-view+json": {
       "model_id": "f12d8fc1c08748a3b72204a2a44af05d",
       "version_major": 2,
       "version_minor": 0
      },
      "text/plain": [
       "  0%|          | 0/37 [00:00<?, ?it/s]"
      ]
     },
     "metadata": {},
     "output_type": "display_data"
    },
    {
     "ename": "KeyError",
     "evalue": "'Abyssinian'",
     "output_type": "error",
     "traceback": [
      "\u001b[0;31m---------------------------------------------------------------------------\u001b[0m",
      "\u001b[0;31mKeyError\u001b[0m                                  Traceback (most recent call last)",
      "\u001b[0;32m<ipython-input-24-25d96bff9f6e>\u001b[0m in \u001b[0;36m<module>\u001b[0;34m\u001b[0m\n\u001b[1;32m     31\u001b[0m     \u001b[0;32mreturn\u001b[0m \u001b[0mzeroshot_weights\u001b[0m\u001b[0;34m\u001b[0m\u001b[0;34m\u001b[0m\u001b[0m\n\u001b[1;32m     32\u001b[0m \u001b[0;34m\u001b[0m\u001b[0m\n\u001b[0;32m---> 33\u001b[0;31m \u001b[0mcolors_zw\u001b[0m \u001b[0;34m=\u001b[0m \u001b[0mzeroshot_classifier\u001b[0m\u001b[0;34m(\u001b[0m\u001b[0mdataset_obj\u001b[0m\u001b[0;34m.\u001b[0m\u001b[0mclasses\u001b[0m\u001b[0;34m,\u001b[0m\u001b[0mtemplates\u001b[0m\u001b[0;34m)\u001b[0m\u001b[0;34m\u001b[0m\u001b[0;34m\u001b[0m\u001b[0m\n\u001b[0m\u001b[1;32m     34\u001b[0m \u001b[0;34m\u001b[0m\u001b[0m\n\u001b[1;32m     35\u001b[0m colors_czs = clip_zero_shot(\n",
      "\u001b[0;32m<ipython-input-24-25d96bff9f6e>\u001b[0m in \u001b[0;36mzeroshot_classifier\u001b[0;34m(classnames, templates)\u001b[0m\n\u001b[1;32m     18\u001b[0m         \u001b[0;32mfor\u001b[0m \u001b[0mclassname\u001b[0m \u001b[0;32min\u001b[0m \u001b[0mtqdm\u001b[0m\u001b[0;34m(\u001b[0m\u001b[0mclassnames\u001b[0m\u001b[0;34m)\u001b[0m\u001b[0;34m:\u001b[0m\u001b[0;34m\u001b[0m\u001b[0;34m\u001b[0m\u001b[0m\n\u001b[1;32m     19\u001b[0m             \u001b[0mtexts\u001b[0m \u001b[0;34m=\u001b[0m \u001b[0;34m[\u001b[0m\u001b[0;34m]\u001b[0m\u001b[0;34m\u001b[0m\u001b[0;34m\u001b[0m\u001b[0m\n\u001b[0;32m---> 20\u001b[0;31m             \u001b[0;32mfor\u001b[0m \u001b[0mcolor\u001b[0m \u001b[0;32min\u001b[0m \u001b[0mcolors_manual\u001b[0m\u001b[0;34m[\u001b[0m\u001b[0mclassname\u001b[0m\u001b[0;34m]\u001b[0m\u001b[0;34m:\u001b[0m\u001b[0;34m\u001b[0m\u001b[0;34m\u001b[0m\u001b[0m\n\u001b[0m\u001b[1;32m     21\u001b[0m                 texts.extend([\n\u001b[1;32m     22\u001b[0m                     \u001b[0mtemplate\u001b[0m\u001b[0;34m.\u001b[0m\u001b[0mformat\u001b[0m\u001b[0;34m(\u001b[0m\u001b[0mcolor\u001b[0m\u001b[0;34m,\u001b[0m \u001b[0mclassname\u001b[0m\u001b[0;34m)\u001b[0m \u001b[0;32mfor\u001b[0m \u001b[0mtemplate\u001b[0m \u001b[0;32min\u001b[0m \u001b[0mtemplates\u001b[0m\u001b[0;34m\u001b[0m\u001b[0;34m\u001b[0m\u001b[0m\n",
      "\u001b[0;31mKeyError\u001b[0m: 'Abyssinian'"
     ]
    }
   ],
   "source": [
    "colors_manual = {\n",
    "     'pelargonium': [\"violet\", \"lavender\"],\n",
    "     'love in the mist': [\"white\", \"blue\", \"purple\"],\n",
    "     'silverbush': [\"white\", \"yellow\"],\n",
    "     'great masterwort': [\"white\", \"pink\", \"magenta\"],\n",
    "     'bolero deep blue': [\"purple\", \"lavender\", \"violet\"],\n",
    "     'hard-leaved pocket orchid': [\"white\", \"pink\", \"lavender\"],\n",
    "     'petunia': [\"white\", \"red\", \"pink\"],\n",
    "     'sword lily': [\"red\", \"pink\", \"white\"],\n",
    "     'wallflower': [\"red\", \"yellow\", \"orange\"],\n",
    "     'bougainvillea': [\"purple\", \"violet\", \"pink\", \"white\"],}\n",
    "\n",
    "templates = [\"a {} {} flower.\"]\n",
    "\n",
    "def zeroshot_classifier(classnames, templates):\n",
    "    with torch.no_grad():\n",
    "        zeroshot_weights = []\n",
    "        for classname in tqdm(classnames):\n",
    "            texts = []\n",
    "            for color in colors_manual[classname]:\n",
    "                texts.extend([\n",
    "                    template.format(color, classname) for template in templates\n",
    "                ])  # format with class\n",
    "            texts = clip.tokenize(texts).cuda()  # tokenize\n",
    "            class_embeddings = clip_model.encode_text(texts)  # embed with text encoder\n",
    "            class_embeddings /= class_embeddings.norm(dim=-1, keepdim=True)\n",
    "            class_embedding = class_embeddings.mean(dim=0)\n",
    "            class_embedding /= class_embedding.norm()\n",
    "            zeroshot_weights.append(class_embedding)\n",
    "        zeroshot_weights = torch.stack(zeroshot_weights, dim=1).cuda()\n",
    "    return zeroshot_weights\n",
    "\n",
    "colors_zw = zeroshot_classifier(dataset_obj.classes,templates)\n",
    "\n",
    "colors_czs = clip_zero_shot(\n",
    "    train_loader,\n",
    "    dataset_obj.classes,\n",
    "    colors_zw\n",
    ")\n",
    "print(colors_czs[0])"
   ]
  },
  {
   "cell_type": "code",
   "execution_count": 40,
   "metadata": {},
   "outputs": [
    {
     "name": "stderr",
     "output_type": "stream",
     "text": [
      "Some weights of the model checkpoint at bert-base-cased were not used when initializing BertForNextSentencePrediction: ['cls.predictions.bias', 'cls.predictions.transform.dense.weight', 'cls.predictions.transform.dense.bias', 'cls.predictions.decoder.weight', 'cls.predictions.transform.LayerNorm.weight', 'cls.predictions.transform.LayerNorm.bias']\n",
      "- This IS expected if you are initializing BertForNextSentencePrediction from the checkpoint of a model trained on another task or with another architecture (e.g. initializing a BertForSequenceClassification model from a BertForPreTraining model).\n",
      "- This IS NOT expected if you are initializing BertForNextSentencePrediction from the checkpoint of a model that you expect to be exactly identical (initializing a BertForSequenceClassification model from a BertForSequenceClassification model).\n"
     ]
    }
   ],
   "source": [
    "from torch.nn.functional import softmax\n",
    "from transformers import BertForNextSentencePrediction, BertTokenizer\n",
    "\n",
    "# load pretrained model and a pretrained tokenizer\n",
    "model = BertForNextSentencePrediction.from_pretrained('bert-base-cased')\n",
    "tokenizer = BertTokenizer.from_pretrained('bert-base-cased')"
   ]
  },
  {
   "cell_type": "code",
   "execution_count": 41,
   "metadata": {},
   "outputs": [
    {
     "data": {
      "text/plain": [
       "0.9189596"
      ]
     },
     "execution_count": 41,
     "metadata": {},
     "output_type": "execute_result"
    }
   ],
   "source": [
    "def get_nsp(seq_A, seq_B):\n",
    "\n",
    "    # encode the two sequences. Particularly, make clear that they must be \n",
    "    # encoded as \"one\" input to the model by using 'seq_B' as the 'text_pair'\n",
    "    encoded = tokenizer.encode_plus(seq_A, text_pair=seq_B, return_tensors='pt')\n",
    "#     print(encoded)\n",
    "    # {'input_ids': tensor([[  101,   146,  1176, 18621,   106,   102,  2091,  1128,  1176,  1172, 136,   102]]),\n",
    "    #  'token_type_ids': tensor([[0, 0, 0, 0, 0, 0, 1, 1, 1, 1, 1, 1]]),\n",
    "    #  'attention_mask': tensor([[1, 1, 1, 1, 1, 1, 1, 1, 1, 1, 1, 1]])}\n",
    "    # NOTE how the token_type_ids are 0 for all tokens in seq_A and 1 for seq_B, \n",
    "    # this way the model knows which token belongs to which sequence\n",
    "\n",
    "    # a model's output is a tuple, we only need the output tensor containing\n",
    "    # the relationships which is the first item in the tuple\n",
    "    seq_relationship_logits = model(**encoded)[0]\n",
    "\n",
    "    # we still need softmax to convert the logits into probabilities\n",
    "    # index 0: sequence B is a continuation of sequence A\n",
    "    # index 1: sequence B is a random sequence\n",
    "    probs = softmax(seq_relationship_logits, dim=1)\n",
    "\n",
    "#     print(seq_relationship_logits)\n",
    "    return probs[0].detach().cpu().numpy()[0]\n",
    "    # tensor([[9.9993e-01, 6.7607e-05]], grad_fn=<SoftmaxBackward>)\n",
    "    # very high value for index 0: high probability of seq_B being a continuation of seq_A\n",
    "    \n",
    "seq_A = 'What color is a Silverbush flower?'\n",
    "seq_B = 'red.'\n",
    "\n",
    "get_nsp(seq_A, seq_B)"
   ]
  },
  {
   "cell_type": "code",
   "execution_count": 45,
   "metadata": {},
   "outputs": [
    {
     "data": {
      "text/plain": [
       "{'Abyssinian': ['black', 'white'],\n",
       " 'Bengal': ['white', 'lavender'],\n",
       " 'Birman': ['blue', 'white'],\n",
       " 'Bombay Cat': ['white', 'lavender'],\n",
       " 'British Shorthair': ['pink', 'white'],\n",
       " 'Egyptian Mau': ['black', 'white'],\n",
       " 'Maine Coon': ['lavender', 'white'],\n",
       " 'Persian': ['pink', 'lavender'],\n",
       " 'Ragdoll': ['lavender', 'blue'],\n",
       " 'Russian Blue': ['lavender', 'blue'],\n",
       " 'Siamese': ['white', 'lavender'],\n",
       " 'Sphynx': ['white', 'lavender'],\n",
       " 'American Bulldog': ['black', 'white'],\n",
       " 'American Pit Bull Terrier': ['black', 'white'],\n",
       " 'Basset Hound': ['pink', 'white'],\n",
       " 'Beagle': ['pink', 'white'],\n",
       " 'Boxer': ['pink', 'white'],\n",
       " 'Chihuahua': ['white', 'lavender'],\n",
       " 'English Cocker Spaniel': ['lavender', 'white'],\n",
       " 'English Setter': ['white', 'pink'],\n",
       " 'German Shorthaired': ['lavender', 'white'],\n",
       " 'Great Pyrenees': ['lavender', 'white'],\n",
       " 'Havanese': ['violet', 'lavender'],\n",
       " 'Japanese Chin': ['lavender', 'pink'],\n",
       " 'Keeshond': ['white', 'pink'],\n",
       " 'Leonberger': ['pink', 'lavender'],\n",
       " 'Miniature Pinscher': ['pink', 'white'],\n",
       " 'Newfoundland': ['white', 'lavender'],\n",
       " 'Pomeranian': ['pink', 'white'],\n",
       " 'Pug': ['black', 'white'],\n",
       " 'Saint Bernard': ['pink', 'lavender'],\n",
       " 'Samoyed': ['pink', 'lavender'],\n",
       " 'Scottish Terrier': ['black', 'white'],\n",
       " 'Shiba Inu': ['white', 'pink'],\n",
       " 'Staffordshire Bull Terrier': ['black', 'white'],\n",
       " 'Wheaten Terrier': ['black', 'white'],\n",
       " 'Yorkshire Terrier': ['black', 'white']}"
      ]
     },
     "execution_count": 45,
     "metadata": {},
     "output_type": "execute_result"
    }
   ],
   "source": [
    "nsp_colors = {}\n",
    "\n",
    "for i in range(len(dataset_obj.classes)):\n",
    "    nsp_colors[dataset_obj.classes[i]] = []\n",
    "    for j in range(len(colors)):\n",
    "        prob = get_nsp(f\"What color is a {dataset_obj.classes[i]} pet?\", f\"{colors[j]}.\")\n",
    "        nsp_colors[dataset_obj.classes[i]].append((colors[j], prob))\n",
    "        \n",
    "final_nsp_colors = {}\n",
    "for key in nsp_colors:\n",
    "    top3 = sorted(nsp_colors[key], key=lambda k: k[1])[-2:]\n",
    "    final_nsp_colors[key] = [x[0] for x in top3]\n",
    "final_nsp_colors"
   ]
  },
  {
   "cell_type": "code",
   "execution_count": 46,
   "metadata": {},
   "outputs": [
    {
     "data": {
      "application/vnd.jupyter.widget-view+json": {
       "model_id": "57216e6788194710b283ffe2387cf642",
       "version_major": 2,
       "version_minor": 0
      },
      "text/plain": [
       "  0%|          | 0/37 [00:00<?, ?it/s]"
      ]
     },
     "metadata": {},
     "output_type": "display_data"
    },
    {
     "data": {
      "application/vnd.jupyter.widget-view+json": {
       "model_id": "025818c784904256be8e421b383cb44f",
       "version_major": 2,
       "version_minor": 0
      },
      "text/plain": [
       "  0%|          | 0/1839 [00:00<?, ?it/s]"
      ]
     },
     "metadata": {},
     "output_type": "display_data"
    },
    {
     "name": "stdout",
     "output_type": "stream",
     "text": [
      "85.80750407830342\n"
     ]
    }
   ],
   "source": [
    "templates = [\"a {} pet.\"]\n",
    "\n",
    "def zeroshot_classifier(classnames, templates):\n",
    "    with torch.no_grad():\n",
    "        zeroshot_weights = []\n",
    "        for classname in tqdm(classnames):\n",
    "            texts = []\n",
    "            texts.extend([\n",
    "                template.format(classname) for template in templates\n",
    "            ])  # format with class\n",
    "            texts = clip.tokenize(texts).cuda()  # tokenize\n",
    "            class_embeddings = clip_model.encode_text(texts)  # embed with text encoder\n",
    "            class_embeddings /= class_embeddings.norm(dim=-1, keepdim=True)\n",
    "            class_embedding = class_embeddings.mean(dim=0)\n",
    "            class_embedding /= class_embedding.norm()\n",
    "            zeroshot_weights.append(class_embedding)\n",
    "        zeroshot_weights = torch.stack(zeroshot_weights, dim=1).cuda()\n",
    "    return zeroshot_weights\n",
    "\n",
    "colors_zw = zeroshot_classifier(dataset_obj.classes,templates)\n",
    "\n",
    "colors_czs = clip_zero_shot(\n",
    "    train_loader,\n",
    "    dataset_obj.classes,\n",
    "    colors_zw\n",
    ")\n",
    "print(colors_czs[0])"
   ]
  },
  {
   "cell_type": "code",
   "execution_count": 47,
   "metadata": {},
   "outputs": [
    {
     "data": {
      "application/vnd.jupyter.widget-view+json": {
       "model_id": "550b6863d2c74afdb3ee1d437b2f3860",
       "version_major": 2,
       "version_minor": 0
      },
      "text/plain": [
       "  0%|          | 0/37 [00:00<?, ?it/s]"
      ]
     },
     "metadata": {},
     "output_type": "display_data"
    },
    {
     "data": {
      "application/vnd.jupyter.widget-view+json": {
       "model_id": "b2244c19ec3a46fc81ef7f0678f3e4ce",
       "version_major": 2,
       "version_minor": 0
      },
      "text/plain": [
       "  0%|          | 0/1839 [00:00<?, ?it/s]"
      ]
     },
     "metadata": {},
     "output_type": "display_data"
    },
    {
     "name": "stdout",
     "output_type": "stream",
     "text": [
      "80.4241435562806\n"
     ]
    }
   ],
   "source": [
    "templates = [\"a {} {} pet.\"]\n",
    "\n",
    "def zeroshot_classifier(classnames, templates):\n",
    "    with torch.no_grad():\n",
    "        zeroshot_weights = []\n",
    "        for classname in tqdm(classnames):\n",
    "            texts = []\n",
    "            for color in final_nsp_colors[classname]:\n",
    "                texts.extend([\n",
    "                    template.format(color, classname) for template in templates\n",
    "                ])  # format with class\n",
    "            texts = clip.tokenize(texts).cuda()  # tokenize\n",
    "            class_embeddings = clip_model.encode_text(texts)  # embed with text encoder\n",
    "            class_embeddings /= class_embeddings.norm(dim=-1, keepdim=True)\n",
    "            class_embedding = class_embeddings.mean(dim=0)\n",
    "            class_embedding /= class_embedding.norm()\n",
    "            zeroshot_weights.append(class_embedding)\n",
    "        zeroshot_weights = torch.stack(zeroshot_weights, dim=1).cuda()\n",
    "    return zeroshot_weights\n",
    "\n",
    "colors_zw = zeroshot_classifier(dataset_obj.classes,templates)\n",
    "\n",
    "colors_czs = clip_zero_shot(\n",
    "    train_loader,\n",
    "    dataset_obj.classes,\n",
    "    colors_zw\n",
    ")\n",
    "print(colors_czs[0])"
   ]
  },
  {
   "cell_type": "code",
   "execution_count": 275,
   "metadata": {},
   "outputs": [
    {
     "name": "stderr",
     "output_type": "stream",
     "text": [
      "Some weights of the model checkpoint at bert-base-uncased were not used when initializing BertForMaskedLM: ['cls.seq_relationship.weight', 'cls.seq_relationship.bias']\n",
      "- This IS expected if you are initializing BertForMaskedLM from the checkpoint of a model trained on another task or with another architecture (e.g. initializing a BertForSequenceClassification model from a BertForPreTraining model).\n",
      "- This IS NOT expected if you are initializing BertForMaskedLM from the checkpoint of a model that you expect to be exactly identical (initializing a BertForSequenceClassification model from a BertForSequenceClassification model).\n"
     ]
    },
    {
     "name": "stdout",
     "output_type": "stream",
     "text": [
      "What color is a lotus? no color.\n",
      "What color is a lotus? the color.\n",
      "What color is a lotus? a color.\n",
      "What color is a lotus? its color.\n",
      "What color is a lotus? what color.\n",
      "What color is a lotus? your color.\n",
      "What color is a lotus? lotus color.\n",
      "What color is a lotus? one color.\n",
      "What color is a lotus? wrong color.\n",
      "What color is a lotus? blue color.\n"
     ]
    }
   ],
   "source": [
    "from transformers import BertTokenizer, BertForMaskedLM\n",
    "from torch.nn import functional as F\n",
    "import torch\n",
    "\n",
    "tokenizer = BertTokenizer.from_pretrained('bert-base-uncased')\n",
    "model = BertForMaskedLM.from_pretrained('bert-base-uncased',    return_dict = True)\n",
    "text = \"What color is a lotus? \" + tokenizer.mask_token + \" color.\"\n",
    "\n",
    "input = tokenizer.encode_plus(text, return_tensors = \"pt\")\n",
    "mask_index = torch.where(input[\"input_ids\"][0] == tokenizer.mask_token_id)\n",
    "\n",
    "output = model(**input)\n",
    "logits = output.logits\n",
    "softmax = F.softmax(logits, dim = -1)\n",
    "mask_word = softmax[0, mask_index, :]\n",
    "top_10 = torch.topk(mask_word, 10, dim = 1)[1][0]\n",
    "for token in top_10:\n",
    "    word = tokenizer.decode([token])\n",
    "    new_sentence = text.replace(tokenizer.mask_token, word)\n",
    "    print(new_sentence)"
   ]
  },
  {
   "cell_type": "code",
   "execution_count": 57,
   "metadata": {},
   "outputs": [
    {
     "name": "stderr",
     "output_type": "stream",
     "text": [
      "Some weights of the model checkpoint at bert-base-uncased were not used when initializing BertForMaskedLM: ['cls.seq_relationship.weight', 'cls.seq_relationship.bias']\n",
      "- This IS expected if you are initializing BertForMaskedLM from the checkpoint of a model trained on another task or with another architecture (e.g. initializing a BertForSequenceClassification model from a BertForPreTraining model).\n",
      "- This IS NOT expected if you are initializing BertForMaskedLM from the checkpoint of a model that you expect to be exactly identical (initializing a BertForSequenceClassification model from a BertForSequenceClassification model).\n"
     ]
    },
    {
     "name": "stdout",
     "output_type": "stream",
     "text": [
      "A native Abyssinian.\n",
      "A white Abyssinian.\n",
      "A black Abyssinian.\n",
      "A female Abyssinian.\n",
      "A fellow Abyssinian.\n",
      "A caucasian Abyssinian.\n",
      "A young Abyssinian.\n",
      "A southern Abyssinian.\n",
      "A male Abyssinian.\n",
      "A northern Abyssinian.\n"
     ]
    }
   ],
   "source": [
    "from transformers import BertTokenizer, BertForMaskedLM\n",
    "from torch.nn import functional as F\n",
    "import torch\n",
    "\n",
    "tokenizer = BertTokenizer.from_pretrained('bert-base-uncased')\n",
    "model = BertForMaskedLM.from_pretrained('bert-base-uncased',    return_dict = True)\n",
    "text = \"A \" + tokenizer.mask_token + \" Abyssinian.\"\n",
    "\n",
    "input = tokenizer.encode_plus(text, return_tensors = \"pt\")\n",
    "mask_index = torch.where(input[\"input_ids\"][0] == tokenizer.mask_token_id)\n",
    "\n",
    "output = model(**input)\n",
    "logits = output.logits\n",
    "softmax = F.softmax(logits, dim = -1)\n",
    "mask_word = softmax[0, mask_index, :]\n",
    "top_10 = torch.topk(mask_word, 10, dim = 1)[1][0]\n",
    "for token in top_10:\n",
    "    word = tokenizer.decode([token])\n",
    "    new_sentence = text.replace(tokenizer.mask_token, word)\n",
    "    print(new_sentence)"
   ]
  },
  {
   "cell_type": "code",
   "execution_count": null,
   "metadata": {},
   "outputs": [],
   "source": []
  }
 ],
 "metadata": {
  "kernelspec": {
   "display_name": "Python 3",
   "language": "python",
   "name": "python3"
  },
  "language_info": {
   "codemirror_mode": {
    "name": "ipython",
    "version": 3
   },
   "file_extension": ".py",
   "mimetype": "text/x-python",
   "name": "python",
   "nbconvert_exporter": "python",
   "pygments_lexer": "ipython3",
   "version": "3.8.5"
  }
 },
 "nbformat": 4,
 "nbformat_minor": 2
}
