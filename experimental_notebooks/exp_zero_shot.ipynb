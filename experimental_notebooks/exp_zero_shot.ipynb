{
 "metadata": {
  "language_info": {
   "codemirror_mode": {
    "name": "ipython",
    "version": 3
   },
   "file_extension": ".py",
   "mimetype": "text/x-python",
   "name": "python",
   "nbconvert_exporter": "python",
   "pygments_lexer": "ipython3",
   "version": "3.7.4-final"
  },
  "orig_nbformat": 2,
  "kernelspec": {
   "name": "python3",
   "display_name": "Python 3",
   "language": "python"
  }
 },
 "nbformat": 4,
 "nbformat_minor": 2,
 "cells": [
  {
   "cell_type": "code",
   "execution_count": 1,
   "metadata": {},
   "outputs": [
    {
     "output_type": "stream",
     "name": "stdout",
     "text": [
      "d:\\Projects\\vislang\\vis_lang\n"
     ]
    }
   ],
   "source": [
    "%cd .."
   ]
  },
  {
   "cell_type": "code",
   "execution_count": 3,
   "metadata": {},
   "outputs": [],
   "source": [
    "from cifar10_emb import Cifar10Emb\n",
    "import torch\n",
    "import matplotlib.pyplot as plt"
   ]
  },
  {
   "cell_type": "code",
   "execution_count": 4,
   "metadata": {},
   "outputs": [
    {
     "output_type": "stream",
     "name": "stdout",
     "text": [
      "Files already downloaded and verified\n",
      "Files already downloaded and verified\n"
     ]
    }
   ],
   "source": [
    "variant = Cifar10Emb(root_path='.')\n",
    "\n",
    "variant.dataloader_args['batch_size'] = 32\n",
    "\n",
    "variant.init_datasets()\n",
    "variant.init_dataloaders()\n",
    "variant.set_up_model_architecture(300)"
   ]
  },
  {
   "cell_type": "code",
   "execution_count": 5,
   "metadata": {},
   "outputs": [],
   "source": [
    "variant.init_word_lookup()"
   ]
  },
  {
   "cell_type": "code",
   "execution_count": 16,
   "metadata": {},
   "outputs": [
    {
     "output_type": "execute_result",
     "data": {
      "text/plain": [
       "<All keys matched successfully>"
      ]
     },
     "metadata": {},
     "execution_count": 16
    }
   ],
   "source": [
    "state = torch.load('./vis_lang/cifar10_emb_nocat_fuzzy/models/best_acc.pth')\n",
    "variant.model.load_state_dict(state['net'])"
   ]
  },
  {
   "cell_type": "code",
   "execution_count": 17,
   "metadata": {},
   "outputs": [
    {
     "output_type": "execute_result",
     "data": {
      "text/plain": [
       "[92.8, 93.0, 84.9, 0.0, 87.3, 85.9, 95.4, 90.9, 93.4, 89.4]"
      ]
     },
     "metadata": {},
     "execution_count": 17
    }
   ],
   "source": [
    "variant.eval_acc()"
   ]
  },
  {
   "cell_type": "code",
   "execution_count": 39,
   "metadata": {},
   "outputs": [],
   "source": [
    "cats = []\n",
    "for inputs_batch, labels_batch in variant.test_loader:\n",
    "    for img, label in zip(inputs_batch, labels_batch):\n",
    "        if variant.class_names[label] == 'cat':\n",
    "            cats.append(img)\n",
    "            if len(cats) > 100:\n",
    "                break\n",
    "        if len(cats) > 100:\n",
    "            break\n"
   ]
  },
  {
   "cell_type": "code",
   "execution_count": 44,
   "metadata": {},
   "outputs": [
    {
     "output_type": "stream",
     "name": "stderr",
     "text": [
      "Clipping input data to the valid range for imshow with RGB data ([0..1] for floats or [0..255] for integers).\n"
     ]
    },
    {
     "output_type": "execute_result",
     "data": {
      "text/plain": [
       "<matplotlib.image.AxesImage at 0x1e29ac63f48>"
      ]
     },
     "metadata": {},
     "execution_count": 44
    },
    {
     "output_type": "display_data",
     "data": {
      "text/plain": "<Figure size 432x288 with 1 Axes>",
      "image/svg+xml": "<?xml version=\"1.0\" encoding=\"utf-8\" standalone=\"no\"?>\r\n<!DOCTYPE svg PUBLIC \"-//W3C//DTD SVG 1.1//EN\"\r\n  \"http://www.w3.org/Graphics/SVG/1.1/DTD/svg11.dtd\">\r\n<!-- Created with matplotlib (https://matplotlib.org/) -->\r\n<svg height=\"248.919844pt\" version=\"1.1\" viewBox=\"0 0 251.565 248.919844\" width=\"251.565pt\" xmlns=\"http://www.w3.org/2000/svg\" xmlns:xlink=\"http://www.w3.org/1999/xlink\">\r\n <defs>\r\n  <style type=\"text/css\">\r\n*{stroke-linecap:butt;stroke-linejoin:round;}\r\n  </style>\r\n </defs>\r\n <g id=\"figure_1\">\r\n  <g id=\"patch_1\">\r\n   <path d=\"M 0 248.919844 \r\nL 251.565 248.919844 \r\nL 251.565 0 \r\nL 0 0 \r\nz\r\n\" style=\"fill:none;\"/>\r\n  </g>\r\n  <g id=\"axes_1\">\r\n   <g id=\"patch_2\">\r\n    <path d=\"M 26.925 225.041719 \r\nL 244.365 225.041719 \r\nL 244.365 7.601719 \r\nL 26.925 7.601719 \r\nz\r\n\" style=\"fill:#ffffff;\"/>\r\n   </g>\r\n   <g clip-path=\"url(#pb0210be1f3)\">\r\n    <image height=\"218\" id=\"image739dbbbd4a\" transform=\"scale(1 -1)translate(0 -218)\" width=\"218\" x=\"26.925\" xlink:href=\"data:image/png;base64,\r\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\" y=\"-7.041719\"/>\r\n   </g>\r\n   <g id=\"matplotlib.axis_1\">\r\n    <g id=\"xtick_1\">\r\n     <g id=\"line2d_1\">\r\n      <defs>\r\n       <path d=\"M 0 0 \r\nL 0 3.5 \r\n\" id=\"m954ca9a038\" style=\"stroke:#000000;stroke-width:0.8;\"/>\r\n      </defs>\r\n      <g>\r\n       <use style=\"stroke:#000000;stroke-width:0.8;\" x=\"30.3225\" xlink:href=\"#m954ca9a038\" y=\"225.041719\"/>\r\n      </g>\r\n     </g>\r\n     <g id=\"text_1\">\r\n      <!-- 0 -->\r\n      <defs>\r\n       <path d=\"M 31.78125 66.40625 \r\nQ 24.171875 66.40625 20.328125 58.90625 \r\nQ 16.5 51.421875 16.5 36.375 \r\nQ 16.5 21.390625 20.328125 13.890625 \r\nQ 24.171875 6.390625 31.78125 6.390625 \r\nQ 39.453125 6.390625 43.28125 13.890625 \r\nQ 47.125 21.390625 47.125 36.375 \r\nQ 47.125 51.421875 43.28125 58.90625 \r\nQ 39.453125 66.40625 31.78125 66.40625 \r\nz\r\nM 31.78125 74.21875 \r\nQ 44.046875 74.21875 50.515625 64.515625 \r\nQ 56.984375 54.828125 56.984375 36.375 \r\nQ 56.984375 17.96875 50.515625 8.265625 \r\nQ 44.046875 -1.421875 31.78125 -1.421875 \r\nQ 19.53125 -1.421875 13.0625 8.265625 \r\nQ 6.59375 17.96875 6.59375 36.375 \r\nQ 6.59375 54.828125 13.0625 64.515625 \r\nQ 19.53125 74.21875 31.78125 74.21875 \r\nz\r\n\" id=\"DejaVuSans-48\"/>\r\n      </defs>\r\n      <g transform=\"translate(27.14125 239.640156)scale(0.1 -0.1)\">\r\n       <use xlink:href=\"#DejaVuSans-48\"/>\r\n      </g>\r\n     </g>\r\n    </g>\r\n    <g id=\"xtick_2\">\r\n     <g id=\"line2d_2\">\r\n      <g>\r\n       <use style=\"stroke:#000000;stroke-width:0.8;\" x=\"64.2975\" xlink:href=\"#m954ca9a038\" y=\"225.041719\"/>\r\n      </g>\r\n     </g>\r\n     <g id=\"text_2\">\r\n      <!-- 5 -->\r\n      <defs>\r\n       <path d=\"M 10.796875 72.90625 \r\nL 49.515625 72.90625 \r\nL 49.515625 64.59375 \r\nL 19.828125 64.59375 \r\nL 19.828125 46.734375 \r\nQ 21.96875 47.46875 24.109375 47.828125 \r\nQ 26.265625 48.1875 28.421875 48.1875 \r\nQ 40.625 48.1875 47.75 41.5 \r\nQ 54.890625 34.8125 54.890625 23.390625 \r\nQ 54.890625 11.625 47.5625 5.09375 \r\nQ 40.234375 -1.421875 26.90625 -1.421875 \r\nQ 22.3125 -1.421875 17.546875 -0.640625 \r\nQ 12.796875 0.140625 7.71875 1.703125 \r\nL 7.71875 11.625 \r\nQ 12.109375 9.234375 16.796875 8.0625 \r\nQ 21.484375 6.890625 26.703125 6.890625 \r\nQ 35.15625 6.890625 40.078125 11.328125 \r\nQ 45.015625 15.765625 45.015625 23.390625 \r\nQ 45.015625 31 40.078125 35.4375 \r\nQ 35.15625 39.890625 26.703125 39.890625 \r\nQ 22.75 39.890625 18.8125 39.015625 \r\nQ 14.890625 38.140625 10.796875 36.28125 \r\nz\r\n\" id=\"DejaVuSans-53\"/>\r\n      </defs>\r\n      <g transform=\"translate(61.11625 239.640156)scale(0.1 -0.1)\">\r\n       <use xlink:href=\"#DejaVuSans-53\"/>\r\n      </g>\r\n     </g>\r\n    </g>\r\n    <g id=\"xtick_3\">\r\n     <g id=\"line2d_3\">\r\n      <g>\r\n       <use style=\"stroke:#000000;stroke-width:0.8;\" x=\"98.2725\" xlink:href=\"#m954ca9a038\" y=\"225.041719\"/>\r\n      </g>\r\n     </g>\r\n     <g id=\"text_3\">\r\n      <!-- 10 -->\r\n      <defs>\r\n       <path d=\"M 12.40625 8.296875 \r\nL 28.515625 8.296875 \r\nL 28.515625 63.921875 \r\nL 10.984375 60.40625 \r\nL 10.984375 69.390625 \r\nL 28.421875 72.90625 \r\nL 38.28125 72.90625 \r\nL 38.28125 8.296875 \r\nL 54.390625 8.296875 \r\nL 54.390625 0 \r\nL 12.40625 0 \r\nz\r\n\" id=\"DejaVuSans-49\"/>\r\n      </defs>\r\n      <g transform=\"translate(91.91 239.640156)scale(0.1 -0.1)\">\r\n       <use xlink:href=\"#DejaVuSans-49\"/>\r\n       <use x=\"63.623047\" xlink:href=\"#DejaVuSans-48\"/>\r\n      </g>\r\n     </g>\r\n    </g>\r\n    <g id=\"xtick_4\">\r\n     <g id=\"line2d_4\">\r\n      <g>\r\n       <use style=\"stroke:#000000;stroke-width:0.8;\" x=\"132.2475\" xlink:href=\"#m954ca9a038\" y=\"225.041719\"/>\r\n      </g>\r\n     </g>\r\n     <g id=\"text_4\">\r\n      <!-- 15 -->\r\n      <g transform=\"translate(125.885 239.640156)scale(0.1 -0.1)\">\r\n       <use xlink:href=\"#DejaVuSans-49\"/>\r\n       <use x=\"63.623047\" xlink:href=\"#DejaVuSans-53\"/>\r\n      </g>\r\n     </g>\r\n    </g>\r\n    <g id=\"xtick_5\">\r\n     <g id=\"line2d_5\">\r\n      <g>\r\n       <use style=\"stroke:#000000;stroke-width:0.8;\" x=\"166.2225\" xlink:href=\"#m954ca9a038\" y=\"225.041719\"/>\r\n      </g>\r\n     </g>\r\n     <g id=\"text_5\">\r\n      <!-- 20 -->\r\n      <defs>\r\n       <path d=\"M 19.1875 8.296875 \r\nL 53.609375 8.296875 \r\nL 53.609375 0 \r\nL 7.328125 0 \r\nL 7.328125 8.296875 \r\nQ 12.9375 14.109375 22.625 23.890625 \r\nQ 32.328125 33.6875 34.8125 36.53125 \r\nQ 39.546875 41.84375 41.421875 45.53125 \r\nQ 43.3125 49.21875 43.3125 52.78125 \r\nQ 43.3125 58.59375 39.234375 62.25 \r\nQ 35.15625 65.921875 28.609375 65.921875 \r\nQ 23.96875 65.921875 18.8125 64.3125 \r\nQ 13.671875 62.703125 7.8125 59.421875 \r\nL 7.8125 69.390625 \r\nQ 13.765625 71.78125 18.9375 73 \r\nQ 24.125 74.21875 28.421875 74.21875 \r\nQ 39.75 74.21875 46.484375 68.546875 \r\nQ 53.21875 62.890625 53.21875 53.421875 \r\nQ 53.21875 48.921875 51.53125 44.890625 \r\nQ 49.859375 40.875 45.40625 35.40625 \r\nQ 44.1875 33.984375 37.640625 27.21875 \r\nQ 31.109375 20.453125 19.1875 8.296875 \r\nz\r\n\" id=\"DejaVuSans-50\"/>\r\n      </defs>\r\n      <g transform=\"translate(159.86 239.640156)scale(0.1 -0.1)\">\r\n       <use xlink:href=\"#DejaVuSans-50\"/>\r\n       <use x=\"63.623047\" xlink:href=\"#DejaVuSans-48\"/>\r\n      </g>\r\n     </g>\r\n    </g>\r\n    <g id=\"xtick_6\">\r\n     <g id=\"line2d_6\">\r\n      <g>\r\n       <use style=\"stroke:#000000;stroke-width:0.8;\" x=\"200.1975\" xlink:href=\"#m954ca9a038\" y=\"225.041719\"/>\r\n      </g>\r\n     </g>\r\n     <g id=\"text_6\">\r\n      <!-- 25 -->\r\n      <g transform=\"translate(193.835 239.640156)scale(0.1 -0.1)\">\r\n       <use xlink:href=\"#DejaVuSans-50\"/>\r\n       <use x=\"63.623047\" xlink:href=\"#DejaVuSans-53\"/>\r\n      </g>\r\n     </g>\r\n    </g>\r\n    <g id=\"xtick_7\">\r\n     <g id=\"line2d_7\">\r\n      <g>\r\n       <use style=\"stroke:#000000;stroke-width:0.8;\" x=\"234.1725\" xlink:href=\"#m954ca9a038\" y=\"225.041719\"/>\r\n      </g>\r\n     </g>\r\n     <g id=\"text_7\">\r\n      <!-- 30 -->\r\n      <defs>\r\n       <path d=\"M 40.578125 39.3125 \r\nQ 47.65625 37.796875 51.625 33 \r\nQ 55.609375 28.21875 55.609375 21.1875 \r\nQ 55.609375 10.40625 48.1875 4.484375 \r\nQ 40.765625 -1.421875 27.09375 -1.421875 \r\nQ 22.515625 -1.421875 17.65625 -0.515625 \r\nQ 12.796875 0.390625 7.625 2.203125 \r\nL 7.625 11.71875 \r\nQ 11.71875 9.328125 16.59375 8.109375 \r\nQ 21.484375 6.890625 26.8125 6.890625 \r\nQ 36.078125 6.890625 40.9375 10.546875 \r\nQ 45.796875 14.203125 45.796875 21.1875 \r\nQ 45.796875 27.640625 41.28125 31.265625 \r\nQ 36.765625 34.90625 28.71875 34.90625 \r\nL 20.21875 34.90625 \r\nL 20.21875 43.015625 \r\nL 29.109375 43.015625 \r\nQ 36.375 43.015625 40.234375 45.921875 \r\nQ 44.09375 48.828125 44.09375 54.296875 \r\nQ 44.09375 59.90625 40.109375 62.90625 \r\nQ 36.140625 65.921875 28.71875 65.921875 \r\nQ 24.65625 65.921875 20.015625 65.03125 \r\nQ 15.375 64.15625 9.8125 62.3125 \r\nL 9.8125 71.09375 \r\nQ 15.4375 72.65625 20.34375 73.4375 \r\nQ 25.25 74.21875 29.59375 74.21875 \r\nQ 40.828125 74.21875 47.359375 69.109375 \r\nQ 53.90625 64.015625 53.90625 55.328125 \r\nQ 53.90625 49.265625 50.4375 45.09375 \r\nQ 46.96875 40.921875 40.578125 39.3125 \r\nz\r\n\" id=\"DejaVuSans-51\"/>\r\n      </defs>\r\n      <g transform=\"translate(227.81 239.640156)scale(0.1 -0.1)\">\r\n       <use xlink:href=\"#DejaVuSans-51\"/>\r\n       <use x=\"63.623047\" xlink:href=\"#DejaVuSans-48\"/>\r\n      </g>\r\n     </g>\r\n    </g>\r\n   </g>\r\n   <g id=\"matplotlib.axis_2\">\r\n    <g id=\"ytick_1\">\r\n     <g id=\"line2d_8\">\r\n      <defs>\r\n       <path d=\"M 0 0 \r\nL -3.5 0 \r\n\" id=\"m1bc92f54c1\" style=\"stroke:#000000;stroke-width:0.8;\"/>\r\n      </defs>\r\n      <g>\r\n       <use style=\"stroke:#000000;stroke-width:0.8;\" x=\"26.925\" xlink:href=\"#m1bc92f54c1\" y=\"10.999219\"/>\r\n      </g>\r\n     </g>\r\n     <g id=\"text_8\">\r\n      <!-- 0 -->\r\n      <g transform=\"translate(13.5625 14.798437)scale(0.1 -0.1)\">\r\n       <use xlink:href=\"#DejaVuSans-48\"/>\r\n      </g>\r\n     </g>\r\n    </g>\r\n    <g id=\"ytick_2\">\r\n     <g id=\"line2d_9\">\r\n      <g>\r\n       <use style=\"stroke:#000000;stroke-width:0.8;\" x=\"26.925\" xlink:href=\"#m1bc92f54c1\" y=\"44.974219\"/>\r\n      </g>\r\n     </g>\r\n     <g id=\"text_9\">\r\n      <!-- 5 -->\r\n      <g transform=\"translate(13.5625 48.773437)scale(0.1 -0.1)\">\r\n       <use xlink:href=\"#DejaVuSans-53\"/>\r\n      </g>\r\n     </g>\r\n    </g>\r\n    <g id=\"ytick_3\">\r\n     <g id=\"line2d_10\">\r\n      <g>\r\n       <use style=\"stroke:#000000;stroke-width:0.8;\" x=\"26.925\" xlink:href=\"#m1bc92f54c1\" y=\"78.949219\"/>\r\n      </g>\r\n     </g>\r\n     <g id=\"text_10\">\r\n      <!-- 10 -->\r\n      <g transform=\"translate(7.2 82.748437)scale(0.1 -0.1)\">\r\n       <use xlink:href=\"#DejaVuSans-49\"/>\r\n       <use x=\"63.623047\" xlink:href=\"#DejaVuSans-48\"/>\r\n      </g>\r\n     </g>\r\n    </g>\r\n    <g id=\"ytick_4\">\r\n     <g id=\"line2d_11\">\r\n      <g>\r\n       <use style=\"stroke:#000000;stroke-width:0.8;\" x=\"26.925\" xlink:href=\"#m1bc92f54c1\" y=\"112.924219\"/>\r\n      </g>\r\n     </g>\r\n     <g id=\"text_11\">\r\n      <!-- 15 -->\r\n      <g transform=\"translate(7.2 116.723437)scale(0.1 -0.1)\">\r\n       <use xlink:href=\"#DejaVuSans-49\"/>\r\n       <use x=\"63.623047\" xlink:href=\"#DejaVuSans-53\"/>\r\n      </g>\r\n     </g>\r\n    </g>\r\n    <g id=\"ytick_5\">\r\n     <g id=\"line2d_12\">\r\n      <g>\r\n       <use style=\"stroke:#000000;stroke-width:0.8;\" x=\"26.925\" xlink:href=\"#m1bc92f54c1\" y=\"146.899219\"/>\r\n      </g>\r\n     </g>\r\n     <g id=\"text_12\">\r\n      <!-- 20 -->\r\n      <g transform=\"translate(7.2 150.698437)scale(0.1 -0.1)\">\r\n       <use xlink:href=\"#DejaVuSans-50\"/>\r\n       <use x=\"63.623047\" xlink:href=\"#DejaVuSans-48\"/>\r\n      </g>\r\n     </g>\r\n    </g>\r\n    <g id=\"ytick_6\">\r\n     <g id=\"line2d_13\">\r\n      <g>\r\n       <use style=\"stroke:#000000;stroke-width:0.8;\" x=\"26.925\" xlink:href=\"#m1bc92f54c1\" y=\"180.874219\"/>\r\n      </g>\r\n     </g>\r\n     <g id=\"text_13\">\r\n      <!-- 25 -->\r\n      <g transform=\"translate(7.2 184.673437)scale(0.1 -0.1)\">\r\n       <use xlink:href=\"#DejaVuSans-50\"/>\r\n       <use x=\"63.623047\" xlink:href=\"#DejaVuSans-53\"/>\r\n      </g>\r\n     </g>\r\n    </g>\r\n    <g id=\"ytick_7\">\r\n     <g id=\"line2d_14\">\r\n      <g>\r\n       <use style=\"stroke:#000000;stroke-width:0.8;\" x=\"26.925\" xlink:href=\"#m1bc92f54c1\" y=\"214.849219\"/>\r\n      </g>\r\n     </g>\r\n     <g id=\"text_14\">\r\n      <!-- 30 -->\r\n      <g transform=\"translate(7.2 218.648437)scale(0.1 -0.1)\">\r\n       <use xlink:href=\"#DejaVuSans-51\"/>\r\n       <use x=\"63.623047\" xlink:href=\"#DejaVuSans-48\"/>\r\n      </g>\r\n     </g>\r\n    </g>\r\n   </g>\r\n   <g id=\"patch_3\">\r\n    <path d=\"M 26.925 225.041719 \r\nL 26.925 7.601719 \r\n\" style=\"fill:none;stroke:#000000;stroke-linecap:square;stroke-linejoin:miter;stroke-width:0.8;\"/>\r\n   </g>\r\n   <g id=\"patch_4\">\r\n    <path d=\"M 244.365 225.041719 \r\nL 244.365 7.601719 \r\n\" style=\"fill:none;stroke:#000000;stroke-linecap:square;stroke-linejoin:miter;stroke-width:0.8;\"/>\r\n   </g>\r\n   <g id=\"patch_5\">\r\n    <path d=\"M 26.925 225.041719 \r\nL 244.365 225.041719 \r\n\" style=\"fill:none;stroke:#000000;stroke-linecap:square;stroke-linejoin:miter;stroke-width:0.8;\"/>\r\n   </g>\r\n   <g id=\"patch_6\">\r\n    <path d=\"M 26.925 7.601719 \r\nL 244.365 7.601719 \r\n\" style=\"fill:none;stroke:#000000;stroke-linecap:square;stroke-linejoin:miter;stroke-width:0.8;\"/>\r\n   </g>\r\n  </g>\r\n </g>\r\n <defs>\r\n  <clipPath id=\"pb0210be1f3\">\r\n   <rect height=\"217.44\" width=\"217.44\" x=\"26.925\" y=\"7.601719\"/>\r\n  </clipPath>\r\n </defs>\r\n</svg>\r\n",
      "image/png": "[encoded data removed]"
     },
     "metadata": {
      "needs_background": "light"
     }
    }
   ],
   "source": [
    "img = cats[0]\n",
    "\n",
    "img_numpy = img.permute(1, 2, 0).contiguous().numpy()\n",
    "img_numpy = img_numpy * (0.2023, 0.1994, 0.2010) + (0.4914, 0.4822, 0.4465)\n",
    "\n",
    "plt.imshow(img_numpy)"
   ]
  },
  {
   "cell_type": "code",
   "execution_count": 45,
   "metadata": {},
   "outputs": [],
   "source": [
    "embedding = variant.model(img[None, ...].cuda())"
   ]
  },
  {
   "cell_type": "code",
   "execution_count": 46,
   "metadata": {},
   "outputs": [
    {
     "output_type": "execute_result",
     "data": {
      "text/plain": [
       "tensor([ 8.9501, 10.2926,  3.1692,  5.2816,  8.7077,  5.5293,  2.9581,  8.6583,\n",
       "        10.7228,  9.5300], device='cuda:0', grad_fn=<SumBackward1>)"
      ]
     },
     "metadata": {},
     "execution_count": 46
    }
   ],
   "source": [
    "lookup = variant.model.word_lookup\n",
    "\n",
    "l2_dist = ((lookup[:, :] - embedding) ** 2).sum(-1)\n",
    "l2_dist"
   ]
  },
  {
   "cell_type": "code",
   "execution_count": 22,
   "metadata": {},
   "outputs": [
    {
     "output_type": "execute_result",
     "data": {
      "text/plain": [
       "['airplane',\n",
       " 'automobile',\n",
       " 'bird',\n",
       " 'cat',\n",
       " 'deer',\n",
       " 'dog',\n",
       " 'frog',\n",
       " 'horse',\n",
       " 'ship',\n",
       " 'truck']"
      ]
     },
     "metadata": {},
     "execution_count": 22
    }
   ],
   "source": [
    "variant.class_names"
   ]
  },
  {
   "cell_type": "code",
   "execution_count": 49,
   "metadata": {},
   "outputs": [
    {
     "output_type": "execute_result",
     "data": {
      "text/plain": [
       "tensor([14.8615, 14.7763, 10.2325,  4.3328, 14.4052,  0.0000, 12.5353,  9.6917,\n",
       "        14.7291, 13.0752], device='cuda:0')"
      ]
     },
     "metadata": {},
     "execution_count": 49
    }
   ],
   "source": [
    "dog_l2_dist = ((lookup[:, :] - lookup[None, 5, :]) ** 2).sum(-1)\n",
    "dog_l2_dist"
   ]
  },
  {
   "cell_type": "code",
   "execution_count": 51,
   "metadata": {},
   "outputs": [
    {
     "output_type": "execute_result",
     "data": {
      "text/plain": [
       "tensor([15.7923, 17.3723,  8.2530, 10.3048, 15.7277, 12.5353,  0.0000, 14.6986,\n",
       "        17.5691, 15.9819], device='cuda:0')"
      ]
     },
     "metadata": {},
     "execution_count": 51
    }
   ],
   "source": [
    "frog_l2_dist = ((lookup[:, :] - lookup[None, 6, :]) ** 2).sum(-1)\n",
    "frog_l2_dist"
   ]
  },
  {
   "cell_type": "code",
   "execution_count": 58,
   "metadata": {},
   "outputs": [
    {
     "output_type": "stream",
     "name": "stdout",
     "text": [
      "100.00%\n"
     ]
    }
   ],
   "source": [
    "total = 0\n",
    "closer = 0\n",
    "for inputs_batch, labels_batch in variant.test_loader:\n",
    "    for img, label in zip(inputs_batch, labels_batch):\n",
    "        if variant.class_names[label] == 'cat':\n",
    "            e = variant.model(img[None, ...].cuda())\n",
    "\n",
    "            e_dist = ((lookup[:, :] - embedding) ** 2).sum(-1)\n",
    "\n",
    "            c = e_dist.argmin().item()\n",
    "            c_dist = ((lookup[:, :] - lookup[None, c, :]) ** 2).sum(-1)\n",
    "\n",
    "            # if c != 5:\n",
    "            if c_dist[3] < c_dist[5]:\n",
    "                if e_dist[3] < e_dist[5]:\n",
    "                    closer += 1\n",
    "                total +=1\n",
    "print(f'{closer/total*100:6.2f}%')"
   ]
  },
  {
   "cell_type": "code",
   "execution_count": 59,
   "metadata": {},
   "outputs": [
    {
     "output_type": "execute_result",
     "data": {
      "text/plain": [
       "1000"
      ]
     },
     "metadata": {},
     "execution_count": 59
    }
   ],
   "source": [
    "total"
   ]
  },
  {
   "cell_type": "code",
   "execution_count": null,
   "metadata": {},
   "outputs": [],
   "source": []
  }
 ]
}