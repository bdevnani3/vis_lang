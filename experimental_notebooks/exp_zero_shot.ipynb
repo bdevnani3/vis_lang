{
 "metadata": {
  "language_info": {
   "codemirror_mode": {
    "name": "ipython",
    "version": 3
   },
   "file_extension": ".py",
   "mimetype": "text/x-python",
   "name": "python",
   "nbconvert_exporter": "python",
   "pygments_lexer": "ipython3",
   "version": "3.7.4-final"
  },
  "orig_nbformat": 2,
  "kernelspec": {
   "name": "python3",
   "display_name": "Python 3",
   "language": "python"
  }
 },
 "nbformat": 4,
 "nbformat_minor": 2,
 "cells": [
  {
   "cell_type": "code",
   "execution_count": 1,
   "metadata": {},
   "outputs": [
    {
     "output_type": "stream",
     "name": "stdout",
     "text": [
      "d:\\Projects\\vislang\\vis_lang\n"
     ]
    }
   ],
   "source": [
    "%cd .."
   ]
  },
  {
   "cell_type": "code",
   "execution_count": 2,
   "metadata": {},
   "outputs": [],
   "source": [
    "from cifar10_emb import Cifar10Emb\n",
    "import torch"
   ]
  },
  {
   "cell_type": "code",
   "execution_count": 15,
   "metadata": {},
   "outputs": [
    {
     "output_type": "stream",
     "name": "stdout",
     "text": [
      "Files already downloaded and verified\n",
      "Files already downloaded and verified\n"
     ]
    }
   ],
   "source": [
    "variant = Cifar10Emb(root_path='.')\n",
    "\n",
    "variant.dataloader_args['batch_size'] = 1\n",
    "\n",
    "variant.init_datasets()\n",
    "variant.init_dataloaders()\n",
    "variant.set_up_model_architecture(300)"
   ]
  },
  {
   "cell_type": "code",
   "execution_count": 29,
   "metadata": {},
   "outputs": [],
   "source": [
    "variant.init_word_lookup()"
   ]
  },
  {
   "cell_type": "code",
   "execution_count": 16,
   "metadata": {},
   "outputs": [
    {
     "output_type": "execute_result",
     "data": {
      "text/plain": [
       "<All keys matched successfully>"
      ]
     },
     "metadata": {},
     "execution_count": 16
    }
   ],
   "source": [
    "state = torch.load('./trained_models/vis_lang/cifar10_emb_missing_cat.pth')\n",
    "variant.model.load_state_dict(state['net'])"
   ]
  },
  {
   "cell_type": "code",
   "execution_count": 18,
   "metadata": {},
   "outputs": [],
   "source": [
    "import matplotlib.pyplot as plt\n",
    "\n",
    "for img, label in variant.test_loader:\n",
    "    img = img.cuda()\n",
    "\n",
    "    if label \n",
    "\n",
    "    embedding = variant.model(img)\n",
    "    break"
   ]
  },
  {
   "cell_type": "code",
   "execution_count": 19,
   "metadata": {},
   "outputs": [
    {
     "output_type": "execute_result",
     "data": {
      "text/plain": [
       "tensor([[ 9.8305e-02,  3.4001e-02, -1.5406e-01,  2.0952e-02, -1.9681e-02,\n",
       "         -1.0060e-01, -2.8397e-02, -4.7486e-02,  1.9349e-01, -2.0366e-02,\n",
       "          1.3624e-01, -2.5692e-01,  4.0705e-03, -2.1831e-01, -3.9589e-02,\n",
       "          3.3224e-02, -8.2038e-02,  7.1644e-02, -1.9845e-02, -7.8471e-02,\n",
       "          1.6090e-02, -6.9732e-02,  3.5089e-02,  1.1005e-02, -1.6012e-02,\n",
       "          4.2657e-02, -1.0698e-01,  1.6843e-01,  2.0501e-01, -3.8842e-02,\n",
       "         -1.5030e-01, -3.9442e-02, -4.8102e-02, -1.4901e-02, -3.5230e-02,\n",
       "          2.9118e-02,  8.6148e-02,  2.5635e-02,  7.0476e-02,  1.5127e-01,\n",
       "          3.5153e-02,  7.3389e-03,  1.2948e-01,  7.8969e-02, -8.5982e-02,\n",
       "         -1.6924e-01,  6.0772e-02,  5.4012e-02,  1.6905e-01,  9.6901e-02,\n",
       "         -1.3365e-01,  4.9780e-02,  1.5552e-01,  2.7485e-03, -2.3428e-02,\n",
       "         -8.8211e-03,  9.7266e-02, -6.7825e-02,  1.8745e-01,  1.1143e-02,\n",
       "          1.2661e-01, -4.0707e-02, -9.5472e-02, -5.2246e-02,  1.9496e-02,\n",
       "         -7.8181e-02, -2.0007e-02, -1.9673e-02, -1.1024e-01,  3.1579e-02,\n",
       "          8.0603e-02, -3.5452e-02, -8.5932e-02, -2.3622e-02, -1.6811e-01,\n",
       "          1.2104e-02,  1.1611e-02, -1.8677e-01,  2.1722e-02, -1.1409e-01,\n",
       "          6.4017e-02, -9.7323e-02,  7.4580e-02, -1.7700e-01, -3.3160e-02,\n",
       "          3.1720e-02, -1.3543e-01,  7.8865e-02,  5.9661e-02, -5.5006e-02,\n",
       "         -2.6916e-02,  1.6926e-01, -2.5122e-02, -7.4258e-02, -1.3892e-02,\n",
       "         -1.8587e-01,  9.2024e-02, -7.2630e-02,  1.0952e-01, -1.8184e-01,\n",
       "         -1.4590e-02, -2.1543e-01,  6.3092e-02,  4.7776e-02,  1.3665e-01,\n",
       "         -4.3215e-02,  4.4691e-02, -4.7367e-02,  6.4862e-02, -2.6840e-02,\n",
       "         -2.6432e-01, -1.0145e-01,  2.2582e-02,  1.7745e-02,  6.2434e-02,\n",
       "         -4.8632e-02,  5.0686e-03, -2.8985e-02, -8.5240e-02,  1.4516e-02,\n",
       "         -1.2559e-01,  3.5899e-02, -9.7687e-02, -1.2335e-01, -4.9238e-02,\n",
       "          7.2952e-02,  4.2110e-02, -9.4069e-02, -4.0022e-02,  7.2588e-02,\n",
       "         -9.0608e-02, -1.1197e-02, -1.9251e-01, -3.3889e-02,  3.0062e-02,\n",
       "         -1.1087e-02, -3.1693e-02, -9.5541e-02,  7.9239e-02,  1.6845e-01,\n",
       "         -2.1637e-02, -3.5732e-02, -9.7162e-02,  1.3497e-01,  7.1533e-02,\n",
       "          5.1986e-02, -5.9381e-02, -1.7395e-02, -6.5340e-02, -1.0508e-01,\n",
       "          3.0113e-01,  1.4574e-06, -1.3961e-01,  9.1908e-04, -1.0611e-01,\n",
       "         -4.4227e-02,  1.2756e-02, -9.1832e-02, -1.0927e-01, -3.0282e-02,\n",
       "         -2.6937e-02,  1.2050e-02,  8.8213e-02, -7.9701e-02,  2.3611e-02,\n",
       "         -4.2530e-02,  1.1531e-01, -8.4238e-02,  5.7931e-02, -4.3888e-02,\n",
       "         -7.4392e-02, -2.3325e-02, -2.9982e-02, -2.3732e-02, -1.3707e-01,\n",
       "         -9.0217e-02,  5.3650e-02, -3.8786e-02, -1.8280e-01,  1.5600e-02,\n",
       "         -2.0866e-01, -1.4945e-01, -4.6124e-02, -3.3884e-04,  6.7070e-02,\n",
       "          4.4494e-02,  4.2291e-02,  7.6231e-02, -1.1991e-01,  1.3743e-01,\n",
       "          2.5596e-02,  7.4974e-03, -1.3192e-01,  6.7668e-02,  1.0971e-02,\n",
       "          8.7569e-02,  4.6584e-02, -1.3002e-01, -1.1881e-01, -5.0453e-02,\n",
       "          3.2619e-02, -1.7562e-01, -1.6455e-01, -1.0818e-01, -7.4325e-02,\n",
       "         -3.7231e-02,  4.1267e-02,  2.1012e-03,  6.9998e-02, -2.5621e-02,\n",
       "         -1.8499e-01,  2.9804e-02, -4.2623e-02, -3.5231e-02, -1.4756e-01,\n",
       "          1.5320e-01,  5.7911e-02, -1.2462e-02,  4.2290e-02,  3.0323e-02,\n",
       "          6.6081e-02, -4.2310e-02,  9.2532e-02, -3.8658e-02,  8.3248e-02,\n",
       "         -4.8696e-02,  3.1179e-02,  8.7351e-02,  1.0522e-01, -5.0204e-03,\n",
       "          8.3576e-02, -9.0714e-02, -1.1873e-01, -5.2942e-02, -1.3235e-01,\n",
       "         -8.9798e-02,  9.2877e-02, -2.5520e-02,  9.9814e-02,  2.4557e-02,\n",
       "          1.8821e-01, -1.4571e-01, -7.8805e-02, -1.2022e-01,  4.7380e-02,\n",
       "         -7.1077e-02,  3.7884e-02, -6.3858e-02,  7.9223e-02, -9.7387e-02,\n",
       "         -1.1701e-01,  2.0256e-03, -4.1757e-02, -6.5339e-02, -5.5984e-02,\n",
       "          9.7584e-03, -8.4236e-02, -2.9741e-02, -1.0635e-01, -6.5806e-02,\n",
       "         -2.4494e-02, -4.7948e-02, -1.9982e-02, -1.6231e-02,  2.7029e-02,\n",
       "          9.5531e-02, -1.4438e-01, -6.2790e-02, -1.9633e-01,  8.9864e-02,\n",
       "         -6.9682e-03,  1.9507e-02,  1.4671e-02,  6.6948e-02,  8.9738e-05,\n",
       "         -1.5742e-01,  1.5257e-02, -1.4292e-02, -3.9158e-02,  6.6470e-02,\n",
       "          9.9433e-03,  1.0329e-02,  1.3016e-01,  2.8726e-03, -3.6209e-02,\n",
       "         -6.3060e-02, -5.3332e-02,  3.4891e-03,  9.8110e-02,  1.6327e-01,\n",
       "         -1.7822e-01,  1.3101e-02, -6.6748e-02, -3.4775e-04,  1.2711e-01,\n",
       "          1.0502e-02, -1.8957e-02,  1.7377e-01,  1.2859e-03, -8.7709e-03]],\n",
       "       device='cuda:0', grad_fn=<AddmmBackward>)"
      ]
     },
     "metadata": {},
     "execution_count": 19
    }
   ],
   "source": [
    "embedding"
   ]
  },
  {
   "cell_type": "code",
   "execution_count": 37,
   "metadata": {},
   "outputs": [],
   "source": [
    "from base import get_device\n",
    "def eval_acc(self):\n",
    "    \"\"\" Returns the per-class accuracy evaluated on the validation set. \"\"\"\n",
    "    self.model.eval()\n",
    "\n",
    "    totals  = [0] * len(self.class_names)\n",
    "    correct = [0] * len(self.class_names)\n",
    "\n",
    "    with torch.no_grad():\n",
    "        for inputs, labels in self.test_loader:\n",
    "            device = get_device()\n",
    "            inputs, labels = inputs.to(device), labels.to(device)\n",
    "\n",
    "            outputs = self.model(inputs)\n",
    "\n",
    "            for idx, _class in enumerate(self.class_names):\n",
    "                is_class = (labels == idx)\n",
    "\n",
    "                cur_labels  = labels[is_class]\n",
    "                if cur_labels.shape[0] == 0:\n",
    "                    continue\n",
    "\n",
    "                cur_outputs = outputs[is_class]\n",
    "\n",
    "                totals[idx] += cur_labels.size(0)\n",
    "                correct[idx] += self.num_correct_preds(cur_outputs, cur_labels)\n",
    "\n",
    "    return [c * 100 / t for c, t in zip(correct, totals)]"
   ]
  },
  {
   "cell_type": "code",
   "execution_count": 39,
   "metadata": {},
   "outputs": [
    {
     "output_type": "execute_result",
     "data": {
      "text/plain": [
       "[96.6, 97.8, 93.2, 0.0, 95.6, 95.7, 97.4, 95.2, 94.1, 95.7]"
      ]
     },
     "metadata": {},
     "execution_count": 39
    }
   ],
   "source": [
    "eval_acc(variant)"
   ]
  },
  {
   "cell_type": "code",
   "execution_count": 53,
   "metadata": {},
   "outputs": [],
   "source": [
    " cats = []\n",
    " for inputs, labels in variant.test_loader:\n",
    "    if variant.class_names[labels[0]] == 'cat':\n",
    "        cats.append(inputs[0])\n",
    "        if len(cats) > 100:\n",
    "            break\n"
   ]
  },
  {
   "cell_type": "code",
   "execution_count": 54,
   "metadata": {},
   "outputs": [
    {
     "output_type": "stream",
     "name": "stderr",
     "text": [
      "Clipping input data to the valid range for imshow with RGB data ([0..1] for floats or [0..255] for integers).\n"
     ]
    },
    {
     "output_type": "execute_result",
     "data": {
      "text/plain": [
       "<matplotlib.image.AxesImage at 0x2b08efb1c08>"
      ]
     },
     "metadata": {},
     "execution_count": 54
    },
    {
     "output_type": "display_data",
     "data": {
      "text/plain": "<Figure size 432x288 with 1 Axes>",
      "image/svg+xml": "<?xml version=\"1.0\" encoding=\"utf-8\" standalone=\"no\"?>\r\n<!DOCTYPE svg PUBLIC \"-//W3C//DTD SVG 1.1//EN\"\r\n  \"http://www.w3.org/Graphics/SVG/1.1/DTD/svg11.dtd\">\r\n<!-- Created with matplotlib (https://matplotlib.org/) -->\r\n<svg height=\"248.919844pt\" version=\"1.1\" viewBox=\"0 0 251.565 248.919844\" width=\"251.565pt\" xmlns=\"http://www.w3.org/2000/svg\" xmlns:xlink=\"http://www.w3.org/1999/xlink\">\r\n <defs>\r\n  <style type=\"text/css\">\r\n*{stroke-linecap:butt;stroke-linejoin:round;}\r\n  </style>\r\n </defs>\r\n <g id=\"figure_1\">\r\n  <g id=\"patch_1\">\r\n   <path d=\"M 0 248.919844 \r\nL 251.565 248.919844 \r\nL 251.565 0 \r\nL 0 0 \r\nz\r\n\" style=\"fill:none;\"/>\r\n  </g>\r\n  <g id=\"axes_1\">\r\n   <g id=\"patch_2\">\r\n    <path d=\"M 26.925 225.041719 \r\nL 244.365 225.041719 \r\nL 244.365 7.601719 \r\nL 26.925 7.601719 \r\nz\r\n\" style=\"fill:#ffffff;\"/>\r\n   </g>\r\n   <g clip-path=\"url(#p359e07f3f2)\">\r\n    <image height=\"218\" id=\"image57d5161017\" transform=\"scale(1 -1)translate(0 -218)\" width=\"218\" x=\"26.925\" xlink:href=\"data:image/png;base64,\r\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\" y=\"-7.041719\"/>\r\n   </g>\r\n   <g id=\"matplotlib.axis_1\">\r\n    <g id=\"xtick_1\">\r\n     <g id=\"line2d_1\">\r\n      <defs>\r\n       <path d=\"M 0 0 \r\nL 0 3.5 \r\n\" id=\"mb9a1dbdccf\" style=\"stroke:#000000;stroke-width:0.8;\"/>\r\n      </defs>\r\n      <g>\r\n       <use style=\"stroke:#000000;stroke-width:0.8;\" x=\"30.3225\" xlink:href=\"#mb9a1dbdccf\" y=\"225.041719\"/>\r\n      </g>\r\n     </g>\r\n     <g id=\"text_1\">\r\n      <!-- 0 -->\r\n      <defs>\r\n       <path d=\"M 31.78125 66.40625 \r\nQ 24.171875 66.40625 20.328125 58.90625 \r\nQ 16.5 51.421875 16.5 36.375 \r\nQ 16.5 21.390625 20.328125 13.890625 \r\nQ 24.171875 6.390625 31.78125 6.390625 \r\nQ 39.453125 6.390625 43.28125 13.890625 \r\nQ 47.125 21.390625 47.125 36.375 \r\nQ 47.125 51.421875 43.28125 58.90625 \r\nQ 39.453125 66.40625 31.78125 66.40625 \r\nz\r\nM 31.78125 74.21875 \r\nQ 44.046875 74.21875 50.515625 64.515625 \r\nQ 56.984375 54.828125 56.984375 36.375 \r\nQ 56.984375 17.96875 50.515625 8.265625 \r\nQ 44.046875 -1.421875 31.78125 -1.421875 \r\nQ 19.53125 -1.421875 13.0625 8.265625 \r\nQ 6.59375 17.96875 6.59375 36.375 \r\nQ 6.59375 54.828125 13.0625 64.515625 \r\nQ 19.53125 74.21875 31.78125 74.21875 \r\nz\r\n\" id=\"DejaVuSans-48\"/>\r\n      </defs>\r\n      <g transform=\"translate(27.14125 239.640156)scale(0.1 -0.1)\">\r\n       <use xlink:href=\"#DejaVuSans-48\"/>\r\n      </g>\r\n     </g>\r\n    </g>\r\n    <g id=\"xtick_2\">\r\n     <g id=\"line2d_2\">\r\n      <g>\r\n       <use style=\"stroke:#000000;stroke-width:0.8;\" x=\"64.2975\" xlink:href=\"#mb9a1dbdccf\" y=\"225.041719\"/>\r\n      </g>\r\n     </g>\r\n     <g id=\"text_2\">\r\n      <!-- 5 -->\r\n      <defs>\r\n       <path d=\"M 10.796875 72.90625 \r\nL 49.515625 72.90625 \r\nL 49.515625 64.59375 \r\nL 19.828125 64.59375 \r\nL 19.828125 46.734375 \r\nQ 21.96875 47.46875 24.109375 47.828125 \r\nQ 26.265625 48.1875 28.421875 48.1875 \r\nQ 40.625 48.1875 47.75 41.5 \r\nQ 54.890625 34.8125 54.890625 23.390625 \r\nQ 54.890625 11.625 47.5625 5.09375 \r\nQ 40.234375 -1.421875 26.90625 -1.421875 \r\nQ 22.3125 -1.421875 17.546875 -0.640625 \r\nQ 12.796875 0.140625 7.71875 1.703125 \r\nL 7.71875 11.625 \r\nQ 12.109375 9.234375 16.796875 8.0625 \r\nQ 21.484375 6.890625 26.703125 6.890625 \r\nQ 35.15625 6.890625 40.078125 11.328125 \r\nQ 45.015625 15.765625 45.015625 23.390625 \r\nQ 45.015625 31 40.078125 35.4375 \r\nQ 35.15625 39.890625 26.703125 39.890625 \r\nQ 22.75 39.890625 18.8125 39.015625 \r\nQ 14.890625 38.140625 10.796875 36.28125 \r\nz\r\n\" id=\"DejaVuSans-53\"/>\r\n      </defs>\r\n      <g transform=\"translate(61.11625 239.640156)scale(0.1 -0.1)\">\r\n       <use xlink:href=\"#DejaVuSans-53\"/>\r\n      </g>\r\n     </g>\r\n    </g>\r\n    <g id=\"xtick_3\">\r\n     <g id=\"line2d_3\">\r\n      <g>\r\n       <use style=\"stroke:#000000;stroke-width:0.8;\" x=\"98.2725\" xlink:href=\"#mb9a1dbdccf\" y=\"225.041719\"/>\r\n      </g>\r\n     </g>\r\n     <g id=\"text_3\">\r\n      <!-- 10 -->\r\n      <defs>\r\n       <path d=\"M 12.40625 8.296875 \r\nL 28.515625 8.296875 \r\nL 28.515625 63.921875 \r\nL 10.984375 60.40625 \r\nL 10.984375 69.390625 \r\nL 28.421875 72.90625 \r\nL 38.28125 72.90625 \r\nL 38.28125 8.296875 \r\nL 54.390625 8.296875 \r\nL 54.390625 0 \r\nL 12.40625 0 \r\nz\r\n\" id=\"DejaVuSans-49\"/>\r\n      </defs>\r\n      <g transform=\"translate(91.91 239.640156)scale(0.1 -0.1)\">\r\n       <use xlink:href=\"#DejaVuSans-49\"/>\r\n       <use x=\"63.623047\" xlink:href=\"#DejaVuSans-48\"/>\r\n      </g>\r\n     </g>\r\n    </g>\r\n    <g id=\"xtick_4\">\r\n     <g id=\"line2d_4\">\r\n      <g>\r\n       <use style=\"stroke:#000000;stroke-width:0.8;\" x=\"132.2475\" xlink:href=\"#mb9a1dbdccf\" y=\"225.041719\"/>\r\n      </g>\r\n     </g>\r\n     <g id=\"text_4\">\r\n      <!-- 15 -->\r\n      <g transform=\"translate(125.885 239.640156)scale(0.1 -0.1)\">\r\n       <use xlink:href=\"#DejaVuSans-49\"/>\r\n       <use x=\"63.623047\" xlink:href=\"#DejaVuSans-53\"/>\r\n      </g>\r\n     </g>\r\n    </g>\r\n    <g id=\"xtick_5\">\r\n     <g id=\"line2d_5\">\r\n      <g>\r\n       <use style=\"stroke:#000000;stroke-width:0.8;\" x=\"166.2225\" xlink:href=\"#mb9a1dbdccf\" y=\"225.041719\"/>\r\n      </g>\r\n     </g>\r\n     <g id=\"text_5\">\r\n      <!-- 20 -->\r\n      <defs>\r\n       <path d=\"M 19.1875 8.296875 \r\nL 53.609375 8.296875 \r\nL 53.609375 0 \r\nL 7.328125 0 \r\nL 7.328125 8.296875 \r\nQ 12.9375 14.109375 22.625 23.890625 \r\nQ 32.328125 33.6875 34.8125 36.53125 \r\nQ 39.546875 41.84375 41.421875 45.53125 \r\nQ 43.3125 49.21875 43.3125 52.78125 \r\nQ 43.3125 58.59375 39.234375 62.25 \r\nQ 35.15625 65.921875 28.609375 65.921875 \r\nQ 23.96875 65.921875 18.8125 64.3125 \r\nQ 13.671875 62.703125 7.8125 59.421875 \r\nL 7.8125 69.390625 \r\nQ 13.765625 71.78125 18.9375 73 \r\nQ 24.125 74.21875 28.421875 74.21875 \r\nQ 39.75 74.21875 46.484375 68.546875 \r\nQ 53.21875 62.890625 53.21875 53.421875 \r\nQ 53.21875 48.921875 51.53125 44.890625 \r\nQ 49.859375 40.875 45.40625 35.40625 \r\nQ 44.1875 33.984375 37.640625 27.21875 \r\nQ 31.109375 20.453125 19.1875 8.296875 \r\nz\r\n\" id=\"DejaVuSans-50\"/>\r\n      </defs>\r\n      <g transform=\"translate(159.86 239.640156)scale(0.1 -0.1)\">\r\n       <use xlink:href=\"#DejaVuSans-50\"/>\r\n       <use x=\"63.623047\" xlink:href=\"#DejaVuSans-48\"/>\r\n      </g>\r\n     </g>\r\n    </g>\r\n    <g id=\"xtick_6\">\r\n     <g id=\"line2d_6\">\r\n      <g>\r\n       <use style=\"stroke:#000000;stroke-width:0.8;\" x=\"200.1975\" xlink:href=\"#mb9a1dbdccf\" y=\"225.041719\"/>\r\n      </g>\r\n     </g>\r\n     <g id=\"text_6\">\r\n      <!-- 25 -->\r\n      <g transform=\"translate(193.835 239.640156)scale(0.1 -0.1)\">\r\n       <use xlink:href=\"#DejaVuSans-50\"/>\r\n       <use x=\"63.623047\" xlink:href=\"#DejaVuSans-53\"/>\r\n      </g>\r\n     </g>\r\n    </g>\r\n    <g id=\"xtick_7\">\r\n     <g id=\"line2d_7\">\r\n      <g>\r\n       <use style=\"stroke:#000000;stroke-width:0.8;\" x=\"234.1725\" xlink:href=\"#mb9a1dbdccf\" y=\"225.041719\"/>\r\n      </g>\r\n     </g>\r\n     <g id=\"text_7\">\r\n      <!-- 30 -->\r\n      <defs>\r\n       <path d=\"M 40.578125 39.3125 \r\nQ 47.65625 37.796875 51.625 33 \r\nQ 55.609375 28.21875 55.609375 21.1875 \r\nQ 55.609375 10.40625 48.1875 4.484375 \r\nQ 40.765625 -1.421875 27.09375 -1.421875 \r\nQ 22.515625 -1.421875 17.65625 -0.515625 \r\nQ 12.796875 0.390625 7.625 2.203125 \r\nL 7.625 11.71875 \r\nQ 11.71875 9.328125 16.59375 8.109375 \r\nQ 21.484375 6.890625 26.8125 6.890625 \r\nQ 36.078125 6.890625 40.9375 10.546875 \r\nQ 45.796875 14.203125 45.796875 21.1875 \r\nQ 45.796875 27.640625 41.28125 31.265625 \r\nQ 36.765625 34.90625 28.71875 34.90625 \r\nL 20.21875 34.90625 \r\nL 20.21875 43.015625 \r\nL 29.109375 43.015625 \r\nQ 36.375 43.015625 40.234375 45.921875 \r\nQ 44.09375 48.828125 44.09375 54.296875 \r\nQ 44.09375 59.90625 40.109375 62.90625 \r\nQ 36.140625 65.921875 28.71875 65.921875 \r\nQ 24.65625 65.921875 20.015625 65.03125 \r\nQ 15.375 64.15625 9.8125 62.3125 \r\nL 9.8125 71.09375 \r\nQ 15.4375 72.65625 20.34375 73.4375 \r\nQ 25.25 74.21875 29.59375 74.21875 \r\nQ 40.828125 74.21875 47.359375 69.109375 \r\nQ 53.90625 64.015625 53.90625 55.328125 \r\nQ 53.90625 49.265625 50.4375 45.09375 \r\nQ 46.96875 40.921875 40.578125 39.3125 \r\nz\r\n\" id=\"DejaVuSans-51\"/>\r\n      </defs>\r\n      <g transform=\"translate(227.81 239.640156)scale(0.1 -0.1)\">\r\n       <use xlink:href=\"#DejaVuSans-51\"/>\r\n       <use x=\"63.623047\" xlink:href=\"#DejaVuSans-48\"/>\r\n      </g>\r\n     </g>\r\n    </g>\r\n   </g>\r\n   <g id=\"matplotlib.axis_2\">\r\n    <g id=\"ytick_1\">\r\n     <g id=\"line2d_8\">\r\n      <defs>\r\n       <path d=\"M 0 0 \r\nL -3.5 0 \r\n\" id=\"m804dffc01d\" style=\"stroke:#000000;stroke-width:0.8;\"/>\r\n      </defs>\r\n      <g>\r\n       <use style=\"stroke:#000000;stroke-width:0.8;\" x=\"26.925\" xlink:href=\"#m804dffc01d\" y=\"10.999219\"/>\r\n      </g>\r\n     </g>\r\n     <g id=\"text_8\">\r\n      <!-- 0 -->\r\n      <g transform=\"translate(13.5625 14.798437)scale(0.1 -0.1)\">\r\n       <use xlink:href=\"#DejaVuSans-48\"/>\r\n      </g>\r\n     </g>\r\n    </g>\r\n    <g id=\"ytick_2\">\r\n     <g id=\"line2d_9\">\r\n      <g>\r\n       <use style=\"stroke:#000000;stroke-width:0.8;\" x=\"26.925\" xlink:href=\"#m804dffc01d\" y=\"44.974219\"/>\r\n      </g>\r\n     </g>\r\n     <g id=\"text_9\">\r\n      <!-- 5 -->\r\n      <g transform=\"translate(13.5625 48.773437)scale(0.1 -0.1)\">\r\n       <use xlink:href=\"#DejaVuSans-53\"/>\r\n      </g>\r\n     </g>\r\n    </g>\r\n    <g id=\"ytick_3\">\r\n     <g id=\"line2d_10\">\r\n      <g>\r\n       <use style=\"stroke:#000000;stroke-width:0.8;\" x=\"26.925\" xlink:href=\"#m804dffc01d\" y=\"78.949219\"/>\r\n      </g>\r\n     </g>\r\n     <g id=\"text_10\">\r\n      <!-- 10 -->\r\n      <g transform=\"translate(7.2 82.748437)scale(0.1 -0.1)\">\r\n       <use xlink:href=\"#DejaVuSans-49\"/>\r\n       <use x=\"63.623047\" xlink:href=\"#DejaVuSans-48\"/>\r\n      </g>\r\n     </g>\r\n    </g>\r\n    <g id=\"ytick_4\">\r\n     <g id=\"line2d_11\">\r\n      <g>\r\n       <use style=\"stroke:#000000;stroke-width:0.8;\" x=\"26.925\" xlink:href=\"#m804dffc01d\" y=\"112.924219\"/>\r\n      </g>\r\n     </g>\r\n     <g id=\"text_11\">\r\n      <!-- 15 -->\r\n      <g transform=\"translate(7.2 116.723437)scale(0.1 -0.1)\">\r\n       <use xlink:href=\"#DejaVuSans-49\"/>\r\n       <use x=\"63.623047\" xlink:href=\"#DejaVuSans-53\"/>\r\n      </g>\r\n     </g>\r\n    </g>\r\n    <g id=\"ytick_5\">\r\n     <g id=\"line2d_12\">\r\n      <g>\r\n       <use style=\"stroke:#000000;stroke-width:0.8;\" x=\"26.925\" xlink:href=\"#m804dffc01d\" y=\"146.899219\"/>\r\n      </g>\r\n     </g>\r\n     <g id=\"text_12\">\r\n      <!-- 20 -->\r\n      <g transform=\"translate(7.2 150.698437)scale(0.1 -0.1)\">\r\n       <use xlink:href=\"#DejaVuSans-50\"/>\r\n       <use x=\"63.623047\" xlink:href=\"#DejaVuSans-48\"/>\r\n      </g>\r\n     </g>\r\n    </g>\r\n    <g id=\"ytick_6\">\r\n     <g id=\"line2d_13\">\r\n      <g>\r\n       <use style=\"stroke:#000000;stroke-width:0.8;\" x=\"26.925\" xlink:href=\"#m804dffc01d\" y=\"180.874219\"/>\r\n      </g>\r\n     </g>\r\n     <g id=\"text_13\">\r\n      <!-- 25 -->\r\n      <g transform=\"translate(7.2 184.673437)scale(0.1 -0.1)\">\r\n       <use xlink:href=\"#DejaVuSans-50\"/>\r\n       <use x=\"63.623047\" xlink:href=\"#DejaVuSans-53\"/>\r\n      </g>\r\n     </g>\r\n    </g>\r\n    <g id=\"ytick_7\">\r\n     <g id=\"line2d_14\">\r\n      <g>\r\n       <use style=\"stroke:#000000;stroke-width:0.8;\" x=\"26.925\" xlink:href=\"#m804dffc01d\" y=\"214.849219\"/>\r\n      </g>\r\n     </g>\r\n     <g id=\"text_14\">\r\n      <!-- 30 -->\r\n      <g transform=\"translate(7.2 218.648437)scale(0.1 -0.1)\">\r\n       <use xlink:href=\"#DejaVuSans-51\"/>\r\n       <use x=\"63.623047\" xlink:href=\"#DejaVuSans-48\"/>\r\n      </g>\r\n     </g>\r\n    </g>\r\n   </g>\r\n   <g id=\"patch_3\">\r\n    <path d=\"M 26.925 225.041719 \r\nL 26.925 7.601719 \r\n\" style=\"fill:none;stroke:#000000;stroke-linecap:square;stroke-linejoin:miter;stroke-width:0.8;\"/>\r\n   </g>\r\n   <g id=\"patch_4\">\r\n    <path d=\"M 244.365 225.041719 \r\nL 244.365 7.601719 \r\n\" style=\"fill:none;stroke:#000000;stroke-linecap:square;stroke-linejoin:miter;stroke-width:0.8;\"/>\r\n   </g>\r\n   <g id=\"patch_5\">\r\n    <path d=\"M 26.925 225.041719 \r\nL 244.365 225.041719 \r\n\" style=\"fill:none;stroke:#000000;stroke-linecap:square;stroke-linejoin:miter;stroke-width:0.8;\"/>\r\n   </g>\r\n   <g id=\"patch_6\">\r\n    <path d=\"M 26.925 7.601719 \r\nL 244.365 7.601719 \r\n\" style=\"fill:none;stroke:#000000;stroke-linecap:square;stroke-linejoin:miter;stroke-width:0.8;\"/>\r\n   </g>\r\n  </g>\r\n </g>\r\n <defs>\r\n  <clipPath id=\"p359e07f3f2\">\r\n   <rect height=\"217.44\" width=\"217.44\" x=\"26.925\" y=\"7.601719\"/>\r\n  </clipPath>\r\n </defs>\r\n</svg>\r\n",
      "image/png": "[encoded data removed]"
     },
     "metadata": {
      "needs_background": "light"
     }
    }
   ],
   "source": [
    "img = cats[2]\n",
    "\n",
    "img_numpy = img.permute(1, 2, 0).contiguous().numpy()\n",
    "img_numpy = img_numpy * (0.2023, 0.1994, 0.2010) + (0.4914, 0.4822, 0.4465)\n",
    "\n",
    "plt.imshow(img_numpy)"
   ]
  },
  {
   "cell_type": "code",
   "execution_count": 57,
   "metadata": {},
   "outputs": [],
   "source": [
    "embedding = variant.model(img[None, ...].cuda())"
   ]
  },
  {
   "cell_type": "code",
   "execution_count": 63,
   "metadata": {},
   "outputs": [],
   "source": [
    "lookup = variant.model.word_lookup\n",
    "\n",
    "l2_dist = ((lookup[:, :] - embedding) ** 2).sum(-1)"
   ]
  },
  {
   "cell_type": "code",
   "execution_count": 64,
   "metadata": {},
   "outputs": [
    {
     "output_type": "execute_result",
     "data": {
      "text/plain": [
       "tensor([14.1695, 14.1091,  9.6295,  4.1504, 13.6843,  0.0168, 12.0130,  9.3185,\n",
       "        14.1783, 12.4360], device='cuda:0', grad_fn=<SumBackward1>)"
      ]
     },
     "metadata": {},
     "execution_count": 64
    }
   ],
   "source": [
    "l2_dist"
   ]
  },
  {
   "cell_type": "code",
   "execution_count": 65,
   "metadata": {},
   "outputs": [
    {
     "output_type": "execute_result",
     "data": {
      "text/plain": [
       "['airplane',\n",
       " 'automobile',\n",
       " 'bird',\n",
       " 'cat',\n",
       " 'deer',\n",
       " 'dog',\n",
       " 'frog',\n",
       " 'horse',\n",
       " 'ship',\n",
       " 'truck']"
      ]
     },
     "metadata": {},
     "execution_count": 65
    }
   ],
   "source": [
    "variant.class_names"
   ]
  },
  {
   "cell_type": "code",
   "execution_count": 66,
   "metadata": {},
   "outputs": [],
   "source": [
    "dog_l2_dist = ((lookup[:, :] - lookup[None, 5, :]) ** 2).sum(-1)"
   ]
  },
  {
   "cell_type": "code",
   "execution_count": 67,
   "metadata": {},
   "outputs": [
    {
     "output_type": "execute_result",
     "data": {
      "text/plain": [
       "tensor([14.8615, 14.7763, 10.2325,  4.3328, 14.4052,  0.0000, 12.5353,  9.6917,\n",
       "        14.7291, 13.0752], device='cuda:0')"
      ]
     },
     "metadata": {},
     "execution_count": 67
    }
   ],
   "source": [
    "dog_l2_dist"
   ]
  },
  {
   "cell_type": "code",
   "execution_count": 68,
   "metadata": {},
   "outputs": [
    {
     "output_type": "execute_result",
     "data": {
      "text/plain": [
       "0.18239999999999945"
      ]
     },
     "metadata": {},
     "execution_count": 68
    }
   ],
   "source": [
    "4.3328-4.1504"
   ]
  },
  {
   "cell_type": "code",
   "execution_count": 71,
   "metadata": {},
   "outputs": [
    {
     "output_type": "execute_result",
     "data": {
      "text/plain": [
       "tensor([14.8615, 14.7763, 10.2325,  4.3328, 14.4052,  0.0000, 12.5353,  9.6917,\n",
       "        14.7291, 13.0752], device='cuda:0')"
      ]
     },
     "metadata": {},
     "execution_count": 71
    }
   ],
   "source": [
    "dog_l2_dist * ~(dog_l2_dist == l2_dist)"
   ]
  },
  {
   "cell_type": "code",
   "execution_count": null,
   "metadata": {},
   "outputs": [],
   "source": []
  }
 ]
}