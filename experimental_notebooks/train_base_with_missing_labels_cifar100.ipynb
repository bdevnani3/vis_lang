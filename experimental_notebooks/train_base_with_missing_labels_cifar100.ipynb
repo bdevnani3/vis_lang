{
 "cells": [
  {
   "cell_type": "code",
   "execution_count": 2,
   "id": "passive-meeting",
   "metadata": {},
   "outputs": [],
   "source": [
    "import torch\n",
    "import torch.nn as nn\n",
    "import torch.optim as optim\n",
    "import torchvision.transforms as transforms\n",
    "from torchvision import models, datasets\n",
    "import gensim.downloader\n",
    "import numpy as np"
   ]
  },
  {
   "cell_type": "code",
   "execution_count": 4,
   "id": "unlikely-delicious",
   "metadata": {},
   "outputs": [
    {
     "name": "stdout",
     "output_type": "stream",
     "text": [
      "Downloading https://www.cs.toronto.edu/~kriz/cifar-100-python.tar.gz to /nethome/bdevnani3/raid/data/cifar-100-python.tar.gz\n"
     ]
    },
    {
     "name": "stderr",
     "output_type": "stream",
     "text": [
      "100.0%"
     ]
    },
    {
     "name": "stdout",
     "output_type": "stream",
     "text": [
      "Extracting /nethome/bdevnani3/raid/data/cifar-100-python.tar.gz to /nethome/bdevnani3/raid/data\n"
     ]
    }
   ],
   "source": [
    "# Get dataset \n",
    "transform = transforms.Compose([\n",
    "        transforms.Resize(256),\n",
    "        transforms.CenterCrop(224),\n",
    "        transforms.ToTensor(),\n",
    "        transforms.Normalize(\n",
    "            mean=[0.491, 0.482, 0.446],\n",
    "            std= [0.247, 0.243, 0.261]\n",
    "        )]) # TODO: Automate calculation given a dataset\n",
    "\n",
    "dataset = datasets.CIFAR100(root='/nethome/bdevnani3/raid/data', train=True,\n",
    "                                        download=True, transform=transform)"
   ]
  },
  {
   "cell_type": "code",
   "execution_count": 39,
   "id": "devoted-original",
   "metadata": {},
   "outputs": [],
   "source": [
    "all_classes = [['beaver', 'dolphin', 'otter', 'seal', 'whale'],\n",
    "                        ['aquarium_fish', 'flatfish', 'ray', 'shark', 'trout'],\n",
    "                        ['orchid', 'poppy', 'rose', 'sunflower', 'tulip'],\n",
    "                        ['bottle', 'bowl', 'can', 'cup', 'plate'],\n",
    "                        ['apple', 'mushroom', 'orange', 'pear', 'sweet_pepper'],\n",
    "                        ['clock', 'keyboard', 'lamp', 'telephone', 'television'],\n",
    "                        ['bed', 'chair', 'couch', 'table', 'wardrobe'],\n",
    "                        ['bee', 'beetle', 'butterfly', 'caterpillar', 'cockroach'],\n",
    "                        ['bear', 'leopard', 'lion', 'tiger', 'wolf'],\n",
    "                        ['bridge', 'castle', 'house', 'road', 'skyscraper'],\n",
    "                        ['cloud', 'forest', 'mountain', 'plain', 'sea'],\n",
    "                        ['camel', 'cattle', 'chimpanzee', 'elephant', 'kangaroo'],\n",
    "                        ['fox', 'porcupine', 'possum', 'raccoon', 'skunk'],\n",
    "                        ['crab', 'lobster', 'snail', 'spider', 'worm'],\n",
    "                        ['baby', 'boy', 'girl', 'man', 'woman'],\n",
    "                        ['crocodile', 'dinosaur', 'lizard', 'snake', 'turtle'],\n",
    "                        ['hamster', 'mouse', 'rabbit', 'shrew', 'squirrel'],\n",
    "                        ['maple_tree', 'oak_tree', 'palm_tree', 'pine_tree', 'willow_tree'],\n",
    "                        ['bicycle', 'bus', 'motorcycle', 'pickup_truck', 'train'],\n",
    "                        ['lawn_mower', 'rocket', 'streetcar', 'tank', 'tractor']]\n",
    "classes_to_eliminate = [x[0] for x in all_classes]\n",
    "labels_to_eliminate = [dataset.class_to_idx[x[0]] for x in all_classes]"
   ]
  },
  {
   "cell_type": "code",
   "execution_count": 43,
   "id": "chronic-institution",
   "metadata": {},
   "outputs": [
    {
     "data": {
      "text/plain": [
       "50000"
      ]
     },
     "execution_count": 43,
     "metadata": {},
     "output_type": "execute_result"
    }
   ],
   "source": [
    "indices_to remove = []\n",
    "for i in len(dataset.data): \n",
    "    if ta"
   ]
  },
  {
   "cell_type": "code",
   "execution_count": null,
   "id": "ahead-behalf",
   "metadata": {},
   "outputs": [],
   "source": []
  }
 ],
 "metadata": {
  "kernelspec": {
   "display_name": "Python 3",
   "language": "python",
   "name": "python3"
  },
  "language_info": {
   "codemirror_mode": {
    "name": "ipython",
    "version": 3
   },
   "file_extension": ".py",
   "mimetype": "text/x-python",
   "name": "python",
   "nbconvert_exporter": "python",
   "pygments_lexer": "ipython3",
   "version": "3.5.2"
  }
 },
 "nbformat": 4,
 "nbformat_minor": 5
}
