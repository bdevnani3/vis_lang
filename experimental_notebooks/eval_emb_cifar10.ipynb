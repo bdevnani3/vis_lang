{
 "cells": [
  {
   "cell_type": "code",
   "execution_count": 2,
   "id": "valid-unemployment",
   "metadata": {},
   "outputs": [],
   "source": [
    "import torch\n",
    "import torch.nn as nn\n",
    "import torch.optim as optim\n",
    "import torchvision.transforms as transforms\n",
    "from torchvision import models, datasets\n",
    "import gensim.downloader\n",
    "import numpy as np\n",
    "import sys"
   ]
  },
  {
   "cell_type": "code",
   "execution_count": 3,
   "id": "automated-representative",
   "metadata": {},
   "outputs": [],
   "source": [
    "# global \n",
    "\n",
    "word_vectors = None"
   ]
  },
  {
   "cell_type": "code",
   "execution_count": null,
   "id": "level-modeling",
   "metadata": {},
   "outputs": [],
   "source": [
    "def load_data_cifar10(train=True, train_on_embeddings=False):\n",
    "    transform = transforms.Compose([\n",
    "            transforms.Resize(256),\n",
    "            transforms.CenterCrop(224),\n",
    "            transforms.ToTensor(),\n",
    "            transforms.Normalize(\n",
    "                mean=[0.491, 0.482, 0.446],\n",
    "                std= [0.247, 0.243, 0.261]\n",
    "            )]) # TODO: Automate calculation given a dataset\n",
    "\n",
    "    dataset = datasets.CIFAR10(root='/nethome/bdevnani3/raid/data', train=train,\n",
    "                                            download=True, transform=transform)\n",
    "    if train_on_embeddings:\n",
    "        dataset = change_target_to_word_vectors(dataset)\n",
    "\n",
    "    dataloader = torch.utils.data.DataLoader(dataset, batch_size=4,\n",
    "                                              shuffle=True, num_workers=2)\n",
    "    return dataloader\n",
    "\n",
    "def change_target_to_word_vectors(dataset):\n",
    "    model = 'word2vec-google-news-300'\n",
    "    global word_vectors\n",
    "    word_vectors = gensim.downloader.load(model)\n",
    "\n",
    "    def transform_targets(x):\n",
    "        return word_vectors[idx_to_class[x]]\n",
    "\n",
    "    idx_to_class = {y:x for x,y in dataset.class_to_idx.items()}\n",
    "    dataset.targets = np.array(list(map(transform_targets, dataset.targets)))\n",
    "    return dataset\n",
    "\n",
    "trainloader = load_data_cifar10(True, True)\n",
    "testloader = load_data_cifar10(False, True)"
   ]
  },
  {
   "cell_type": "code",
   "execution_count": 5,
   "id": "placed-dependence",
   "metadata": {},
   "outputs": [],
   "source": [
    "def set_up_model(out_features=10, loss=nn.CrossEntropyLoss()):\n",
    "    model = models.resnet18(pretrained=False)\n",
    "    model.fc = nn.Linear(in_features=512, out_features=out_features)\n",
    "    criterion = loss\n",
    "    optimizer = optim.SGD(model.parameters(), lr=0.001, momentum=0.9, weight_decay=5e-4)\n",
    "    # and a learning rate scheduler\n",
    "    scheduler = optim.lr_scheduler.CosineAnnealingLR(optimizer, T_max=200)\n",
    "    return model, criterion, optimizer, scheduler\n",
    "\n",
    "model, criterion, optimizer, scheduler = set_up_model(300, nn.MSELoss())"
   ]
  },
  {
   "cell_type": "code",
   "execution_count": null,
   "id": "sweet-algorithm",
   "metadata": {},
   "outputs": [],
   "source": [
    "train_loss = 0.0\n",
    "total  = 0\n",
    "correct = 0\n",
    "with torch.no_grad():\n",
    "    for i, data in enumerate(testloader, 0):\n",
    "        inputs, labels = data\n",
    "        device = torch.device(\"cuda:0\" if torch.cuda.is_available() else \"cpu\")\n",
    "        inputs, labels = inputs.to(device), labels.to(device)\n",
    "\n",
    "        if torch.cuda.is_available():\n",
    "            model.cuda()\n",
    "        outputs = model(inputs)\n",
    "        loss = criterion(outputs, labels)\n",
    "        train_loss += loss.item()\n",
    "        \n",
    "        total += labels.size(0)\n",
    "        labels, outputs = labels.to(\"cpu\"), outputs.to(\"cpu\")\n",
    "        for l, o in zip(labels, outputs):\n",
    "            label_word = word_vectors.similar_by_vector(l.numpy(), topn=1)\n",
    "            output_word = word_vectors.similar_by_vector(o.data.numpy(), topn=1)\n",
    "            correct += label_word[0][0] == output_word[0][0]\n",
    "        if i % 200 == 199:    # print every 200 mini-batches\n",
    "            print(label_word, output_word)\n",
    "        \n",
    "print(\"Train Loss: {} | Acc: {} | {}/{}\".format(train_loss/len(testloader), 100.*correct/total, correct, total))"
   ]
  },
  {
   "cell_type": "code",
   "execution_count": null,
   "id": "prime-energy",
   "metadata": {},
   "outputs": [],
   "source": [
    "test_loss = 0.0\n",
    "total  = 0\n",
    "correct = 0\n",
    "with torch.no_grad():\n",
    "    for i, data in enumerate(testloader, 0):\n",
    "        inputs, labels = data\n",
    "        device = torch.device(\"cuda:0\" if torch.cuda.is_available() else \"cpu\")\n",
    "        inputs, labels = inputs.to(device), labels.to(device)\n",
    "\n",
    "        if torch.cuda.is_available():\n",
    "            model.cuda()\n",
    "        outputs = model(inputs)\n",
    "        loss = criterion(outputs, labels)\n",
    "        test_loss += loss.item()\n",
    "        \n",
    "        total += labels.size(0)\n",
    "        labels, outputs = labels.to(\"cpu\"), outputs.to(\"cpu\")\n",
    "        for l, o in zip(labels, outputs):\n",
    "            label_word = word_vectors.similar_by_vector(l.numpy(), topn=1)\n",
    "            output_word = word_vectors.similar_by_vector(o.data.numpy(), topn=1)\n",
    "            correct += label_word[0][0] == output_word[0][0]\n",
    "        if i % 200 == 199:    # print every 200 mini-batches\n",
    "            print(label_word, output_word)\n",
    "        \n",
    "print(\"Loss: {} | Acc: {} | {}/{}\".format(test_loss/len(testloader), 100.*correct/total, correct, total))"
   ]
  },
  {
   "cell_type": "code",
   "execution_count": null,
   "id": "union-eligibility",
   "metadata": {},
   "outputs": [],
   "source": []
  }
 ],
 "metadata": {
  "kernelspec": {
   "display_name": "Python 3",
   "language": "python",
   "name": "python3"
  },
  "language_info": {
   "codemirror_mode": {
    "name": "ipython",
    "version": 3
   },
   "file_extension": ".py",
   "mimetype": "text/x-python",
   "name": "python",
   "nbconvert_exporter": "python",
   "pygments_lexer": "ipython3",
   "version": "3.5.2"
  }
 },
 "nbformat": 4,
 "nbformat_minor": 5
}
